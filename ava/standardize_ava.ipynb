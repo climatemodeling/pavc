{
 "cells": [
  {
   "cell_type": "markdown",
   "id": "2d2f2be4",
   "metadata": {},
   "source": [
    "# AVA Standardization Notebook\n",
    "---\n",
    "---"
   ]
  },
  {
   "cell_type": "markdown",
   "id": "1e3b45bb-486a-46a0-abcb-3b62b091c629",
   "metadata": {},
   "source": [
    "# Table of contents\n",
    "1. [PRE-PROCESSING](#preprocess)\n",
    "    1. [Select post-2010 data](#post2010)\n",
    "    2. [Select Alaskan tundra data](#aktundra)\n",
    "    3. [Access data](#dataaccess)\n",
    "        1. [Auxiliary data](#auxdata)\n",
    "        2. [Non-foliar fcover data](#nonfoliar)\n",
    "        3. [Foliar fcover data](#foliar)\n",
    "    4. [Join fcover to species checklist table](#joinchecklist)\n",
    "    5. [Join fcover to leaf retention table](#joinleafretention)\n",
    "    6. [Export species-PFT tables](#exporthabits)\n",
    "    7. [Clean exported species-PFT tables](#cleanhabits)\n",
    "2. [STANDARDIZATION](#standardization)\n",
    "    1. [Standardize PFT names](#pftnames)\n",
    "    2. [Sum species fcover to PFT-level](#sumfcover)\n",
    "    3. [Standardize table layout](#tablelayout)\n",
    "    4. [Standardize auxiliary columns](#aux)\n",
    "        1. [Basic plot information](#basics)\n",
    "        2. [Geographical intersections](#geo)\n",
    "        3. [Duplicate coordinates](#dupes)\n",
    "3. [EXPORT](#export)"
   ]
  },
  {
   "cell_type": "markdown",
   "id": "ffea5950",
   "metadata": {},
   "source": [
    "# Load required packages"
   ]
  },
  {
   "cell_type": "code",
   "execution_count": 1,
   "id": "e0a5f5a9",
   "metadata": {},
   "outputs": [],
   "source": [
    "import geopandas as gpd\n",
    "import pandas as pd\n",
    "import numpy as np\n",
    "from datetime import date\n",
    "from pyogrio import read_dataframe\n",
    "import glob\n",
    "import geopandas as gpd\n",
    "import sys\n",
    "import os\n",
    "import chardet\n",
    "import regex as re"
   ]
  },
  {
   "cell_type": "code",
   "execution_count": 2,
   "id": "8ab065c9-05f7-4b11-a0d4-5f37af4bbfa7",
   "metadata": {},
   "outputs": [],
   "source": [
    "# import local functions\n",
    "current_dir = os.path.abspath('..')\n",
    "if current_dir not in sys.path:\n",
    "    sys.path.append(current_dir)\n",
    "import standardize_pft_funcs as spf"
   ]
  },
  {
   "cell_type": "markdown",
   "id": "8c8b841c",
   "metadata": {},
   "source": [
    "---\n",
    "---\n",
    "# 1. Pre-processing <a name=\"preprocess\"></a>\n",
    "After visually inspecting each species-level fcover table for obvious errors, we saved the \"cleaned\" tables to a folder that we then standardized here."
   ]
  },
  {
   "cell_type": "code",
   "execution_count": 3,
   "id": "8d7a3e71-184b-45d8-83fc-c414769d553c",
   "metadata": {},
   "outputs": [],
   "source": [
    "source = 'ava'"
   ]
  },
  {
   "cell_type": "code",
   "execution_count": 4,
   "id": "a48c72d6",
   "metadata": {},
   "outputs": [],
   "source": [
    "# read .xlsx table data stored on local machine\n",
    "data_path = f'input_data/ava_ancillary_data.xlsx'\n",
    "data = read_dataframe(data_path)\n",
    "data = data.tail(-1)\n",
    "ava_points = gpd.GeoDataFrame(data, \n",
    "                              geometry=gpd.points_from_xy(data['Longitude (decimal degrees)'], \n",
    "                                                          data['Latitude (decimal degrees)']), \n",
    "                              crs='EPSG:4326')\n",
    "ava_points.rename(columns={'Field releve number':'plotName'}, inplace=True)\n",
    "ava_points['plotName'] = ava_points['plotName']\n",
    "ava_points.index = ava_points['plotName']\n",
    "na_values=[-9, -9.0, '-9', '-9.0', -1, '-1']\n",
    "ava_points.replace(na_values, np.nan, inplace=True)"
   ]
  },
  {
   "cell_type": "markdown",
   "id": "9a1e0275",
   "metadata": {},
   "source": [
    "---\n",
    "## 1.1. Select post-2010 data <a name=\"post2010\"></a>\n",
    "Context: In Zhang et al. (in preparation), plot data collected prior to 2010 was deemed too old for usage. The plot data collected prior to 2010 likely did not match satellite imagery from 2019 that was used in the project."
   ]
  },
  {
   "cell_type": "code",
   "execution_count": 5,
   "id": "8a5ef15d",
   "metadata": {},
   "outputs": [
    {
     "name": "stdout",
     "output_type": "stream",
     "text": [
      "Number of post-2010 plot points: 382\n"
     ]
    }
   ],
   "source": [
    "# function to extract year as an integer\n",
    "def get_year(val):\n",
    "    num = int(val)\n",
    "    string = str(num)\n",
    "    year = string[:4]\n",
    "    return int(year)\n",
    "\n",
    "# extract data collected after 2010\n",
    "temp = ava_points.copy()\n",
    "temp['surveyYear'] = temp['Date (yyyymmdd)'].apply(lambda x: get_year(x))\n",
    "ava_points = temp[temp['surveyYear'] >= 2010]\n",
    "print('Number of post-2010 plot points:', len(ava_points))"
   ]
  },
  {
   "cell_type": "markdown",
   "id": "6160bba7",
   "metadata": {},
   "source": [
    "---\n",
    "## 1.2. Select Alaskan tundra data <a name=\"aktundra\"></a>\n",
    "In Zhang et al. (in preparation), the plot data was limited to those collected in the arctic tundra. The Alaska Tundra polygon here was derived from the CAVM bioclimate zones, clipped to Alaska, and re-projected to EPSG 4326. The polygons were accessed in 2023 from the Alaska Arctic Geoecological Atlas Circumpolar Arctic Vegetation Map (CAVM Team 2003) webpage [linked here](https://arcticatlas.geobotany.org/catalog/dataset/circumpolar-arctic-vegetation-map-cavm-team-2003)."
   ]
  },
  {
   "cell_type": "code",
   "execution_count": 6,
   "id": "1ce11634",
   "metadata": {},
   "outputs": [
    {
     "name": "stdout",
     "output_type": "stream",
     "text": [
      "Shapefile coordinate reference system is EPSG:4326\n",
      "Number of post-2010 plot points in Alaska tundra: 308\n"
     ]
    }
   ],
   "source": [
    "# load the local shapefile using geopandas\n",
    "path = '../etc/tundra_alaska_latlon/tundra_alaska_wgs84.shp'\n",
    "ak_tundra = gpd.read_file(path)\n",
    "print(f'Shapefile coordinate reference system is {ak_tundra.crs}')\n",
    "\n",
    "# ensure point and tundra polygon crs's match\n",
    "ava_points = ava_points.to_crs(ak_tundra.crs)\n",
    "\n",
    "# clip points to study area\n",
    "ava_points = ava_points.clip(ak_tundra)\n",
    "print(f'Number of post-2010 plot points in Alaska tundra: {len(ava_points)}')"
   ]
  },
  {
   "cell_type": "code",
   "execution_count": 7,
   "id": "7807f1d1",
   "metadata": {},
   "outputs": [
    {
     "data": {
      "text/plain": [
       "<Axes: >"
      ]
     },
     "execution_count": 7,
     "metadata": {},
     "output_type": "execute_result"
    },
    {
     "data": {
      "image/png": "[encoded data removed]",
      "text/plain": [
       "<Figure size 640x480 with 1 Axes>"
      ]
     },
     "metadata": {},
     "output_type": "display_data"
    }
   ],
   "source": [
    "# plot the post-2010 alaskan tundra points\n",
    "ax = ak_tundra.plot(edgecolor='black', facecolor='none')\n",
    "ava_points.plot(ax=ax, color='red', markersize=3)"
   ]
  },
  {
   "cell_type": "code",
   "execution_count": 8,
   "id": "9db4a3ae",
   "metadata": {},
   "outputs": [
    {
     "name": "stdout",
     "output_type": "stream",
     "text": [
      "['Atqasuk_Vera Komarkova (Komarkova and Webber 1980)', 'Barrow IBP Tundra Biome_Pat Webber (Webber 1978)', 'Barrow_DOE_NGEE_Victoria Sloan (Sloan et al. 2014)', 'Flux Tower Zona_Scott Davidson (Davidson et al. 2016)', 'Prudhoe ArcSEES road study_Donald Walker (Walker et al. 2015)', 'Prudhoe Bay Airport ArcSEES_Donald Walker (Walker et al. 2016)']\n"
     ]
    }
   ],
   "source": [
    "# export a list of the AVA datasets we will be harmonizing\n",
    "ava_datasets = sorted(ava_points['Dataset'].unique())\n",
    "print(ava_datasets)"
   ]
  },
  {
   "cell_type": "markdown",
   "id": "c769f68e",
   "metadata": {},
   "source": [
    "---\n",
    "## 1.3. Access data  <a name=\"dataaccess\"></a>"
   ]
  },
  {
   "cell_type": "markdown",
   "id": "18a1bbc7-97d6-4aa1-9f4d-fecb2caff4a4",
   "metadata": {},
   "source": [
    "### 1.3.1. Auxiliary data  <a name=\"auxdata\"></a>"
   ]
  },
  {
   "cell_type": "code",
   "execution_count": 9,
   "id": "63960f31",
   "metadata": {},
   "outputs": [],
   "source": [
    "# extract columns that DO NOT have \"cover\" in the name; this is auxiliary info\n",
    "aux_cols = [col for col in ava_points.columns if 'Cover' not in col]\n",
    "aux = ava_points[aux_cols].copy()"
   ]
  },
  {
   "cell_type": "markdown",
   "id": "8a373802-b324-4551-ab03-05f1201ac98e",
   "metadata": {},
   "source": [
    "### 1.3.2. Non-foliar fcover data  <a name=\"nonfoliar\"></a>"
   ]
  },
  {
   "cell_type": "code",
   "execution_count": 10,
   "id": "0f264f2b",
   "metadata": {},
   "outputs": [],
   "source": [
    "# extract columns with \"cover\" in the name; these contain the fcover data\n",
    "cover_cols = [col for col in ava_points.columns if 'Cover' in col]\n",
    "fcover = ava_points[cover_cols].copy()\n",
    "fcover.drop(columns=['Cover abundance scale'], inplace=True) # not fcover"
   ]
  },
  {
   "cell_type": "code",
   "execution_count": 11,
   "id": "cbea2654-7dab-43cf-aecf-16473f53374c",
   "metadata": {},
   "outputs": [],
   "source": [
    "# extract non-vegetation fcover columns\n",
    "etc = ['Cover bare soil (%)','Cover rock (%)','Cover water (%)']\n",
    "non_veg = fcover[etc]\n",
    "litter = fcover[['Cover litter (%)']]\n",
    "\n",
    "# Remove the stuff we pulled out\n",
    "etc.append('Cover litter (%)')\n",
    "fcover.drop(columns=etc, inplace=True)"
   ]
  },
  {
   "cell_type": "markdown",
   "id": "8adf9b45",
   "metadata": {},
   "source": [
    "### 1.3.3. Foliar fcover data  <a name=\"foliar\"></a>"
   ]
  },
  {
   "cell_type": "code",
   "execution_count": 12,
   "id": "e5024a90",
   "metadata": {},
   "outputs": [],
   "source": [
    "# get paths to tables\n",
    "species_csv_paths = sorted(glob.glob(f'input_data/ava_cover_tables/*.csv'))"
   ]
  },
  {
   "cell_type": "code",
   "execution_count": 13,
   "id": "64949700",
   "metadata": {},
   "outputs": [
    {
     "data": {
      "text/html": [
       "<div>\n",
       "<style scoped>\n",
       "    .dataframe tbody tr th:only-of-type {\n",
       "        vertical-align: middle;\n",
       "    }\n",
       "\n",
       "    .dataframe tbody tr th {\n",
       "        vertical-align: top;\n",
       "    }\n",
       "\n",
       "    .dataframe thead th {\n",
       "        text-align: right;\n",
       "    }\n",
       "</style>\n",
       "<table border=\"1\" class=\"dataframe\">\n",
       "  <thead>\n",
       "    <tr style=\"text-align: right;\">\n",
       "      <th></th>\n",
       "      <th>Unnamed: 0</th>\n",
       "      <th>Unnamed: 1</th>\n",
       "      <th>Unnamed: 2</th>\n",
       "      <th>11379</th>\n",
       "      <th>11380</th>\n",
       "      <th>11381</th>\n",
       "      <th>11382</th>\n",
       "      <th>11383</th>\n",
       "      <th>11384</th>\n",
       "      <th>11385</th>\n",
       "      <th>...</th>\n",
       "      <th>11421</th>\n",
       "      <th>11422</th>\n",
       "      <th>11423</th>\n",
       "      <th>11424</th>\n",
       "      <th>11425</th>\n",
       "      <th>11426</th>\n",
       "      <th>11427</th>\n",
       "      <th>11428</th>\n",
       "      <th>11429</th>\n",
       "      <th>11430</th>\n",
       "    </tr>\n",
       "  </thead>\n",
       "  <tbody>\n",
       "    <tr>\n",
       "      <th>0</th>\n",
       "      <td>NaN</td>\n",
       "      <td>NaN</td>\n",
       "      <td>NaN</td>\n",
       "      <td>C1</td>\n",
       "      <td>C2-A</td>\n",
       "      <td>C2-B</td>\n",
       "      <td>C2-C</td>\n",
       "      <td>C3-A</td>\n",
       "      <td>C3-B</td>\n",
       "      <td>C4-A</td>\n",
       "      <td>...</td>\n",
       "      <td>LAVA-B</td>\n",
       "      <td>LAVA-C</td>\n",
       "      <td>QC25-A</td>\n",
       "      <td>QC25-B</td>\n",
       "      <td>QC35A</td>\n",
       "      <td>QC35-B</td>\n",
       "      <td>QC38-A</td>\n",
       "      <td>QC38-B</td>\n",
       "      <td>QC-45</td>\n",
       "      <td>QC-49</td>\n",
       "    </tr>\n",
       "    <tr>\n",
       "      <th>1</th>\n",
       "      <td>Aconitum delphinifolium [s. delphinifolium]</td>\n",
       "      <td>Aconitum delphinifolium [s. delphinifolium] DC.</td>\n",
       "      <td>Aconitum delphinifolium s. delphinifolium</td>\n",
       "      <td>0</td>\n",
       "      <td>0</td>\n",
       "      <td>0</td>\n",
       "      <td>0</td>\n",
       "      <td>+</td>\n",
       "      <td>0</td>\n",
       "      <td>0</td>\n",
       "      <td>...</td>\n",
       "      <td>0</td>\n",
       "      <td>0</td>\n",
       "      <td>0</td>\n",
       "      <td>+</td>\n",
       "      <td>0</td>\n",
       "      <td>0</td>\n",
       "      <td>0</td>\n",
       "      <td>0</td>\n",
       "      <td>0</td>\n",
       "      <td>0</td>\n",
       "    </tr>\n",
       "    <tr>\n",
       "      <th>2</th>\n",
       "      <td>Alectoria ochroleuca</td>\n",
       "      <td>Alectoria ochroleuca (Hoffm.) Massal.</td>\n",
       "      <td>Alectoria ochroleuca</td>\n",
       "      <td>0</td>\n",
       "      <td>0</td>\n",
       "      <td>0</td>\n",
       "      <td>0</td>\n",
       "      <td>0</td>\n",
       "      <td>0</td>\n",
       "      <td>0</td>\n",
       "      <td>...</td>\n",
       "      <td>1</td>\n",
       "      <td>2</td>\n",
       "      <td>0</td>\n",
       "      <td>0</td>\n",
       "      <td>+</td>\n",
       "      <td>+</td>\n",
       "      <td>2</td>\n",
       "      <td>+</td>\n",
       "      <td>0</td>\n",
       "      <td>0</td>\n",
       "    </tr>\n",
       "  </tbody>\n",
       "</table>\n",
       "<p>3 rows × 55 columns</p>\n",
       "</div>"
      ],
      "text/plain": [
       "                                    Unnamed: 0  \\\n",
       "0                                          NaN   \n",
       "1  Aconitum delphinifolium [s. delphinifolium]   \n",
       "2                         Alectoria ochroleuca   \n",
       "\n",
       "                                        Unnamed: 1  \\\n",
       "0                                              NaN   \n",
       "1  Aconitum delphinifolium [s. delphinifolium] DC.   \n",
       "2            Alectoria ochroleuca (Hoffm.) Massal.   \n",
       "\n",
       "                                  Unnamed: 2 11379 11380 11381 11382 11383  \\\n",
       "0                                        NaN    C1  C2-A  C2-B  C2-C  C3-A   \n",
       "1  Aconitum delphinifolium s. delphinifolium     0     0     0     0     +   \n",
       "2                       Alectoria ochroleuca     0     0     0     0     0   \n",
       "\n",
       "  11384 11385  ...   11421   11422   11423   11424  11425   11426   11427  \\\n",
       "0  C3-B  C4-A  ...  LAVA-B  LAVA-C  QC25-A  QC25-B  QC35A  QC35-B  QC38-A   \n",
       "1     0     0  ...       0       0       0       +      0       0       0   \n",
       "2     0     0  ...       1       2       0       0      +       +       2   \n",
       "\n",
       "    11428  11429  11430  \n",
       "0  QC38-B  QC-45  QC-49  \n",
       "1       0      0      0  \n",
       "2       +      0      0  \n",
       "\n",
       "[3 rows x 55 columns]"
      ]
     },
     "execution_count": 13,
     "metadata": {},
     "output_type": "execute_result"
    }
   ],
   "source": [
    "# load tables in pandas; not all tables have known encoding\n",
    "fcover_dfs = []\n",
    "for path in species_csv_paths:\n",
    "    with open(path, 'rb') as file:\n",
    "        # dynamically detect file encoding because it is not consistent\n",
    "        result = chardet.detect(file.read())\n",
    "    df = pd.read_csv(path, encoding=result['encoding'], \n",
    "                     na_values=[-9, -9.0, '-9', '-9.0'])\n",
    "    fcover_dfs.append(df)\n",
    "fcover_dfs[3].head(3)"
   ]
  },
  {
   "cell_type": "code",
   "execution_count": 14,
   "id": "7a412b1a",
   "metadata": {},
   "outputs": [
    {
     "name": "stdout",
     "output_type": "stream",
     "text": [
      "1847\n"
     ]
    }
   ],
   "source": [
    "# get unique species names from ALL tables (not just post-2010)\n",
    "species_names = []\n",
    "for df in fcover_dfs: \n",
    "    names = df.iloc[:, 0] # first col without author\n",
    "    for name in names:\n",
    "        if pd.notnull(name):\n",
    "            name = name.strip('[]')\n",
    "            name = name.strip()\n",
    "            species_names.append(name)\n",
    "u_species_names = list(set(species_names))\n",
    "\n",
    "# remove null species names\n",
    "u_species_names = [x for x in u_species_names if pd.notnull(x)]\n",
    "print(len(u_species_names))\n",
    "species_names_df = pd.DataFrame(u_species_names, columns=['datasetSpeciesName'])"
   ]
  },
  {
   "cell_type": "markdown",
   "id": "aba5f9c4",
   "metadata": {},
   "source": [
    "---\n",
    "## 1.4. Join fcover to species checklist table <a name=\"joinchecklist\"></a>"
   ]
  },
  {
   "cell_type": "code",
   "execution_count": 15,
   "id": "6b909227",
   "metadata": {},
   "outputs": [
    {
     "data": {
      "text/html": [
       "<div>\n",
       "<style scoped>\n",
       "    .dataframe tbody tr th:only-of-type {\n",
       "        vertical-align: middle;\n",
       "    }\n",
       "\n",
       "    .dataframe tbody tr th {\n",
       "        vertical-align: top;\n",
       "    }\n",
       "\n",
       "    .dataframe thead th {\n",
       "        text-align: right;\n",
       "    }\n",
       "</style>\n",
       "<table border=\"1\" class=\"dataframe\">\n",
       "  <thead>\n",
       "    <tr style=\"text-align: right;\">\n",
       "      <th></th>\n",
       "      <th>nameCode</th>\n",
       "      <th>checklistSpeciesName</th>\n",
       "      <th>nameStatus</th>\n",
       "      <th>nameAccepted</th>\n",
       "      <th>nameFamily</th>\n",
       "      <th>acceptedNameSource</th>\n",
       "      <th>nameLevel</th>\n",
       "      <th>speciesForm</th>\n",
       "      <th>speciesHabit</th>\n",
       "    </tr>\n",
       "  </thead>\n",
       "  <tbody>\n",
       "    <tr>\n",
       "      <th>0</th>\n",
       "      <td>abroth</td>\n",
       "      <td>Abrothallus De Not.</td>\n",
       "      <td>accepted</td>\n",
       "      <td>Abrothallus De Not.</td>\n",
       "      <td>Abrothallaceae</td>\n",
       "      <td>CNALH</td>\n",
       "      <td>genus</td>\n",
       "      <td>lichen</td>\n",
       "      <td>lichen</td>\n",
       "    </tr>\n",
       "    <tr>\n",
       "      <th>1</th>\n",
       "      <td>abrpar</td>\n",
       "      <td>Abrothallus parmeliarum (Sommerf.) Arnold</td>\n",
       "      <td>accepted</td>\n",
       "      <td>Abrothallus parmeliarum (Sommerf.) Arnold</td>\n",
       "      <td>Abrothallaceae</td>\n",
       "      <td>CNALH</td>\n",
       "      <td>species</td>\n",
       "      <td>lichen</td>\n",
       "      <td>lichen</td>\n",
       "    </tr>\n",
       "    <tr>\n",
       "      <th>2</th>\n",
       "      <td>abrpey</td>\n",
       "      <td>Abrothallus peyritschii (Stein) Kotte</td>\n",
       "      <td>accepted</td>\n",
       "      <td>Abrothallus peyritschii (Stein) Kotte</td>\n",
       "      <td>Abrothallaceae</td>\n",
       "      <td>Dillman et al. 2012</td>\n",
       "      <td>species</td>\n",
       "      <td>lichen</td>\n",
       "      <td>lichen</td>\n",
       "    </tr>\n",
       "  </tbody>\n",
       "</table>\n",
       "</div>"
      ],
      "text/plain": [
       "  nameCode                       checklistSpeciesName nameStatus  \\\n",
       "0   abroth                        Abrothallus De Not.   accepted   \n",
       "1   abrpar  Abrothallus parmeliarum (Sommerf.) Arnold   accepted   \n",
       "2   abrpey      Abrothallus peyritschii (Stein) Kotte   accepted   \n",
       "\n",
       "                                nameAccepted      nameFamily  \\\n",
       "0                        Abrothallus De Not.  Abrothallaceae   \n",
       "1  Abrothallus parmeliarum (Sommerf.) Arnold  Abrothallaceae   \n",
       "2      Abrothallus peyritschii (Stein) Kotte  Abrothallaceae   \n",
       "\n",
       "    acceptedNameSource nameLevel speciesForm speciesHabit  \n",
       "0                CNALH     genus      lichen       lichen  \n",
       "1                CNALH   species      lichen       lichen  \n",
       "2  Dillman et al. 2012   species      lichen       lichen  "
      ]
     },
     "execution_count": 15,
     "metadata": {},
     "output_type": "execute_result"
    }
   ],
   "source": [
    "# load species checklist and prep for joining\n",
    "checklist_path = '../etc/akveg_species_checklist.csv'\n",
    "checklist_df = spf.checklist_df(checklist_path)\n",
    "checklist_df.head(3)"
   ]
  },
  {
   "cell_type": "code",
   "execution_count": 16,
   "id": "b1a63e49",
   "metadata": {},
   "outputs": [
    {
     "data": {
      "text/html": [
       "<div>\n",
       "<style scoped>\n",
       "    .dataframe tbody tr th:only-of-type {\n",
       "        vertical-align: middle;\n",
       "    }\n",
       "\n",
       "    .dataframe tbody tr th {\n",
       "        vertical-align: top;\n",
       "    }\n",
       "\n",
       "    .dataframe thead th {\n",
       "        text-align: right;\n",
       "    }\n",
       "</style>\n",
       "<table border=\"1\" class=\"dataframe\">\n",
       "  <thead>\n",
       "    <tr style=\"text-align: right;\">\n",
       "      <th></th>\n",
       "      <th>datasetSpeciesName</th>\n",
       "    </tr>\n",
       "  </thead>\n",
       "  <tbody>\n",
       "    <tr>\n",
       "      <th>0</th>\n",
       "      <td>Agrostis mertensii</td>\n",
       "    </tr>\n",
       "    <tr>\n",
       "      <th>1</th>\n",
       "      <td>Sparganium natans</td>\n",
       "    </tr>\n",
       "    <tr>\n",
       "      <th>2</th>\n",
       "      <td>Arenaria humifusa</td>\n",
       "    </tr>\n",
       "  </tbody>\n",
       "</table>\n",
       "</div>"
      ],
      "text/plain": [
       "   datasetSpeciesName\n",
       "0  Agrostis mertensii\n",
       "1   Sparganium natans\n",
       "2   Arenaria humifusa"
      ]
     },
     "execution_count": 16,
     "metadata": {},
     "output_type": "execute_result"
    }
   ],
   "source": [
    "species_names_df.head(3)"
   ]
  },
  {
   "cell_type": "code",
   "execution_count": 17,
   "id": "284d8254",
   "metadata": {},
   "outputs": [
    {
     "name": "stdout",
     "output_type": "stream",
     "text": [
      "450 species are missing habits.\n",
      "236 species still missing habits.\n",
      "43 species still missing habits.\n",
      "39 species still missing habits.\n"
     ]
    },
    {
     "data": {
      "text/html": [
       "<div>\n",
       "<style scoped>\n",
       "    .dataframe tbody tr th:only-of-type {\n",
       "        vertical-align: middle;\n",
       "    }\n",
       "\n",
       "    .dataframe tbody tr th {\n",
       "        vertical-align: top;\n",
       "    }\n",
       "\n",
       "    .dataframe thead th {\n",
       "        text-align: right;\n",
       "    }\n",
       "</style>\n",
       "<table border=\"1\" class=\"dataframe\">\n",
       "  <thead>\n",
       "    <tr style=\"text-align: right;\">\n",
       "      <th></th>\n",
       "      <th>datasetSpeciesName</th>\n",
       "      <th>joinKey</th>\n",
       "      <th>speciesHabit</th>\n",
       "    </tr>\n",
       "    <tr>\n",
       "      <th>index</th>\n",
       "      <th></th>\n",
       "      <th></th>\n",
       "      <th></th>\n",
       "    </tr>\n",
       "  </thead>\n",
       "  <tbody>\n",
       "    <tr>\n",
       "      <th>0</th>\n",
       "      <td>Agrostis mertensii</td>\n",
       "      <td>Agrostis mertensii</td>\n",
       "      <td>graminoid</td>\n",
       "    </tr>\n",
       "    <tr>\n",
       "      <th>1</th>\n",
       "      <td>Sparganium natans</td>\n",
       "      <td>Sparganium natans</td>\n",
       "      <td>forb</td>\n",
       "    </tr>\n",
       "    <tr>\n",
       "      <th>2</th>\n",
       "      <td>Arenaria humifusa</td>\n",
       "      <td>Arenaria humifusa</td>\n",
       "      <td>forb</td>\n",
       "    </tr>\n",
       "  </tbody>\n",
       "</table>\n",
       "</div>"
      ],
      "text/plain": [
       "       datasetSpeciesName             joinKey speciesHabit\n",
       "index                                                     \n",
       "0      Agrostis mertensii  Agrostis mertensii    graminoid\n",
       "1       Sparganium natans   Sparganium natans         forb\n",
       "2       Arenaria humifusa   Arenaria humifusa         forb"
      ]
     },
     "execution_count": 17,
     "metadata": {},
     "output_type": "execute_result"
    }
   ],
   "source": [
    "# get first 2 words (genus-species) from checklist accepted name and data species name\n",
    "checklist_df['joinKey'] = checklist_df['checklistSpeciesName'].apply(spf.get_substrings)\n",
    "species_names_df['joinKey'] = species_names_df['datasetSpeciesName'].apply(spf.get_substrings)\n",
    "habits = spf.join_to_checklist(unique_species=species_names_df, \n",
    "                               checklist=checklist_df, \n",
    "                               u_name='datasetSpeciesName', \n",
    "                               c_unofficial_name='checklistSpeciesName', \n",
    "                               c_official_name='nameAccepted', \n",
    "                               mapping_name='joinKey',\n",
    "                               habit='speciesHabit')\n",
    "habits.head(3)"
   ]
  },
  {
   "cell_type": "code",
   "execution_count": 18,
   "id": "0b0264dd",
   "metadata": {},
   "outputs": [
    {
     "data": {
      "text/html": [
       "<div>\n",
       "<style scoped>\n",
       "    .dataframe tbody tr th:only-of-type {\n",
       "        vertical-align: middle;\n",
       "    }\n",
       "\n",
       "    .dataframe tbody tr th {\n",
       "        vertical-align: top;\n",
       "    }\n",
       "\n",
       "    .dataframe thead th {\n",
       "        text-align: right;\n",
       "    }\n",
       "</style>\n",
       "<table border=\"1\" class=\"dataframe\">\n",
       "  <thead>\n",
       "    <tr style=\"text-align: right;\">\n",
       "      <th></th>\n",
       "      <th>datasetSpeciesName</th>\n",
       "      <th>joinKey</th>\n",
       "    </tr>\n",
       "  </thead>\n",
       "  <tbody>\n",
       "    <tr>\n",
       "      <th>0</th>\n",
       "      <td>Agrostis mertensii</td>\n",
       "      <td>Agrostis mertensii</td>\n",
       "    </tr>\n",
       "    <tr>\n",
       "      <th>1</th>\n",
       "      <td>Sparganium natans</td>\n",
       "      <td>Sparganium natans</td>\n",
       "    </tr>\n",
       "    <tr>\n",
       "      <th>2</th>\n",
       "      <td>Arenaria humifusa</td>\n",
       "      <td>Arenaria humifusa</td>\n",
       "    </tr>\n",
       "  </tbody>\n",
       "</table>\n",
       "</div>"
      ],
      "text/plain": [
       "   datasetSpeciesName             joinKey\n",
       "0  Agrostis mertensii  Agrostis mertensii\n",
       "1   Sparganium natans   Sparganium natans\n",
       "2   Arenaria humifusa   Arenaria humifusa"
      ]
     },
     "execution_count": 18,
     "metadata": {},
     "output_type": "execute_result"
    }
   ],
   "source": [
    "species_names_df.head(3)"
   ]
  },
  {
   "cell_type": "code",
   "execution_count": 19,
   "id": "13263160",
   "metadata": {},
   "outputs": [],
   "source": [
    "habits = species_names_df.merge(habits, how='left', left_on='datasetSpeciesName', right_on='datasetSpeciesName', suffixes=(None, '_1'))\n",
    "habits = habits[['joinKey', 'datasetSpeciesName', 'speciesHabit']]"
   ]
  },
  {
   "cell_type": "markdown",
   "id": "f865fa98",
   "metadata": {},
   "source": [
    "---\n",
    "## 1.5. Join fcover to leaf retention table <a name=\"joinleafretention\"></a>"
   ]
  },
  {
   "cell_type": "code",
   "execution_count": 20,
   "id": "925a5a13",
   "metadata": {},
   "outputs": [
    {
     "data": {
      "text/html": [
       "<div>\n",
       "<style scoped>\n",
       "    .dataframe tbody tr th:only-of-type {\n",
       "        vertical-align: middle;\n",
       "    }\n",
       "\n",
       "    .dataframe tbody tr th {\n",
       "        vertical-align: top;\n",
       "    }\n",
       "\n",
       "    .dataframe thead th {\n",
       "        text-align: right;\n",
       "    }\n",
       "</style>\n",
       "<table border=\"1\" class=\"dataframe\">\n",
       "  <thead>\n",
       "    <tr style=\"text-align: right;\">\n",
       "      <th></th>\n",
       "      <th>leafRetention</th>\n",
       "      <th>retentionSpeciesName</th>\n",
       "    </tr>\n",
       "  </thead>\n",
       "  <tbody>\n",
       "    <tr>\n",
       "      <th>0</th>\n",
       "      <td>deciduous</td>\n",
       "      <td>Salix</td>\n",
       "    </tr>\n",
       "    <tr>\n",
       "      <th>1</th>\n",
       "      <td>deciduous</td>\n",
       "      <td>Betula nana</td>\n",
       "    </tr>\n",
       "    <tr>\n",
       "      <th>2</th>\n",
       "      <td>deciduous</td>\n",
       "      <td>Vaccinium uliginosum</td>\n",
       "    </tr>\n",
       "  </tbody>\n",
       "</table>\n",
       "</div>"
      ],
      "text/plain": [
       "  leafRetention  retentionSpeciesName\n",
       "0     deciduous                 Salix\n",
       "1     deciduous           Betula nana\n",
       "2     deciduous  Vaccinium uliginosum"
      ]
     },
     "execution_count": 20,
     "metadata": {},
     "output_type": "execute_result"
    }
   ],
   "source": [
    "# load leaf retention table and clean\n",
    "path = '../etc/macander_leaf_retention.csv'\n",
    "leaf_ret = spf.leaf_retention_df(path)\n",
    "leaf_ret.head(3)"
   ]
  },
  {
   "cell_type": "code",
   "execution_count": 21,
   "id": "a00ccec6",
   "metadata": {},
   "outputs": [
    {
     "data": {
      "text/html": [
       "<div>\n",
       "<style scoped>\n",
       "    .dataframe tbody tr th:only-of-type {\n",
       "        vertical-align: middle;\n",
       "    }\n",
       "\n",
       "    .dataframe tbody tr th {\n",
       "        vertical-align: top;\n",
       "    }\n",
       "\n",
       "    .dataframe thead th {\n",
       "        text-align: right;\n",
       "    }\n",
       "</style>\n",
       "<table border=\"1\" class=\"dataframe\">\n",
       "  <thead>\n",
       "    <tr style=\"text-align: right;\">\n",
       "      <th></th>\n",
       "      <th>datasetSpeciesName</th>\n",
       "      <th>joinKey</th>\n",
       "      <th>speciesHabit</th>\n",
       "      <th>leafRetention</th>\n",
       "    </tr>\n",
       "  </thead>\n",
       "  <tbody>\n",
       "    <tr>\n",
       "      <th>0</th>\n",
       "      <td>Agrostis mertensii</td>\n",
       "      <td>Agrostis mertensii</td>\n",
       "      <td>graminoid</td>\n",
       "      <td></td>\n",
       "    </tr>\n",
       "    <tr>\n",
       "      <th>1</th>\n",
       "      <td>Sparganium natans</td>\n",
       "      <td>Sparganium natans</td>\n",
       "      <td>forb</td>\n",
       "      <td></td>\n",
       "    </tr>\n",
       "    <tr>\n",
       "      <th>2</th>\n",
       "      <td>Arenaria humifusa</td>\n",
       "      <td>Arenaria humifusa</td>\n",
       "      <td>forb</td>\n",
       "      <td></td>\n",
       "    </tr>\n",
       "  </tbody>\n",
       "</table>\n",
       "</div>"
      ],
      "text/plain": [
       "   datasetSpeciesName             joinKey speciesHabit leafRetention\n",
       "0  Agrostis mertensii  Agrostis mertensii    graminoid              \n",
       "1   Sparganium natans   Sparganium natans         forb              \n",
       "2   Arenaria humifusa   Arenaria humifusa         forb              "
      ]
     },
     "execution_count": 21,
     "metadata": {},
     "output_type": "execute_result"
    }
   ],
   "source": [
    "# add leaf retention column\n",
    "habits_wleaf = spf.add_leaf_retention(habits, leaf_ret, 'leafRetention')\n",
    "habits_wleaf = habits_wleaf[['datasetSpeciesName', 'joinKey', 'speciesHabit', 'leafRetention']]\n",
    "habits_wleaf.head(3)"
   ]
  },
  {
   "cell_type": "code",
   "execution_count": 22,
   "id": "ca056f2b",
   "metadata": {},
   "outputs": [
    {
     "data": {
      "text/plain": [
       "['graminoid',\n",
       " 'forb',\n",
       " 'moss',\n",
       " 'spore-bearing',\n",
       " nan,\n",
       " 'liverwort',\n",
       " 'lichen',\n",
       " 'shrub',\n",
       " 'coniferous tree',\n",
       " 'deciduous tree']"
      ]
     },
     "execution_count": 22,
     "metadata": {},
     "output_type": "execute_result"
    }
   ],
   "source": [
    "# apply function\n",
    "habits_wleaf['speciesHabit'] = habits_wleaf['speciesHabit'].apply(spf.clean_shrub_habits)\n",
    "list(habits_wleaf['speciesHabit'].unique())"
   ]
  },
  {
   "cell_type": "markdown",
   "id": "e05b0452",
   "metadata": {},
   "source": [
    "---\n",
    "## 1.6. Export species-PFT tables <a name=\"exporthabits\"></a>"
   ]
  },
  {
   "cell_type": "code",
   "execution_count": 23,
   "id": "f03a4a2a-979c-456a-a41b-832d3543706c",
   "metadata": {},
   "outputs": [],
   "source": [
    "# generate 3 files and dataframe of habit types\n",
    "shrubs, nonshrubs, null = spf.export_habit_files(habits_wleaf,\n",
    "                                                 'temp_data', \n",
    "                                                 source, \n",
    "                                                 'speciesHabit')"
   ]
  },
  {
   "cell_type": "code",
   "execution_count": 24,
   "id": "024a0f2f",
   "metadata": {},
   "outputs": [
    {
     "data": {
      "text/plain": [
       "True"
      ]
     },
     "execution_count": 24,
     "metadata": {},
     "output_type": "execute_result"
    }
   ],
   "source": [
    "# check to make sure the files make sense\n",
    "len(habits_wleaf) == (len(null) + len(nonshrubs) + len(shrubs))"
   ]
  },
  {
   "cell_type": "markdown",
   "id": "0a74280d",
   "metadata": {},
   "source": [
    "---\n",
    "## 1.7. Clean exported species-PFT tables <a name=\"cleanhabits\"></a>\n",
    "Here, we manually assessed each file. The nonshrubs were usually correct and did not have to be adjusted. Some shrubs were missing leaf retention information, so we consulted with arctic ecologists to determine it. For unknown (null) habits, we consulted arctic ecology expert, Amy Breen, to determine the issue and correct habit. After the tables were complete, all species names had a single associated habit.\n",
    "- null habits\n",
    "    - assign missing habits and consult ecologist when needed\n",
    "- non-shrubs\n",
    "    - assign leaf habit to all trees (ctrl-f to find all trees in excel)\n",
    "        - coniferous tree = evergreen\n",
    "        - deciduous tree  = deciduous\n",
    "    - remove leaf habit if misapplied\n",
    "- shrubs\n",
    "    - check current leaf habits and correct if necessary\n",
    "    - fill empty leaf habits\n",
    "    - choose leaf habit if both evergreen & deciduous listed\n",
    "    - add Stature column (dwarf shrub or not)"
   ]
  },
  {
   "cell_type": "markdown",
   "id": "07c141e1",
   "metadata": {},
   "source": [
    "---\n",
    "---\n",
    "# 2. Standardization <a name=\"standardization\"></a>"
   ]
  },
  {
   "cell_type": "markdown",
   "id": "a9e4d1b9",
   "metadata": {},
   "source": [
    "---\n",
    "## 2.1. Standardize PFT names <a name=\"pftnames\"></a>\n",
    "deciduous shrub, evergreen shrub, graminoid, forb, litter, non-vascular (lichen, brophyte)"
   ]
  },
  {
   "cell_type": "code",
   "execution_count": 25,
   "id": "fdf122cc-21c0-45d3-ad2f-e0ab4eafeca5",
   "metadata": {},
   "outputs": [],
   "source": [
    "# paths to visually assessed and cleaned habit files\n",
    "all_habit_types = [f'temp_data/{source}_nonshrubs_01.csv',\n",
    "                   f'temp_data/{source}_shrubs_01.csv',\n",
    "                   f'temp_data/{source}_nullhabit_01.csv']\n",
    "\n",
    "# create list of habit dataframes\n",
    "habit_dfs = []\n",
    "for path in all_habit_types:\n",
    "    habit_df = pd.read_csv(path, index_col=0)\n",
    "    habit_dfs.append(habit_df)\n",
    "all_habits = pd.concat(habit_dfs)"
   ]
  },
  {
   "cell_type": "code",
   "execution_count": 26,
   "id": "d9ffe33b",
   "metadata": {},
   "outputs": [
    {
     "data": {
      "text/plain": [
       "['moss',\n",
       " 'lichen',\n",
       " 'forb',\n",
       " 'graminoid',\n",
       " 'liverwort',\n",
       " 'spore-bearing',\n",
       " 'deciduous tree',\n",
       " 'coniferous tree',\n",
       " 'shrub',\n",
       " 'cyanobacteria',\n",
       " 'algae',\n",
       " 'bryophyte',\n",
       " 'fungus',\n",
       " 'crust']"
      ]
     },
     "execution_count": 26,
     "metadata": {},
     "output_type": "execute_result"
    }
   ],
   "source": [
    "# show unique habit names we're working with\n",
    "all_habits['speciesHabit'].unique().tolist()"
   ]
  },
  {
   "cell_type": "code",
   "execution_count": 27,
   "id": "7099ddc6",
   "metadata": {},
   "outputs": [],
   "source": [
    "# ava-specific habit name standardization function\n",
    "def standardize_habit(habitrow, leafrow):\n",
    "    \n",
    "    habitrow = habitrow.to_numpy()\n",
    "    leafrow = leafrow.to_numpy()\n",
    "    new_row = []\n",
    "    \n",
    "    for habit, leaf in zip(habitrow, leafrow):\n",
    "        \n",
    "        habit = habit.lower()\n",
    "        # non-shrubs\n",
    "        if 'algae' in habit or 'cyanobacteria' in habit or 'crust' in habit:\n",
    "            new_habit = 'other'\n",
    "        elif habit == np.nan or 'unknown' in habit:\n",
    "            new_habit = 'other'\n",
    "        elif 'moss' in habit or 'liverwort' in habit:\n",
    "            new_habit = 'bryophyte'\n",
    "        elif 'spore-bearing' in habit:\n",
    "            new_habit = 'forb'\n",
    "        elif 'grass' in habit:\n",
    "            new_habit = 'graminoid'\n",
    "            \n",
    "        # shrubs and trees\n",
    "        elif 'shrub' in habit:\n",
    "            new_habit = f'{leaf} shrub'\n",
    "        elif 'tree' in habit:\n",
    "            new_habit = f'{leaf} tree'\n",
    "            \n",
    "        else:\n",
    "            new_habit = f'{habit}'\n",
    "        new_row.append(new_habit)\n",
    "    \n",
    "    return new_row"
   ]
  },
  {
   "cell_type": "code",
   "execution_count": 28,
   "id": "c8a28a7d",
   "metadata": {},
   "outputs": [
    {
     "name": "stdout",
     "output_type": "stream",
     "text": [
      "1847\n"
     ]
    },
    {
     "data": {
      "text/html": [
       "<div>\n",
       "<style scoped>\n",
       "    .dataframe tbody tr th:only-of-type {\n",
       "        vertical-align: middle;\n",
       "    }\n",
       "\n",
       "    .dataframe tbody tr th {\n",
       "        vertical-align: top;\n",
       "    }\n",
       "\n",
       "    .dataframe thead th {\n",
       "        text-align: right;\n",
       "    }\n",
       "</style>\n",
       "<table border=\"1\" class=\"dataframe\">\n",
       "  <thead>\n",
       "    <tr style=\"text-align: right;\">\n",
       "      <th></th>\n",
       "      <th>datasetSpeciesName</th>\n",
       "      <th>joinKey</th>\n",
       "      <th>nonstandardHabit</th>\n",
       "      <th>leafRetention</th>\n",
       "      <th>speciesStature</th>\n",
       "      <th>standardHabit</th>\n",
       "    </tr>\n",
       "  </thead>\n",
       "  <tbody>\n",
       "    <tr>\n",
       "      <th>1515</th>\n",
       "      <td>Abietinella abietina</td>\n",
       "      <td>Abietinella abietina</td>\n",
       "      <td>moss</td>\n",
       "      <td>NaN</td>\n",
       "      <td>NaN</td>\n",
       "      <td>bryophyte</td>\n",
       "    </tr>\n",
       "    <tr>\n",
       "      <th>1420</th>\n",
       "      <td>Acarospora schleicheri</td>\n",
       "      <td>Acarospora schleicheri</td>\n",
       "      <td>lichen</td>\n",
       "      <td>NaN</td>\n",
       "      <td>NaN</td>\n",
       "      <td>lichen</td>\n",
       "    </tr>\n",
       "    <tr>\n",
       "      <th>971</th>\n",
       "      <td>Achillea lanulosa</td>\n",
       "      <td>Achillea lanulosa</td>\n",
       "      <td>forb</td>\n",
       "      <td>NaN</td>\n",
       "      <td>NaN</td>\n",
       "      <td>forb</td>\n",
       "    </tr>\n",
       "  </tbody>\n",
       "</table>\n",
       "</div>"
      ],
      "text/plain": [
       "          datasetSpeciesName                 joinKey nonstandardHabit  \\\n",
       "1515    Abietinella abietina    Abietinella abietina             moss   \n",
       "1420  Acarospora schleicheri  Acarospora schleicheri           lichen   \n",
       "971        Achillea lanulosa       Achillea lanulosa             forb   \n",
       "\n",
       "     leafRetention speciesStature standardHabit  \n",
       "1515           NaN            NaN     bryophyte  \n",
       "1420           NaN            NaN        lichen  \n",
       "971            NaN            NaN          forb  "
      ]
     },
     "execution_count": 28,
     "metadata": {},
     "output_type": "execute_result"
    }
   ],
   "source": [
    "# standardized PFT\n",
    "standard_habit_col = standardize_habit(all_habits['speciesHabit'], \n",
    "                                       all_habits['leafRetention'])\n",
    "all_habits['standardHabit'] = standard_habit_col\n",
    "all_habits.rename(columns={'speciesHabit':'nonstandardHabit'}, inplace=True)\n",
    "print(len(all_habits))\n",
    "all_habits.head(3)"
   ]
  },
  {
   "cell_type": "markdown",
   "id": "dcf42ea6",
   "metadata": {},
   "source": [
    "---\n",
    "## 2.2. Sum species fcover to PFT-level <a name=\"sumfcover\"></a>"
   ]
  },
  {
   "cell_type": "code",
   "execution_count": 29,
   "id": "d92925b1",
   "metadata": {},
   "outputs": [],
   "source": [
    "# ava-specific function to clean fcover values\n",
    "from IPython.display import display, clear_output\n",
    "import time\n",
    "import pandas as pd\n",
    "import numpy as np\n",
    "import chardet\n",
    "import os\n",
    "\n",
    "def get_fcover_percent(paths, all_habits, habit_col, species_col):\n",
    "    \n",
    "    pft_fcover_tables = []\n",
    "    species_fcover_tables = []  # New dataset with plotName, speciesNameNoAuth, percentCover columns\n",
    "    \n",
    "    cover_types = []\n",
    "    \n",
    "    # get fcover type from filename\n",
    "    basenames = [os.path.basename(path) for path in paths]\n",
    "    for name in basenames:\n",
    "        cover_type = name.split('_')[-2]\n",
    "        cover_types.append(cover_type)\n",
    "    all_habits = all_habits[[species_col, habit_col]]\n",
    "    \n",
    "    # loop through each fcover table\n",
    "    for path, cover_type in zip(paths, cover_types):\n",
    "\n",
    "        # read table\n",
    "        with open(path, 'rb') as file:\n",
    "            result = chardet.detect(file.read())\n",
    "            df = pd.read_csv(path, encoding=result['encoding'], \n",
    "                             header=1, \n",
    "                             na_values=[-9, -9.0, '-9', '-9.0'])\n",
    "        clear_output(wait=True)\n",
    "        display(habit_col, path)\n",
    "        time.sleep(1)\n",
    "\n",
    "        # rename columns\n",
    "        cols = df.columns.to_numpy()\n",
    "        cols[0] = 'speciesNameNoAuth'\n",
    "        cols[1] = 'speciesNameAccepted'\n",
    "        cols[2] = 'speciesName'\n",
    "        df.columns = cols\n",
    "\n",
    "        # get list of plot IDs\n",
    "        plot_id_cols = df.columns.to_list()[3:]\n",
    "\n",
    "        # get associated habit for each species\n",
    "        df = df.merge(all_habits, left_on='speciesNameNoAuth', right_on=species_col)\n",
    "\n",
    "        # br-bq to percentage conversion dict\n",
    "        # Wood 2013. EFFECTS OF PRESCRIBED BURNING ON GRASSLAND AVIFAUNA AT RIVERLANDS MIGRATORY BIRD SANCTUARY\n",
    "        bb_dict = {'r': 0.05, '+': 0.55, '1': 3.0, '2': 15.0, '3': 37.5, '4': 62.5, '5': 87.5, '-9': np.nan}\n",
    "        # Westoff converstion dict\n",
    "        wv_dict = {'1': 0.05, '2': 1.0, '3': 2.5, '4': 4.5, '5': 9.0, '6': 18.5, '7': 37.0, '8': 62.0, '9': 87.5}\n",
    "        # Hult-Serander conversion dict\n",
    "        hs_dict = {'+': 0.5, '1': 4.0, '2': 9.0, '3': 18.0, '4': 38.0, '5': 63.0, '6': 87.0}\n",
    "\n",
    "        # convert wv codes\n",
    "        if cover_type == 'wv':\n",
    "\n",
    "            # replace westoff-van den maarel code with percentage\n",
    "            cols = df.columns.to_list()\n",
    "            df = df.astype(str)\n",
    "            for col in cols:\n",
    "                df.replace({col: wv_dict}, inplace=True)\n",
    "\n",
    "        # covert br-bl codes        \n",
    "        elif cover_type == 'brbl':\n",
    "\n",
    "            # replace br-bl code with percentage\n",
    "            cols = df.columns.to_list()\n",
    "            df = df.astype(str)\n",
    "            for col in cols:\n",
    "                df.replace({col: bb_dict}, inplace=True)\n",
    "\n",
    "        elif cover_type == 'hs':\n",
    "\n",
    "            # replace hs code with percentage\n",
    "            cols = df.columns.to_list()\n",
    "            df = df.astype(str)\n",
    "            for col in cols:\n",
    "                df.replace({col: hs_dict}, inplace=True)\n",
    "\n",
    "        # if already percent\n",
    "        else:\n",
    "\n",
    "            df = df.astype(str)\n",
    "\n",
    "        # clean % data\n",
    "        fcover = df.drop(columns=['speciesNameNoAuth', 'speciesNameAccepted', 'speciesName', species_col])\n",
    "        fcover = fcover.loc[:, fcover.columns != habit_col].replace(' ', '0', regex=True)\n",
    "        fcover = fcover.loc[:, fcover.columns != habit_col].replace('', '0', regex=True)\n",
    "        fcover = fcover.loc[:, fcover.columns != habit_col].replace('\\*', '0', regex=True)\n",
    "        fcover = fcover.loc[:, fcover.columns != habit_col].astype(float)\n",
    "\n",
    "        # add back the standard habit column\n",
    "        fcover = fcover.copy()\n",
    "        fcover[habit_col] = df[habit_col] # replace codes with new fcover %\n",
    "\n",
    "        # loop through each plot and sum fcover per pft\n",
    "        pft_fcover = fcover.groupby(by=[habit_col]).sum().T\n",
    "        pft_fcover.index = plot_id_cols\n",
    "        pft_fcover['fcoverScale'] = cover_type\n",
    "        pft_fcover_tables.append(pft_fcover)\n",
    "        \n",
    "        # Reshape the dataset to match the desired structure\n",
    "        df_melted = df.melt(id_vars=['speciesNameNoAuth'], value_vars=plot_id_cols, var_name='plotName', value_name='percentCover')\n",
    "        \n",
    "        # Replace problematic values and convert percentCover to float\n",
    "        df_melted['percentCover'] = pd.to_numeric(df_melted['percentCover'], errors='coerce').fillna(np.nan)\n",
    "        \n",
    "        species_fcover_tables.append(df_melted[['plotName', 'speciesNameNoAuth', 'percentCover']])\n",
    "    \n",
    "    return pft_fcover_tables, species_fcover_tables"
   ]
  },
  {
   "cell_type": "code",
   "execution_count": 30,
   "id": "74990767",
   "metadata": {},
   "outputs": [
    {
     "data": {
      "text/plain": [
       "'standardHabit'"
      ]
     },
     "metadata": {},
     "output_type": "display_data"
    },
    {
     "data": {
      "text/plain": [
       "'input_data/ava_cover_tables/aava_willows_uschickhoff_2002_spp_brbl_modsrc.csv'"
      ]
     },
     "metadata": {},
     "output_type": "display_data"
    }
   ],
   "source": [
    "# this section is working on ALL plot data\n",
    "pft_fcover_dfs, species_fcover_dfs = get_fcover_percent(species_csv_paths, all_habits, \n",
    "                                                        'standardHabit', 'datasetSpeciesName')"
   ]
  },
  {
   "cell_type": "code",
   "execution_count": 31,
   "id": "12384d35-521a-4508-87a3-9ab196a49d2c",
   "metadata": {},
   "outputs": [
    {
     "data": {
      "text/html": [
       "<div>\n",
       "<style scoped>\n",
       "    .dataframe tbody tr th:only-of-type {\n",
       "        vertical-align: middle;\n",
       "    }\n",
       "\n",
       "    .dataframe tbody tr th {\n",
       "        vertical-align: top;\n",
       "    }\n",
       "\n",
       "    .dataframe thead th {\n",
       "        text-align: right;\n",
       "    }\n",
       "</style>\n",
       "<table border=\"1\" class=\"dataframe\">\n",
       "  <thead>\n",
       "    <tr style=\"text-align: right;\">\n",
       "      <th></th>\n",
       "      <th>plotName</th>\n",
       "      <th>datasetSpeciesName</th>\n",
       "      <th>percentCover</th>\n",
       "    </tr>\n",
       "  </thead>\n",
       "  <tbody>\n",
       "    <tr>\n",
       "      <th>0</th>\n",
       "      <td>BELA_T01_02_2002</td>\n",
       "      <td>Abietinella abietina</td>\n",
       "      <td>0.00</td>\n",
       "    </tr>\n",
       "    <tr>\n",
       "      <th>1</th>\n",
       "      <td>BELA_T01_02_2002</td>\n",
       "      <td>Aconogonon alaskanum</td>\n",
       "      <td>0.00</td>\n",
       "    </tr>\n",
       "    <tr>\n",
       "      <th>2</th>\n",
       "      <td>BELA_T01_02_2002</td>\n",
       "      <td>Adoxa moschatellina</td>\n",
       "      <td>0.00</td>\n",
       "    </tr>\n",
       "    <tr>\n",
       "      <th>3</th>\n",
       "      <td>BELA_T01_02_2002</td>\n",
       "      <td>Agonimia tristicula</td>\n",
       "      <td>0.00</td>\n",
       "    </tr>\n",
       "    <tr>\n",
       "      <th>4</th>\n",
       "      <td>BELA_T01_02_2002</td>\n",
       "      <td>Agrostis scabra</td>\n",
       "      <td>0.00</td>\n",
       "    </tr>\n",
       "    <tr>\n",
       "      <th>...</th>\n",
       "      <td>...</td>\n",
       "      <td>...</td>\n",
       "      <td>...</td>\n",
       "    </tr>\n",
       "    <tr>\n",
       "      <th>18270</th>\n",
       "      <td>85</td>\n",
       "      <td>Vaccinium vitis-idaea s. minus</td>\n",
       "      <td>0.00</td>\n",
       "    </tr>\n",
       "    <tr>\n",
       "      <th>18271</th>\n",
       "      <td>85</td>\n",
       "      <td>Valeriana capitata</td>\n",
       "      <td>0.00</td>\n",
       "    </tr>\n",
       "    <tr>\n",
       "      <th>18272</th>\n",
       "      <td>85</td>\n",
       "      <td>Viola epipsila s. repens</td>\n",
       "      <td>0.00</td>\n",
       "    </tr>\n",
       "    <tr>\n",
       "      <th>18273</th>\n",
       "      <td>85</td>\n",
       "      <td>Vulpicida tilesii</td>\n",
       "      <td>0.55</td>\n",
       "    </tr>\n",
       "    <tr>\n",
       "      <th>18274</th>\n",
       "      <td>85</td>\n",
       "      <td>Wilhelmsia physodes</td>\n",
       "      <td>0.00</td>\n",
       "    </tr>\n",
       "  </tbody>\n",
       "</table>\n",
       "<p>1469769 rows × 3 columns</p>\n",
       "</div>"
      ],
      "text/plain": [
       "               plotName              datasetSpeciesName  percentCover\n",
       "0      BELA_T01_02_2002            Abietinella abietina          0.00\n",
       "1      BELA_T01_02_2002            Aconogonon alaskanum          0.00\n",
       "2      BELA_T01_02_2002             Adoxa moschatellina          0.00\n",
       "3      BELA_T01_02_2002             Agonimia tristicula          0.00\n",
       "4      BELA_T01_02_2002                 Agrostis scabra          0.00\n",
       "...                 ...                             ...           ...\n",
       "18270                85  Vaccinium vitis-idaea s. minus          0.00\n",
       "18271                85              Valeriana capitata          0.00\n",
       "18272                85        Viola epipsila s. repens          0.00\n",
       "18273                85               Vulpicida tilesii          0.55\n",
       "18274                85             Wilhelmsia physodes          0.00\n",
       "\n",
       "[1469769 rows x 3 columns]"
      ]
     },
     "execution_count": 31,
     "metadata": {},
     "output_type": "execute_result"
    }
   ],
   "source": [
    "# add accepted name and standard habit to species level fcover\n",
    "all_habits = all_habits[['datasetSpeciesName', 'standardHabit', 'nonstandardHabit']]\n",
    "species_fcover = pd.concat(species_fcover_dfs)\n",
    "species_fcover = species_fcover.rename(columns={'speciesNameNoAuth':'datasetSpeciesName'})\n",
    "species_fcover"
   ]
  },
  {
   "cell_type": "code",
   "execution_count": 32,
   "id": "8c2a7fa0-6b47-4bde-a3ad-46f625ae8176",
   "metadata": {},
   "outputs": [
    {
     "data": {
      "text/html": [
       "<div>\n",
       "<style scoped>\n",
       "    .dataframe tbody tr th:only-of-type {\n",
       "        vertical-align: middle;\n",
       "    }\n",
       "\n",
       "    .dataframe tbody tr th {\n",
       "        vertical-align: top;\n",
       "    }\n",
       "\n",
       "    .dataframe thead th {\n",
       "        text-align: right;\n",
       "    }\n",
       "</style>\n",
       "<table border=\"1\" class=\"dataframe\">\n",
       "  <thead>\n",
       "    <tr style=\"text-align: right;\">\n",
       "      <th></th>\n",
       "      <th>plotName</th>\n",
       "      <th>datasetSpeciesName</th>\n",
       "      <th>standardHabit</th>\n",
       "      <th>nonstandardHabit</th>\n",
       "      <th>percentCover</th>\n",
       "    </tr>\n",
       "  </thead>\n",
       "  <tbody>\n",
       "    <tr>\n",
       "      <th>936</th>\n",
       "      <td>BELA_T01_02_2002</td>\n",
       "      <td>Wilhelmsia physodes</td>\n",
       "      <td>forb</td>\n",
       "      <td>forb</td>\n",
       "      <td>0.1</td>\n",
       "    </tr>\n",
       "    <tr>\n",
       "      <th>996</th>\n",
       "      <td>BELA_T01_03_2002</td>\n",
       "      <td>Artemisia tilesii</td>\n",
       "      <td>forb</td>\n",
       "      <td>forb</td>\n",
       "      <td>1.0</td>\n",
       "    </tr>\n",
       "    <tr>\n",
       "      <th>1141</th>\n",
       "      <td>BELA_T01_03_2002</td>\n",
       "      <td>Castilleja caudata</td>\n",
       "      <td>forb</td>\n",
       "      <td>forb</td>\n",
       "      <td>0.1</td>\n",
       "    </tr>\n",
       "  </tbody>\n",
       "</table>\n",
       "</div>"
      ],
      "text/plain": [
       "              plotName   datasetSpeciesName standardHabit nonstandardHabit  \\\n",
       "936   BELA_T01_02_2002  Wilhelmsia physodes          forb             forb   \n",
       "996   BELA_T01_03_2002    Artemisia tilesii          forb             forb   \n",
       "1141  BELA_T01_03_2002   Castilleja caudata          forb             forb   \n",
       "\n",
       "      percentCover  \n",
       "936            0.1  \n",
       "996            1.0  \n",
       "1141           0.1  "
      ]
     },
     "execution_count": 32,
     "metadata": {},
     "output_type": "execute_result"
    }
   ],
   "source": [
    "species_fcover = species_fcover.merge(all_habits, \n",
    "                                      left_on='datasetSpeciesName', \n",
    "                                      right_on='datasetSpeciesName')\n",
    "species_fcover = species_fcover[species_fcover['percentCover'].notna() & (species_fcover['percentCover'] != 0)]\n",
    "species_fcover = species_fcover[['plotName', 'datasetSpeciesName', 'standardHabit', \n",
    "                                 'nonstandardHabit', 'percentCover']]\n",
    "species_fcover['standardHabit'] = species_fcover['standardHabit'].replace('fungus', 'other')\n",
    "species_fcover.head(3)"
   ]
  },
  {
   "cell_type": "code",
   "execution_count": 33,
   "id": "fb82afee-0a98-4d13-81a3-e2ee5e85a034",
   "metadata": {},
   "outputs": [],
   "source": [
    "species_fcover.to_csv(f'output_data/{source}_nonstandard_species_fcover.csv', index=False)"
   ]
  },
  {
   "cell_type": "markdown",
   "id": "fd714f8b",
   "metadata": {},
   "source": [
    "---\n",
    "## 2.3. Standardize table layout <a name=\"tablelayout\"></a>"
   ]
  },
  {
   "cell_type": "code",
   "execution_count": 34,
   "id": "80221d81-ce3d-4969-8da3-c933df625b8f",
   "metadata": {},
   "outputs": [],
   "source": [
    "pft_fcover = pd.concat(pft_fcover_dfs)"
   ]
  },
  {
   "cell_type": "code",
   "execution_count": 35,
   "id": "7294c744",
   "metadata": {},
   "outputs": [],
   "source": [
    "# list of necessary PFTs\n",
    "pfts = ['deciduous shrub', 'deciduous tree',\n",
    "        'evergreen shrub', 'evergreen tree',\n",
    "        'forb', 'graminoid', 'non-vascular',\n",
    "        'bryophyte', 'lichen', 'litter', 'other']"
   ]
  },
  {
   "cell_type": "code",
   "execution_count": 36,
   "id": "59d00eeb",
   "metadata": {},
   "outputs": [],
   "source": [
    "# add litter\n",
    "litter = litter.copy()\n",
    "litter.rename(columns={'Cover litter (%)': 'litter'}, inplace=True)\n",
    "pft_fcover = litter.merge(pft_fcover, how='left', left_index=True, right_index=True)"
   ]
  },
  {
   "cell_type": "code",
   "execution_count": 37,
   "id": "9c8de499",
   "metadata": {},
   "outputs": [],
   "source": [
    "# create non-vascular\n",
    "pft_fcover['non-vascular'] = pft_fcover['bryophyte'] + pft_fcover['lichen']"
   ]
  },
  {
   "cell_type": "code",
   "execution_count": 38,
   "id": "a088c358",
   "metadata": {},
   "outputs": [
    {
     "data": {
      "text/html": [
       "<div>\n",
       "<style scoped>\n",
       "    .dataframe tbody tr th:only-of-type {\n",
       "        vertical-align: middle;\n",
       "    }\n",
       "\n",
       "    .dataframe tbody tr th {\n",
       "        vertical-align: top;\n",
       "    }\n",
       "\n",
       "    .dataframe thead th {\n",
       "        text-align: right;\n",
       "    }\n",
       "</style>\n",
       "<table border=\"1\" class=\"dataframe\">\n",
       "  <thead>\n",
       "    <tr style=\"text-align: right;\">\n",
       "      <th></th>\n",
       "      <th>deciduous shrub</th>\n",
       "      <th>deciduous tree</th>\n",
       "      <th>evergreen shrub</th>\n",
       "      <th>evergreen tree</th>\n",
       "      <th>forb</th>\n",
       "      <th>graminoid</th>\n",
       "      <th>non-vascular</th>\n",
       "      <th>bryophyte</th>\n",
       "      <th>lichen</th>\n",
       "      <th>litter</th>\n",
       "      <th>other</th>\n",
       "    </tr>\n",
       "    <tr>\n",
       "      <th>plotName</th>\n",
       "      <th></th>\n",
       "      <th></th>\n",
       "      <th></th>\n",
       "      <th></th>\n",
       "      <th></th>\n",
       "      <th></th>\n",
       "      <th></th>\n",
       "      <th></th>\n",
       "      <th></th>\n",
       "      <th></th>\n",
       "      <th></th>\n",
       "    </tr>\n",
       "  </thead>\n",
       "  <tbody>\n",
       "    <tr>\n",
       "      <th>T5-025-T</th>\n",
       "      <td>1.10</td>\n",
       "      <td>NaN</td>\n",
       "      <td>0.0</td>\n",
       "      <td>NaN</td>\n",
       "      <td>0.55</td>\n",
       "      <td>75.00</td>\n",
       "      <td>6.55</td>\n",
       "      <td>6.55</td>\n",
       "      <td>0.0</td>\n",
       "      <td>NaN</td>\n",
       "      <td>NaN</td>\n",
       "    </tr>\n",
       "    <tr>\n",
       "      <th>T5-025-C</th>\n",
       "      <td>21.00</td>\n",
       "      <td>NaN</td>\n",
       "      <td>0.0</td>\n",
       "      <td>NaN</td>\n",
       "      <td>3.55</td>\n",
       "      <td>67.15</td>\n",
       "      <td>39.30</td>\n",
       "      <td>39.30</td>\n",
       "      <td>0.0</td>\n",
       "      <td>NaN</td>\n",
       "      <td>NaN</td>\n",
       "    </tr>\n",
       "    <tr>\n",
       "      <th>T5-050-T-B</th>\n",
       "      <td>0.55</td>\n",
       "      <td>NaN</td>\n",
       "      <td>0.0</td>\n",
       "      <td>NaN</td>\n",
       "      <td>0.55</td>\n",
       "      <td>3.55</td>\n",
       "      <td>87.05</td>\n",
       "      <td>87.05</td>\n",
       "      <td>0.0</td>\n",
       "      <td>NaN</td>\n",
       "      <td>NaN</td>\n",
       "    </tr>\n",
       "  </tbody>\n",
       "</table>\n",
       "</div>"
      ],
      "text/plain": [
       "            deciduous shrub  deciduous tree  evergreen shrub  evergreen tree  \\\n",
       "plotName                                                                       \n",
       "T5-025-T               1.10             NaN              0.0             NaN   \n",
       "T5-025-C              21.00             NaN              0.0             NaN   \n",
       "T5-050-T-B             0.55             NaN              0.0             NaN   \n",
       "\n",
       "            forb  graminoid  non-vascular  bryophyte  lichen litter  other  \n",
       "plotName                                                                    \n",
       "T5-025-T    0.55      75.00          6.55       6.55     0.0    NaN    NaN  \n",
       "T5-025-C    3.55      67.15         39.30      39.30     0.0    NaN    NaN  \n",
       "T5-050-T-B  0.55       3.55         87.05      87.05     0.0    NaN    NaN  "
      ]
     },
     "execution_count": 38,
     "metadata": {},
     "output_type": "execute_result"
    }
   ],
   "source": [
    "# create standard columns\n",
    "pft_fcover = spf.add_standard_cols(pft_fcover, pfts)\n",
    "pft_fcover = pft_fcover[pfts]\n",
    "pft_fcover.head(3)"
   ]
  },
  {
   "cell_type": "code",
   "execution_count": 39,
   "id": "98ffc798",
   "metadata": {},
   "outputs": [
    {
     "name": "stderr",
     "output_type": "stream",
     "text": [
      "/tmp/ipykernel_2707010/3988488299.py:5: FutureWarning: DataFrame.groupby with axis=1 is deprecated. Do `frame.T.groupby(...)` without axis instead.\n",
      "  non_veg = non_veg.groupby(lambda x:x, axis=1).sum()\n"
     ]
    },
    {
     "data": {
      "text/html": [
       "<div>\n",
       "<style scoped>\n",
       "    .dataframe tbody tr th:only-of-type {\n",
       "        vertical-align: middle;\n",
       "    }\n",
       "\n",
       "    .dataframe tbody tr th {\n",
       "        vertical-align: top;\n",
       "    }\n",
       "\n",
       "    .dataframe thead th {\n",
       "        text-align: right;\n",
       "    }\n",
       "</style>\n",
       "<table border=\"1\" class=\"dataframe\">\n",
       "  <thead>\n",
       "    <tr style=\"text-align: right;\">\n",
       "      <th></th>\n",
       "      <th>deciduous shrub</th>\n",
       "      <th>deciduous tree</th>\n",
       "      <th>evergreen shrub</th>\n",
       "      <th>evergreen tree</th>\n",
       "      <th>forb</th>\n",
       "      <th>graminoid</th>\n",
       "      <th>non-vascular</th>\n",
       "      <th>bryophyte</th>\n",
       "      <th>lichen</th>\n",
       "      <th>litter</th>\n",
       "      <th>other</th>\n",
       "      <th>bare ground</th>\n",
       "      <th>water</th>\n",
       "    </tr>\n",
       "    <tr>\n",
       "      <th>plotName</th>\n",
       "      <th></th>\n",
       "      <th></th>\n",
       "      <th></th>\n",
       "      <th></th>\n",
       "      <th></th>\n",
       "      <th></th>\n",
       "      <th></th>\n",
       "      <th></th>\n",
       "      <th></th>\n",
       "      <th></th>\n",
       "      <th></th>\n",
       "      <th></th>\n",
       "      <th></th>\n",
       "    </tr>\n",
       "  </thead>\n",
       "  <tbody>\n",
       "    <tr>\n",
       "      <th>T5-025-T</th>\n",
       "      <td>1.10</td>\n",
       "      <td>NaN</td>\n",
       "      <td>0.0</td>\n",
       "      <td>NaN</td>\n",
       "      <td>0.55</td>\n",
       "      <td>75.00</td>\n",
       "      <td>6.55</td>\n",
       "      <td>6.55</td>\n",
       "      <td>0.0</td>\n",
       "      <td>NaN</td>\n",
       "      <td>NaN</td>\n",
       "      <td>0.0</td>\n",
       "      <td>0.0</td>\n",
       "    </tr>\n",
       "    <tr>\n",
       "      <th>T5-025-C</th>\n",
       "      <td>21.00</td>\n",
       "      <td>NaN</td>\n",
       "      <td>0.0</td>\n",
       "      <td>NaN</td>\n",
       "      <td>3.55</td>\n",
       "      <td>67.15</td>\n",
       "      <td>39.30</td>\n",
       "      <td>39.30</td>\n",
       "      <td>0.0</td>\n",
       "      <td>NaN</td>\n",
       "      <td>NaN</td>\n",
       "      <td>5.0</td>\n",
       "      <td>0.0</td>\n",
       "    </tr>\n",
       "    <tr>\n",
       "      <th>T5-050-T-B</th>\n",
       "      <td>0.55</td>\n",
       "      <td>NaN</td>\n",
       "      <td>0.0</td>\n",
       "      <td>NaN</td>\n",
       "      <td>0.55</td>\n",
       "      <td>3.55</td>\n",
       "      <td>87.05</td>\n",
       "      <td>87.05</td>\n",
       "      <td>0.0</td>\n",
       "      <td>NaN</td>\n",
       "      <td>NaN</td>\n",
       "      <td>0.0</td>\n",
       "      <td>0.0</td>\n",
       "    </tr>\n",
       "  </tbody>\n",
       "</table>\n",
       "</div>"
      ],
      "text/plain": [
       "            deciduous shrub  deciduous tree  evergreen shrub  evergreen tree  \\\n",
       "plotName                                                                       \n",
       "T5-025-T               1.10             NaN              0.0             NaN   \n",
       "T5-025-C              21.00             NaN              0.0             NaN   \n",
       "T5-050-T-B             0.55             NaN              0.0             NaN   \n",
       "\n",
       "            forb  graminoid  non-vascular  bryophyte  lichen litter  other  \\\n",
       "plotName                                                                     \n",
       "T5-025-T    0.55      75.00          6.55       6.55     0.0    NaN    NaN   \n",
       "T5-025-C    3.55      67.15         39.30      39.30     0.0    NaN    NaN   \n",
       "T5-050-T-B  0.55       3.55         87.05      87.05     0.0    NaN    NaN   \n",
       "\n",
       "            bare ground  water  \n",
       "plotName                        \n",
       "T5-025-T            0.0    0.0  \n",
       "T5-025-C            5.0    0.0  \n",
       "T5-050-T-B          0.0    0.0  "
      ]
     },
     "execution_count": 39,
     "metadata": {},
     "output_type": "execute_result"
    }
   ],
   "source": [
    "# add non-vegetation\n",
    "non_veg = non_veg.rename(columns={'Cover bare soil (%)':'bare ground',\n",
    "                       'Cover rock (%)':'bare ground',\n",
    "                       'Cover water (%)':'water'})\n",
    "non_veg = non_veg.groupby(lambda x:x, axis=1).sum()\n",
    "pft_fcover = pft_fcover.merge(non_veg, how='left', left_index=True, right_index=True)\n",
    "pft_fcover.head(3)"
   ]
  },
  {
   "cell_type": "markdown",
   "id": "62a236d0",
   "metadata": {},
   "source": [
    "---\n",
    "## 2.4. Standardize auxiliary columns <a name=\"aux\"></a>"
   ]
  },
  {
   "cell_type": "markdown",
   "id": "b9f9c4e8",
   "metadata": {},
   "source": [
    "Plot information:\n",
    "- [ ] UID\n",
    "- [x] plotName\n",
    "- [x] dataSource\n",
    "- [x] dataSubsource\n",
    "- [x] fcoverScale\n",
    "- [x] surveyMethod\n",
    "- [x] surveyPurpose\n",
    "- [x] duplicatedCoords\n",
    "- [x] duplicatedDate\n",
    "- [x] surveyYear\n",
    "- [x] surveyMonth\n",
    "- [x] surveyDay\n",
    "\n",
    "Geographical information:\n",
    "- [x] bioclimateSubzone\n",
    "- [x] adminCountry\n",
    "- [x] adminUnit\n",
    "- [x] fireYears\n",
    "- [x] coordEpsg\n",
    "- [x] georefSource\n",
    "- [x] georefAccuracy\n",
    "- [x] plotRadius\n",
    "- [x] longitueX\n",
    "- [x] latitudeY"
   ]
  },
  {
   "cell_type": "code",
   "execution_count": 40,
   "id": "9c160b80",
   "metadata": {},
   "outputs": [],
   "source": [
    "# sampling methods, coverscale, data source\n",
    "methods_path = '../etc/sampling_methods.csv'\n",
    "methods = pd.read_csv(methods_path)"
   ]
  },
  {
   "cell_type": "markdown",
   "id": "7cd7931b-fd38-451e-9e8c-e10a360bbff3",
   "metadata": {},
   "source": [
    "### 2.4.1. Basic plot information <a name=\"basics\"></a>"
   ]
  },
  {
   "cell_type": "code",
   "execution_count": 41,
   "id": "439dd8a7-0bcf-4f91-adb9-98d4745a69ef",
   "metadata": {},
   "outputs": [],
   "source": [
    "def extract_datetime(val):\n",
    "    num = int(val)\n",
    "    string = str(num)\n",
    "    if len(string) == 8:\n",
    "        year = string[0:4]\n",
    "        month = string[4:6]\n",
    "        day = string[6:8]\n",
    "    elif len(string) == 6:\n",
    "        year = string[0:4]\n",
    "        month = string[4:6]\n",
    "        day = np.nan\n",
    "    elif len(string) == 4:\n",
    "        year = string[0:4]\n",
    "        month = np.nan\n",
    "        day = np.nan   \n",
    "    else:\n",
    "        year = np.nan\n",
    "        month = np.nan\n",
    "        day = np.nan      \n",
    "    return year, month, day"
   ]
  },
  {
   "cell_type": "code",
   "execution_count": 42,
   "id": "707d3c91-54e2-4382-99cd-cb86472ad06d",
   "metadata": {},
   "outputs": [
    {
     "data": {
      "text/plain": [
       "array(['square', 'linear/band-forming', 'irregular'], dtype=object)"
      ]
     },
     "execution_count": 42,
     "metadata": {},
     "output_type": "execute_result"
    }
   ],
   "source": [
    "aux['Releve shape'].unique()"
   ]
  },
  {
   "cell_type": "code",
   "execution_count": 43,
   "id": "e67aa26b-a120-41cc-95b2-d2eebefe606a",
   "metadata": {},
   "outputs": [],
   "source": [
    "new_aux = pd.DataFrame()\n",
    "\n",
    "# date columns\n",
    "new_aux[['surveyYear', 'surveyMonth', 'surveyDay']] = aux['Date (yyyymmdd)'].apply(extract_datetime).apply(pd.Series)\n",
    "\n",
    "# plot size\n",
    "aux['Releve area (m2)'].replace(-1, np.NaN)\n",
    "\n",
    "# Calculate plotArea and adjust plotShape\n",
    "def calculate_plot_size(row):\n",
    "    try:\n",
    "        area = float(row['Releve area (m2)']) if pd.notna(row['Releve area (m2)']) else np.NaN\n",
    "    except ValueError:\n",
    "        return row  # Return the row as-is if casting fails\n",
    "    \n",
    "    shape = row['Releve shape']\n",
    "    \n",
    "    if pd.isna(area):\n",
    "        row['plotShape'] = shape if pd.notna(shape) else np.NaN\n",
    "        row['plotArea'] = np.NaN  # Handle NaN area\n",
    "    else:\n",
    "        row['plotArea'] = area  # Always store area in plotArea\n",
    "        \n",
    "        # Determine the shape based on the provided value\n",
    "        if shape == 'circle':\n",
    "            row['plotShape'] = 'circle'\n",
    "        elif shape == 'square':\n",
    "            row['plotShape'] = 'square'\n",
    "        else:\n",
    "            row['plotShape'] = shape\n",
    "    \n",
    "    return row\n",
    "\n",
    "# Apply calculations and update columns\n",
    "updated_aux = aux.apply(calculate_plot_size, axis=1)\n",
    "\n",
    "# Extract and assign the final columns\n",
    "new_aux['plotArea'] = updated_aux['plotArea']\n",
    "new_aux['plotShape'] = updated_aux['plotShape']\n",
    "\n",
    "# geographical information\n",
    "new_aux['latitudeY'] = aux['Latitude (decimal degrees)']\n",
    "new_aux['longitudeX'] = aux['Longitude (decimal degrees)']\n",
    "new_aux['georefSource'] = aux['Georeference source']\n",
    "new_aux['georefAccuracy'] = aux['Georeference accuracy (m)'].astype('Float32')\n",
    "new_aux['coordEPSG'] = 'EPSG:4326'\n",
    "\n",
    "# main\n",
    "new_aux['plotName'] = aux['plotName']\n",
    "new_aux['dataSubsource'] = aux['Dataset'].apply(lambda name: name.replace('_', ' '))\n",
    "new_aux['dataSubsource'] = new_aux['dataSubsource'].apply(lambda name: re.sub(r'\\([^)]*\\)', '', name))\n",
    "new_aux['dataSubsource'] = new_aux['dataSubsource'].apply(lambda name: name.strip())"
   ]
  },
  {
   "cell_type": "code",
   "execution_count": 44,
   "id": "9f675864-4d4b-4488-8a4b-25bef0e58ec7",
   "metadata": {},
   "outputs": [
    {
     "data": {
      "text/plain": [
       "array(['square', 'linear/band-forming', 'irregular'], dtype=object)"
      ]
     },
     "execution_count": 44,
     "metadata": {},
     "output_type": "execute_result"
    }
   ],
   "source": [
    "new_aux['plotShape'].unique()"
   ]
  },
  {
   "cell_type": "code",
   "execution_count": 45,
   "id": "a17b4a48-b9d4-477a-9ff9-95dffcb214d5",
   "metadata": {},
   "outputs": [
    {
     "name": "stderr",
     "output_type": "stream",
     "text": [
      "/tmp/ipykernel_2707010/1816956801.py:2: FutureWarning: A value is trying to be set on a copy of a DataFrame or Series through chained assignment using an inplace method.\n",
      "The behavior will change in pandas 3.0. This inplace method will never work because the intermediate object on which we are setting values always behaves as a copy.\n",
      "\n",
      "For example, when doing 'df[col].method(value, inplace=True)', try using 'df.method({col: value}, inplace=True)' or df[col] = df[col].method(value) instead, to perform the operation inplace on the original object.\n",
      "\n",
      "\n",
      "  new_aux['dataSubsource'].replace({'Prudhoe Bay Airport ArcSEES Donald Walker':'Prudhoe Bay Airport ArcSEES Walker (pub 2016)',\n"
     ]
    }
   ],
   "source": [
    "# adjust data subsource names\n",
    "new_aux['dataSubsource'].replace({'Prudhoe Bay Airport ArcSEES Donald Walker':'Prudhoe Bay Airport ArcSEES Walker (pub 2016)',\n",
    "                                  'Prudhoe ArcSEES road study Donald Walker':'Prudhoe ArcSEES road study Walker (pub 2015)',\n",
    "                                  'Flux Tower Zona Scott Davidson':'Flux Tower Zona Davidson (pub 2016)',\n",
    "                                  'Barrow DOE NGEE Victoria Sloan':'Barrow DOE NGEE Sloan (pub 2014)',\n",
    "                                  'Atqasuk Vera Komarkova':'Atqasuk Villarreal (pub 2013)',\n",
    "                                  'Barrow IBP Tundra Biome Pat Webber':'Barrow IBP Tundra Biome Villarreal (pub 2012)'}, inplace=True)"
   ]
  },
  {
   "cell_type": "code",
   "execution_count": 46,
   "id": "6e2ea667-22a6-4d20-a1f2-ea134559a9b6",
   "metadata": {},
   "outputs": [],
   "source": [
    "new_aux = new_aux.merge(methods, how='left', left_on='dataSubsource', right_on='dataSubsource')\n",
    "new_aux = new_aux.set_index(new_aux['plotName'])"
   ]
  },
  {
   "cell_type": "markdown",
   "id": "4bbf4212",
   "metadata": {},
   "source": [
    "### 2.4.2. Geographical intersections <a name=\"geo\"></a>"
   ]
  },
  {
   "cell_type": "code",
   "execution_count": 47,
   "id": "96e15567-9803-4813-b0ff-f78d75971450",
   "metadata": {},
   "outputs": [],
   "source": [
    "# set geo info\n",
    "geo_paths = ['../etc/gaul1/gaul1_asap.shp',\n",
    "             '../etc/fire/InterAgencyFirePerimeterHistory_All_Years_View.shp',\n",
    "             '../etc/bioclim/bioclimate_la_latlon.shp']\n",
    "geo_names = ['gaul1',\n",
    "             'fire',\n",
    "             'bioclim']\n",
    "geo_cols = [['name1', 'name0', 'geometry'],\n",
    "            ['FIRE_YEAR', 'geometry'],\n",
    "            ['zone', 'geometry']]"
   ]
  },
  {
   "cell_type": "code",
   "execution_count": 48,
   "id": "b3336526-f4c0-4879-a18c-49630d9cbdae",
   "metadata": {},
   "outputs": [],
   "source": [
    "# create geospatial information\n",
    "fcover_epsg = 'EPSG:4326' # wgs 84\n",
    "intersect_epsg = 'EPSG:5936' # alaska projected datum\n",
    "fcover_and_aux = pd.concat([pft_fcover, new_aux], join='inner', axis=1)\n",
    "fcover_and_aux = gpd.GeoDataFrame(fcover_and_aux, \n",
    "                                  geometry=gpd.points_from_xy(fcover_and_aux['longitudeX'],\n",
    "                                                              fcover_and_aux['latitudeY']),\n",
    "                                  crs=fcover_epsg)\n",
    "fcover_and_aux = fcover_and_aux.to_crs(intersect_epsg)\n",
    "\n",
    "# add new geospatial intersections\n",
    "fcover_and_aux = spf.add_geospatial_aux(fcover_and_aux, \n",
    "                                        geo_paths, \n",
    "                                        geo_names, \n",
    "                                        geo_cols,\n",
    "                                        intersect_epsg)\n",
    "\n",
    "# drop unneccesary columns\n",
    "fcover_and_aux = fcover_and_aux.drop(columns=['index_gaul1', \n",
    "                                              'index_fire', \n",
    "                                              'index_bioclim', \n",
    "                                              'plotName'])"
   ]
  },
  {
   "cell_type": "code",
   "execution_count": 49,
   "id": "579bc83c-8523-4baa-91b6-f970566ff765",
   "metadata": {},
   "outputs": [],
   "source": [
    "# rename new columns\n",
    "fcover_and_aux.rename(columns={'name1':'adminUnit',\n",
    "                               'name0':'adminCountry',\n",
    "                               'FIRE_YEAR':'fireYears',\n",
    "                               'zone':'bioclimSubzone'}, inplace=True)"
   ]
  },
  {
   "cell_type": "markdown",
   "id": "a64b01e9",
   "metadata": {},
   "source": [
    "### 2.4.3. Duplicate coordinates <a name=\"dupes\"></a>\n",
    "This indicates that plots may have been revisited, they were very close and GPS accuracy was too low, or there is human error"
   ]
  },
  {
   "cell_type": "code",
   "execution_count": 50,
   "id": "bb99da23-4ace-42ae-b2a5-c9d398ff5667",
   "metadata": {},
   "outputs": [
    {
     "name": "stdout",
     "output_type": "stream",
     "text": [
      "duplicates found\n",
      "duplicates found\n"
     ]
    }
   ],
   "source": [
    "# duplicate coord column\n",
    "coords = ['longitudeX', 'latitudeY']\n",
    "fcover_and_aux['duplicatedCoords'] = np.nan\n",
    "fcover_and_aux = spf.find_duplicates(fcover_and_aux, coords, 'duplicatedCoords')\n",
    "\n",
    "# duplicate date column\n",
    "date = ['surveyYear', 'surveyMonth', 'surveyDay']\n",
    "fcover_and_aux['duplicatedDate'] = np.nan\n",
    "fcover_and_aux = spf.find_duplicates(fcover_and_aux, date, 'duplicatedDate')"
   ]
  },
  {
   "cell_type": "markdown",
   "id": "181d15a7-a8b1-49cf-a654-f496ed3d1402",
   "metadata": {},
   "source": [
    "---\n",
    "# 3. Export <a name=\"export\"></a>"
   ]
  },
  {
   "cell_type": "code",
   "execution_count": 51,
   "id": "5ec55dd5-c574-42b0-b913-b870c7ac3855",
   "metadata": {},
   "outputs": [],
   "source": [
    "# clean up\n",
    "pfts = {'deciduous shrub':'deciduousShrubCover',\n",
    "        'evergreen shrub':'evergreenShrubCover',\n",
    "        'deciduous tree':'deciduousTreeCover',\n",
    "        'evergreen tree':'evergreenTreeCover',\n",
    "        'forb':'forbCover',\n",
    "        'graminoid':'graminoidCover',\n",
    "        'non-vascular':'nonvascularSumCover',\n",
    "        'bryophyte':'bryophyteCover',\n",
    "        'lichen':'lichenCover',\n",
    "        'litter':'litterCover',\n",
    "        'bare ground':'baregroundCover',\n",
    "        'water':'waterCover',\n",
    "        'other':'otherCover'}\n",
    "\n",
    "# rename columns\n",
    "fcover_and_aux.rename(columns=pfts, inplace=True)\n",
    "fcover_cols = list(pfts.values())\n",
    "\n",
    "# reproject and set cover data type\n",
    "fcover_and_aux = fcover_and_aux.to_crs('EPSG:4326')\n",
    "fcover_and_aux[fcover_cols] = fcover_and_aux[fcover_cols].astype(np.float32)\n",
    "fcover_and_aux.index.name = 'plotName'"
   ]
  },
  {
   "cell_type": "code",
   "execution_count": 52,
   "id": "aedd7062-aec5-4225-b4a4-087ddb5dd9e5",
   "metadata": {},
   "outputs": [
    {
     "data": {
      "text/plain": [
       "Index(['deciduousShrubCover', 'deciduousTreeCover', 'evergreenShrubCover',\n",
       "       'evergreenTreeCover', 'forbCover', 'graminoidCover',\n",
       "       'nonvascularSumCover', 'bryophyteCover', 'lichenCover', 'litterCover',\n",
       "       'otherCover', 'baregroundCover', 'waterCover', 'surveyYear',\n",
       "       'surveyMonth', 'surveyDay', 'plotArea', 'plotShape', 'latitudeY',\n",
       "       'longitudeX', 'georefSource', 'georefAccuracy', 'coordEPSG',\n",
       "       'dataSubsource', 'dataSource', 'dataSourceHtml',\n",
       "       'dataSubsourceCitation', 'surveyMethod', 'fcoverScale', 'surveyPurpose',\n",
       "       'geometry', 'adminUnit', 'adminCountry', 'fireYears', 'bioclimSubzone',\n",
       "       'duplicatedCoords', 'duplicatedDate'],\n",
       "      dtype='object')"
      ]
     },
     "execution_count": 52,
     "metadata": {},
     "output_type": "execute_result"
    }
   ],
   "source": [
    "fcover_and_aux.columns"
   ]
  },
  {
   "cell_type": "code",
   "execution_count": 53,
   "id": "bf159ba9-e80b-4f14-9d46-383ff1e09ddf",
   "metadata": {},
   "outputs": [],
   "source": [
    "# Export cover data\n",
    "covercols = [col for col in fcover_and_aux.columns if 'Cover' in col]\n",
    "auxcols = [col for col in fcover_and_aux.columns if 'Cover' not in col]\n",
    "pft_fcover = fcover_and_aux[covercols]\n",
    "pft_fcover.to_csv(f'output_data/{source}_standard_pft_fcover.csv')\n",
    "\n",
    "# Export aux data\n",
    "pft_aux = fcover_and_aux[auxcols]\n",
    "pft_aux.to_csv(f'output_data/{source}_plot_info.csv')"
   ]
  },
  {
   "cell_type": "code",
   "execution_count": null,
   "id": "12317627-a3c2-48e7-b22b-fb959bd0cf48",
   "metadata": {},
   "outputs": [],
   "source": []
  }
 ],
 "metadata": {
  "kernelspec": {
   "display_name": "Python 3 (ipykernel)",
   "language": "python",
   "name": "python3"
  },
  "language_info": {
   "codemirror_mode": {
    "name": "ipython",
    "version": 3
   },
   "file_extension": ".py",
   "mimetype": "text/x-python",
   "name": "python",
   "nbconvert_exporter": "python",
   "pygments_lexer": "ipython3",
   "version": "3.10.16"
  }
 },
 "nbformat": 4,
 "nbformat_minor": 5
}
