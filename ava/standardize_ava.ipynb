{
 "cells": [
  {
   "cell_type": "markdown",
   "id": "2d2f2be4",
   "metadata": {},
   "source": [
    "# AVA Standardization Notebook\n",
    "---\n",
    "---"
   ]
  },
  {
   "cell_type": "markdown",
   "id": "1e3b45bb-486a-46a0-abcb-3b62b091c629",
   "metadata": {},
   "source": [
    "# Table of contents\n",
    "1. [PRE-PROCESSING](#preprocess)\n",
    "    1. [Select post-2010 data](#post2010)\n",
    "    2. [Select Alaskan tundra data](#aktundra)\n",
    "    3. [Access data](#dataaccess)\n",
    "        1. [Auxiliary data](#auxdata)\n",
    "        2. [Non-foliar fcover data](#nonfoliar)\n",
    "        3. [Foliar fcover data](#foliar)\n",
    "    4. [Join fcover to species checklist table](#joinchecklist)\n",
    "    5. [Join fcover to leaf retention table](#joinleafretention)\n",
    "    6. [Export species-PFT tables](#exporthabits)\n",
    "    7. [Clean exported species-PFT tables](#cleanhabits)\n",
    "2. [STANDARDIZATION](#standardization)\n",
    "    1. [Standardize PFT names](#pftnames)\n",
    "    2. [Sum species fcover to PFT-level](#sumfcover)\n",
    "    3. [Standardize table layout](#tablelayout)\n",
    "    4. [Standardize auxiliary columns](#aux)\n",
    "        1. [Basic plot information](#basics)\n",
    "        2. [Geographical intersections](#geo)\n",
    "        3. [Duplicate coordinates](#dupes)\n",
    "3. [EXPORT](#export)"
   ]
  },
  {
   "cell_type": "markdown",
   "id": "ffea5950",
   "metadata": {},
   "source": [
    "# Load required packages"
   ]
  },
  {
   "cell_type": "code",
   "execution_count": 70,
   "id": "e0a5f5a9",
   "metadata": {},
   "outputs": [],
   "source": [
    "import geopandas as gpd\n",
    "import pandas as pd\n",
    "import numpy as np\n",
    "from pyogrio import read_dataframe\n",
    "import glob\n",
    "import geopandas as gpd\n",
    "import sys\n",
    "import os\n",
    "import chardet\n",
    "import regex as re\n",
    "import importlib"
   ]
  },
  {
   "cell_type": "code",
   "execution_count": 71,
   "id": "8ab065c9-05f7-4b11-a0d4-5f37af4bbfa7",
   "metadata": {},
   "outputs": [
    {
     "data": {
      "text/plain": [
       "<module 'standardize_pft_funcs' from '/mnt/poseidon/remotesensing/arctic/alaska_pft_fcover_harmonization/standardize_pft_funcs.py'>"
      ]
     },
     "execution_count": 71,
     "metadata": {},
     "output_type": "execute_result"
    }
   ],
   "source": [
    "# import local functions\n",
    "current_dir = os.path.abspath('..')\n",
    "if current_dir not in sys.path:\n",
    "    sys.path.append(current_dir)\n",
    "import standardize_pft_funcs as spf\n",
    "importlib.reload(spf)"
   ]
  },
  {
   "cell_type": "markdown",
   "id": "8c8b841c",
   "metadata": {},
   "source": [
    "---\n",
    "---\n",
    "# 1. Pre-processing <a name=\"preprocess\"></a>\n",
    "After visually inspecting each species-level fcover table for obvious errors, we saved the \"cleaned\" tables to a folder that we then standardized here."
   ]
  },
  {
   "cell_type": "code",
   "execution_count": 72,
   "id": "203286ae",
   "metadata": {},
   "outputs": [],
   "source": [
    "# throughout the script this will help keep my indices matching\n",
    "def normalize_to_int_str(val):\n",
    "    try:\n",
    "        f = float(val)\n",
    "        i = int(f)\n",
    "        if f == i:\n",
    "            return str(i)\n",
    "    except (ValueError, TypeError):\n",
    "        pass\n",
    "    return str(val)"
   ]
  },
  {
   "cell_type": "code",
   "execution_count": 73,
   "id": "8d7a3e71-184b-45d8-83fc-c414769d553c",
   "metadata": {},
   "outputs": [],
   "source": [
    "source = 'ava'"
   ]
  },
  {
   "cell_type": "markdown",
   "id": "c769f68e",
   "metadata": {},
   "source": [
    "---\n",
    "## 1.3. Access data  <a name=\"dataaccess\"></a>"
   ]
  },
  {
   "cell_type": "markdown",
   "id": "18a1bbc7-97d6-4aa1-9f4d-fecb2caff4a4",
   "metadata": {},
   "source": [
    "### 1.3.1. Auxiliary data  <a name=\"auxdata\"></a>"
   ]
  },
  {
   "cell_type": "code",
   "execution_count": 74,
   "id": "bf4add5e",
   "metadata": {},
   "outputs": [],
   "source": [
    "# read .xlsx table data stored on local machine\n",
    "aux_data_path = f'input_data/ava_ancillary_data.xlsx'\n",
    "aux_data = read_dataframe(aux_data_path)\n",
    "aux_data = aux_data.tail(-1)"
   ]
  },
  {
   "cell_type": "code",
   "execution_count": 75,
   "id": "5663d0ad",
   "metadata": {},
   "outputs": [
    {
     "name": "stderr",
     "output_type": "stream",
     "text": [
      "/tmp/ipykernel_2417623/24606776.py:6: FutureWarning: Downcasting behavior in `replace` is deprecated and will be removed in a future version. To retain the old behavior, explicitly call `result.infer_objects(copy=False)`. To opt-in to the future behavior, set `pd.set_option('future.no_silent_downcasting', True)`\n",
      "  aux_data.replace(na_values, np.nan, inplace=True)\n"
     ]
    }
   ],
   "source": [
    "# set the plot visit name, plot name, and no-data values\n",
    "aux_data.rename(columns={'Field releve number':'plotName'}, inplace=True)\n",
    "aux_data.rename(columns={'Releve number':'plotVisit'}, inplace=True)\n",
    "aux_data.index = aux_data['plotVisit'].apply(normalize_to_int_str)\n",
    "na_values=[-9, -9.0, '-9', '-9.0', -1, '-1', 'None', 'NONE', None]\n",
    "aux_data.replace(na_values, np.nan, inplace=True)"
   ]
  },
  {
   "cell_type": "code",
   "execution_count": 76,
   "id": "36e89213",
   "metadata": {},
   "outputs": [
    {
     "name": "stdout",
     "output_type": "stream",
     "text": [
      "Total number of plot visits in aux data: 3639\n",
      "Number of unique plot visits in aux data: 3639\n"
     ]
    }
   ],
   "source": [
    "# ensure that plot visit names are unique\n",
    "print(f'Total number of plot visits in aux data: {len(aux_data.index)}')\n",
    "print(f'Number of unique plot visits in aux data: {len(aux_data.index.unique())}')"
   ]
  },
  {
   "cell_type": "code",
   "execution_count": 77,
   "id": "63960f31",
   "metadata": {},
   "outputs": [],
   "source": [
    "# extract columns that DO NOT have \"cover\" in the name; this is auxiliary info\n",
    "aux_cols = [col for col in aux_data.columns if 'Cover' not in col]\n",
    "aux = aux_data[aux_cols].copy()"
   ]
  },
  {
   "cell_type": "markdown",
   "id": "8a373802-b324-4551-ab03-05f1201ac98e",
   "metadata": {},
   "source": [
    "### 1.3.2. Non-foliar fcover data  <a name=\"nonfoliar\"></a>"
   ]
  },
  {
   "cell_type": "code",
   "execution_count": 78,
   "id": "0f264f2b",
   "metadata": {},
   "outputs": [],
   "source": [
    "# extract columns with \"cover\" in the name; these contain the fcover data\n",
    "cover_cols = [col for col in aux_data.columns if 'Cover' in col]\n",
    "fcover = aux_data[cover_cols].copy()\n",
    "fcover.drop(columns=['Cover abundance scale'], inplace=True) # not fcover"
   ]
  },
  {
   "cell_type": "code",
   "execution_count": 79,
   "id": "cbea2654-7dab-43cf-aecf-16473f53374c",
   "metadata": {},
   "outputs": [],
   "source": [
    "# extract non-vegetation fcover columns\n",
    "etc = ['Cover bare soil (%)','Cover rock (%)','Cover water (%)']\n",
    "non_veg = fcover[etc]\n",
    "litter = fcover[['Cover litter (%)']]\n",
    "\n",
    "# Remove the stuff we pulled out\n",
    "etc.append('Cover litter (%)')\n",
    "fcover.drop(columns=etc, inplace=True)"
   ]
  },
  {
   "cell_type": "markdown",
   "id": "8adf9b45",
   "metadata": {},
   "source": [
    "### 1.3.3. Foliar fcover data  <a name=\"foliar\"></a>"
   ]
  },
  {
   "cell_type": "code",
   "execution_count": 80,
   "id": "e5024a90",
   "metadata": {},
   "outputs": [],
   "source": [
    "# get paths to tables\n",
    "species_csv_paths = sorted(glob.glob(f'input_data/ava_cover_tables/*.csv'))"
   ]
  },
  {
   "cell_type": "code",
   "execution_count": 81,
   "id": "64949700",
   "metadata": {},
   "outputs": [
    {
     "name": "stdout",
     "output_type": "stream",
     "text": [
      "['perc', 'perc', 'brbl', 'brbl', 'perc', 'perc', 'perc', 'perc', 'brbl', 'brbl', 'brbl', 'brbl', 'brbl', 'perc', 'brbl', 'hs', 'brbl', 'wv', 'perc', 'brbl', 'brbl', 'brbl', 'perc', 'perc', 'brbl', 'hs', 'wv', 'brbl']\n"
     ]
    }
   ],
   "source": [
    "# load tables in pandas; not all tables have known encoding\n",
    "fcover_dfs = []\n",
    "for path in species_csv_paths:\n",
    "    with open(path, 'rb') as file:\n",
    "        # dynamically detect file encoding because it is not consistent\n",
    "        result = chardet.detect(file.read())\n",
    "    df = pd.read_csv(path, encoding=result['encoding'], \n",
    "                     na_values=[-9, -9.0, '-9', '-9.0', 'None', 'NONE', None])\n",
    "    fcover_dfs.append(df)\n",
    "fcover_dfs[3].head(3)\n",
    "\n",
    "# get fcover types from file names\n",
    "cover_types = []\n",
    "basenames = [os.path.basename(path) for path in species_csv_paths]\n",
    "for name in basenames:\n",
    "    cover_type = name.split('_')[-2]\n",
    "    cover_types.append(cover_type)\n",
    "print(cover_types)"
   ]
  },
  {
   "cell_type": "code",
   "execution_count": 82,
   "id": "cbf81d3c",
   "metadata": {},
   "outputs": [
    {
     "name": "stdout",
     "output_type": "stream",
     "text": [
      "Total number of plot visits in fcover data: 3153\n",
      "Total number of unique plot visits in fcover data: 3153\n"
     ]
    }
   ],
   "source": [
    "# ensure plot visit names are unique\n",
    "visit_names = []\n",
    "num_plots = []\n",
    "for df in fcover_dfs:\n",
    "    nums = len(df.columns) - 3\n",
    "    num_plots.append(nums)\n",
    "    plot_names = df.columns[3:]\n",
    "    visit_names.append(plot_names.to_list())\n",
    "unique_names = [name for sublist in visit_names for name in sublist]\n",
    "print(f'Total number of plot visits in fcover data: {sum(num_plots)}')\n",
    "print(f'Total number of unique plot visits in fcover data: {len(set(unique_names))}')"
   ]
  },
  {
   "cell_type": "code",
   "execution_count": 83,
   "id": "7a412b1a",
   "metadata": {},
   "outputs": [
    {
     "name": "stdout",
     "output_type": "stream",
     "text": [
      "1900\n"
     ]
    }
   ],
   "source": [
    "# get unique species names from all tables\n",
    "species_names = []\n",
    "for df in fcover_dfs: \n",
    "    names = df.iloc[:, 0] # first col without author\n",
    "    for name in names:\n",
    "        if pd.notnull(name):\n",
    "            species_names.append(name)\n",
    "u_species_names = list(set(species_names))\n",
    "\n",
    "print(len(u_species_names))\n",
    "species_names_df = pd.DataFrame(u_species_names, columns=['datasetSpeciesName'])"
   ]
  },
  {
   "cell_type": "markdown",
   "id": "aba5f9c4",
   "metadata": {},
   "source": [
    "---\n",
    "## 1.4. Join fcover to species checklist table <a name=\"joinchecklist\"></a>"
   ]
  },
  {
   "cell_type": "code",
   "execution_count": 84,
   "id": "6b909227",
   "metadata": {},
   "outputs": [
    {
     "data": {
      "text/html": [
       "<div>\n",
       "<style scoped>\n",
       "    .dataframe tbody tr th:only-of-type {\n",
       "        vertical-align: middle;\n",
       "    }\n",
       "\n",
       "    .dataframe tbody tr th {\n",
       "        vertical-align: top;\n",
       "    }\n",
       "\n",
       "    .dataframe thead th {\n",
       "        text-align: right;\n",
       "    }\n",
       "</style>\n",
       "<table border=\"1\" class=\"dataframe\">\n",
       "  <thead>\n",
       "    <tr style=\"text-align: right;\">\n",
       "      <th></th>\n",
       "      <th>nameCode</th>\n",
       "      <th>checklistSpeciesName</th>\n",
       "      <th>nameStatus</th>\n",
       "      <th>nameAccepted</th>\n",
       "      <th>nameFamily</th>\n",
       "      <th>acceptedNameSource</th>\n",
       "      <th>nameLevel</th>\n",
       "      <th>speciesForm</th>\n",
       "      <th>speciesHabit</th>\n",
       "    </tr>\n",
       "  </thead>\n",
       "  <tbody>\n",
       "    <tr>\n",
       "      <th>0</th>\n",
       "      <td>abroth</td>\n",
       "      <td>Abrothallus De Not.</td>\n",
       "      <td>accepted</td>\n",
       "      <td>Abrothallus De Not.</td>\n",
       "      <td>Abrothallaceae</td>\n",
       "      <td>CNALH</td>\n",
       "      <td>genus</td>\n",
       "      <td>lichen</td>\n",
       "      <td>lichen</td>\n",
       "    </tr>\n",
       "    <tr>\n",
       "      <th>1</th>\n",
       "      <td>abrpar</td>\n",
       "      <td>Abrothallus parmeliarum (Sommerf.) Arnold</td>\n",
       "      <td>accepted</td>\n",
       "      <td>Abrothallus parmeliarum (Sommerf.) Arnold</td>\n",
       "      <td>Abrothallaceae</td>\n",
       "      <td>CNALH</td>\n",
       "      <td>species</td>\n",
       "      <td>lichen</td>\n",
       "      <td>lichen</td>\n",
       "    </tr>\n",
       "    <tr>\n",
       "      <th>2</th>\n",
       "      <td>abrpey</td>\n",
       "      <td>Abrothallus peyritschii (Stein) Kotte</td>\n",
       "      <td>accepted</td>\n",
       "      <td>Abrothallus peyritschii (Stein) Kotte</td>\n",
       "      <td>Abrothallaceae</td>\n",
       "      <td>Dillman et al. 2012</td>\n",
       "      <td>species</td>\n",
       "      <td>lichen</td>\n",
       "      <td>lichen</td>\n",
       "    </tr>\n",
       "  </tbody>\n",
       "</table>\n",
       "</div>"
      ],
      "text/plain": [
       "  nameCode                       checklistSpeciesName nameStatus  \\\n",
       "0   abroth                        Abrothallus De Not.   accepted   \n",
       "1   abrpar  Abrothallus parmeliarum (Sommerf.) Arnold   accepted   \n",
       "2   abrpey      Abrothallus peyritschii (Stein) Kotte   accepted   \n",
       "\n",
       "                                nameAccepted      nameFamily  \\\n",
       "0                        Abrothallus De Not.  Abrothallaceae   \n",
       "1  Abrothallus parmeliarum (Sommerf.) Arnold  Abrothallaceae   \n",
       "2      Abrothallus peyritschii (Stein) Kotte  Abrothallaceae   \n",
       "\n",
       "    acceptedNameSource nameLevel speciesForm speciesHabit  \n",
       "0                CNALH     genus      lichen       lichen  \n",
       "1                CNALH   species      lichen       lichen  \n",
       "2  Dillman et al. 2012   species      lichen       lichen  "
      ]
     },
     "execution_count": 84,
     "metadata": {},
     "output_type": "execute_result"
    }
   ],
   "source": [
    "# load species checklist and prep for joining\n",
    "checklist_path = '../etc/akveg_species_checklist.csv'\n",
    "checklist_df = spf.checklist_df(checklist_path)\n",
    "checklist_df.head(3)"
   ]
  },
  {
   "cell_type": "code",
   "execution_count": 85,
   "id": "b1a63e49",
   "metadata": {},
   "outputs": [
    {
     "data": {
      "text/html": [
       "<div>\n",
       "<style scoped>\n",
       "    .dataframe tbody tr th:only-of-type {\n",
       "        vertical-align: middle;\n",
       "    }\n",
       "\n",
       "    .dataframe tbody tr th {\n",
       "        vertical-align: top;\n",
       "    }\n",
       "\n",
       "    .dataframe thead th {\n",
       "        text-align: right;\n",
       "    }\n",
       "</style>\n",
       "<table border=\"1\" class=\"dataframe\">\n",
       "  <thead>\n",
       "    <tr style=\"text-align: right;\">\n",
       "      <th></th>\n",
       "      <th>datasetSpeciesName</th>\n",
       "    </tr>\n",
       "  </thead>\n",
       "  <tbody>\n",
       "    <tr>\n",
       "      <th>0</th>\n",
       "      <td>Artemisia borealis</td>\n",
       "    </tr>\n",
       "    <tr>\n",
       "      <th>1</th>\n",
       "      <td>Triglochin maritima</td>\n",
       "    </tr>\n",
       "    <tr>\n",
       "      <th>2</th>\n",
       "      <td>Valeriana capitata</td>\n",
       "    </tr>\n",
       "  </tbody>\n",
       "</table>\n",
       "</div>"
      ],
      "text/plain": [
       "    datasetSpeciesName\n",
       "0   Artemisia borealis\n",
       "1  Triglochin maritima\n",
       "2   Valeriana capitata"
      ]
     },
     "execution_count": 85,
     "metadata": {},
     "output_type": "execute_result"
    }
   ],
   "source": [
    "species_names_df.head(3)"
   ]
  },
  {
   "cell_type": "code",
   "execution_count": 86,
   "id": "284d8254",
   "metadata": {},
   "outputs": [
    {
     "name": "stdout",
     "output_type": "stream",
     "text": [
      "468 species are missing habits.\n",
      "248 species still missing habits.\n",
      "53 species still missing habits.\n",
      "49 species still missing habits.\n"
     ]
    },
    {
     "data": {
      "text/html": [
       "<div>\n",
       "<style scoped>\n",
       "    .dataframe tbody tr th:only-of-type {\n",
       "        vertical-align: middle;\n",
       "    }\n",
       "\n",
       "    .dataframe tbody tr th {\n",
       "        vertical-align: top;\n",
       "    }\n",
       "\n",
       "    .dataframe thead th {\n",
       "        text-align: right;\n",
       "    }\n",
       "</style>\n",
       "<table border=\"1\" class=\"dataframe\">\n",
       "  <thead>\n",
       "    <tr style=\"text-align: right;\">\n",
       "      <th></th>\n",
       "      <th>datasetSpeciesName</th>\n",
       "      <th>joinKey</th>\n",
       "      <th>speciesHabit</th>\n",
       "    </tr>\n",
       "    <tr>\n",
       "      <th>index</th>\n",
       "      <th></th>\n",
       "      <th></th>\n",
       "      <th></th>\n",
       "    </tr>\n",
       "  </thead>\n",
       "  <tbody>\n",
       "    <tr>\n",
       "      <th>0</th>\n",
       "      <td>Artemisia borealis</td>\n",
       "      <td>Artemisia borealis</td>\n",
       "      <td>forb</td>\n",
       "    </tr>\n",
       "    <tr>\n",
       "      <th>1</th>\n",
       "      <td>Triglochin maritima</td>\n",
       "      <td>Triglochin maritima</td>\n",
       "      <td>graminoid</td>\n",
       "    </tr>\n",
       "    <tr>\n",
       "      <th>2</th>\n",
       "      <td>Valeriana capitata</td>\n",
       "      <td>Valeriana capitata</td>\n",
       "      <td>forb</td>\n",
       "    </tr>\n",
       "  </tbody>\n",
       "</table>\n",
       "</div>"
      ],
      "text/plain": [
       "        datasetSpeciesName              joinKey speciesHabit\n",
       "index                                                       \n",
       "0       Artemisia borealis   Artemisia borealis         forb\n",
       "1      Triglochin maritima  Triglochin maritima    graminoid\n",
       "2       Valeriana capitata   Valeriana capitata         forb"
      ]
     },
     "execution_count": 86,
     "metadata": {},
     "output_type": "execute_result"
    }
   ],
   "source": [
    "# get first 2 words (genus-species) from checklist accepted name and data species name\n",
    "checklist_df['joinKey'] = checklist_df['checklistSpeciesName'].apply(spf.get_substrings)\n",
    "species_names_df['joinKey'] = species_names_df['datasetSpeciesName'].apply(spf.get_substrings)\n",
    "habits = spf.join_to_checklist(unique_species=species_names_df, \n",
    "                               checklist=checklist_df, \n",
    "                               u_name='datasetSpeciesName', \n",
    "                               c_unofficial_name='checklistSpeciesName', \n",
    "                               c_official_name='nameAccepted', \n",
    "                               mapping_name='joinKey',\n",
    "                               habit='speciesHabit')\n",
    "habits.head(3)"
   ]
  },
  {
   "cell_type": "code",
   "execution_count": 87,
   "id": "0b0264dd",
   "metadata": {},
   "outputs": [
    {
     "data": {
      "text/html": [
       "<div>\n",
       "<style scoped>\n",
       "    .dataframe tbody tr th:only-of-type {\n",
       "        vertical-align: middle;\n",
       "    }\n",
       "\n",
       "    .dataframe tbody tr th {\n",
       "        vertical-align: top;\n",
       "    }\n",
       "\n",
       "    .dataframe thead th {\n",
       "        text-align: right;\n",
       "    }\n",
       "</style>\n",
       "<table border=\"1\" class=\"dataframe\">\n",
       "  <thead>\n",
       "    <tr style=\"text-align: right;\">\n",
       "      <th></th>\n",
       "      <th>datasetSpeciesName</th>\n",
       "      <th>joinKey</th>\n",
       "    </tr>\n",
       "  </thead>\n",
       "  <tbody>\n",
       "    <tr>\n",
       "      <th>0</th>\n",
       "      <td>Artemisia borealis</td>\n",
       "      <td>Artemisia borealis</td>\n",
       "    </tr>\n",
       "    <tr>\n",
       "      <th>1</th>\n",
       "      <td>Triglochin maritima</td>\n",
       "      <td>Triglochin maritima</td>\n",
       "    </tr>\n",
       "    <tr>\n",
       "      <th>2</th>\n",
       "      <td>Valeriana capitata</td>\n",
       "      <td>Valeriana capitata</td>\n",
       "    </tr>\n",
       "  </tbody>\n",
       "</table>\n",
       "</div>"
      ],
      "text/plain": [
       "    datasetSpeciesName              joinKey\n",
       "0   Artemisia borealis   Artemisia borealis\n",
       "1  Triglochin maritima  Triglochin maritima\n",
       "2   Valeriana capitata   Valeriana capitata"
      ]
     },
     "execution_count": 87,
     "metadata": {},
     "output_type": "execute_result"
    }
   ],
   "source": [
    "species_names_df.head(3)"
   ]
  },
  {
   "cell_type": "code",
   "execution_count": 88,
   "id": "13263160",
   "metadata": {},
   "outputs": [],
   "source": [
    "habits = species_names_df.merge(habits, how='left', left_on='datasetSpeciesName', right_on='datasetSpeciesName', suffixes=(None, '_1'))\n",
    "habits = habits[['joinKey', 'datasetSpeciesName', 'speciesHabit']]"
   ]
  },
  {
   "cell_type": "markdown",
   "id": "f865fa98",
   "metadata": {},
   "source": [
    "---\n",
    "## 1.5. Join fcover to leaf retention table <a name=\"joinleafretention\"></a>"
   ]
  },
  {
   "cell_type": "code",
   "execution_count": 89,
   "id": "925a5a13",
   "metadata": {},
   "outputs": [
    {
     "data": {
      "text/html": [
       "<div>\n",
       "<style scoped>\n",
       "    .dataframe tbody tr th:only-of-type {\n",
       "        vertical-align: middle;\n",
       "    }\n",
       "\n",
       "    .dataframe tbody tr th {\n",
       "        vertical-align: top;\n",
       "    }\n",
       "\n",
       "    .dataframe thead th {\n",
       "        text-align: right;\n",
       "    }\n",
       "</style>\n",
       "<table border=\"1\" class=\"dataframe\">\n",
       "  <thead>\n",
       "    <tr style=\"text-align: right;\">\n",
       "      <th></th>\n",
       "      <th>leafRetention</th>\n",
       "      <th>retentionSpeciesName</th>\n",
       "    </tr>\n",
       "  </thead>\n",
       "  <tbody>\n",
       "    <tr>\n",
       "      <th>0</th>\n",
       "      <td>deciduous</td>\n",
       "      <td>Salix</td>\n",
       "    </tr>\n",
       "    <tr>\n",
       "      <th>1</th>\n",
       "      <td>deciduous</td>\n",
       "      <td>Betula nana</td>\n",
       "    </tr>\n",
       "    <tr>\n",
       "      <th>2</th>\n",
       "      <td>deciduous</td>\n",
       "      <td>Vaccinium uliginosum</td>\n",
       "    </tr>\n",
       "  </tbody>\n",
       "</table>\n",
       "</div>"
      ],
      "text/plain": [
       "  leafRetention  retentionSpeciesName\n",
       "0     deciduous                 Salix\n",
       "1     deciduous           Betula nana\n",
       "2     deciduous  Vaccinium uliginosum"
      ]
     },
     "execution_count": 89,
     "metadata": {},
     "output_type": "execute_result"
    }
   ],
   "source": [
    "# load leaf retention table and clean\n",
    "path = '../etc/macander_leaf_retention.csv'\n",
    "leaf_ret = spf.leaf_retention_df(path)\n",
    "leaf_ret.head(3)"
   ]
  },
  {
   "cell_type": "code",
   "execution_count": 90,
   "id": "a00ccec6",
   "metadata": {},
   "outputs": [
    {
     "data": {
      "text/html": [
       "<div>\n",
       "<style scoped>\n",
       "    .dataframe tbody tr th:only-of-type {\n",
       "        vertical-align: middle;\n",
       "    }\n",
       "\n",
       "    .dataframe tbody tr th {\n",
       "        vertical-align: top;\n",
       "    }\n",
       "\n",
       "    .dataframe thead th {\n",
       "        text-align: right;\n",
       "    }\n",
       "</style>\n",
       "<table border=\"1\" class=\"dataframe\">\n",
       "  <thead>\n",
       "    <tr style=\"text-align: right;\">\n",
       "      <th></th>\n",
       "      <th>datasetSpeciesName</th>\n",
       "      <th>joinKey</th>\n",
       "      <th>speciesHabit</th>\n",
       "      <th>leafRetention</th>\n",
       "    </tr>\n",
       "  </thead>\n",
       "  <tbody>\n",
       "    <tr>\n",
       "      <th>0</th>\n",
       "      <td>Artemisia borealis</td>\n",
       "      <td>Artemisia borealis</td>\n",
       "      <td>forb</td>\n",
       "      <td></td>\n",
       "    </tr>\n",
       "    <tr>\n",
       "      <th>1</th>\n",
       "      <td>Triglochin maritima</td>\n",
       "      <td>Triglochin maritima</td>\n",
       "      <td>graminoid</td>\n",
       "      <td></td>\n",
       "    </tr>\n",
       "    <tr>\n",
       "      <th>2</th>\n",
       "      <td>Valeriana capitata</td>\n",
       "      <td>Valeriana capitata</td>\n",
       "      <td>forb</td>\n",
       "      <td></td>\n",
       "    </tr>\n",
       "  </tbody>\n",
       "</table>\n",
       "</div>"
      ],
      "text/plain": [
       "    datasetSpeciesName              joinKey speciesHabit leafRetention\n",
       "0   Artemisia borealis   Artemisia borealis         forb              \n",
       "1  Triglochin maritima  Triglochin maritima    graminoid              \n",
       "2   Valeriana capitata   Valeriana capitata         forb              "
      ]
     },
     "execution_count": 90,
     "metadata": {},
     "output_type": "execute_result"
    }
   ],
   "source": [
    "# add leaf retention column\n",
    "habits_wleaf = spf.add_leaf_retention(habits, leaf_ret, 'leafRetention')\n",
    "habits_wleaf = habits_wleaf[['datasetSpeciesName', 'joinKey', 'speciesHabit', 'leafRetention']]\n",
    "habits_wleaf.head(3)"
   ]
  },
  {
   "cell_type": "code",
   "execution_count": 91,
   "id": "ca056f2b",
   "metadata": {},
   "outputs": [
    {
     "data": {
      "text/plain": [
       "['forb',\n",
       " 'graminoid',\n",
       " 'moss',\n",
       " 'shrub',\n",
       " 'lichen',\n",
       " 'liverwort',\n",
       " 'spore-bearing',\n",
       " nan,\n",
       " 'deciduous tree',\n",
       " 'coniferous tree']"
      ]
     },
     "execution_count": 91,
     "metadata": {},
     "output_type": "execute_result"
    }
   ],
   "source": [
    "# apply function\n",
    "habits_wleaf['speciesHabit'] = habits_wleaf['speciesHabit'].apply(spf.clean_shrub_habits)\n",
    "list(habits_wleaf['speciesHabit'].unique())"
   ]
  },
  {
   "cell_type": "markdown",
   "id": "e05b0452",
   "metadata": {},
   "source": [
    "---\n",
    "## 1.6. Export species-PFT tables <a name=\"exporthabits\"></a>"
   ]
  },
  {
   "cell_type": "code",
   "execution_count": 92,
   "id": "f03a4a2a-979c-456a-a41b-832d3543706c",
   "metadata": {},
   "outputs": [],
   "source": [
    "# generate 3 files and dataframe of habit types\n",
    "shrubs, nonshrubs, null = spf.export_habit_files(habits_wleaf,\n",
    "                                                 'temp_data', \n",
    "                                                 source, \n",
    "                                                 'speciesHabit')"
   ]
  },
  {
   "cell_type": "code",
   "execution_count": 93,
   "id": "024a0f2f",
   "metadata": {},
   "outputs": [
    {
     "data": {
      "text/plain": [
       "True"
      ]
     },
     "execution_count": 93,
     "metadata": {},
     "output_type": "execute_result"
    }
   ],
   "source": [
    "# check to make sure the files make sense\n",
    "len(habits_wleaf) == (len(null) + len(nonshrubs) + len(shrubs))"
   ]
  },
  {
   "cell_type": "markdown",
   "id": "0a74280d",
   "metadata": {},
   "source": [
    "---\n",
    "## 1.7. Clean exported species-PFT tables <a name=\"cleanhabits\"></a>\n",
    "Here, we manually assessed each file. The nonshrubs were usually correct and did not have to be adjusted. Some shrubs were missing leaf retention information, so we consulted with arctic ecologists to determine it. For unknown (null) habits, we consulted arctic ecology expert, Amy Breen, to determine the issue and correct habit. After the tables were complete, all species names had a single associated habit.\n",
    "- null habits\n",
    "    - assign missing habits and consult ecologist when needed\n",
    "- non-shrubs\n",
    "    - assign leaf habit to all trees (ctrl-f to find all trees in excel)\n",
    "        - coniferous tree = evergreen\n",
    "        - deciduous tree  = deciduous\n",
    "    - remove leaf habit if misapplied\n",
    "- shrubs\n",
    "    - check current leaf habits and correct if necessary\n",
    "    - fill empty leaf habits\n",
    "    - choose leaf habit if both evergreen & deciduous listed\n",
    "    - add Stature column (dwarf shrub or not)"
   ]
  },
  {
   "cell_type": "markdown",
   "id": "07c141e1",
   "metadata": {},
   "source": [
    "---\n",
    "---\n",
    "# 2. Standardization <a name=\"standardization\"></a>"
   ]
  },
  {
   "cell_type": "markdown",
   "id": "a9e4d1b9",
   "metadata": {},
   "source": [
    "---\n",
    "## 2.1. Standardize PFT names <a name=\"pftnames\"></a>\n",
    "deciduous shrub, evergreen shrub, graminoid, forb, litter, non-vascular (lichen, brophyte)"
   ]
  },
  {
   "cell_type": "code",
   "execution_count": 94,
   "id": "fdf122cc-21c0-45d3-ad2f-e0ab4eafeca5",
   "metadata": {},
   "outputs": [],
   "source": [
    "# paths to visually assessed and cleaned habit files\n",
    "all_habit_types = [f'temp_data/{source}_nonshrubs_01.csv',\n",
    "                   f'temp_data/{source}_shrubs_01.csv',\n",
    "                   f'temp_data/{source}_nullhabit_01.csv']\n",
    "\n",
    "# create list of habit dataframes\n",
    "habit_dfs = []\n",
    "for path in all_habit_types:\n",
    "    habit_df = pd.read_csv(path, index_col=0)\n",
    "    habit_dfs.append(habit_df)\n",
    "all_habits = pd.concat(habit_dfs)"
   ]
  },
  {
   "cell_type": "code",
   "execution_count": 95,
   "id": "d9ffe33b",
   "metadata": {},
   "outputs": [
    {
     "data": {
      "text/plain": [
       "['moss',\n",
       " 'lichen',\n",
       " 'forb',\n",
       " 'graminoid',\n",
       " 'liverwort',\n",
       " 'spore-bearing',\n",
       " 'deciduous tree',\n",
       " 'coniferous tree',\n",
       " 'shrub',\n",
       " 'cyanobacteria',\n",
       " 'algae',\n",
       " 'bryophyte',\n",
       " 'fungus',\n",
       " 'crust']"
      ]
     },
     "execution_count": 95,
     "metadata": {},
     "output_type": "execute_result"
    }
   ],
   "source": [
    "# show unique habit names we're working with\n",
    "all_habits['speciesHabit'].unique().tolist()"
   ]
  },
  {
   "cell_type": "code",
   "execution_count": 96,
   "id": "7099ddc6",
   "metadata": {},
   "outputs": [],
   "source": [
    "# ava-specific habit name standardization function\n",
    "def standardize_habit(habitrow, leafrow):\n",
    "    \n",
    "    habitrow = habitrow.to_numpy()\n",
    "    leafrow = leafrow.to_numpy()\n",
    "    new_row = []\n",
    "    \n",
    "    for habit, leaf in zip(habitrow, leafrow):\n",
    "        \n",
    "        habit = habit.lower()\n",
    "        # non-shrubs\n",
    "        if 'algae' in habit or 'cyanobacteria' in habit or 'crust' in habit or 'fungus' in habit:\n",
    "            new_habit = 'other'\n",
    "        elif habit == np.nan or 'unknown' in habit:\n",
    "            new_habit = 'other'\n",
    "        elif 'moss' in habit or 'liverwort' in habit:\n",
    "            new_habit = 'bryophyte'\n",
    "        elif 'spore-bearing' in habit:\n",
    "            new_habit = 'forb'\n",
    "        elif 'grass' in habit:\n",
    "            new_habit = 'graminoid'\n",
    "            \n",
    "        # shrubs and trees\n",
    "        elif 'shrub' in habit:\n",
    "            new_habit = f'{leaf} shrub'\n",
    "        elif 'tree' in habit:\n",
    "            new_habit = f'{leaf} tree'\n",
    "            \n",
    "        else:\n",
    "            new_habit = f'{habit}'\n",
    "        new_row.append(new_habit)\n",
    "    \n",
    "    return new_row"
   ]
  },
  {
   "cell_type": "code",
   "execution_count": 97,
   "id": "c8a28a7d",
   "metadata": {},
   "outputs": [
    {
     "name": "stdout",
     "output_type": "stream",
     "text": [
      "1900\n"
     ]
    },
    {
     "data": {
      "text/html": [
       "<div>\n",
       "<style scoped>\n",
       "    .dataframe tbody tr th:only-of-type {\n",
       "        vertical-align: middle;\n",
       "    }\n",
       "\n",
       "    .dataframe tbody tr th {\n",
       "        vertical-align: top;\n",
       "    }\n",
       "\n",
       "    .dataframe thead th {\n",
       "        text-align: right;\n",
       "    }\n",
       "</style>\n",
       "<table border=\"1\" class=\"dataframe\">\n",
       "  <thead>\n",
       "    <tr style=\"text-align: right;\">\n",
       "      <th></th>\n",
       "      <th>datasetSpeciesName</th>\n",
       "      <th>joinKey</th>\n",
       "      <th>nonstandardHabit</th>\n",
       "      <th>leafRetention</th>\n",
       "      <th>speciesStature</th>\n",
       "      <th>standardHabit</th>\n",
       "    </tr>\n",
       "  </thead>\n",
       "  <tbody>\n",
       "    <tr>\n",
       "      <th>1281</th>\n",
       "      <td>Abietinella abietina</td>\n",
       "      <td>Abietinella abietina</td>\n",
       "      <td>moss</td>\n",
       "      <td>NaN</td>\n",
       "      <td>NaN</td>\n",
       "      <td>bryophyte</td>\n",
       "    </tr>\n",
       "    <tr>\n",
       "      <th>1582</th>\n",
       "      <td>Acarospora schleicheri</td>\n",
       "      <td>Acarospora schleicheri</td>\n",
       "      <td>lichen</td>\n",
       "      <td>NaN</td>\n",
       "      <td>NaN</td>\n",
       "      <td>lichen</td>\n",
       "    </tr>\n",
       "    <tr>\n",
       "      <th>1102</th>\n",
       "      <td>Achillea lanulosa</td>\n",
       "      <td>Achillea lanulosa</td>\n",
       "      <td>forb</td>\n",
       "      <td>NaN</td>\n",
       "      <td>NaN</td>\n",
       "      <td>forb</td>\n",
       "    </tr>\n",
       "  </tbody>\n",
       "</table>\n",
       "</div>"
      ],
      "text/plain": [
       "          datasetSpeciesName                 joinKey nonstandardHabit  \\\n",
       "1281    Abietinella abietina    Abietinella abietina             moss   \n",
       "1582  Acarospora schleicheri  Acarospora schleicheri           lichen   \n",
       "1102       Achillea lanulosa       Achillea lanulosa             forb   \n",
       "\n",
       "     leafRetention speciesStature standardHabit  \n",
       "1281           NaN            NaN     bryophyte  \n",
       "1582           NaN            NaN        lichen  \n",
       "1102           NaN            NaN          forb  "
      ]
     },
     "execution_count": 97,
     "metadata": {},
     "output_type": "execute_result"
    }
   ],
   "source": [
    "# standardized PFT\n",
    "standard_habit_col = standardize_habit(all_habits['speciesHabit'], \n",
    "                                       all_habits['leafRetention'])\n",
    "all_habits['standardHabit'] = standard_habit_col\n",
    "all_habits.rename(columns={'speciesHabit':'nonstandardHabit'}, inplace=True)\n",
    "print(len(all_habits))\n",
    "all_habits.head(3)"
   ]
  },
  {
   "cell_type": "markdown",
   "id": "dcf42ea6",
   "metadata": {},
   "source": [
    "---\n",
    "## 2.2. Sum species fcover to PFT-level <a name=\"sumfcover\"></a>"
   ]
  },
  {
   "cell_type": "code",
   "execution_count": 98,
   "id": "d92925b1",
   "metadata": {},
   "outputs": [],
   "source": [
    "def get_fcover_percent(dfs, cover_types, all_habits, habit_col, species_col):\n",
    "    \n",
    "    pft_fcover_tables = []\n",
    "    species_fcover_tables = []  # New dataset with plotName, speciesNameNoAuth, percentCover columns\n",
    "    \n",
    "    # loop through each fcover table\n",
    "    for df, cover_type in zip(dfs, cover_types):\n",
    "\n",
    "        def normalize_column_name(name):\n",
    "            try:\n",
    "                f = float(name)\n",
    "                i = int(f)\n",
    "                if f == i:\n",
    "                    return str(i)\n",
    "                else:\n",
    "                    return str(name)\n",
    "            except (ValueError, TypeError):\n",
    "                return str(name)\n",
    "\n",
    "        # rename first three columns manually\n",
    "        cols = df.columns.to_list()\n",
    "        cols[0] = 'speciesNameNoAuth'\n",
    "        cols[1] = 'speciesNameAccepted'\n",
    "        cols[2] = 'speciesName'\n",
    "\n",
    "        # normalize the remaining column names (likely plot IDs)\n",
    "        cols[3:] = [normalize_column_name(c) for c in cols[3:]]\n",
    "        df.columns = cols\n",
    "\n",
    "        # get list of unique plot visit IDs\n",
    "        plot_id_cols = df.columns.to_list()[3:]\n",
    "\n",
    "        # get associated habit for each species\n",
    "        df = df.merge(all_habits[[species_col, 'standardHabit']], left_on='speciesNameNoAuth', right_on=species_col)\n",
    "\n",
    "        # br-bq to percentage conversion dict\n",
    "        # Wood 2013. EFFECTS OF PRESCRIBED BURNING ON GRASSLAND AVIFAUNA AT RIVERLANDS MIGRATORY BIRD SANCTUARY\n",
    "        bb_dict = {'r': 0.05, '+': 0.55, '1': 3.0, '2': 15.0, '3': 37.5, '4': 62.5, '5': 87.5, '-9': np.nan}\n",
    "        # Westoff converstion dict\n",
    "        wv_dict = {'1': 0.05, '2': 1.0, '3': 2.5, '4': 4.5, '5': 9.0, '6': 18.5, '7': 37.0, '8': 62.0, '9': 87.5}\n",
    "        # Hult-Serander conversion dict\n",
    "        hs_dict = {'+': 0.5, '1': 4.0, '2': 9.0, '3': 18.0, '4': 38.0, '5': 63.0, '6': 87.0}\n",
    "\n",
    "        # convert wv codes\n",
    "        if cover_type == 'wv':\n",
    "\n",
    "            # replace westoff-van den maarel code with percentage\n",
    "            df = df.astype(str)\n",
    "            for col in cols[3:]:\n",
    "                df.replace({col: wv_dict}, inplace=True)\n",
    "\n",
    "        # covert br-bl codes        \n",
    "        elif cover_type == 'brbl':\n",
    "\n",
    "            # replace br-bl code with percentage\n",
    "            df = df.astype(str)\n",
    "            for col in cols[3:]:\n",
    "                df.replace({col: bb_dict}, inplace=True)\n",
    "\n",
    "        elif cover_type == 'hs':\n",
    "\n",
    "            # replace hs code with percentage\n",
    "            df = df.astype(str)\n",
    "            for col in cols[3:]:\n",
    "                df.replace({col: hs_dict}, inplace=True)\n",
    "\n",
    "        # if already percent\n",
    "        else:\n",
    "            df = df.astype(str)\n",
    "\n",
    "        # clean % data\n",
    "        fcover = df.drop(columns=['speciesNameNoAuth', 'speciesNameAccepted', 'speciesName', species_col])\n",
    "        fcover = fcover.loc[:, fcover.columns != habit_col].replace(' ', np.nan, regex=True)\n",
    "        fcover = fcover.loc[:, fcover.columns != habit_col].replace('', np.nan, regex=True)\n",
    "        fcover = fcover.loc[:, fcover.columns != habit_col].replace('\\*', np.nan, regex=True)\n",
    "        fcover = fcover.loc[:, fcover.columns != habit_col].astype(float)\n",
    "\n",
    "        # add back the standard habit column\n",
    "        fcover = fcover.copy()\n",
    "        fcover[habit_col] = df[habit_col] # replace codes with new fcover %\n",
    "\n",
    "        # loop through each plot and sum fcover per pft\n",
    "        pft_fcover = fcover.groupby(by=[habit_col]).sum().T\n",
    "        pft_fcover.index = plot_id_cols\n",
    "        pft_fcover_tables.append(pft_fcover)\n",
    "        \n",
    "        # Reshape the dataset to match the desired structure\n",
    "        df_melted = df.melt(id_vars=['speciesNameNoAuth'], value_vars=plot_id_cols, var_name='plotVisit', value_name='percentCover')\n",
    "        \n",
    "        # Replace problematic values and convert percentCover to float\n",
    "        df_melted['percentCover'] = pd.to_numeric(df_melted['percentCover'], errors='coerce').fillna(np.nan)\n",
    "        df_melted['plotVisit'] = df_melted['plotVisit']\n",
    "        \n",
    "        species_fcover_tables.append(df_melted[['plotVisit', 'speciesNameNoAuth', 'percentCover']])\n",
    "    \n",
    "    return pft_fcover_tables, species_fcover_tables"
   ]
  },
  {
   "cell_type": "code",
   "execution_count": 99,
   "id": "74990767",
   "metadata": {},
   "outputs": [],
   "source": [
    "# this section is working on ALL plot data\n",
    "pft_fcover_dfs, species_fcover_dfs = get_fcover_percent(fcover_dfs, cover_types, all_habits, \n",
    "                                                        'standardHabit', 'datasetSpeciesName')"
   ]
  },
  {
   "cell_type": "code",
   "execution_count": 100,
   "id": "894a273b",
   "metadata": {},
   "outputs": [
    {
     "name": "stdout",
     "output_type": "stream",
     "text": [
      "Total number of plot visits in fcover data: 3153\n",
      "Total number of unique plot visits in fcover data: 3153\n"
     ]
    }
   ],
   "source": [
    "# check unique plot visits again to ensure it hasn't changed\n",
    "visit_names = []\n",
    "num_plots = []\n",
    "for df in pft_fcover_dfs:\n",
    "    nums = len(df.index)\n",
    "    num_plots.append(nums)\n",
    "    plot_names = df.index\n",
    "    visit_names.append(plot_names.to_list())\n",
    "unique_names = [name for sublist in visit_names for name in sublist]\n",
    "print(f'Total number of plot visits in fcover data: {sum(num_plots)}')\n",
    "print(f'Total number of unique plot visits in fcover data: {len(set(unique_names))}')"
   ]
  },
  {
   "cell_type": "code",
   "execution_count": 101,
   "id": "12384d35-521a-4508-87a3-9ab196a49d2c",
   "metadata": {},
   "outputs": [],
   "source": [
    "# add accepted name and standard habit to species level fcover\n",
    "all_habits = all_habits[['datasetSpeciesName', 'standardHabit', 'nonstandardHabit']]\n",
    "species_fcover = pd.concat(species_fcover_dfs)\n",
    "species_fcover = species_fcover.rename(columns={'speciesNameNoAuth':'datasetSpeciesName'})"
   ]
  },
  {
   "cell_type": "code",
   "execution_count": 102,
   "id": "9f1f244d",
   "metadata": {},
   "outputs": [
    {
     "data": {
      "text/html": [
       "<div>\n",
       "<style scoped>\n",
       "    .dataframe tbody tr th:only-of-type {\n",
       "        vertical-align: middle;\n",
       "    }\n",
       "\n",
       "    .dataframe tbody tr th {\n",
       "        vertical-align: top;\n",
       "    }\n",
       "\n",
       "    .dataframe thead th {\n",
       "        text-align: right;\n",
       "    }\n",
       "</style>\n",
       "<table border=\"1\" class=\"dataframe\">\n",
       "  <thead>\n",
       "    <tr style=\"text-align: right;\">\n",
       "      <th></th>\n",
       "      <th>datasetSpeciesName</th>\n",
       "      <th>standardHabit</th>\n",
       "      <th>nonstandardHabit</th>\n",
       "    </tr>\n",
       "  </thead>\n",
       "  <tbody>\n",
       "    <tr>\n",
       "      <th>1281</th>\n",
       "      <td>Abietinella abietina</td>\n",
       "      <td>bryophyte</td>\n",
       "      <td>moss</td>\n",
       "    </tr>\n",
       "    <tr>\n",
       "      <th>1582</th>\n",
       "      <td>Acarospora schleicheri</td>\n",
       "      <td>lichen</td>\n",
       "      <td>lichen</td>\n",
       "    </tr>\n",
       "    <tr>\n",
       "      <th>1102</th>\n",
       "      <td>Achillea lanulosa</td>\n",
       "      <td>forb</td>\n",
       "      <td>forb</td>\n",
       "    </tr>\n",
       "    <tr>\n",
       "      <th>1463</th>\n",
       "      <td>Achillea millefolium s. borealis</td>\n",
       "      <td>forb</td>\n",
       "      <td>forb</td>\n",
       "    </tr>\n",
       "    <tr>\n",
       "      <th>1394</th>\n",
       "      <td>Achillea millefolium subsp. borealis</td>\n",
       "      <td>forb</td>\n",
       "      <td>forb</td>\n",
       "    </tr>\n",
       "    <tr>\n",
       "      <th>...</th>\n",
       "      <td>...</td>\n",
       "      <td>...</td>\n",
       "      <td>...</td>\n",
       "    </tr>\n",
       "    <tr>\n",
       "      <th>1504</th>\n",
       "      <td>Unknown liverworts thalloid</td>\n",
       "      <td>bryophyte</td>\n",
       "      <td>liverwort</td>\n",
       "    </tr>\n",
       "    <tr>\n",
       "      <th>1494</th>\n",
       "      <td>Unknown liverworts thalloid</td>\n",
       "      <td>bryophyte</td>\n",
       "      <td>liverwort</td>\n",
       "    </tr>\n",
       "    <tr>\n",
       "      <th>1438</th>\n",
       "      <td>Unknown moss</td>\n",
       "      <td>bryophyte</td>\n",
       "      <td>moss</td>\n",
       "    </tr>\n",
       "    <tr>\n",
       "      <th>988</th>\n",
       "      <td>Unknown moss acrocarpous</td>\n",
       "      <td>bryophyte</td>\n",
       "      <td>moss</td>\n",
       "    </tr>\n",
       "    <tr>\n",
       "      <th>916</th>\n",
       "      <td>Unknown white crust</td>\n",
       "      <td>other</td>\n",
       "      <td>crust</td>\n",
       "    </tr>\n",
       "  </tbody>\n",
       "</table>\n",
       "<p>1900 rows × 3 columns</p>\n",
       "</div>"
      ],
      "text/plain": [
       "                         datasetSpeciesName standardHabit nonstandardHabit\n",
       "1281                   Abietinella abietina     bryophyte             moss\n",
       "1582                 Acarospora schleicheri        lichen           lichen\n",
       "1102                      Achillea lanulosa          forb             forb\n",
       "1463       Achillea millefolium s. borealis          forb             forb\n",
       "1394  Achillea millefolium subsp. borealis           forb             forb\n",
       "...                                     ...           ...              ...\n",
       "1504            Unknown liverworts thalloid     bryophyte        liverwort\n",
       "1494           Unknown liverworts thalloid      bryophyte        liverwort\n",
       "1438                           Unknown moss     bryophyte             moss\n",
       "988                Unknown moss acrocarpous     bryophyte             moss\n",
       "916                     Unknown white crust         other            crust\n",
       "\n",
       "[1900 rows x 3 columns]"
      ]
     },
     "execution_count": 102,
     "metadata": {},
     "output_type": "execute_result"
    }
   ],
   "source": [
    "all_habits"
   ]
  },
  {
   "cell_type": "code",
   "execution_count": 103,
   "id": "5a7c58db",
   "metadata": {},
   "outputs": [
    {
     "name": "stdout",
     "output_type": "stream",
     "text": [
      "Number of unique species in species_fcover: 1900\n",
      "Number of unique species in all_habits: 1900\n"
     ]
    }
   ],
   "source": [
    "u_species_fcover = len(species_fcover['datasetSpeciesName'].unique())\n",
    "u_all_habits = len(all_habits['datasetSpeciesName'].unique())\n",
    "print(f'Number of unique species in species_fcover: {u_species_fcover}')\n",
    "print(f'Number of unique species in all_habits: {u_all_habits}')"
   ]
  },
  {
   "cell_type": "code",
   "execution_count": 104,
   "id": "8c2a7fa0-6b47-4bde-a3ad-46f625ae8176",
   "metadata": {},
   "outputs": [
    {
     "name": "stdout",
     "output_type": "stream",
     "text": [
      "1900\n",
      "3153\n"
     ]
    },
    {
     "data": {
      "text/html": [
       "<div>\n",
       "<style scoped>\n",
       "    .dataframe tbody tr th:only-of-type {\n",
       "        vertical-align: middle;\n",
       "    }\n",
       "\n",
       "    .dataframe tbody tr th {\n",
       "        vertical-align: top;\n",
       "    }\n",
       "\n",
       "    .dataframe thead th {\n",
       "        text-align: right;\n",
       "    }\n",
       "</style>\n",
       "<table border=\"1\" class=\"dataframe\">\n",
       "  <thead>\n",
       "    <tr style=\"text-align: right;\">\n",
       "      <th></th>\n",
       "      <th>plotVisit</th>\n",
       "      <th>datasetSpeciesName</th>\n",
       "      <th>standardHabit</th>\n",
       "      <th>nonstandardHabit</th>\n",
       "      <th>percentCover</th>\n",
       "    </tr>\n",
       "  </thead>\n",
       "  <tbody>\n",
       "    <tr>\n",
       "      <th>0</th>\n",
       "      <td>11686</td>\n",
       "      <td>Abietinella abietina</td>\n",
       "      <td>bryophyte</td>\n",
       "      <td>moss</td>\n",
       "      <td>0.0</td>\n",
       "    </tr>\n",
       "    <tr>\n",
       "      <th>1</th>\n",
       "      <td>11686</td>\n",
       "      <td>Aconitum delphinifolium [s. delphinifolium]</td>\n",
       "      <td>forb</td>\n",
       "      <td>forb</td>\n",
       "      <td>0.0</td>\n",
       "    </tr>\n",
       "    <tr>\n",
       "      <th>2</th>\n",
       "      <td>11686</td>\n",
       "      <td>Aconogonon alaskanum</td>\n",
       "      <td>forb</td>\n",
       "      <td>forb</td>\n",
       "      <td>0.0</td>\n",
       "    </tr>\n",
       "  </tbody>\n",
       "</table>\n",
       "</div>"
      ],
      "text/plain": [
       "  plotVisit                           datasetSpeciesName standardHabit  \\\n",
       "0     11686                         Abietinella abietina     bryophyte   \n",
       "1     11686  Aconitum delphinifolium [s. delphinifolium]          forb   \n",
       "2     11686                         Aconogonon alaskanum          forb   \n",
       "\n",
       "  nonstandardHabit  percentCover  \n",
       "0             moss           0.0  \n",
       "1             forb           0.0  \n",
       "2             forb           0.0  "
      ]
     },
     "execution_count": 104,
     "metadata": {},
     "output_type": "execute_result"
    }
   ],
   "source": [
    "species_fcover = species_fcover.merge(all_habits, \n",
    "                                      left_on='datasetSpeciesName', \n",
    "                                      right_on='datasetSpeciesName')\n",
    "species_fcover = species_fcover[['plotVisit', 'datasetSpeciesName', 'standardHabit', \n",
    "                                 'nonstandardHabit', 'percentCover']]\n",
    "species_fcover['standardHabit'] = species_fcover['standardHabit']\n",
    "print(len(species_fcover['datasetSpeciesName'].unique()))\n",
    "print(len(species_fcover['plotVisit'].unique()))\n",
    "species_fcover.head(3)"
   ]
  },
  {
   "cell_type": "markdown",
   "id": "fd714f8b",
   "metadata": {},
   "source": [
    "---\n",
    "## 2.3. Standardize table layout <a name=\"tablelayout\"></a>"
   ]
  },
  {
   "cell_type": "code",
   "execution_count": 105,
   "id": "80221d81-ce3d-4969-8da3-c933df625b8f",
   "metadata": {},
   "outputs": [
    {
     "data": {
      "text/html": [
       "<div>\n",
       "<style scoped>\n",
       "    .dataframe tbody tr th:only-of-type {\n",
       "        vertical-align: middle;\n",
       "    }\n",
       "\n",
       "    .dataframe tbody tr th {\n",
       "        vertical-align: top;\n",
       "    }\n",
       "\n",
       "    .dataframe thead th {\n",
       "        text-align: right;\n",
       "    }\n",
       "</style>\n",
       "<table border=\"1\" class=\"dataframe\">\n",
       "  <thead>\n",
       "    <tr style=\"text-align: right;\">\n",
       "      <th>standardHabit</th>\n",
       "      <th>bryophyte</th>\n",
       "      <th>deciduous shrub</th>\n",
       "      <th>deciduous tree</th>\n",
       "      <th>evergreen shrub</th>\n",
       "      <th>evergreen tree</th>\n",
       "      <th>forb</th>\n",
       "      <th>graminoid</th>\n",
       "      <th>lichen</th>\n",
       "      <th>other</th>\n",
       "    </tr>\n",
       "  </thead>\n",
       "  <tbody>\n",
       "    <tr>\n",
       "      <th>11686</th>\n",
       "      <td>0.00</td>\n",
       "      <td>0.00</td>\n",
       "      <td>0.0</td>\n",
       "      <td>0.00</td>\n",
       "      <td>0.0</td>\n",
       "      <td>0.10</td>\n",
       "      <td>0.00</td>\n",
       "      <td>0.00</td>\n",
       "      <td>NaN</td>\n",
       "    </tr>\n",
       "    <tr>\n",
       "      <th>11687</th>\n",
       "      <td>0.00</td>\n",
       "      <td>2.00</td>\n",
       "      <td>0.0</td>\n",
       "      <td>0.00</td>\n",
       "      <td>0.0</td>\n",
       "      <td>2.20</td>\n",
       "      <td>10.00</td>\n",
       "      <td>0.00</td>\n",
       "      <td>NaN</td>\n",
       "    </tr>\n",
       "    <tr>\n",
       "      <th>11688</th>\n",
       "      <td>2.00</td>\n",
       "      <td>56.00</td>\n",
       "      <td>0.0</td>\n",
       "      <td>0.00</td>\n",
       "      <td>0.0</td>\n",
       "      <td>13.30</td>\n",
       "      <td>18.00</td>\n",
       "      <td>0.00</td>\n",
       "      <td>NaN</td>\n",
       "    </tr>\n",
       "    <tr>\n",
       "      <th>11689</th>\n",
       "      <td>3.10</td>\n",
       "      <td>85.00</td>\n",
       "      <td>0.0</td>\n",
       "      <td>1.00</td>\n",
       "      <td>0.0</td>\n",
       "      <td>7.30</td>\n",
       "      <td>16.00</td>\n",
       "      <td>0.00</td>\n",
       "      <td>NaN</td>\n",
       "    </tr>\n",
       "    <tr>\n",
       "      <th>11690</th>\n",
       "      <td>14.20</td>\n",
       "      <td>80.00</td>\n",
       "      <td>0.0</td>\n",
       "      <td>2.00</td>\n",
       "      <td>0.0</td>\n",
       "      <td>4.20</td>\n",
       "      <td>10.00</td>\n",
       "      <td>0.90</td>\n",
       "      <td>NaN</td>\n",
       "    </tr>\n",
       "    <tr>\n",
       "      <th>...</th>\n",
       "      <td>...</td>\n",
       "      <td>...</td>\n",
       "      <td>...</td>\n",
       "      <td>...</td>\n",
       "      <td>...</td>\n",
       "      <td>...</td>\n",
       "      <td>...</td>\n",
       "      <td>...</td>\n",
       "      <td>...</td>\n",
       "    </tr>\n",
       "    <tr>\n",
       "      <th>10508</th>\n",
       "      <td>66.60</td>\n",
       "      <td>33.00</td>\n",
       "      <td>NaN</td>\n",
       "      <td>0.00</td>\n",
       "      <td>NaN</td>\n",
       "      <td>18.30</td>\n",
       "      <td>2.75</td>\n",
       "      <td>5.20</td>\n",
       "      <td>NaN</td>\n",
       "    </tr>\n",
       "    <tr>\n",
       "      <th>10509</th>\n",
       "      <td>126.00</td>\n",
       "      <td>59.05</td>\n",
       "      <td>NaN</td>\n",
       "      <td>0.00</td>\n",
       "      <td>NaN</td>\n",
       "      <td>20.75</td>\n",
       "      <td>8.20</td>\n",
       "      <td>2.20</td>\n",
       "      <td>NaN</td>\n",
       "    </tr>\n",
       "    <tr>\n",
       "      <th>10510</th>\n",
       "      <td>61.50</td>\n",
       "      <td>63.15</td>\n",
       "      <td>NaN</td>\n",
       "      <td>0.00</td>\n",
       "      <td>NaN</td>\n",
       "      <td>18.30</td>\n",
       "      <td>36.55</td>\n",
       "      <td>10.95</td>\n",
       "      <td>NaN</td>\n",
       "    </tr>\n",
       "    <tr>\n",
       "      <th>10511</th>\n",
       "      <td>62.60</td>\n",
       "      <td>72.05</td>\n",
       "      <td>NaN</td>\n",
       "      <td>0.55</td>\n",
       "      <td>NaN</td>\n",
       "      <td>24.30</td>\n",
       "      <td>22.10</td>\n",
       "      <td>7.65</td>\n",
       "      <td>NaN</td>\n",
       "    </tr>\n",
       "    <tr>\n",
       "      <th>10512</th>\n",
       "      <td>54.55</td>\n",
       "      <td>66.05</td>\n",
       "      <td>NaN</td>\n",
       "      <td>0.55</td>\n",
       "      <td>NaN</td>\n",
       "      <td>16.10</td>\n",
       "      <td>1.10</td>\n",
       "      <td>3.85</td>\n",
       "      <td>NaN</td>\n",
       "    </tr>\n",
       "  </tbody>\n",
       "</table>\n",
       "<p>3153 rows × 9 columns</p>\n",
       "</div>"
      ],
      "text/plain": [
       "standardHabit  bryophyte  deciduous shrub  deciduous tree  evergreen shrub  \\\n",
       "11686               0.00             0.00             0.0             0.00   \n",
       "11687               0.00             2.00             0.0             0.00   \n",
       "11688               2.00            56.00             0.0             0.00   \n",
       "11689               3.10            85.00             0.0             1.00   \n",
       "11690              14.20            80.00             0.0             2.00   \n",
       "...                  ...              ...             ...              ...   \n",
       "10508              66.60            33.00             NaN             0.00   \n",
       "10509             126.00            59.05             NaN             0.00   \n",
       "10510              61.50            63.15             NaN             0.00   \n",
       "10511              62.60            72.05             NaN             0.55   \n",
       "10512              54.55            66.05             NaN             0.55   \n",
       "\n",
       "standardHabit  evergreen tree   forb  graminoid  lichen  other  \n",
       "11686                     0.0   0.10       0.00    0.00    NaN  \n",
       "11687                     0.0   2.20      10.00    0.00    NaN  \n",
       "11688                     0.0  13.30      18.00    0.00    NaN  \n",
       "11689                     0.0   7.30      16.00    0.00    NaN  \n",
       "11690                     0.0   4.20      10.00    0.90    NaN  \n",
       "...                       ...    ...        ...     ...    ...  \n",
       "10508                     NaN  18.30       2.75    5.20    NaN  \n",
       "10509                     NaN  20.75       8.20    2.20    NaN  \n",
       "10510                     NaN  18.30      36.55   10.95    NaN  \n",
       "10511                     NaN  24.30      22.10    7.65    NaN  \n",
       "10512                     NaN  16.10       1.10    3.85    NaN  \n",
       "\n",
       "[3153 rows x 9 columns]"
      ]
     },
     "execution_count": 105,
     "metadata": {},
     "output_type": "execute_result"
    }
   ],
   "source": [
    "pft_fcover = pd.concat(pft_fcover_dfs)\n",
    "pft_fcover"
   ]
  },
  {
   "cell_type": "code",
   "execution_count": 106,
   "id": "890597f9",
   "metadata": {},
   "outputs": [
    {
     "data": {
      "text/plain": [
       "True"
      ]
     },
     "execution_count": 106,
     "metadata": {},
     "output_type": "execute_result"
    }
   ],
   "source": [
    "pft_fcover.index.is_unique"
   ]
  },
  {
   "cell_type": "code",
   "execution_count": 107,
   "id": "7294c744",
   "metadata": {},
   "outputs": [],
   "source": [
    "# list of necessary PFTs\n",
    "pfts = ['deciduous shrub', 'deciduous tree',\n",
    "        'evergreen shrub', 'evergreen tree',\n",
    "        'forb', 'graminoid', 'non-vascular',\n",
    "        'bryophyte', 'lichen', 'litter', 'other']"
   ]
  },
  {
   "cell_type": "code",
   "execution_count": 108,
   "id": "59d00eeb",
   "metadata": {},
   "outputs": [
    {
     "name": "stdout",
     "output_type": "stream",
     "text": [
      "Litter plot visits: 3639\n"
     ]
    },
    {
     "data": {
      "text/html": [
       "<div>\n",
       "<style scoped>\n",
       "    .dataframe tbody tr th:only-of-type {\n",
       "        vertical-align: middle;\n",
       "    }\n",
       "\n",
       "    .dataframe tbody tr th {\n",
       "        vertical-align: top;\n",
       "    }\n",
       "\n",
       "    .dataframe thead th {\n",
       "        text-align: right;\n",
       "    }\n",
       "</style>\n",
       "<table border=\"1\" class=\"dataframe\">\n",
       "  <thead>\n",
       "    <tr style=\"text-align: right;\">\n",
       "      <th></th>\n",
       "      <th>bryophyte</th>\n",
       "      <th>deciduous shrub</th>\n",
       "      <th>deciduous tree</th>\n",
       "      <th>evergreen shrub</th>\n",
       "      <th>evergreen tree</th>\n",
       "      <th>forb</th>\n",
       "      <th>graminoid</th>\n",
       "      <th>lichen</th>\n",
       "      <th>other</th>\n",
       "      <th>litter</th>\n",
       "    </tr>\n",
       "  </thead>\n",
       "  <tbody>\n",
       "    <tr>\n",
       "      <th>11686</th>\n",
       "      <td>0.00</td>\n",
       "      <td>0.00</td>\n",
       "      <td>0.0</td>\n",
       "      <td>0.00</td>\n",
       "      <td>0.0</td>\n",
       "      <td>0.10</td>\n",
       "      <td>0.00</td>\n",
       "      <td>0.00</td>\n",
       "      <td>NaN</td>\n",
       "      <td>0</td>\n",
       "    </tr>\n",
       "    <tr>\n",
       "      <th>11687</th>\n",
       "      <td>0.00</td>\n",
       "      <td>2.00</td>\n",
       "      <td>0.0</td>\n",
       "      <td>0.00</td>\n",
       "      <td>0.0</td>\n",
       "      <td>2.20</td>\n",
       "      <td>10.00</td>\n",
       "      <td>0.00</td>\n",
       "      <td>NaN</td>\n",
       "      <td>15</td>\n",
       "    </tr>\n",
       "    <tr>\n",
       "      <th>11688</th>\n",
       "      <td>2.00</td>\n",
       "      <td>56.00</td>\n",
       "      <td>0.0</td>\n",
       "      <td>0.00</td>\n",
       "      <td>0.0</td>\n",
       "      <td>13.30</td>\n",
       "      <td>18.00</td>\n",
       "      <td>0.00</td>\n",
       "      <td>NaN</td>\n",
       "      <td>20</td>\n",
       "    </tr>\n",
       "    <tr>\n",
       "      <th>11689</th>\n",
       "      <td>3.10</td>\n",
       "      <td>85.00</td>\n",
       "      <td>0.0</td>\n",
       "      <td>1.00</td>\n",
       "      <td>0.0</td>\n",
       "      <td>7.30</td>\n",
       "      <td>16.00</td>\n",
       "      <td>0.00</td>\n",
       "      <td>NaN</td>\n",
       "      <td>50</td>\n",
       "    </tr>\n",
       "    <tr>\n",
       "      <th>11690</th>\n",
       "      <td>14.20</td>\n",
       "      <td>80.00</td>\n",
       "      <td>0.0</td>\n",
       "      <td>2.00</td>\n",
       "      <td>0.0</td>\n",
       "      <td>4.20</td>\n",
       "      <td>10.00</td>\n",
       "      <td>0.90</td>\n",
       "      <td>NaN</td>\n",
       "      <td>30</td>\n",
       "    </tr>\n",
       "    <tr>\n",
       "      <th>...</th>\n",
       "      <td>...</td>\n",
       "      <td>...</td>\n",
       "      <td>...</td>\n",
       "      <td>...</td>\n",
       "      <td>...</td>\n",
       "      <td>...</td>\n",
       "      <td>...</td>\n",
       "      <td>...</td>\n",
       "      <td>...</td>\n",
       "      <td>...</td>\n",
       "    </tr>\n",
       "    <tr>\n",
       "      <th>10508</th>\n",
       "      <td>66.60</td>\n",
       "      <td>33.00</td>\n",
       "      <td>NaN</td>\n",
       "      <td>0.00</td>\n",
       "      <td>NaN</td>\n",
       "      <td>18.30</td>\n",
       "      <td>2.75</td>\n",
       "      <td>5.20</td>\n",
       "      <td>NaN</td>\n",
       "      <td>NaN</td>\n",
       "    </tr>\n",
       "    <tr>\n",
       "      <th>10509</th>\n",
       "      <td>126.00</td>\n",
       "      <td>59.05</td>\n",
       "      <td>NaN</td>\n",
       "      <td>0.00</td>\n",
       "      <td>NaN</td>\n",
       "      <td>20.75</td>\n",
       "      <td>8.20</td>\n",
       "      <td>2.20</td>\n",
       "      <td>NaN</td>\n",
       "      <td>NaN</td>\n",
       "    </tr>\n",
       "    <tr>\n",
       "      <th>10510</th>\n",
       "      <td>61.50</td>\n",
       "      <td>63.15</td>\n",
       "      <td>NaN</td>\n",
       "      <td>0.00</td>\n",
       "      <td>NaN</td>\n",
       "      <td>18.30</td>\n",
       "      <td>36.55</td>\n",
       "      <td>10.95</td>\n",
       "      <td>NaN</td>\n",
       "      <td>NaN</td>\n",
       "    </tr>\n",
       "    <tr>\n",
       "      <th>10511</th>\n",
       "      <td>62.60</td>\n",
       "      <td>72.05</td>\n",
       "      <td>NaN</td>\n",
       "      <td>0.55</td>\n",
       "      <td>NaN</td>\n",
       "      <td>24.30</td>\n",
       "      <td>22.10</td>\n",
       "      <td>7.65</td>\n",
       "      <td>NaN</td>\n",
       "      <td>NaN</td>\n",
       "    </tr>\n",
       "    <tr>\n",
       "      <th>10512</th>\n",
       "      <td>54.55</td>\n",
       "      <td>66.05</td>\n",
       "      <td>NaN</td>\n",
       "      <td>0.55</td>\n",
       "      <td>NaN</td>\n",
       "      <td>16.10</td>\n",
       "      <td>1.10</td>\n",
       "      <td>3.85</td>\n",
       "      <td>NaN</td>\n",
       "      <td>NaN</td>\n",
       "    </tr>\n",
       "  </tbody>\n",
       "</table>\n",
       "<p>3153 rows × 10 columns</p>\n",
       "</div>"
      ],
      "text/plain": [
       "       bryophyte  deciduous shrub  deciduous tree  evergreen shrub  \\\n",
       "11686       0.00             0.00             0.0             0.00   \n",
       "11687       0.00             2.00             0.0             0.00   \n",
       "11688       2.00            56.00             0.0             0.00   \n",
       "11689       3.10            85.00             0.0             1.00   \n",
       "11690      14.20            80.00             0.0             2.00   \n",
       "...          ...              ...             ...              ...   \n",
       "10508      66.60            33.00             NaN             0.00   \n",
       "10509     126.00            59.05             NaN             0.00   \n",
       "10510      61.50            63.15             NaN             0.00   \n",
       "10511      62.60            72.05             NaN             0.55   \n",
       "10512      54.55            66.05             NaN             0.55   \n",
       "\n",
       "       evergreen tree   forb  graminoid  lichen  other litter  \n",
       "11686             0.0   0.10       0.00    0.00    NaN      0  \n",
       "11687             0.0   2.20      10.00    0.00    NaN     15  \n",
       "11688             0.0  13.30      18.00    0.00    NaN     20  \n",
       "11689             0.0   7.30      16.00    0.00    NaN     50  \n",
       "11690             0.0   4.20      10.00    0.90    NaN     30  \n",
       "...               ...    ...        ...     ...    ...    ...  \n",
       "10508             NaN  18.30       2.75    5.20    NaN    NaN  \n",
       "10509             NaN  20.75       8.20    2.20    NaN    NaN  \n",
       "10510             NaN  18.30      36.55   10.95    NaN    NaN  \n",
       "10511             NaN  24.30      22.10    7.65    NaN    NaN  \n",
       "10512             NaN  16.10       1.10    3.85    NaN    NaN  \n",
       "\n",
       "[3153 rows x 10 columns]"
      ]
     },
     "execution_count": 108,
     "metadata": {},
     "output_type": "execute_result"
    }
   ],
   "source": [
    "# add litter\n",
    "print(f'Litter plot visits: {len(litter.index)}')\n",
    "litter = litter.rename(columns={'Cover litter (%)': 'litter'})\n",
    "pft_fcover = pft_fcover.merge(litter, how='left', left_index=True, right_index=True)\n",
    "pft_fcover"
   ]
  },
  {
   "cell_type": "code",
   "execution_count": 109,
   "id": "9c8de499",
   "metadata": {},
   "outputs": [],
   "source": [
    "# create non-vascular\n",
    "pft_fcover['non-vascular'] = pft_fcover[['bryophyte', 'lichen']].sum(axis=1, skipna=True)"
   ]
  },
  {
   "cell_type": "code",
   "execution_count": 110,
   "id": "a088c358",
   "metadata": {},
   "outputs": [
    {
     "data": {
      "text/html": [
       "<div>\n",
       "<style scoped>\n",
       "    .dataframe tbody tr th:only-of-type {\n",
       "        vertical-align: middle;\n",
       "    }\n",
       "\n",
       "    .dataframe tbody tr th {\n",
       "        vertical-align: top;\n",
       "    }\n",
       "\n",
       "    .dataframe thead th {\n",
       "        text-align: right;\n",
       "    }\n",
       "</style>\n",
       "<table border=\"1\" class=\"dataframe\">\n",
       "  <thead>\n",
       "    <tr style=\"text-align: right;\">\n",
       "      <th></th>\n",
       "      <th>deciduous shrub</th>\n",
       "      <th>deciduous tree</th>\n",
       "      <th>evergreen shrub</th>\n",
       "      <th>evergreen tree</th>\n",
       "      <th>forb</th>\n",
       "      <th>graminoid</th>\n",
       "      <th>non-vascular</th>\n",
       "      <th>bryophyte</th>\n",
       "      <th>lichen</th>\n",
       "      <th>litter</th>\n",
       "      <th>other</th>\n",
       "    </tr>\n",
       "  </thead>\n",
       "  <tbody>\n",
       "    <tr>\n",
       "      <th>11686</th>\n",
       "      <td>0.0</td>\n",
       "      <td>0.0</td>\n",
       "      <td>0.0</td>\n",
       "      <td>0.0</td>\n",
       "      <td>0.1</td>\n",
       "      <td>0.0</td>\n",
       "      <td>0.0</td>\n",
       "      <td>0.0</td>\n",
       "      <td>0.0</td>\n",
       "      <td>0</td>\n",
       "      <td>NaN</td>\n",
       "    </tr>\n",
       "    <tr>\n",
       "      <th>11687</th>\n",
       "      <td>2.0</td>\n",
       "      <td>0.0</td>\n",
       "      <td>0.0</td>\n",
       "      <td>0.0</td>\n",
       "      <td>2.2</td>\n",
       "      <td>10.0</td>\n",
       "      <td>0.0</td>\n",
       "      <td>0.0</td>\n",
       "      <td>0.0</td>\n",
       "      <td>15</td>\n",
       "      <td>NaN</td>\n",
       "    </tr>\n",
       "    <tr>\n",
       "      <th>11688</th>\n",
       "      <td>56.0</td>\n",
       "      <td>0.0</td>\n",
       "      <td>0.0</td>\n",
       "      <td>0.0</td>\n",
       "      <td>13.3</td>\n",
       "      <td>18.0</td>\n",
       "      <td>2.0</td>\n",
       "      <td>2.0</td>\n",
       "      <td>0.0</td>\n",
       "      <td>20</td>\n",
       "      <td>NaN</td>\n",
       "    </tr>\n",
       "  </tbody>\n",
       "</table>\n",
       "</div>"
      ],
      "text/plain": [
       "       deciduous shrub  deciduous tree  evergreen shrub  evergreen tree  forb  \\\n",
       "11686              0.0             0.0              0.0             0.0   0.1   \n",
       "11687              2.0             0.0              0.0             0.0   2.2   \n",
       "11688             56.0             0.0              0.0             0.0  13.3   \n",
       "\n",
       "       graminoid  non-vascular  bryophyte  lichen litter  other  \n",
       "11686        0.0           0.0        0.0     0.0      0    NaN  \n",
       "11687       10.0           0.0        0.0     0.0     15    NaN  \n",
       "11688       18.0           2.0        2.0     0.0     20    NaN  "
      ]
     },
     "execution_count": 110,
     "metadata": {},
     "output_type": "execute_result"
    }
   ],
   "source": [
    "# create standard columns\n",
    "pft_fcover = spf.add_standard_cols(pft_fcover, pfts)\n",
    "pft_fcover = pft_fcover[pfts]\n",
    "pft_fcover.head(3)"
   ]
  },
  {
   "cell_type": "code",
   "execution_count": 111,
   "id": "98ffc798",
   "metadata": {},
   "outputs": [
    {
     "name": "stderr",
     "output_type": "stream",
     "text": [
      "/tmp/ipykernel_2417623/2187920108.py:5: FutureWarning: DataFrame.groupby with axis=1 is deprecated. Do `frame.T.groupby(...)` without axis instead.\n",
      "  non_veg = non_veg.groupby(lambda x:x, axis=1).sum()\n"
     ]
    },
    {
     "data": {
      "text/html": [
       "<div>\n",
       "<style scoped>\n",
       "    .dataframe tbody tr th:only-of-type {\n",
       "        vertical-align: middle;\n",
       "    }\n",
       "\n",
       "    .dataframe tbody tr th {\n",
       "        vertical-align: top;\n",
       "    }\n",
       "\n",
       "    .dataframe thead th {\n",
       "        text-align: right;\n",
       "    }\n",
       "</style>\n",
       "<table border=\"1\" class=\"dataframe\">\n",
       "  <thead>\n",
       "    <tr style=\"text-align: right;\">\n",
       "      <th></th>\n",
       "      <th>deciduous shrub</th>\n",
       "      <th>deciduous tree</th>\n",
       "      <th>evergreen shrub</th>\n",
       "      <th>evergreen tree</th>\n",
       "      <th>forb</th>\n",
       "      <th>graminoid</th>\n",
       "      <th>non-vascular</th>\n",
       "      <th>bryophyte</th>\n",
       "      <th>lichen</th>\n",
       "      <th>litter</th>\n",
       "      <th>other</th>\n",
       "      <th>bare ground</th>\n",
       "      <th>water</th>\n",
       "    </tr>\n",
       "  </thead>\n",
       "  <tbody>\n",
       "    <tr>\n",
       "      <th>11686</th>\n",
       "      <td>0.0</td>\n",
       "      <td>0.0</td>\n",
       "      <td>0.0</td>\n",
       "      <td>0.0</td>\n",
       "      <td>0.1</td>\n",
       "      <td>0.0</td>\n",
       "      <td>0.0</td>\n",
       "      <td>0.0</td>\n",
       "      <td>0.0</td>\n",
       "      <td>0</td>\n",
       "      <td>NaN</td>\n",
       "      <td>100.0</td>\n",
       "      <td>0.0</td>\n",
       "    </tr>\n",
       "    <tr>\n",
       "      <th>11687</th>\n",
       "      <td>2.0</td>\n",
       "      <td>0.0</td>\n",
       "      <td>0.0</td>\n",
       "      <td>0.0</td>\n",
       "      <td>2.2</td>\n",
       "      <td>10.0</td>\n",
       "      <td>0.0</td>\n",
       "      <td>0.0</td>\n",
       "      <td>0.0</td>\n",
       "      <td>15</td>\n",
       "      <td>NaN</td>\n",
       "      <td>70.0</td>\n",
       "      <td>0.0</td>\n",
       "    </tr>\n",
       "    <tr>\n",
       "      <th>11688</th>\n",
       "      <td>56.0</td>\n",
       "      <td>0.0</td>\n",
       "      <td>0.0</td>\n",
       "      <td>0.0</td>\n",
       "      <td>13.3</td>\n",
       "      <td>18.0</td>\n",
       "      <td>2.0</td>\n",
       "      <td>2.0</td>\n",
       "      <td>0.0</td>\n",
       "      <td>20</td>\n",
       "      <td>NaN</td>\n",
       "      <td>5.0</td>\n",
       "      <td>0.0</td>\n",
       "    </tr>\n",
       "  </tbody>\n",
       "</table>\n",
       "</div>"
      ],
      "text/plain": [
       "       deciduous shrub  deciduous tree  evergreen shrub  evergreen tree  forb  \\\n",
       "11686              0.0             0.0              0.0             0.0   0.1   \n",
       "11687              2.0             0.0              0.0             0.0   2.2   \n",
       "11688             56.0             0.0              0.0             0.0  13.3   \n",
       "\n",
       "       graminoid  non-vascular  bryophyte  lichen litter  other  bare ground  \\\n",
       "11686        0.0           0.0        0.0     0.0      0    NaN        100.0   \n",
       "11687       10.0           0.0        0.0     0.0     15    NaN         70.0   \n",
       "11688       18.0           2.0        2.0     0.0     20    NaN          5.0   \n",
       "\n",
       "       water  \n",
       "11686    0.0  \n",
       "11687    0.0  \n",
       "11688    0.0  "
      ]
     },
     "execution_count": 111,
     "metadata": {},
     "output_type": "execute_result"
    }
   ],
   "source": [
    "# add non-vegetation\n",
    "non_veg = non_veg.rename(columns={'Cover bare soil (%)':'bare ground',\n",
    "                       'Cover rock (%)':'bare ground',\n",
    "                       'Cover water (%)':'water'})\n",
    "non_veg = non_veg.groupby(lambda x:x, axis=1).sum()\n",
    "pft_fcover = pft_fcover.merge(non_veg, left_index=True, right_index=True, how='left')\n",
    "pft_fcover.head(3)"
   ]
  },
  {
   "cell_type": "markdown",
   "id": "62a236d0",
   "metadata": {},
   "source": [
    "---\n",
    "## 2.4. Standardize auxiliary columns <a name=\"aux\"></a>"
   ]
  },
  {
   "cell_type": "markdown",
   "id": "b9f9c4e8",
   "metadata": {},
   "source": [
    "Plot information:\n",
    "- [ ] UID\n",
    "- [x] plotName\n",
    "- [x] dataSource\n",
    "- [x] dataSubsource\n",
    "- [x] fcoverScale\n",
    "- [x] surveyMethod\n",
    "- [x] surveyPurpose\n",
    "- [x] duplicatedCoords\n",
    "- [x] duplicatedDate\n",
    "- [x] surveyYear\n",
    "- [x] surveyMonth\n",
    "- [x] surveyDay\n",
    "\n",
    "Geographical information:\n",
    "- [x] bioclimateSubzone\n",
    "- [x] adminCountry\n",
    "- [x] adminUnit\n",
    "- [x] fireYears\n",
    "- [x] coordEpsg\n",
    "- [x] georefSource\n",
    "- [x] georefAccuracy\n",
    "- [x] plotRadius\n",
    "- [x] longitueX\n",
    "- [x] latitudeY"
   ]
  },
  {
   "cell_type": "code",
   "execution_count": 112,
   "id": "9c160b80",
   "metadata": {},
   "outputs": [],
   "source": [
    "# sampling methods, coverscale, data source\n",
    "methods_path = '../etc/sampling_methods.csv'\n",
    "methods = pd.read_csv(methods_path)"
   ]
  },
  {
   "cell_type": "code",
   "execution_count": 113,
   "id": "d56f3cf6",
   "metadata": {},
   "outputs": [
    {
     "data": {
      "text/plain": [
       "Index(['dataSource', 'dataSubsource', 'dataSourceHtml',\n",
       "       'dataSubsourceCitation', 'surveyMethod', 'fcoverScale',\n",
       "       'surveyPurpose'],\n",
       "      dtype='object')"
      ]
     },
     "execution_count": 113,
     "metadata": {},
     "output_type": "execute_result"
    }
   ],
   "source": [
    "methods.columns"
   ]
  },
  {
   "cell_type": "markdown",
   "id": "7cd7931b-fd38-451e-9e8c-e10a360bbff3",
   "metadata": {},
   "source": [
    "### 2.4.1. Basic plot information <a name=\"basics\"></a>"
   ]
  },
  {
   "cell_type": "code",
   "execution_count": 114,
   "id": "439dd8a7-0bcf-4f91-adb9-98d4745a69ef",
   "metadata": {},
   "outputs": [],
   "source": [
    "def extract_datetime(val):\n",
    "    num = int(val)\n",
    "    string = str(num)\n",
    "    if len(string) == 8:\n",
    "        year = string[0:4]\n",
    "        month = string[4:6]\n",
    "        day = string[6:8]\n",
    "    elif len(string) == 6:\n",
    "        year = string[0:4]\n",
    "        month = string[4:6]\n",
    "        day = np.nan\n",
    "    elif len(string) == 4:\n",
    "        year = string[0:4]\n",
    "        month = np.nan\n",
    "        day = np.nan   \n",
    "    else:\n",
    "        year = np.nan\n",
    "        month = np.nan\n",
    "        day = np.nan      \n",
    "    return year, month, day"
   ]
  },
  {
   "cell_type": "code",
   "execution_count": 115,
   "id": "707d3c91-54e2-4382-99cd-cb86472ad06d",
   "metadata": {},
   "outputs": [
    {
     "data": {
      "text/plain": [
       "array(['irregular', 'rectangle', 'square', 'unknown (not-recorded)',\n",
       "       'circular', 'linear/band-forming'], dtype=object)"
      ]
     },
     "execution_count": 115,
     "metadata": {},
     "output_type": "execute_result"
    }
   ],
   "source": [
    "aux['Releve shape'].unique()"
   ]
  },
  {
   "cell_type": "code",
   "execution_count": 116,
   "id": "e67aa26b-a120-41cc-95b2-d2eebefe606a",
   "metadata": {},
   "outputs": [],
   "source": [
    "new_aux = pd.DataFrame()\n",
    "\n",
    "# date columns\n",
    "new_aux[['surveyYear', 'surveyMonth', 'surveyDay']] = aux['Date (yyyymmdd)'].apply(extract_datetime).apply(pd.Series)\n",
    "\n",
    "# plot size\n",
    "aux['Releve area (m2)'].replace(-1, np.NaN)\n",
    "\n",
    "# Calculate plotArea and adjust plotShape\n",
    "def calculate_plot_size(row):\n",
    "    try:\n",
    "        area = float(row['Releve area (m2)']) if pd.notna(row['Releve area (m2)']) else np.NaN\n",
    "    except ValueError:\n",
    "        return row  # Return the row as-is if casting fails\n",
    "    \n",
    "    shape = row['Releve shape']\n",
    "    \n",
    "    if pd.isna(area):\n",
    "        row['plotShape'] = shape if pd.notna(shape) else np.NaN\n",
    "        row['plotArea'] = np.NaN  # Handle NaN area\n",
    "    else:\n",
    "        row['plotArea'] = area  # Always store area in plotArea\n",
    "        \n",
    "        # Determine the shape based on the provided value\n",
    "        if shape == 'circle':\n",
    "            row['plotShape'] = 'circle'\n",
    "        elif shape == 'square':\n",
    "            row['plotShape'] = 'square'\n",
    "        else:\n",
    "            row['plotShape'] = shape\n",
    "    \n",
    "    return row\n",
    "\n",
    "# Apply calculations and update columns\n",
    "updated_aux = aux.apply(calculate_plot_size, axis=1)\n",
    "\n",
    "# Extract and assign the final columns\n",
    "new_aux['plotArea'] = updated_aux['plotArea']\n",
    "new_aux['plotShape'] = updated_aux['plotShape']\n",
    "\n",
    "# geographical information\n",
    "new_aux['latitudeY'] = aux['Latitude (decimal degrees)']\n",
    "new_aux['longitudeX'] = aux['Longitude (decimal degrees)']\n",
    "new_aux['georefSource'] = aux['Georeference source']\n",
    "new_aux['georefAccuracy'] = aux['Georeference accuracy (m)'].astype('Float32')\n",
    "new_aux['coordEPSG'] = 'EPSG:4326'\n",
    "\n",
    "# main\n",
    "new_aux['plotName'] = aux['plotName']\n",
    "new_aux['dataSubsource'] = aux['Dataset'].apply(lambda name: name.replace('_', ' '))\n",
    "new_aux['dataSubsource'] = new_aux['dataSubsource'].apply(lambda name: re.sub(r'\\([^)]*\\)', '', name))\n",
    "new_aux['dataSubsource'] = new_aux['dataSubsource'].apply(lambda name: name.strip())"
   ]
  },
  {
   "cell_type": "code",
   "execution_count": 117,
   "id": "9f675864-4d4b-4488-8a4b-25bef0e58ec7",
   "metadata": {},
   "outputs": [
    {
     "data": {
      "text/plain": [
       "array(['irregular', 'rectangle', 'square', 'unknown (not-recorded)',\n",
       "       'circular', 'linear/band-forming'], dtype=object)"
      ]
     },
     "execution_count": 117,
     "metadata": {},
     "output_type": "execute_result"
    }
   ],
   "source": [
    "new_aux['plotShape'].unique()"
   ]
  },
  {
   "cell_type": "code",
   "execution_count": 118,
   "id": "a17b4a48-b9d4-477a-9ff9-95dffcb214d5",
   "metadata": {},
   "outputs": [
    {
     "name": "stderr",
     "output_type": "stream",
     "text": [
      "/tmp/ipykernel_2417623/1816956801.py:2: FutureWarning: A value is trying to be set on a copy of a DataFrame or Series through chained assignment using an inplace method.\n",
      "The behavior will change in pandas 3.0. This inplace method will never work because the intermediate object on which we are setting values always behaves as a copy.\n",
      "\n",
      "For example, when doing 'df[col].method(value, inplace=True)', try using 'df.method({col: value}, inplace=True)' or df[col] = df[col].method(value) instead, to perform the operation inplace on the original object.\n",
      "\n",
      "\n",
      "  new_aux['dataSubsource'].replace({'Prudhoe Bay Airport ArcSEES Donald Walker':'Prudhoe Bay Airport ArcSEES Walker (pub 2016)',\n"
     ]
    }
   ],
   "source": [
    "# adjust data subsource names\n",
    "new_aux['dataSubsource'].replace({'Prudhoe Bay Airport ArcSEES Donald Walker':'Prudhoe Bay Airport ArcSEES Walker (pub 2016)',\n",
    "                                  'Prudhoe ArcSEES road study Donald Walker':'Prudhoe ArcSEES road study Walker (pub 2015)',\n",
    "                                  'Flux Tower Zona Scott Davidson':'Flux Tower Zona Davidson (pub 2016)',\n",
    "                                  'Barrow DOE NGEE Victoria Sloan':'Barrow DOE NGEE Sloan (pub 2014)',\n",
    "                                  'Atqasuk Vera Komarkova':'Atqasuk Villarreal (pub 2013)',\n",
    "                                  'Barrow IBP Tundra Biome Pat Webber':'Barrow IBP Tundra Biome Villarreal (pub 2012)'}, inplace=True)"
   ]
  },
  {
   "cell_type": "code",
   "execution_count": 119,
   "id": "6e2ea667-22a6-4d20-a1f2-ea134559a9b6",
   "metadata": {},
   "outputs": [],
   "source": [
    "new_aux = new_aux.reset_index(drop=False)\n",
    "new_aux = new_aux.merge(methods, how='left', left_on='dataSubsource', right_on='dataSubsource')\n",
    "new_aux = new_aux.set_index('plotVisit')"
   ]
  },
  {
   "cell_type": "code",
   "execution_count": 120,
   "id": "361139d3",
   "metadata": {},
   "outputs": [
    {
     "data": {
      "text/plain": [
       "Index(['surveyYear', 'surveyMonth', 'surveyDay', 'plotArea', 'plotShape',\n",
       "       'latitudeY', 'longitudeX', 'georefSource', 'georefAccuracy',\n",
       "       'coordEPSG', 'plotName', 'dataSubsource', 'dataSource',\n",
       "       'dataSourceHtml', 'dataSubsourceCitation', 'surveyMethod',\n",
       "       'fcoverScale', 'surveyPurpose'],\n",
       "      dtype='object')"
      ]
     },
     "execution_count": 120,
     "metadata": {},
     "output_type": "execute_result"
    }
   ],
   "source": [
    "new_aux.columns"
   ]
  },
  {
   "cell_type": "markdown",
   "id": "4bbf4212",
   "metadata": {},
   "source": [
    "### 2.4.2. Geographical intersections <a name=\"geo\"></a>"
   ]
  },
  {
   "cell_type": "code",
   "execution_count": 121,
   "id": "96e15567-9803-4813-b0ff-f78d75971450",
   "metadata": {},
   "outputs": [],
   "source": [
    "# set geo info\n",
    "geo_paths = ['../etc/gaul1/gaul1_asap.shp',\n",
    "             '../etc/fire/InterAgencyFirePerimeterHistory_All_Years_View.shp',\n",
    "             '../etc/bioclim/bioclimate_la_latlon.shp']\n",
    "geo_names = ['gaul1',\n",
    "             'fire',\n",
    "             'bioclim']\n",
    "geo_cols = [['name1', 'name0', 'geometry'],\n",
    "            ['FIRE_YEAR', 'geometry'],\n",
    "            ['zone', 'geometry']]"
   ]
  },
  {
   "cell_type": "code",
   "execution_count": 122,
   "id": "b3336526-f4c0-4879-a18c-49630d9cbdae",
   "metadata": {},
   "outputs": [
    {
     "data": {
      "text/html": [
       "<div>\n",
       "<style scoped>\n",
       "    .dataframe tbody tr th:only-of-type {\n",
       "        vertical-align: middle;\n",
       "    }\n",
       "\n",
       "    .dataframe tbody tr th {\n",
       "        vertical-align: top;\n",
       "    }\n",
       "\n",
       "    .dataframe thead th {\n",
       "        text-align: right;\n",
       "    }\n",
       "</style>\n",
       "<table border=\"1\" class=\"dataframe\">\n",
       "  <thead>\n",
       "    <tr style=\"text-align: right;\">\n",
       "      <th></th>\n",
       "      <th>deciduous shrub</th>\n",
       "      <th>deciduous tree</th>\n",
       "      <th>evergreen shrub</th>\n",
       "      <th>evergreen tree</th>\n",
       "      <th>forb</th>\n",
       "      <th>graminoid</th>\n",
       "      <th>non-vascular</th>\n",
       "      <th>bryophyte</th>\n",
       "      <th>lichen</th>\n",
       "      <th>litter</th>\n",
       "      <th>...</th>\n",
       "      <th>georefAccuracy</th>\n",
       "      <th>coordEPSG</th>\n",
       "      <th>plotName</th>\n",
       "      <th>dataSubsource</th>\n",
       "      <th>dataSource</th>\n",
       "      <th>dataSourceHtml</th>\n",
       "      <th>dataSubsourceCitation</th>\n",
       "      <th>surveyMethod</th>\n",
       "      <th>fcoverScale</th>\n",
       "      <th>surveyPurpose</th>\n",
       "    </tr>\n",
       "    <tr>\n",
       "      <th>plotVisit</th>\n",
       "      <th></th>\n",
       "      <th></th>\n",
       "      <th></th>\n",
       "      <th></th>\n",
       "      <th></th>\n",
       "      <th></th>\n",
       "      <th></th>\n",
       "      <th></th>\n",
       "      <th></th>\n",
       "      <th></th>\n",
       "      <th></th>\n",
       "      <th></th>\n",
       "      <th></th>\n",
       "      <th></th>\n",
       "      <th></th>\n",
       "      <th></th>\n",
       "      <th></th>\n",
       "      <th></th>\n",
       "      <th></th>\n",
       "      <th></th>\n",
       "      <th></th>\n",
       "    </tr>\n",
       "  </thead>\n",
       "  <tbody>\n",
       "    <tr>\n",
       "      <th>11686</th>\n",
       "      <td>0.0</td>\n",
       "      <td>0.0</td>\n",
       "      <td>0.0</td>\n",
       "      <td>0.0</td>\n",
       "      <td>0.1</td>\n",
       "      <td>0.0</td>\n",
       "      <td>0.0</td>\n",
       "      <td>0.0</td>\n",
       "      <td>0.0</td>\n",
       "      <td>0</td>\n",
       "      <td>...</td>\n",
       "      <td>15.0</td>\n",
       "      <td>EPSG:4326</td>\n",
       "      <td>B_T01_02</td>\n",
       "      <td>Arctic Network Torre Jorgenson</td>\n",
       "      <td>AVA</td>\n",
       "      <td>NaN</td>\n",
       "      <td>NaN</td>\n",
       "      <td>center-staked plot along transect</td>\n",
       "      <td>percent</td>\n",
       "      <td>Survey and classify ecology and land cover in ...</td>\n",
       "    </tr>\n",
       "    <tr>\n",
       "      <th>11687</th>\n",
       "      <td>2.0</td>\n",
       "      <td>0.0</td>\n",
       "      <td>0.0</td>\n",
       "      <td>0.0</td>\n",
       "      <td>2.2</td>\n",
       "      <td>10.0</td>\n",
       "      <td>0.0</td>\n",
       "      <td>0.0</td>\n",
       "      <td>0.0</td>\n",
       "      <td>15</td>\n",
       "      <td>...</td>\n",
       "      <td>15.0</td>\n",
       "      <td>EPSG:4326</td>\n",
       "      <td>B_T01_03</td>\n",
       "      <td>Arctic Network Torre Jorgenson</td>\n",
       "      <td>AVA</td>\n",
       "      <td>NaN</td>\n",
       "      <td>NaN</td>\n",
       "      <td>center-staked plot along transect</td>\n",
       "      <td>percent</td>\n",
       "      <td>Survey and classify ecology and land cover in ...</td>\n",
       "    </tr>\n",
       "    <tr>\n",
       "      <th>11688</th>\n",
       "      <td>56.0</td>\n",
       "      <td>0.0</td>\n",
       "      <td>0.0</td>\n",
       "      <td>0.0</td>\n",
       "      <td>13.3</td>\n",
       "      <td>18.0</td>\n",
       "      <td>2.0</td>\n",
       "      <td>2.0</td>\n",
       "      <td>0.0</td>\n",
       "      <td>20</td>\n",
       "      <td>...</td>\n",
       "      <td>15.0</td>\n",
       "      <td>EPSG:4326</td>\n",
       "      <td>B_T01_04</td>\n",
       "      <td>Arctic Network Torre Jorgenson</td>\n",
       "      <td>AVA</td>\n",
       "      <td>NaN</td>\n",
       "      <td>NaN</td>\n",
       "      <td>center-staked plot along transect</td>\n",
       "      <td>percent</td>\n",
       "      <td>Survey and classify ecology and land cover in ...</td>\n",
       "    </tr>\n",
       "  </tbody>\n",
       "</table>\n",
       "<p>3 rows × 31 columns</p>\n",
       "</div>"
      ],
      "text/plain": [
       "           deciduous shrub  deciduous tree  evergreen shrub  evergreen tree  \\\n",
       "plotVisit                                                                     \n",
       "11686                  0.0             0.0              0.0             0.0   \n",
       "11687                  2.0             0.0              0.0             0.0   \n",
       "11688                 56.0             0.0              0.0             0.0   \n",
       "\n",
       "           forb  graminoid  non-vascular  bryophyte  lichen litter  ...  \\\n",
       "plotVisit                                                           ...   \n",
       "11686       0.1        0.0           0.0        0.0     0.0      0  ...   \n",
       "11687       2.2       10.0           0.0        0.0     0.0     15  ...   \n",
       "11688      13.3       18.0           2.0        2.0     0.0     20  ...   \n",
       "\n",
       "           georefAccuracy  coordEPSG  plotName  \\\n",
       "plotVisit                                        \n",
       "11686                15.0  EPSG:4326  B_T01_02   \n",
       "11687                15.0  EPSG:4326  B_T01_03   \n",
       "11688                15.0  EPSG:4326  B_T01_04   \n",
       "\n",
       "                            dataSubsource dataSource dataSourceHtml  \\\n",
       "plotVisit                                                             \n",
       "11686      Arctic Network Torre Jorgenson        AVA            NaN   \n",
       "11687      Arctic Network Torre Jorgenson        AVA            NaN   \n",
       "11688      Arctic Network Torre Jorgenson        AVA            NaN   \n",
       "\n",
       "           dataSubsourceCitation                       surveyMethod  \\\n",
       "plotVisit                                                             \n",
       "11686                        NaN  center-staked plot along transect   \n",
       "11687                        NaN  center-staked plot along transect   \n",
       "11688                        NaN  center-staked plot along transect   \n",
       "\n",
       "          fcoverScale                                      surveyPurpose  \n",
       "plotVisit                                                                 \n",
       "11686         percent  Survey and classify ecology and land cover in ...  \n",
       "11687         percent  Survey and classify ecology and land cover in ...  \n",
       "11688         percent  Survey and classify ecology and land cover in ...  \n",
       "\n",
       "[3 rows x 31 columns]"
      ]
     },
     "execution_count": 122,
     "metadata": {},
     "output_type": "execute_result"
    }
   ],
   "source": [
    "# create geospatial information\n",
    "fcover_and_aux = pft_fcover.merge(new_aux, how='left', left_index=True, right_index=True)\n",
    "fcover_and_aux.index.name = 'plotVisit'\n",
    "fcover_and_aux.head(3)"
   ]
  },
  {
   "cell_type": "code",
   "execution_count": 123,
   "id": "ae38e5b6",
   "metadata": {},
   "outputs": [
    {
     "name": "stdout",
     "output_type": "stream",
     "text": [
      "Finding spatial intersection for '['name1', 'name0', 'geometry']' in native CRS: EPSG:4326\n"
     ]
    },
    {
     "name": "stderr",
     "output_type": "stream",
     "text": [
      "/mnt/poseidon/remotesensing/arctic/alaska_pft_fcover_harmonization/standardize_pft_funcs.py:751: FutureWarning: DataFrame.applymap has been deprecated. Use DataFrame.map instead.\n",
      "  merged = merged.drop(columns=[col for col in merged.columns if 'geometry' in col])\n"
     ]
    },
    {
     "name": "stdout",
     "output_type": "stream",
     "text": [
      "Finding spatial intersection for '['FIRE_YEAR', 'geometry']' in native CRS: EPSG:4326\n"
     ]
    },
    {
     "name": "stderr",
     "output_type": "stream",
     "text": [
      "/mnt/poseidon/remotesensing/arctic/alaska_pft_fcover_harmonization/standardize_pft_funcs.py:751: FutureWarning: DataFrame.applymap has been deprecated. Use DataFrame.map instead.\n",
      "  merged = merged.drop(columns=[col for col in merged.columns if 'geometry' in col])\n"
     ]
    },
    {
     "name": "stdout",
     "output_type": "stream",
     "text": [
      "Finding spatial intersection for '['zone', 'geometry']' in native CRS: EPSG:4326\n"
     ]
    },
    {
     "name": "stderr",
     "output_type": "stream",
     "text": [
      "/mnt/poseidon/remotesensing/arctic/alaska_pft_fcover_harmonization/standardize_pft_funcs.py:751: FutureWarning: DataFrame.applymap has been deprecated. Use DataFrame.map instead.\n",
      "  merged = merged.drop(columns=[col for col in merged.columns if 'geometry' in col])\n",
      "/mnt/poseidon/remotesensing/arctic/alaska_pft_fcover_harmonization/standardize_pft_funcs.py:772: FutureWarning: DataFrame.applymap has been deprecated. Use DataFrame.map instead.\n",
      "  # information; e.g., duplicate coords or dates\n"
     ]
    }
   ],
   "source": [
    "# convert to GeoDataFrame\n",
    "fcover_and_aux = gpd.GeoDataFrame(\n",
    "    fcover_and_aux,\n",
    "    geometry=gpd.points_from_xy(fcover_and_aux['longitudeX'], fcover_and_aux['latitudeY']),\n",
    "    crs='EPSG:4326'\n",
    ").to_crs('EPSG:5936')\n",
    "\n",
    "# add geospatial layers\n",
    "fcover_and_aux = spf.add_geospatial_aux(\n",
    "    fcover_and_aux,\n",
    "    paths=geo_paths,\n",
    "    orig_names=geo_cols\n",
    ")"
   ]
  },
  {
   "cell_type": "code",
   "execution_count": 124,
   "id": "51e63562",
   "metadata": {},
   "outputs": [
    {
     "name": "stdout",
     "output_type": "stream",
     "text": [
      "Number of plot visits in fcover_and_aux: 3153\n",
      "Number of unique plot visits in fcover_and_aux: 3153\n"
     ]
    }
   ],
   "source": [
    "faa_li = len(fcover_and_aux.index)\n",
    "faa_ui = len(fcover_and_aux.index.unique())\n",
    "print(f'Number of plot visits in fcover_and_aux: {faa_li}')\n",
    "print(f'Number of unique plot visits in fcover_and_aux: {faa_ui}')"
   ]
  },
  {
   "cell_type": "code",
   "execution_count": 125,
   "id": "579bc83c-8523-4baa-91b6-f970566ff765",
   "metadata": {},
   "outputs": [],
   "source": [
    "# rename new columns\n",
    "fcover_and_aux.rename(columns={'name1':'adminUnit',\n",
    "                               'name0':'adminCountry',\n",
    "                               'FIRE_YEAR':'fireYears',\n",
    "                               'zone':'bioclimSubzone'}, inplace=True)"
   ]
  },
  {
   "cell_type": "markdown",
   "id": "a64b01e9",
   "metadata": {},
   "source": [
    "### 2.4.3. Duplicate coordinates <a name=\"dupes\"></a>\n",
    "This indicates that plots may have been revisited, they were very close and GPS accuracy was too low, or there is human error"
   ]
  },
  {
   "cell_type": "code",
   "execution_count": 126,
   "id": "bb99da23-4ace-42ae-b2a5-c9d398ff5667",
   "metadata": {},
   "outputs": [
    {
     "name": "stderr",
     "output_type": "stream",
     "text": [
      "/mnt/poseidon/remotesensing/arctic/alaska_pft_fcover_harmonization/standardize_pft_funcs.py:802: FutureWarning: DataFrameGroupBy.grouper is deprecated and will be removed in a future version of pandas.\n",
      "  for idx, group_id in zip(df.index, group_ids):\n",
      "/mnt/poseidon/remotesensing/arctic/alaska_pft_fcover_harmonization/standardize_pft_funcs.py:802: FutureWarning: DataFrameGroupBy.grouper is deprecated and will be removed in a future version of pandas.\n",
      "  for idx, group_id in zip(df.index, group_ids):\n"
     ]
    }
   ],
   "source": [
    "# find duplicates\n",
    "fcover_and_aux = spf.find_duplicates(fcover_and_aux, ['longitudeX', 'latitudeY'], 'duplicatedCoords')\n",
    "fcover_and_aux = spf.find_duplicates(fcover_and_aux, ['surveyYear', 'surveyMonth', 'surveyDay'], 'duplicatedDate')"
   ]
  },
  {
   "cell_type": "markdown",
   "id": "181d15a7-a8b1-49cf-a654-f496ed3d1402",
   "metadata": {},
   "source": [
    "---\n",
    "# 3. Export <a name=\"export\"></a>"
   ]
  },
  {
   "cell_type": "code",
   "execution_count": 127,
   "id": "5ec55dd5-c574-42b0-b913-b870c7ac3855",
   "metadata": {},
   "outputs": [],
   "source": [
    "# clean up\n",
    "pfts = {'deciduous shrub':'deciduousShrubCover',\n",
    "        'evergreen shrub':'evergreenShrubCover',\n",
    "        'deciduous tree':'deciduousTreeCover',\n",
    "        'evergreen tree':'evergreenTreeCover',\n",
    "        'forb':'forbCover',\n",
    "        'graminoid':'graminoidCover',\n",
    "        'non-vascular':'nonvascularSumCover',\n",
    "        'bryophyte':'bryophyteCover',\n",
    "        'lichen':'lichenCover',\n",
    "        'litter':'litterCover',\n",
    "        'bare ground':'baregroundCover',\n",
    "        'water':'waterCover',\n",
    "        'other':'otherCover'}\n",
    "\n",
    "# rename columns\n",
    "fcover_and_aux.rename(columns=pfts, inplace=True)\n",
    "fcover_cols = list(pfts.values())\n",
    "\n",
    "# rset cover data type\n",
    "fcover_and_aux[fcover_cols] = fcover_and_aux[fcover_cols].astype(np.float32)\n",
    "fcover_and_aux.index.name = 'plotVisit'"
   ]
  },
  {
   "cell_type": "code",
   "execution_count": 128,
   "id": "aedd7062-aec5-4225-b4a4-087ddb5dd9e5",
   "metadata": {},
   "outputs": [
    {
     "data": {
      "text/plain": [
       "Index(['deciduousShrubCover', 'deciduousTreeCover', 'evergreenShrubCover',\n",
       "       'evergreenTreeCover', 'forbCover', 'graminoidCover',\n",
       "       'nonvascularSumCover', 'bryophyteCover', 'lichenCover', 'litterCover',\n",
       "       'otherCover', 'baregroundCover', 'waterCover', 'surveyYear',\n",
       "       'surveyMonth', 'surveyDay', 'plotArea', 'plotShape', 'latitudeY',\n",
       "       'longitudeX', 'georefSource', 'georefAccuracy', 'coordEPSG', 'plotName',\n",
       "       'dataSubsource', 'dataSource', 'dataSourceHtml',\n",
       "       'dataSubsourceCitation', 'surveyMethod', 'fcoverScale', 'surveyPurpose',\n",
       "       'adminUnit', 'adminCountry', 'fireYears', 'bioclimSubzone',\n",
       "       'duplicatedCoords', 'duplicatedDate'],\n",
       "      dtype='object')"
      ]
     },
     "execution_count": 128,
     "metadata": {},
     "output_type": "execute_result"
    }
   ],
   "source": [
    "fcover_and_aux.columns"
   ]
  },
  {
   "cell_type": "code",
   "execution_count": 129,
   "id": "e814ee05",
   "metadata": {},
   "outputs": [
    {
     "data": {
      "text/plain": [
       "Index(['deciduousShrubCover', 'deciduousTreeCover', 'evergreenShrubCover',\n",
       "       'evergreenTreeCover', 'forbCover', 'graminoidCover',\n",
       "       'nonvascularSumCover', 'bryophyteCover', 'lichenCover', 'litterCover',\n",
       "       'otherCover', 'baregroundCover', 'waterCover', 'surveyYear',\n",
       "       'surveyMonth', 'surveyDay', 'plotArea', 'plotShape', 'latitudeY',\n",
       "       'longitudeX', 'georefSource', 'georefAccuracy', 'coordEPSG', 'plotName',\n",
       "       'dataSubsource', 'dataSource', 'dataSourceHtml',\n",
       "       'dataSubsourceCitation', 'surveyMethod', 'fcoverScale', 'surveyPurpose',\n",
       "       'adminUnit', 'adminCountry', 'fireYears', 'bioclimSubzone',\n",
       "       'duplicatedCoords', 'duplicatedDate', 'geometry'],\n",
       "      dtype='object')"
      ]
     },
     "execution_count": 129,
     "metadata": {},
     "output_type": "execute_result"
    }
   ],
   "source": [
    "# create UID mapping to plotVisit\n",
    "uid_table = pd.DataFrame({'plotVisit': pft_fcover.index})\n",
    "uid_table = spf.assign_uid_column(uid_table, id_col='plotVisit', uid_col='UID')\n",
    "\n",
    "# get UIDs from Arctic AK only\n",
    "path = '../etc/tundra_alaska_latlon/tundra_alaska_wgs84.shp'\n",
    "ak_tundra = gpd.read_file(path)\n",
    "\n",
    "# clip and select Arctic AK indices\n",
    "fcover_and_aux = gpd.GeoDataFrame(fcover_and_aux,\n",
    "                                  geometry=gpd.points_from_xy(fcover_and_aux['longitudeX'],\n",
    "                                                              fcover_and_aux['latitudeY']),\n",
    "                                                              crs='epsg:4326')\n",
    "fcover_and_aux = fcover_and_aux.to_crs(ak_tundra.crs)\n",
    "fcover_and_aux = fcover_and_aux.clip(ak_tundra)\n",
    "valid_uids = fcover_and_aux.index\n",
    "fcover_and_aux.columns"
   ]
  },
  {
   "cell_type": "code",
   "execution_count": 130,
   "id": "18d577cc",
   "metadata": {},
   "outputs": [
    {
     "data": {
      "text/plain": [
       "<Axes: >"
      ]
     },
     "execution_count": 130,
     "metadata": {},
     "output_type": "execute_result"
    },
    {
     "data": {
      "image/png": "[encoded data removed]",
      "text/plain": [
       "<Figure size 640x480 with 1 Axes>"
      ]
     },
     "metadata": {},
     "output_type": "display_data"
    }
   ],
   "source": [
    "# plot the post-2010 alaskan tundra points\n",
    "ax = ak_tundra.plot(edgecolor='black', facecolor='none')\n",
    "fcover_and_aux.plot(ax=ax, color='red', markersize=3)"
   ]
  },
  {
   "cell_type": "code",
   "execution_count": 131,
   "id": "072cc80c",
   "metadata": {},
   "outputs": [
    {
     "name": "stderr",
     "output_type": "stream",
     "text": [
      "/tmp/ipykernel_2417623/2164478736.py:2: UserWarning: Geometry column does not contain geometry.\n",
      "  fcover_and_aux['geometry'] = fcover_and_aux['geometry'].apply(lambda g: g.wkt if g is not None else None)\n"
     ]
    }
   ],
   "source": [
    "# remove geometry\n",
    "fcover_and_aux['geometry'] = fcover_and_aux['geometry'].apply(lambda g: g.wkt if g is not None else None)"
   ]
  },
  {
   "cell_type": "code",
   "execution_count": 132,
   "id": "34389f4f",
   "metadata": {},
   "outputs": [
    {
     "name": "stdout",
     "output_type": "stream",
     "text": [
      "Number of plot visits in fcover_and_aux: 2578\n",
      "Number of unique plot visits in fcover_and_aux: 2578\n"
     ]
    }
   ],
   "source": [
    "faa_li = len(fcover_and_aux.index)\n",
    "faa_ui = len(fcover_and_aux.index.unique())\n",
    "print(f'Number of plot visits in fcover_and_aux: {faa_li}')\n",
    "print(f'Number of unique plot visits in fcover_and_aux: {faa_ui}')"
   ]
  },
  {
   "cell_type": "code",
   "execution_count": 133,
   "id": "8a6abcfa",
   "metadata": {},
   "outputs": [],
   "source": [
    "# export species fcover\n",
    "species_fcover_out = species_fcover.copy()\n",
    "species_fcover_out = species_fcover_out[species_fcover_out['plotVisit'].isin(valid_uids)]\n",
    "species_fcover_out = spf.replace_column_with_uid(species_fcover_out, uid_table, id_col='plotVisit', uid_col='UID', set_index=False, schema_key='species_fcover')\n",
    "species_fcover_out = spf.format_column_dtypes(species_fcover_out, schema_key='species_fcover')\n",
    "spf.export_dataframe(species_fcover_out, f'output_data/{source}_nonstandard_species_fcover.csv', schema_key='species_fcover', index=False)"
   ]
  },
  {
   "cell_type": "code",
   "execution_count": 134,
   "id": "b42f4d82",
   "metadata": {},
   "outputs": [],
   "source": [
    "# export pft fcover\n",
    "covercols = [col for col in fcover_and_aux.columns if 'Cover' in col]\n",
    "pft_fcover_out = fcover_and_aux[covercols]\n",
    "pft_fcover_out = spf.replace_column_with_uid(pft_fcover_out.reset_index(), uid_table, id_col='plotVisit', uid_col='UID', set_index=True, schema_key='pft_fcover')\n",
    "pft_fcover_out = spf.format_column_dtypes(pft_fcover_out, schema_key='pft_fcover')\n",
    "spf.export_dataframe(pft_fcover_out, f'output_data/{source}_standard_pft_fcover.csv', schema_key='pft_fcover', index=True)"
   ]
  },
  {
   "cell_type": "code",
   "execution_count": 135,
   "id": "5888c78b",
   "metadata": {},
   "outputs": [],
   "source": [
    "# export pft aux\n",
    "auxcols = [col for col in fcover_and_aux.columns if 'Cover' not in col]\n",
    "pft_aux = fcover_and_aux[auxcols]\n",
    "pft_aux = spf.replace_column_with_uid(pft_aux.reset_index(), uid_table, id_col='plotVisit', uid_col='UID', set_index=True, schema_key='pft_aux')\n",
    "pft_aux = spf.format_column_dtypes(pft_aux, schema_key='pft_aux')\n",
    "spf.export_dataframe(pft_aux, f'output_data/{source}_plot_info.csv', schema_key='pft_aux', index=True)"
   ]
  }
 ],
 "metadata": {
  "kernelspec": {
   "display_name": "oldgee",
   "language": "python",
   "name": "python3"
  },
  "language_info": {
   "codemirror_mode": {
    "name": "ipython",
    "version": 3
   },
   "file_extension": ".py",
   "mimetype": "text/x-python",
   "name": "python",
   "nbconvert_exporter": "python",
   "pygments_lexer": "ipython3",
   "version": "3.10.16"
  }
 },
 "nbformat": 4,
 "nbformat_minor": 5
}
