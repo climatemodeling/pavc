{
 "cells": [
  {
   "cell_type": "code",
   "execution_count": 1,
   "id": "fe6004f2-580b-4d6c-ac85-fd2ad05c5c9e",
   "metadata": {},
   "outputs": [],
   "source": [
    "import pandas as pd\n",
    "import numpy as np\n",
    "import rasterio as rio\n",
    "import xarray as xr\n",
    "import rioxarray as xrx\n",
    "import matplotlib.pyplot as plt\n",
    "import seaborn as sns\n",
    "from scipy import stats\n",
    "from sklearn.metrics import mean_squared_error\n",
    "from sklearn.metrics import mean_absolute_error\n",
    "from matplotlib.lines import Line2D \n",
    "from matplotlib.offsetbox import AnchoredText\n",
    "import geopandas as gpd\n",
    "import matplotlib.gridspec as gridspec\n",
    "from matplotlib.ticker import FormatStrFormatter"
   ]
  },
  {
   "cell_type": "code",
   "execution_count": 2,
   "id": "3b83e2b1-1151-4ce8-9f89-3f289d52cbc4",
   "metadata": {},
   "outputs": [],
   "source": [
    "# load sample points\n",
    "path = 'macander_2017_sample_points'\n",
    "points = gpd.read_file(f'{path}/macander_sample_points.shp')\n",
    "points['x'] = points.geometry.x\n",
    "points['y'] = points.geometry.y\n",
    "coords = [(x,y) for x, y in zip(points.x, points.y)]"
   ]
  },
  {
   "cell_type": "code",
   "execution_count": null,
   "id": "a1a4acd8-003f-444b-9823-d99d3238aaa9",
   "metadata": {},
   "outputs": [],
   "source": []
  }
 ],
 "metadata": {
  "kernelspec": {
   "display_name": "Python 3 (ipykernel)",
   "language": "python",
   "name": "python3"
  },
  "language_info": {
   "codemirror_mode": {
    "name": "ipython",
    "version": 3
   },
   "file_extension": ".py",
   "mimetype": "text/x-python",
   "name": "python",
   "nbconvert_exporter": "python",
   "pygments_lexer": "ipython3",
   "version": "3.10.16"
  }
 },
 "nbformat": 4,
 "nbformat_minor": 5
}
