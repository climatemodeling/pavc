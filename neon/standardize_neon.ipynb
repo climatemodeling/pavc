{
 "cells": [
  {
   "cell_type": "markdown",
   "id": "877935d4-408c-4c06-bca7-2aeeb8ce8e5a",
   "metadata": {},
   "source": [
    "# NEON Standardization Notebook\n",
    "---\n",
    "---"
   ]
  },
  {
   "cell_type": "markdown",
   "id": "8cb16c9d-1ed0-4fe8-ad36-e7858240c6f8",
   "metadata": {},
   "source": [
    "# Table of contents\n",
    "1. [PRE-PROCESSING](#preprocess)\n",
    "    1. [Load fcover data](#loadfcover)\n",
    "    2. [Join fcover to species checklist table](#joinchecklist)\n",
    "    3. [Join fcover to leaf retention table](#joinleafretention)\n",
    "    4. [Export species-PFT tables](#exporthabits)\n",
    "    5. [Clean exported species-PFT tables](#cleanhabits)\n",
    "2. [STANDARDIZATION](#standardization)\n",
    "    1. [Standardize PFT names](#pftnames)\n",
    "    2. [Sum species fcover to PFT-level](#sumfcover)\n",
    "    3. [Standardize table layout](#tablelayout)\n",
    "    4. [Standardize auxiliary columns](#aux)\n",
    "        1. [Basic plot information](#basics)\n",
    "        2. [Geographical intersections](#geo)\n",
    "        3. [Duplicate coordinates](#dupes)\n",
    "3. [EXPORT](#export)"
   ]
  },
  {
   "cell_type": "markdown",
   "id": "36181670-f840-4728-9178-2dfc9c68081e",
   "metadata": {},
   "source": [
    "# Load required packages"
   ]
  },
  {
   "cell_type": "code",
   "execution_count": 113,
   "id": "ebe57879-c575-4632-8e68-74e72fe6f0db",
   "metadata": {},
   "outputs": [],
   "source": [
    "import geopandas as gpd\n",
    "import pandas as pd\n",
    "import numpy as np\n",
    "from pyogrio import read_dataframe\n",
    "import geopandas as gpd\n",
    "import sys\n",
    "import os\n",
    "from urllib.request import urlretrieve\n",
    "from shapely.validation import make_valid\n",
    "import importlib"
   ]
  },
  {
   "cell_type": "code",
   "execution_count": 114,
   "id": "77548174-b901-4e02-a5bd-d2798e2bf4de",
   "metadata": {},
   "outputs": [
    {
     "data": {
      "text/plain": [
       "<module 'standardize_pft_funcs' from '/mnt/poseidon/remotesensing/arctic/alaska_pft_fcover_harmonization/standardize_pft_funcs.py'>"
      ]
     },
     "execution_count": 114,
     "metadata": {},
     "output_type": "execute_result"
    }
   ],
   "source": [
    "# import local functions\n",
    "current_dir = os.path.abspath('..')\n",
    "if current_dir not in sys.path:\n",
    "    sys.path.append(current_dir)\n",
    "import standardize_pft_funcs as spf\n",
    "importlib.reload(spf)"
   ]
  },
  {
   "cell_type": "markdown",
   "id": "9d565853-04d5-4c36-bb28-00d6dcf76bbd",
   "metadata": {},
   "source": [
    "---\n",
    "---\n",
    "# 1. Pre-processing <a name=\"preprocess\"></a>\n",
    "First, we have to:\n",
    "- Use the NEON API to assign coordinates to the plots\n",
    "- Merge all our files into one `neon_cover_BARR_TOOL_1m2Data_YYYY-YYYY.csv\n",
    "    - Every time you add a new year, run the commented out code below to make a new file\n",
    "    - I would just append the new file to the old one unless there were some other updates to previous data"
   ]
  },
  {
   "cell_type": "markdown",
   "id": "2aaf5791-8286-4a60-b2af-0d34790cef9e",
   "metadata": {},
   "source": [
    "### A. Get coordinates for each plot"
   ]
  },
  {
   "cell_type": "code",
   "execution_count": 115,
   "id": "7c73249f-1281-4cf1-b69e-11595dac1da8",
   "metadata": {},
   "outputs": [],
   "source": [
    "# ONLY NEED TO DO THIS ONCE! (Unless you just downloaded a new year of data I suppose)\n",
    "# In that case, just run this for the one year and make new version of\n",
    "# neon_cover_BARR_TOOL_1m2Data_2016-YYYY.csv and set YYYY to year you just added\n",
    "\n",
    "# # Get the raw data files with no lat/lon\n",
    "# base_dir = 'input_data/raw'\n",
    "# file_paths = sorted(glob.glob(os.path.join(base_dir, \"**\", \"*div_1m2Data*.csv\"), recursive=True))\n",
    "\n",
    "# dfs = []\n",
    "# for file in file_paths:\n",
    "#     df = read_dataframe(file)\n",
    "#     dfs.append(df)\n",
    "\n",
    "# DIR = 'input_data'\n",
    "# spf.neon_plot_centroids(dfs, file_paths, DIR)"
   ]
  },
  {
   "cell_type": "markdown",
   "id": "2531c66e-f66b-4316-97b2-6a46b3b1b30c",
   "metadata": {},
   "source": [
    "---\n",
    "## 1.1. Load fcover data <a name=\"loadfcover\"></a>"
   ]
  },
  {
   "cell_type": "code",
   "execution_count": 116,
   "id": "17334e1e",
   "metadata": {},
   "outputs": [],
   "source": [
    "# throughout the script this will help keep my indices matching\n",
    "def normalize_to_int_str(val):\n",
    "    try:\n",
    "        f = float(val)\n",
    "        i = int(f)\n",
    "        if f == i:\n",
    "            return str(i)\n",
    "    except (ValueError, TypeError):\n",
    "        pass\n",
    "    return str(val)"
   ]
  },
  {
   "cell_type": "code",
   "execution_count": 117,
   "id": "ed520418-515e-4d2d-afdd-df7b98227c32",
   "metadata": {},
   "outputs": [],
   "source": [
    "source = 'neon'"
   ]
  },
  {
   "cell_type": "code",
   "execution_count": 118,
   "id": "87d11f33-0e08-44ed-bcf4-77798b8169fa",
   "metadata": {},
   "outputs": [],
   "source": [
    "# get data\n",
    "aux = pd.read_csv(f'../{source}/input_data/neon_cover_BARR_TOOL_1m2Data_2016-2023.csv', low_memory=False)\n",
    "fcover = aux.copy()\n",
    "\n",
    "# select 2021 (PAVC v1.1)\n",
    "fcover['endDate'] = pd.to_datetime(fcover['endDate'], errors='coerce')\n",
    "fcover = fcover[fcover['endDate'].dt.year == 2021]"
   ]
  },
  {
   "cell_type": "code",
   "execution_count": 119,
   "id": "ff17ab74-2de4-4325-aef4-e92f20a08691",
   "metadata": {},
   "outputs": [
    {
     "data": {
      "text/html": [
       "<div>\n",
       "<style scoped>\n",
       "    .dataframe tbody tr th:only-of-type {\n",
       "        vertical-align: middle;\n",
       "    }\n",
       "\n",
       "    .dataframe tbody tr th {\n",
       "        vertical-align: top;\n",
       "    }\n",
       "\n",
       "    .dataframe thead th {\n",
       "        text-align: right;\n",
       "    }\n",
       "</style>\n",
       "<table border=\"1\" class=\"dataframe\">\n",
       "  <thead>\n",
       "    <tr style=\"text-align: right;\">\n",
       "      <th></th>\n",
       "      <th>plotVisit</th>\n",
       "      <th>scientificName</th>\n",
       "      <th>otherVariables</th>\n",
       "      <th>percentCover</th>\n",
       "    </tr>\n",
       "  </thead>\n",
       "  <tbody>\n",
       "    <tr>\n",
       "      <th>8357</th>\n",
       "      <td>BARR_003.basePlot.div.31_1_1.BARR.1.2021</td>\n",
       "      <td>Arctophila fulva (Trin.) Rupr. ex Andersson</td>\n",
       "      <td>NaN</td>\n",
       "      <td>13.0</td>\n",
       "    </tr>\n",
       "    <tr>\n",
       "      <th>8358</th>\n",
       "      <td>BARR_003.basePlot.div.32_1_2.BARR.1.2021</td>\n",
       "      <td>NaN</td>\n",
       "      <td>scat</td>\n",
       "      <td>0.5</td>\n",
       "    </tr>\n",
       "    <tr>\n",
       "      <th>8359</th>\n",
       "      <td>BARR_003.basePlot.div.32_1_2.BARR.1.2021</td>\n",
       "      <td>Poaceae sp.</td>\n",
       "      <td>NaN</td>\n",
       "      <td>0.5</td>\n",
       "    </tr>\n",
       "  </tbody>\n",
       "</table>\n",
       "</div>"
      ],
      "text/plain": [
       "                                     plotVisit  \\\n",
       "8357  BARR_003.basePlot.div.31_1_1.BARR.1.2021   \n",
       "8358  BARR_003.basePlot.div.32_1_2.BARR.1.2021   \n",
       "8359  BARR_003.basePlot.div.32_1_2.BARR.1.2021   \n",
       "\n",
       "                                   scientificName otherVariables  percentCover  \n",
       "8357  Arctophila fulva (Trin.) Rupr. ex Andersson            NaN          13.0  \n",
       "8358                                          NaN           scat           0.5  \n",
       "8359                                  Poaceae sp.            NaN           0.5  "
      ]
     },
     "execution_count": 119,
     "metadata": {},
     "output_type": "execute_result"
    }
   ],
   "source": [
    "fcover['plotVisit'] = fcover['namedLocation'] + '.' + fcover['subplotID'] + '.' + fcover['eventID']\n",
    "fcover['plotVisit'] = fcover['plotVisit'].apply(normalize_to_int_str)\n",
    "fcover['plotName'] = fcover['namedLocation'] + '.' + fcover['subplotID']\n",
    "fcover = fcover[['plotVisit', 'scientificName', 'otherVariables', 'percentCover']]\n",
    "fcover.head(3)"
   ]
  },
  {
   "cell_type": "code",
   "execution_count": 120,
   "id": "5b6925a6",
   "metadata": {},
   "outputs": [
    {
     "data": {
      "text/plain": [
       "array([nan, 'scat', 'litter', 'water', 'other', 'standingDeadHerbaceous',\n",
       "       'moss', 'lichen', 'soil', 'otherNonVascular', 'standingDeadWoody',\n",
       "       'rock'], dtype=object)"
      ]
     },
     "execution_count": 120,
     "metadata": {},
     "output_type": "execute_result"
    }
   ],
   "source": [
    "fcover['otherVariables'].unique()"
   ]
  },
  {
   "cell_type": "code",
   "execution_count": 121,
   "id": "1e81abe9-023a-4ff2-bba7-cdbf0b520822",
   "metadata": {},
   "outputs": [
    {
     "data": {
      "text/html": [
       "<div>\n",
       "<style scoped>\n",
       "    .dataframe tbody tr th:only-of-type {\n",
       "        vertical-align: middle;\n",
       "    }\n",
       "\n",
       "    .dataframe tbody tr th {\n",
       "        vertical-align: top;\n",
       "    }\n",
       "\n",
       "    .dataframe thead th {\n",
       "        text-align: right;\n",
       "    }\n",
       "</style>\n",
       "<table border=\"1\" class=\"dataframe\">\n",
       "  <thead>\n",
       "    <tr style=\"text-align: right;\">\n",
       "      <th></th>\n",
       "      <th>plotVisit</th>\n",
       "      <th>datasetSpeciesName</th>\n",
       "      <th>percentCover</th>\n",
       "    </tr>\n",
       "  </thead>\n",
       "  <tbody>\n",
       "    <tr>\n",
       "      <th>8357</th>\n",
       "      <td>BARR_003.basePlot.div.31_1_1.BARR.1.2021</td>\n",
       "      <td>Arctophila fulva (Trin.) Rupr. ex Andersson</td>\n",
       "      <td>13.0</td>\n",
       "    </tr>\n",
       "    <tr>\n",
       "      <th>8358</th>\n",
       "      <td>BARR_003.basePlot.div.32_1_2.BARR.1.2021</td>\n",
       "      <td>scat</td>\n",
       "      <td>0.5</td>\n",
       "    </tr>\n",
       "    <tr>\n",
       "      <th>8359</th>\n",
       "      <td>BARR_003.basePlot.div.32_1_2.BARR.1.2021</td>\n",
       "      <td>Poaceae sp.</td>\n",
       "      <td>0.5</td>\n",
       "    </tr>\n",
       "  </tbody>\n",
       "</table>\n",
       "</div>"
      ],
      "text/plain": [
       "                                     plotVisit  \\\n",
       "8357  BARR_003.basePlot.div.31_1_1.BARR.1.2021   \n",
       "8358  BARR_003.basePlot.div.32_1_2.BARR.1.2021   \n",
       "8359  BARR_003.basePlot.div.32_1_2.BARR.1.2021   \n",
       "\n",
       "                               datasetSpeciesName  percentCover  \n",
       "8357  Arctophila fulva (Trin.) Rupr. ex Andersson          13.0  \n",
       "8358                                         scat           0.5  \n",
       "8359                                  Poaceae sp.           0.5  "
      ]
     },
     "execution_count": 121,
     "metadata": {},
     "output_type": "execute_result"
    }
   ],
   "source": [
    "# scientific names are species, \"other variables\" are broad categories like \"moss\"\n",
    "# we want to keep both\n",
    "fcover['speciesName'] = fcover['scientificName'].combine_first(fcover['otherVariables'])\n",
    "fcover = fcover[['plotVisit', 'speciesName', 'percentCover']]\n",
    "fcover = fcover.rename(columns={'speciesName':'datasetSpeciesName'})\n",
    "fcover.head(3)"
   ]
  },
  {
   "cell_type": "code",
   "execution_count": 122,
   "id": "e4e79b78-a122-46e8-a366-2753060b4f80",
   "metadata": {},
   "outputs": [
    {
     "name": "stdout",
     "output_type": "stream",
     "text": [
      "123\n"
     ]
    }
   ],
   "source": [
    "# get unique species names from narrowed down list\n",
    "u_species_names = fcover['datasetSpeciesName'].unique()\n",
    "print(len(u_species_names))\n",
    "species_names_df = pd.DataFrame(u_species_names, columns=['datasetSpeciesName'])"
   ]
  },
  {
   "cell_type": "markdown",
   "id": "c2bc58a8-eba3-4415-9781-d5481f7b0901",
   "metadata": {},
   "source": [
    "---\n",
    "## 1.2. Join fcover to species checklist table <a name=\"joinchecklist\"></a>"
   ]
  },
  {
   "cell_type": "code",
   "execution_count": 123,
   "id": "1c5ef908-8ec9-4ad3-820c-d4c248634cca",
   "metadata": {},
   "outputs": [
    {
     "data": {
      "text/html": [
       "<div>\n",
       "<style scoped>\n",
       "    .dataframe tbody tr th:only-of-type {\n",
       "        vertical-align: middle;\n",
       "    }\n",
       "\n",
       "    .dataframe tbody tr th {\n",
       "        vertical-align: top;\n",
       "    }\n",
       "\n",
       "    .dataframe thead th {\n",
       "        text-align: right;\n",
       "    }\n",
       "</style>\n",
       "<table border=\"1\" class=\"dataframe\">\n",
       "  <thead>\n",
       "    <tr style=\"text-align: right;\">\n",
       "      <th></th>\n",
       "      <th>nameCode</th>\n",
       "      <th>checklistSpeciesName</th>\n",
       "      <th>nameStatus</th>\n",
       "      <th>nameAccepted</th>\n",
       "      <th>nameFamily</th>\n",
       "      <th>acceptedNameSource</th>\n",
       "      <th>nameLevel</th>\n",
       "      <th>speciesForm</th>\n",
       "      <th>speciesHabit</th>\n",
       "    </tr>\n",
       "  </thead>\n",
       "  <tbody>\n",
       "    <tr>\n",
       "      <th>0</th>\n",
       "      <td>abroth</td>\n",
       "      <td>Abrothallus De Not.</td>\n",
       "      <td>accepted</td>\n",
       "      <td>Abrothallus De Not.</td>\n",
       "      <td>Abrothallaceae</td>\n",
       "      <td>CNALH</td>\n",
       "      <td>genus</td>\n",
       "      <td>lichen</td>\n",
       "      <td>lichen</td>\n",
       "    </tr>\n",
       "    <tr>\n",
       "      <th>1</th>\n",
       "      <td>abrpar</td>\n",
       "      <td>Abrothallus parmeliarum (Sommerf.) Arnold</td>\n",
       "      <td>accepted</td>\n",
       "      <td>Abrothallus parmeliarum (Sommerf.) Arnold</td>\n",
       "      <td>Abrothallaceae</td>\n",
       "      <td>CNALH</td>\n",
       "      <td>species</td>\n",
       "      <td>lichen</td>\n",
       "      <td>lichen</td>\n",
       "    </tr>\n",
       "    <tr>\n",
       "      <th>2</th>\n",
       "      <td>abrpey</td>\n",
       "      <td>Abrothallus peyritschii (Stein) Kotte</td>\n",
       "      <td>accepted</td>\n",
       "      <td>Abrothallus peyritschii (Stein) Kotte</td>\n",
       "      <td>Abrothallaceae</td>\n",
       "      <td>Dillman et al. 2012</td>\n",
       "      <td>species</td>\n",
       "      <td>lichen</td>\n",
       "      <td>lichen</td>\n",
       "    </tr>\n",
       "  </tbody>\n",
       "</table>\n",
       "</div>"
      ],
      "text/plain": [
       "  nameCode                       checklistSpeciesName nameStatus  \\\n",
       "0   abroth                        Abrothallus De Not.   accepted   \n",
       "1   abrpar  Abrothallus parmeliarum (Sommerf.) Arnold   accepted   \n",
       "2   abrpey      Abrothallus peyritschii (Stein) Kotte   accepted   \n",
       "\n",
       "                                nameAccepted      nameFamily  \\\n",
       "0                        Abrothallus De Not.  Abrothallaceae   \n",
       "1  Abrothallus parmeliarum (Sommerf.) Arnold  Abrothallaceae   \n",
       "2      Abrothallus peyritschii (Stein) Kotte  Abrothallaceae   \n",
       "\n",
       "    acceptedNameSource nameLevel speciesForm speciesHabit  \n",
       "0                CNALH     genus      lichen       lichen  \n",
       "1                CNALH   species      lichen       lichen  \n",
       "2  Dillman et al. 2012   species      lichen       lichen  "
      ]
     },
     "execution_count": 123,
     "metadata": {},
     "output_type": "execute_result"
    }
   ],
   "source": [
    "# load species checklist and prep for joining\n",
    "checklist_path = f'../etc/akveg_species_checklist.csv'\n",
    "checklist_df = spf.checklist_df(checklist_path)\n",
    "checklist_df.head(3)"
   ]
  },
  {
   "cell_type": "code",
   "execution_count": 124,
   "id": "ed04ae66-b596-4bcd-bda4-9819a47be4c6",
   "metadata": {},
   "outputs": [
    {
     "data": {
      "text/html": [
       "<div>\n",
       "<style scoped>\n",
       "    .dataframe tbody tr th:only-of-type {\n",
       "        vertical-align: middle;\n",
       "    }\n",
       "\n",
       "    .dataframe tbody tr th {\n",
       "        vertical-align: top;\n",
       "    }\n",
       "\n",
       "    .dataframe thead th {\n",
       "        text-align: right;\n",
       "    }\n",
       "</style>\n",
       "<table border=\"1\" class=\"dataframe\">\n",
       "  <thead>\n",
       "    <tr style=\"text-align: right;\">\n",
       "      <th></th>\n",
       "      <th>datasetSpeciesName</th>\n",
       "    </tr>\n",
       "  </thead>\n",
       "  <tbody>\n",
       "    <tr>\n",
       "      <th>0</th>\n",
       "      <td>Arctophila fulva (Trin.) Rupr. ex Andersson</td>\n",
       "    </tr>\n",
       "    <tr>\n",
       "      <th>1</th>\n",
       "      <td>scat</td>\n",
       "    </tr>\n",
       "    <tr>\n",
       "      <th>2</th>\n",
       "      <td>Poaceae sp.</td>\n",
       "    </tr>\n",
       "  </tbody>\n",
       "</table>\n",
       "</div>"
      ],
      "text/plain": [
       "                            datasetSpeciesName\n",
       "0  Arctophila fulva (Trin.) Rupr. ex Andersson\n",
       "1                                         scat\n",
       "2                                  Poaceae sp."
      ]
     },
     "execution_count": 124,
     "metadata": {},
     "output_type": "execute_result"
    }
   ],
   "source": [
    "species_names_df.head(3)"
   ]
  },
  {
   "cell_type": "code",
   "execution_count": 125,
   "id": "7add8ae9-c2f4-491c-bf96-3acde27112b8",
   "metadata": {},
   "outputs": [
    {
     "name": "stdout",
     "output_type": "stream",
     "text": [
      "49 species are missing habits.\n",
      "26 species still missing habits.\n",
      "15 species still missing habits.\n",
      "14 species still missing habits.\n"
     ]
    },
    {
     "data": {
      "text/html": [
       "<div>\n",
       "<style scoped>\n",
       "    .dataframe tbody tr th:only-of-type {\n",
       "        vertical-align: middle;\n",
       "    }\n",
       "\n",
       "    .dataframe tbody tr th {\n",
       "        vertical-align: top;\n",
       "    }\n",
       "\n",
       "    .dataframe thead th {\n",
       "        text-align: right;\n",
       "    }\n",
       "</style>\n",
       "<table border=\"1\" class=\"dataframe\">\n",
       "  <thead>\n",
       "    <tr style=\"text-align: right;\">\n",
       "      <th></th>\n",
       "      <th>datasetSpeciesName</th>\n",
       "      <th>joinKey</th>\n",
       "      <th>speciesHabit</th>\n",
       "    </tr>\n",
       "    <tr>\n",
       "      <th>index</th>\n",
       "      <th></th>\n",
       "      <th></th>\n",
       "      <th></th>\n",
       "    </tr>\n",
       "  </thead>\n",
       "  <tbody>\n",
       "    <tr>\n",
       "      <th>0</th>\n",
       "      <td>Arctophila fulva (Trin.) Rupr. ex Andersson</td>\n",
       "      <td>Arctophila fulva</td>\n",
       "      <td>graminoid</td>\n",
       "    </tr>\n",
       "    <tr>\n",
       "      <th>1</th>\n",
       "      <td>scat</td>\n",
       "      <td>scat</td>\n",
       "      <td>NaN</td>\n",
       "    </tr>\n",
       "    <tr>\n",
       "      <th>2</th>\n",
       "      <td>Poaceae sp.</td>\n",
       "      <td>Poaceae sp.</td>\n",
       "      <td>NaN</td>\n",
       "    </tr>\n",
       "  </tbody>\n",
       "</table>\n",
       "</div>"
      ],
      "text/plain": [
       "                                datasetSpeciesName           joinKey  \\\n",
       "index                                                                  \n",
       "0      Arctophila fulva (Trin.) Rupr. ex Andersson  Arctophila fulva   \n",
       "1                                             scat              scat   \n",
       "2                                      Poaceae sp.       Poaceae sp.   \n",
       "\n",
       "      speciesHabit  \n",
       "index               \n",
       "0        graminoid  \n",
       "1              NaN  \n",
       "2              NaN  "
      ]
     },
     "execution_count": 125,
     "metadata": {},
     "output_type": "execute_result"
    }
   ],
   "source": [
    "# get first 2 words (genus-species) from checklist accepted name and data species name\n",
    "checklist_df['joinKey'] = checklist_df['checklistSpeciesName'].apply(spf.get_substrings)\n",
    "species_names_df['joinKey'] = species_names_df['datasetSpeciesName'].apply(spf.get_substrings)\n",
    "habits = spf.join_to_checklist(unique_species=species_names_df, \n",
    "                               checklist=checklist_df, \n",
    "                               u_name='datasetSpeciesName', \n",
    "                               c_unofficial_name='checklistSpeciesName', \n",
    "                               c_official_name='nameAccepted', \n",
    "                               mapping_name='joinKey',\n",
    "                               habit='speciesHabit')\n",
    "habits.head(3)"
   ]
  },
  {
   "cell_type": "code",
   "execution_count": 126,
   "id": "76c312d0-ad0a-4804-9119-cd1c62dc75ab",
   "metadata": {},
   "outputs": [
    {
     "data": {
      "text/html": [
       "<div>\n",
       "<style scoped>\n",
       "    .dataframe tbody tr th:only-of-type {\n",
       "        vertical-align: middle;\n",
       "    }\n",
       "\n",
       "    .dataframe tbody tr th {\n",
       "        vertical-align: top;\n",
       "    }\n",
       "\n",
       "    .dataframe thead th {\n",
       "        text-align: right;\n",
       "    }\n",
       "</style>\n",
       "<table border=\"1\" class=\"dataframe\">\n",
       "  <thead>\n",
       "    <tr style=\"text-align: right;\">\n",
       "      <th></th>\n",
       "      <th>datasetSpeciesName</th>\n",
       "      <th>joinKey</th>\n",
       "    </tr>\n",
       "  </thead>\n",
       "  <tbody>\n",
       "    <tr>\n",
       "      <th>0</th>\n",
       "      <td>Arctophila fulva (Trin.) Rupr. ex Andersson</td>\n",
       "      <td>Arctophila fulva</td>\n",
       "    </tr>\n",
       "    <tr>\n",
       "      <th>1</th>\n",
       "      <td>scat</td>\n",
       "      <td>scat</td>\n",
       "    </tr>\n",
       "    <tr>\n",
       "      <th>2</th>\n",
       "      <td>Poaceae sp.</td>\n",
       "      <td>Poaceae sp.</td>\n",
       "    </tr>\n",
       "  </tbody>\n",
       "</table>\n",
       "</div>"
      ],
      "text/plain": [
       "                            datasetSpeciesName           joinKey\n",
       "0  Arctophila fulva (Trin.) Rupr. ex Andersson  Arctophila fulva\n",
       "1                                         scat              scat\n",
       "2                                  Poaceae sp.       Poaceae sp."
      ]
     },
     "execution_count": 126,
     "metadata": {},
     "output_type": "execute_result"
    }
   ],
   "source": [
    "species_names_df.head(3)"
   ]
  },
  {
   "cell_type": "code",
   "execution_count": 127,
   "id": "884d6474-fca1-4c9b-a137-20a3612d73cd",
   "metadata": {},
   "outputs": [],
   "source": [
    "habits = species_names_df.merge(habits, how='left', left_on='datasetSpeciesName', right_on='datasetSpeciesName', suffixes=(None, '_1'))\n",
    "habits = habits[['joinKey', 'datasetSpeciesName', 'speciesHabit']]"
   ]
  },
  {
   "cell_type": "markdown",
   "id": "a622d899-d71a-4205-ac62-c0409887b4cb",
   "metadata": {},
   "source": [
    "---\n",
    "## 1.3. Join fcover to leaf retention table <a name=\"joinleafretention\"></a>"
   ]
  },
  {
   "cell_type": "code",
   "execution_count": 128,
   "id": "58dc936e-ef05-48c1-ac28-5a76e7ed2744",
   "metadata": {},
   "outputs": [
    {
     "data": {
      "text/html": [
       "<div>\n",
       "<style scoped>\n",
       "    .dataframe tbody tr th:only-of-type {\n",
       "        vertical-align: middle;\n",
       "    }\n",
       "\n",
       "    .dataframe tbody tr th {\n",
       "        vertical-align: top;\n",
       "    }\n",
       "\n",
       "    .dataframe thead th {\n",
       "        text-align: right;\n",
       "    }\n",
       "</style>\n",
       "<table border=\"1\" class=\"dataframe\">\n",
       "  <thead>\n",
       "    <tr style=\"text-align: right;\">\n",
       "      <th></th>\n",
       "      <th>leafRetention</th>\n",
       "      <th>retentionSpeciesName</th>\n",
       "    </tr>\n",
       "  </thead>\n",
       "  <tbody>\n",
       "    <tr>\n",
       "      <th>0</th>\n",
       "      <td>deciduous</td>\n",
       "      <td>Salix</td>\n",
       "    </tr>\n",
       "    <tr>\n",
       "      <th>1</th>\n",
       "      <td>deciduous</td>\n",
       "      <td>Betula nana</td>\n",
       "    </tr>\n",
       "    <tr>\n",
       "      <th>2</th>\n",
       "      <td>deciduous</td>\n",
       "      <td>Vaccinium uliginosum</td>\n",
       "    </tr>\n",
       "  </tbody>\n",
       "</table>\n",
       "</div>"
      ],
      "text/plain": [
       "  leafRetention  retentionSpeciesName\n",
       "0     deciduous                 Salix\n",
       "1     deciduous           Betula nana\n",
       "2     deciduous  Vaccinium uliginosum"
      ]
     },
     "execution_count": 128,
     "metadata": {},
     "output_type": "execute_result"
    }
   ],
   "source": [
    "leaf_df = spf.leaf_retention_df('../etc/macander_leaf_retention.csv')\n",
    "leaf_df.head(3)"
   ]
  },
  {
   "cell_type": "code",
   "execution_count": 129,
   "id": "81c9b832-465e-4139-b2fa-8f0095f078f1",
   "metadata": {},
   "outputs": [
    {
     "data": {
      "text/html": [
       "<div>\n",
       "<style scoped>\n",
       "    .dataframe tbody tr th:only-of-type {\n",
       "        vertical-align: middle;\n",
       "    }\n",
       "\n",
       "    .dataframe tbody tr th {\n",
       "        vertical-align: top;\n",
       "    }\n",
       "\n",
       "    .dataframe thead th {\n",
       "        text-align: right;\n",
       "    }\n",
       "</style>\n",
       "<table border=\"1\" class=\"dataframe\">\n",
       "  <thead>\n",
       "    <tr style=\"text-align: right;\">\n",
       "      <th></th>\n",
       "      <th>datasetSpeciesName</th>\n",
       "      <th>joinKey</th>\n",
       "      <th>speciesHabit</th>\n",
       "      <th>leafRetention</th>\n",
       "    </tr>\n",
       "  </thead>\n",
       "  <tbody>\n",
       "    <tr>\n",
       "      <th>0</th>\n",
       "      <td>Arctophila fulva (Trin.) Rupr. ex Andersson</td>\n",
       "      <td>Arctophila fulva</td>\n",
       "      <td>graminoid</td>\n",
       "      <td></td>\n",
       "    </tr>\n",
       "    <tr>\n",
       "      <th>1</th>\n",
       "      <td>scat</td>\n",
       "      <td>scat</td>\n",
       "      <td>NaN</td>\n",
       "      <td></td>\n",
       "    </tr>\n",
       "    <tr>\n",
       "      <th>2</th>\n",
       "      <td>Poaceae sp.</td>\n",
       "      <td>Poaceae sp.</td>\n",
       "      <td>NaN</td>\n",
       "      <td></td>\n",
       "    </tr>\n",
       "  </tbody>\n",
       "</table>\n",
       "</div>"
      ],
      "text/plain": [
       "                            datasetSpeciesName           joinKey speciesHabit  \\\n",
       "0  Arctophila fulva (Trin.) Rupr. ex Andersson  Arctophila fulva    graminoid   \n",
       "1                                         scat              scat          NaN   \n",
       "2                                  Poaceae sp.       Poaceae sp.          NaN   \n",
       "\n",
       "  leafRetention  \n",
       "0                \n",
       "1                \n",
       "2                "
      ]
     },
     "execution_count": 129,
     "metadata": {},
     "output_type": "execute_result"
    }
   ],
   "source": [
    "# add leaf retention column\n",
    "habits_wleaf = spf.add_leaf_retention(habits, leaf_df, 'leafRetention')\n",
    "habits_wleaf = habits_wleaf[['datasetSpeciesName', 'joinKey', 'speciesHabit', 'leafRetention']]\n",
    "habits_wleaf.head(3)"
   ]
  },
  {
   "cell_type": "code",
   "execution_count": 130,
   "id": "61bc9738-4ace-483f-a883-b78d5225326d",
   "metadata": {},
   "outputs": [
    {
     "data": {
      "text/plain": [
       "['graminoid', 'shrub', 'forb', nan, 'spore-bearing']"
      ]
     },
     "execution_count": 130,
     "metadata": {},
     "output_type": "execute_result"
    }
   ],
   "source": [
    "# apply function and sort by species name\n",
    "habits_wleaf['speciesHabit'] = habits_wleaf['speciesHabit'].apply(spf.clean_shrub_habits)\n",
    "habits_wleaf = habits_wleaf.sort_values(by='datasetSpeciesName')\n",
    "list(habits_wleaf['speciesHabit'].unique())"
   ]
  },
  {
   "cell_type": "markdown",
   "id": "e2189641-06ed-4431-8be9-fe5f2af89ab0",
   "metadata": {},
   "source": [
    "---\n",
    "## 1.4. Export species-PFT tables <a name=\"exporthabits\"></a>"
   ]
  },
  {
   "cell_type": "code",
   "execution_count": 131,
   "id": "562082ce-a87b-441f-9aa7-f70489994b8b",
   "metadata": {},
   "outputs": [],
   "source": [
    "# generate 3 files and dataframe of habit types\n",
    "shrubs, nonshrubs, null = spf.export_habit_files(habits_wleaf,\n",
    "                                                 'temp_data', \n",
    "                                                 source, \n",
    "                                                 'speciesHabit')"
   ]
  },
  {
   "cell_type": "code",
   "execution_count": 132,
   "id": "9fcd3119-39fe-47b8-9b67-b309ef719e74",
   "metadata": {},
   "outputs": [
    {
     "data": {
      "text/plain": [
       "True"
      ]
     },
     "execution_count": 132,
     "metadata": {},
     "output_type": "execute_result"
    }
   ],
   "source": [
    "# check to make sure the files make sense\n",
    "len(habits_wleaf) == (len(null) + len(nonshrubs) + len(shrubs))"
   ]
  },
  {
   "cell_type": "markdown",
   "id": "1fd6b015-b6e6-4a50-a4ad-86313dbaabc1",
   "metadata": {},
   "source": [
    "---\n",
    "## 1.5. Clean exported species-PFT tables <a name=\"cleanhabits\"></a>\n",
    "Here, we manually assessed each file. The nonshrubs were usually correct and did not have to be adjusted. Some shrubs were missing leaf retention information, so we consulted with arctic ecologists to determine it. For unknown (null) habits, we consulted arctic ecology expert, Amy Breen, to determine the issue and correct habit. After the tables were complete, all species names had a single associated habit.\n",
    "- null habits\n",
    "    - assign missing habits and consult ecologist when needed\n",
    "- non-shrubs\n",
    "    - assign leaf habit to all trees (ctrl-f to find all trees in excel)\n",
    "        - coniferous tree = evergreen\n",
    "        - deciduous tree  = deciduous\n",
    "    - remove leaf habit if misapplied\n",
    "- shrubs\n",
    "    - check current leaf habits and correct if necessary\n",
    "    - fill empty leaf habits\n",
    "    - choose leaf habit if both evergreen & deciduous listed\n",
    "    - add Stature column (dwarf shrub or not)"
   ]
  },
  {
   "cell_type": "markdown",
   "id": "2a30f2ff-44b7-43d4-9615-25a874cf5fb0",
   "metadata": {},
   "source": [
    "---\n",
    "---\n",
    "# 2. Standardization <a name=\"standardization\"></a>"
   ]
  },
  {
   "cell_type": "markdown",
   "id": "c03c4f51-3434-4bcb-86ba-c342c53fff6d",
   "metadata": {},
   "source": [
    "---\n",
    "## 2.1. Standardize PFT names <a name=\"pftnames\"></a>\n",
    "deciduous shrub, evergreen shrub, graminoid, forb, litter, non-vascular (lichen, brophyte)"
   ]
  },
  {
   "cell_type": "code",
   "execution_count": 133,
   "id": "f9ba4445-418f-419c-bfc3-5c8f514dd4d2",
   "metadata": {},
   "outputs": [],
   "source": [
    "# paths to visually assessed and cleaned habit files\n",
    "all_habit_types = [f'temp_data/{source}_nonshrubs_01.csv',\n",
    "                   f'temp_data/{source}_shrubs_01.csv',\n",
    "                   f'temp_data/{source}_nullhabit_01.csv']\n",
    "\n",
    "# create list of habit dataframes\n",
    "habit_dfs = []\n",
    "for path in all_habit_types:\n",
    "    habit_df = pd.read_csv(path, index_col=0)\n",
    "    habit_dfs.append(habit_df)\n",
    "all_habits = pd.concat(habit_dfs)"
   ]
  },
  {
   "cell_type": "code",
   "execution_count": 134,
   "id": "4d3b73f9-b6d8-444b-b21c-1bfc9f365b08",
   "metadata": {},
   "outputs": [
    {
     "data": {
      "text/plain": [
       "['forb',\n",
       " 'graminoid',\n",
       " 'spore-bearing',\n",
       " 'lichen',\n",
       " 'shrub',\n",
       " 'unknown',\n",
       " 'cyanobacteria',\n",
       " 'moss',\n",
       " 'fungus',\n",
       " 'litter',\n",
       " 'other',\n",
       " 'rock',\n",
       " 'salt',\n",
       " 'soil',\n",
       " 'dead',\n",
       " 'water',\n",
       " 'wood']"
      ]
     },
     "execution_count": 134,
     "metadata": {},
     "output_type": "execute_result"
    }
   ],
   "source": [
    "# show unique habit names we're working with\n",
    "all_habits['speciesHabit'].unique().tolist()"
   ]
  },
  {
   "cell_type": "code",
   "execution_count": 135,
   "id": "94664ec4-91b7-479c-9629-6bffdef32a1e",
   "metadata": {},
   "outputs": [],
   "source": [
    "# akveg-specific habit name standardization function\n",
    "def standardize_habit(habitrow, leafrow):\n",
    "    \n",
    "    habitrow = habitrow.to_numpy()\n",
    "    leafrow = leafrow.to_numpy()\n",
    "    new_row = []\n",
    "    \n",
    "    for habit, leaf in zip(habitrow, leafrow):\n",
    "        \n",
    "        habit = habit.lower() \n",
    "        # non-shrubs\n",
    "        others = ['unknown', 'cyanobacteria', 'fungus', 'dead', 'wood']\n",
    "        if any(other in habit for other in others):\n",
    "            new_habit = 'other'\n",
    "        elif 'moss' in habit or 'liverwort' in habit:\n",
    "            new_habit = 'bryophyte'\n",
    "        elif 'spore-bearing' in habit:\n",
    "            new_habit = 'forb'\n",
    "        elif 'rock' in habit or 'soil' in habit or 'salt' in habit:\n",
    "            new_habit = 'bare ground'\n",
    "            \n",
    "        # shrubs\n",
    "        elif 'shrub' in habit:\n",
    "            new_habit = f'{leaf} shrub'\n",
    "            \n",
    "        else:\n",
    "            new_habit = f'{habit}'\n",
    "        new_row.append(new_habit)\n",
    "    \n",
    "    return new_row"
   ]
  },
  {
   "cell_type": "code",
   "execution_count": 136,
   "id": "3a982b51-a464-43b4-90d5-f498d4eb1c12",
   "metadata": {},
   "outputs": [
    {
     "name": "stdout",
     "output_type": "stream",
     "text": [
      "234\n"
     ]
    },
    {
     "data": {
      "text/html": [
       "<div>\n",
       "<style scoped>\n",
       "    .dataframe tbody tr th:only-of-type {\n",
       "        vertical-align: middle;\n",
       "    }\n",
       "\n",
       "    .dataframe tbody tr th {\n",
       "        vertical-align: top;\n",
       "    }\n",
       "\n",
       "    .dataframe thead th {\n",
       "        text-align: right;\n",
       "    }\n",
       "</style>\n",
       "<table border=\"1\" class=\"dataframe\">\n",
       "  <thead>\n",
       "    <tr style=\"text-align: right;\">\n",
       "      <th></th>\n",
       "      <th>datasetSpeciesName</th>\n",
       "      <th>joinKey</th>\n",
       "      <th>nonstandardHabit</th>\n",
       "      <th>leafRetention</th>\n",
       "      <th>standardHabit</th>\n",
       "    </tr>\n",
       "  </thead>\n",
       "  <tbody>\n",
       "    <tr>\n",
       "      <th>191</th>\n",
       "      <td>Aconitum delphiniifolium DC.</td>\n",
       "      <td>Aconitum delphiniifolium</td>\n",
       "      <td>forb</td>\n",
       "      <td>NaN</td>\n",
       "      <td>forb</td>\n",
       "    </tr>\n",
       "    <tr>\n",
       "      <th>182</th>\n",
       "      <td>Alopecurus aequalis Sobol.</td>\n",
       "      <td>Alopecurus aequalis</td>\n",
       "      <td>graminoid</td>\n",
       "      <td>NaN</td>\n",
       "      <td>graminoid</td>\n",
       "    </tr>\n",
       "    <tr>\n",
       "      <th>43</th>\n",
       "      <td>Alopecurus magellanicus Lam.</td>\n",
       "      <td>Alopecurus magellanicus</td>\n",
       "      <td>graminoid</td>\n",
       "      <td>NaN</td>\n",
       "      <td>graminoid</td>\n",
       "    </tr>\n",
       "  </tbody>\n",
       "</table>\n",
       "</div>"
      ],
      "text/plain": [
       "               datasetSpeciesName                   joinKey nonstandardHabit  \\\n",
       "191  Aconitum delphiniifolium DC.  Aconitum delphiniifolium             forb   \n",
       "182    Alopecurus aequalis Sobol.       Alopecurus aequalis        graminoid   \n",
       "43   Alopecurus magellanicus Lam.   Alopecurus magellanicus        graminoid   \n",
       "\n",
       "    leafRetention standardHabit  \n",
       "191           NaN          forb  \n",
       "182           NaN     graminoid  \n",
       "43            NaN     graminoid  "
      ]
     },
     "execution_count": 136,
     "metadata": {},
     "output_type": "execute_result"
    }
   ],
   "source": [
    "# standardized PFT\n",
    "standard_habit_col = standardize_habit(all_habits['speciesHabit'], \n",
    "                                       all_habits['leafRetention'])\n",
    "all_habits['standardHabit'] = standard_habit_col\n",
    "all_habits.rename(columns={'speciesHabit':'nonstandardHabit'}, inplace=True)\n",
    "print(len(all_habits))\n",
    "all_habits.head(3)"
   ]
  },
  {
   "cell_type": "code",
   "execution_count": 137,
   "id": "5fb2d46f-5cd2-47af-a5d0-e85ae599a86e",
   "metadata": {},
   "outputs": [
    {
     "data": {
      "text/plain": [
       "array(['forb', 'graminoid', 'lichen', 'evergreen shrub',\n",
       "       'deciduous shrub', 'other', 'bryophyte', 'litter', 'bare ground',\n",
       "       'water'], dtype=object)"
      ]
     },
     "execution_count": 137,
     "metadata": {},
     "output_type": "execute_result"
    }
   ],
   "source": [
    "all_habits['standardHabit'].unique()"
   ]
  },
  {
   "cell_type": "markdown",
   "id": "3a7fc1a9-1ef0-45f4-bb65-f513ff00ad63",
   "metadata": {},
   "source": [
    "---\n",
    "## 2.2. Sum species fcover to PFT-level <a name=\"sumfcover\"></a>"
   ]
  },
  {
   "cell_type": "code",
   "execution_count": 138,
   "id": "cefd30c0-a670-4295-8eef-18f822821599",
   "metadata": {},
   "outputs": [
    {
     "data": {
      "text/html": [
       "<div>\n",
       "<style scoped>\n",
       "    .dataframe tbody tr th:only-of-type {\n",
       "        vertical-align: middle;\n",
       "    }\n",
       "\n",
       "    .dataframe tbody tr th {\n",
       "        vertical-align: top;\n",
       "    }\n",
       "\n",
       "    .dataframe thead th {\n",
       "        text-align: right;\n",
       "    }\n",
       "</style>\n",
       "<table border=\"1\" class=\"dataframe\">\n",
       "  <thead>\n",
       "    <tr style=\"text-align: right;\">\n",
       "      <th></th>\n",
       "      <th>plotVisit</th>\n",
       "      <th>datasetSpeciesName</th>\n",
       "      <th>standardHabit</th>\n",
       "      <th>nonstandardHabit</th>\n",
       "      <th>percentCover</th>\n",
       "    </tr>\n",
       "  </thead>\n",
       "  <tbody>\n",
       "    <tr>\n",
       "      <th>0</th>\n",
       "      <td>BARR_003.basePlot.div.31_1_1.BARR.1.2021</td>\n",
       "      <td>Arctophila fulva (Trin.) Rupr. ex Andersson</td>\n",
       "      <td>graminoid</td>\n",
       "      <td>graminoid</td>\n",
       "      <td>13.0</td>\n",
       "    </tr>\n",
       "    <tr>\n",
       "      <th>1</th>\n",
       "      <td>BARR_003.basePlot.div.32_1_2.BARR.1.2021</td>\n",
       "      <td>scat</td>\n",
       "      <td>bare ground</td>\n",
       "      <td>salt</td>\n",
       "      <td>0.5</td>\n",
       "    </tr>\n",
       "    <tr>\n",
       "      <th>2</th>\n",
       "      <td>BARR_003.basePlot.div.32_1_2.BARR.1.2021</td>\n",
       "      <td>Poaceae sp.</td>\n",
       "      <td>graminoid</td>\n",
       "      <td>graminoid</td>\n",
       "      <td>0.5</td>\n",
       "    </tr>\n",
       "  </tbody>\n",
       "</table>\n",
       "</div>"
      ],
      "text/plain": [
       "                                  plotVisit  \\\n",
       "0  BARR_003.basePlot.div.31_1_1.BARR.1.2021   \n",
       "1  BARR_003.basePlot.div.32_1_2.BARR.1.2021   \n",
       "2  BARR_003.basePlot.div.32_1_2.BARR.1.2021   \n",
       "\n",
       "                            datasetSpeciesName standardHabit nonstandardHabit  \\\n",
       "0  Arctophila fulva (Trin.) Rupr. ex Andersson     graminoid        graminoid   \n",
       "1                                         scat   bare ground             salt   \n",
       "2                                  Poaceae sp.     graminoid        graminoid   \n",
       "\n",
       "   percentCover  \n",
       "0          13.0  \n",
       "1           0.5  \n",
       "2           0.5  "
      ]
     },
     "execution_count": 138,
     "metadata": {},
     "output_type": "execute_result"
    }
   ],
   "source": [
    "# loop through each plot and sum fcover per pft\n",
    "all_habits = all_habits[['datasetSpeciesName', 'standardHabit', 'nonstandardHabit']]\n",
    "species_fcover = fcover.merge(all_habits, \n",
    "                              left_on='datasetSpeciesName', \n",
    "                              right_on='datasetSpeciesName')\n",
    "species_fcover = species_fcover[['plotVisit', 'datasetSpeciesName', 'standardHabit', \n",
    "                                 'nonstandardHabit', 'percentCover']]\n",
    "species_fcover.head(3)"
   ]
  },
  {
   "cell_type": "code",
   "execution_count": 139,
   "id": "27d7d55d",
   "metadata": {},
   "outputs": [
    {
     "data": {
      "text/plain": [
       "280"
      ]
     },
     "execution_count": 139,
     "metadata": {},
     "output_type": "execute_result"
    }
   ],
   "source": [
    "len(species_fcover['plotVisit'].unique())"
   ]
  },
  {
   "cell_type": "code",
   "execution_count": 140,
   "id": "e111d602-d096-440a-b352-b784039274fd",
   "metadata": {},
   "outputs": [],
   "source": [
    "# group by 'Site Code' and 'standardHabit', then sum the 'Cover'\n",
    "temp = species_fcover.groupby(['plotVisit', 'standardHabit'])['percentCover'].sum().reset_index()\n",
    "pft_fcover = temp.pivot(index='plotVisit', columns='standardHabit', values='percentCover')"
   ]
  },
  {
   "cell_type": "code",
   "execution_count": 141,
   "id": "98492580-a8a9-47c2-be8d-92f56eb191b0",
   "metadata": {},
   "outputs": [
    {
     "data": {
      "text/html": [
       "<div>\n",
       "<style scoped>\n",
       "    .dataframe tbody tr th:only-of-type {\n",
       "        vertical-align: middle;\n",
       "    }\n",
       "\n",
       "    .dataframe tbody tr th {\n",
       "        vertical-align: top;\n",
       "    }\n",
       "\n",
       "    .dataframe thead th {\n",
       "        text-align: right;\n",
       "    }\n",
       "</style>\n",
       "<table border=\"1\" class=\"dataframe\">\n",
       "  <thead>\n",
       "    <tr style=\"text-align: right;\">\n",
       "      <th></th>\n",
       "      <th>bare ground</th>\n",
       "      <th>bryophyte</th>\n",
       "      <th>deciduous shrub</th>\n",
       "      <th>evergreen shrub</th>\n",
       "      <th>forb</th>\n",
       "      <th>graminoid</th>\n",
       "      <th>lichen</th>\n",
       "      <th>litter</th>\n",
       "      <th>other</th>\n",
       "      <th>water</th>\n",
       "    </tr>\n",
       "    <tr>\n",
       "      <th>plotVisit</th>\n",
       "      <th></th>\n",
       "      <th></th>\n",
       "      <th></th>\n",
       "      <th></th>\n",
       "      <th></th>\n",
       "      <th></th>\n",
       "      <th></th>\n",
       "      <th></th>\n",
       "      <th></th>\n",
       "      <th></th>\n",
       "    </tr>\n",
       "  </thead>\n",
       "  <tbody>\n",
       "    <tr>\n",
       "      <th>BARR_001.basePlot.div.31_1_1.BARR.1.2021</th>\n",
       "      <td>0.5</td>\n",
       "      <td>97.0</td>\n",
       "      <td>NaN</td>\n",
       "      <td>NaN</td>\n",
       "      <td>6.5</td>\n",
       "      <td>8.0</td>\n",
       "      <td>0.5</td>\n",
       "      <td>6.0</td>\n",
       "      <td>12.5</td>\n",
       "      <td>NaN</td>\n",
       "    </tr>\n",
       "    <tr>\n",
       "      <th>BARR_001.basePlot.div.32_1_2.BARR.1.2021</th>\n",
       "      <td>0.5</td>\n",
       "      <td>96.0</td>\n",
       "      <td>9.0</td>\n",
       "      <td>NaN</td>\n",
       "      <td>1.5</td>\n",
       "      <td>9.0</td>\n",
       "      <td>1.0</td>\n",
       "      <td>8.0</td>\n",
       "      <td>8.0</td>\n",
       "      <td>NaN</td>\n",
       "    </tr>\n",
       "    <tr>\n",
       "      <th>BARR_001.basePlot.div.32_1_4.BARR.1.2021</th>\n",
       "      <td>0.5</td>\n",
       "      <td>15.0</td>\n",
       "      <td>NaN</td>\n",
       "      <td>NaN</td>\n",
       "      <td>NaN</td>\n",
       "      <td>13.5</td>\n",
       "      <td>NaN</td>\n",
       "      <td>78.0</td>\n",
       "      <td>9.5</td>\n",
       "      <td>1.0</td>\n",
       "    </tr>\n",
       "  </tbody>\n",
       "</table>\n",
       "</div>"
      ],
      "text/plain": [
       "                                          bare ground  bryophyte  \\\n",
       "plotVisit                                                          \n",
       "BARR_001.basePlot.div.31_1_1.BARR.1.2021          0.5       97.0   \n",
       "BARR_001.basePlot.div.32_1_2.BARR.1.2021          0.5       96.0   \n",
       "BARR_001.basePlot.div.32_1_4.BARR.1.2021          0.5       15.0   \n",
       "\n",
       "                                          deciduous shrub  evergreen shrub  \\\n",
       "plotVisit                                                                    \n",
       "BARR_001.basePlot.div.31_1_1.BARR.1.2021              NaN              NaN   \n",
       "BARR_001.basePlot.div.32_1_2.BARR.1.2021              9.0              NaN   \n",
       "BARR_001.basePlot.div.32_1_4.BARR.1.2021              NaN              NaN   \n",
       "\n",
       "                                          forb  graminoid  lichen  litter  \\\n",
       "plotVisit                                                                   \n",
       "BARR_001.basePlot.div.31_1_1.BARR.1.2021   6.5        8.0     0.5     6.0   \n",
       "BARR_001.basePlot.div.32_1_2.BARR.1.2021   1.5        9.0     1.0     8.0   \n",
       "BARR_001.basePlot.div.32_1_4.BARR.1.2021   NaN       13.5     NaN    78.0   \n",
       "\n",
       "                                          other  water  \n",
       "plotVisit                                               \n",
       "BARR_001.basePlot.div.31_1_1.BARR.1.2021   12.5    NaN  \n",
       "BARR_001.basePlot.div.32_1_2.BARR.1.2021    8.0    NaN  \n",
       "BARR_001.basePlot.div.32_1_4.BARR.1.2021    9.5    1.0  "
      ]
     },
     "execution_count": 141,
     "metadata": {},
     "output_type": "execute_result"
    }
   ],
   "source": [
    "# clean up\n",
    "pft_fcover.columns.name = None\n",
    "pft_fcover.index.name = 'plotVisit'\n",
    "pft_fcover.index = pft_fcover.index.map(normalize_to_int_str)\n",
    "pft_fcover.head(3)"
   ]
  },
  {
   "cell_type": "code",
   "execution_count": 142,
   "id": "4d8a8c8d",
   "metadata": {},
   "outputs": [
    {
     "data": {
      "text/plain": [
       "280"
      ]
     },
     "execution_count": 142,
     "metadata": {},
     "output_type": "execute_result"
    }
   ],
   "source": [
    "len(pft_fcover.index)"
   ]
  },
  {
   "cell_type": "markdown",
   "id": "2763309a-e16c-47f6-867c-caec2bbed2c0",
   "metadata": {},
   "source": [
    "---\n",
    "## 2.3. Standardize table layout <a name=\"tablelayout\"></a>"
   ]
  },
  {
   "cell_type": "code",
   "execution_count": 143,
   "id": "6791825e-04f8-49f8-b888-e1c6d9049375",
   "metadata": {},
   "outputs": [],
   "source": [
    "# list of necessary PFTs\n",
    "pfts = ['deciduous shrub', 'deciduous tree',\n",
    "        'evergreen shrub', 'evergreen tree',\n",
    "        'forb', 'graminoid', 'non-vascular',\n",
    "        'bryophyte', 'lichen', 'litter',\n",
    "        'bare ground', 'water', 'other']"
   ]
  },
  {
   "cell_type": "code",
   "execution_count": 144,
   "id": "3966ee2f-2807-487d-92d9-97722da58f66",
   "metadata": {},
   "outputs": [],
   "source": [
    "# create non-vascular\n",
    "pft_fcover['non-vascular'] = pft_fcover[['bryophyte', 'lichen']].sum(axis=1, skipna=True)"
   ]
  },
  {
   "cell_type": "code",
   "execution_count": 145,
   "id": "c79f389f-f8f6-44e9-96c4-4ef53c1ff6ca",
   "metadata": {},
   "outputs": [
    {
     "data": {
      "text/html": [
       "<div>\n",
       "<style scoped>\n",
       "    .dataframe tbody tr th:only-of-type {\n",
       "        vertical-align: middle;\n",
       "    }\n",
       "\n",
       "    .dataframe tbody tr th {\n",
       "        vertical-align: top;\n",
       "    }\n",
       "\n",
       "    .dataframe thead th {\n",
       "        text-align: right;\n",
       "    }\n",
       "</style>\n",
       "<table border=\"1\" class=\"dataframe\">\n",
       "  <thead>\n",
       "    <tr style=\"text-align: right;\">\n",
       "      <th></th>\n",
       "      <th>deciduous shrub</th>\n",
       "      <th>deciduous tree</th>\n",
       "      <th>evergreen shrub</th>\n",
       "      <th>evergreen tree</th>\n",
       "      <th>forb</th>\n",
       "      <th>graminoid</th>\n",
       "      <th>non-vascular</th>\n",
       "      <th>bryophyte</th>\n",
       "      <th>lichen</th>\n",
       "      <th>litter</th>\n",
       "      <th>bare ground</th>\n",
       "      <th>water</th>\n",
       "      <th>other</th>\n",
       "    </tr>\n",
       "    <tr>\n",
       "      <th>plotVisit</th>\n",
       "      <th></th>\n",
       "      <th></th>\n",
       "      <th></th>\n",
       "      <th></th>\n",
       "      <th></th>\n",
       "      <th></th>\n",
       "      <th></th>\n",
       "      <th></th>\n",
       "      <th></th>\n",
       "      <th></th>\n",
       "      <th></th>\n",
       "      <th></th>\n",
       "      <th></th>\n",
       "    </tr>\n",
       "  </thead>\n",
       "  <tbody>\n",
       "    <tr>\n",
       "      <th>BARR_001.basePlot.div.31_1_1.BARR.1.2021</th>\n",
       "      <td>NaN</td>\n",
       "      <td>NaN</td>\n",
       "      <td>NaN</td>\n",
       "      <td>NaN</td>\n",
       "      <td>6.5</td>\n",
       "      <td>8.0</td>\n",
       "      <td>97.5</td>\n",
       "      <td>97.0</td>\n",
       "      <td>0.5</td>\n",
       "      <td>6.0</td>\n",
       "      <td>0.5</td>\n",
       "      <td>NaN</td>\n",
       "      <td>12.5</td>\n",
       "    </tr>\n",
       "    <tr>\n",
       "      <th>BARR_001.basePlot.div.32_1_2.BARR.1.2021</th>\n",
       "      <td>9.0</td>\n",
       "      <td>NaN</td>\n",
       "      <td>NaN</td>\n",
       "      <td>NaN</td>\n",
       "      <td>1.5</td>\n",
       "      <td>9.0</td>\n",
       "      <td>97.0</td>\n",
       "      <td>96.0</td>\n",
       "      <td>1.0</td>\n",
       "      <td>8.0</td>\n",
       "      <td>0.5</td>\n",
       "      <td>NaN</td>\n",
       "      <td>8.0</td>\n",
       "    </tr>\n",
       "    <tr>\n",
       "      <th>BARR_001.basePlot.div.32_1_4.BARR.1.2021</th>\n",
       "      <td>NaN</td>\n",
       "      <td>NaN</td>\n",
       "      <td>NaN</td>\n",
       "      <td>NaN</td>\n",
       "      <td>NaN</td>\n",
       "      <td>13.5</td>\n",
       "      <td>15.0</td>\n",
       "      <td>15.0</td>\n",
       "      <td>NaN</td>\n",
       "      <td>78.0</td>\n",
       "      <td>0.5</td>\n",
       "      <td>1.0</td>\n",
       "      <td>9.5</td>\n",
       "    </tr>\n",
       "  </tbody>\n",
       "</table>\n",
       "</div>"
      ],
      "text/plain": [
       "                                          deciduous shrub  deciduous tree  \\\n",
       "plotVisit                                                                   \n",
       "BARR_001.basePlot.div.31_1_1.BARR.1.2021              NaN             NaN   \n",
       "BARR_001.basePlot.div.32_1_2.BARR.1.2021              9.0             NaN   \n",
       "BARR_001.basePlot.div.32_1_4.BARR.1.2021              NaN             NaN   \n",
       "\n",
       "                                          evergreen shrub  evergreen tree  \\\n",
       "plotVisit                                                                   \n",
       "BARR_001.basePlot.div.31_1_1.BARR.1.2021              NaN             NaN   \n",
       "BARR_001.basePlot.div.32_1_2.BARR.1.2021              NaN             NaN   \n",
       "BARR_001.basePlot.div.32_1_4.BARR.1.2021              NaN             NaN   \n",
       "\n",
       "                                          forb  graminoid  non-vascular  \\\n",
       "plotVisit                                                                 \n",
       "BARR_001.basePlot.div.31_1_1.BARR.1.2021   6.5        8.0          97.5   \n",
       "BARR_001.basePlot.div.32_1_2.BARR.1.2021   1.5        9.0          97.0   \n",
       "BARR_001.basePlot.div.32_1_4.BARR.1.2021   NaN       13.5          15.0   \n",
       "\n",
       "                                          bryophyte  lichen  litter  \\\n",
       "plotVisit                                                             \n",
       "BARR_001.basePlot.div.31_1_1.BARR.1.2021       97.0     0.5     6.0   \n",
       "BARR_001.basePlot.div.32_1_2.BARR.1.2021       96.0     1.0     8.0   \n",
       "BARR_001.basePlot.div.32_1_4.BARR.1.2021       15.0     NaN    78.0   \n",
       "\n",
       "                                          bare ground  water  other  \n",
       "plotVisit                                                            \n",
       "BARR_001.basePlot.div.31_1_1.BARR.1.2021          0.5    NaN   12.5  \n",
       "BARR_001.basePlot.div.32_1_2.BARR.1.2021          0.5    NaN    8.0  \n",
       "BARR_001.basePlot.div.32_1_4.BARR.1.2021          0.5    1.0    9.5  "
      ]
     },
     "execution_count": 145,
     "metadata": {},
     "output_type": "execute_result"
    }
   ],
   "source": [
    "# create standard columns\n",
    "pft_fcover = spf.add_standard_cols(pft_fcover, pfts)\n",
    "pft_fcover = pft_fcover[pfts]\n",
    "pft_fcover.head(3)"
   ]
  },
  {
   "cell_type": "markdown",
   "id": "2894bf11-c1aa-4d8d-abe0-02bc993be175",
   "metadata": {},
   "source": [
    "---\n",
    "## 2.4. Standardize auxiliary columns <a name=\"aux\"></a>"
   ]
  },
  {
   "cell_type": "markdown",
   "id": "1f90bd83-f041-4331-9b48-a7aa0eee1da9",
   "metadata": {},
   "source": [
    "Plot information:\n",
    "- [ ] UID\n",
    "- [x] plotName\n",
    "- [x] dataSource\n",
    "- [x] dataSubsource\n",
    "- [x] fcoverScale\n",
    "- [x] surveyMethod\n",
    "- [x] surveyPurpose\n",
    "- [x] duplicatedCoords\n",
    "- [x] duplicatedDate\n",
    "- [x] surveyYear\n",
    "- [x] surveyMonth\n",
    "- [x] surveyDay\n",
    "\n",
    "Geographical information:\n",
    "- [x] bioclimateSubzone\n",
    "- [x] adminCountry\n",
    "- [x] adminUnit\n",
    "- [x] fireYears\n",
    "- [x] coordEpsg\n",
    "- [x] georefSource\n",
    "- [x] georefAccuracy\n",
    "- [x] plotRadius\n",
    "- [x] longitueX\n",
    "- [x] latitudeY"
   ]
  },
  {
   "cell_type": "code",
   "execution_count": 146,
   "id": "715535ea-5ec0-4b56-b463-defcfc3cf678",
   "metadata": {},
   "outputs": [],
   "source": [
    "# sampling methods, coverscale, data source\n",
    "methods = pd.read_csv('../etc/sampling_methods.csv')"
   ]
  },
  {
   "cell_type": "markdown",
   "id": "7ff8cca4-88ba-45c1-a4e5-223051f2c96a",
   "metadata": {},
   "source": [
    "### 2.4.1. Basic plot information <a name=\"basics\"></a>"
   ]
  },
  {
   "cell_type": "code",
   "execution_count": 147,
   "id": "f066abbc-4770-465c-a6e8-8c7930e6ad72",
   "metadata": {},
   "outputs": [],
   "source": [
    "def get_subsource(row):\n",
    "    if 'TOOL' in row:\n",
    "        subsource = 'Toolik Field Station NEON (pub 2021)'\n",
    "    elif 'BARR' in row:\n",
    "        subsource = 'Utqiagvik-Barrow NEON (pub 2021)'\n",
    "    else:\n",
    "        subsource = np.nan\n",
    "    return subsource"
   ]
  },
  {
   "cell_type": "code",
   "execution_count": 148,
   "id": "f9266660-82eb-49a0-83ea-69ac4d4f16de",
   "metadata": {},
   "outputs": [],
   "source": [
    "new_aux = pd.DataFrame()\n",
    "\n",
    "# date columns\n",
    "aux['surveyDate'] = pd.to_datetime(aux['endDate'], format='mixed')\n",
    "new_aux['surveyYear'] = aux['surveyDate'].dt.year.astype(int)\n",
    "new_aux['surveyMonth'] = aux['surveyDate'].dt.month.astype(int)\n",
    "new_aux['surveyDay'] = aux['surveyDate'].dt.day.astype(int)\n",
    "\n",
    "# plot size\n",
    "new_aux['plotArea'] = 1.0\n",
    "new_aux['plotShape'] = 'square'\n",
    "\n",
    "# geographical information\n",
    "new_aux['latitudeY'] = aux['subplot_lat'].astype('Float32')\n",
    "new_aux['longitudeX'] = aux['subplot_lon'].astype('Float32')\n",
    "new_aux['georefSource'] = 'GPS'\n",
    "new_aux['georefAccuracy'] = 0.25\n",
    "new_aux['coordEPSG'] = 'EPSG:4326'\n",
    "\n",
    "# main\n",
    "new_aux['plotVisit'] = aux['namedLocation'] + '.' + aux['subplotID'] + '.' + aux['eventID']\n",
    "new_aux['plotVisit'] = new_aux['plotVisit'].apply(normalize_to_int_str)\n",
    "new_aux['plotName'] = aux['namedLocation'] + '.' + aux['subplotID']\n",
    "new_aux['dataSubsource'] = aux['name'].apply(lambda x: get_subsource(x))\n",
    "new_aux = new_aux.merge(methods, how='left', left_on='dataSubsource', right_on='dataSubsource')\n",
    "new_aux = new_aux.groupby('plotVisit')[new_aux.columns].first()\n",
    "new_aux = new_aux.set_index(new_aux['plotVisit'], drop=True)\n",
    "new_aux = new_aux.drop(columns=['plotVisit'])"
   ]
  },
  {
   "cell_type": "markdown",
   "id": "919148a9-3f7b-4367-adad-759e5435072e",
   "metadata": {},
   "source": [
    "### 2.4.2. Geographical intersections <a name=\"geo\"></a>"
   ]
  },
  {
   "cell_type": "code",
   "execution_count": 149,
   "id": "a67e6dd3-af8d-4f8a-8743-d9ff2de99516",
   "metadata": {},
   "outputs": [],
   "source": [
    "# set geo info\n",
    "geo_paths = ['../etc/gaul1/gaul1_asap.shp',\n",
    "             '../etc/fire/InterAgencyFirePerimeterHistory_All_Years_View.shp',\n",
    "             '../etc/bioclim/bioclimate_la_latlon.shp']\n",
    "geo_names = ['gaul1',\n",
    "             'fire',\n",
    "             'bioclim']\n",
    "geo_cols = [['name1', 'name0', 'geometry'],\n",
    "            ['FIRE_YEAR', 'geometry'],\n",
    "            ['zone', 'geometry']]"
   ]
  },
  {
   "cell_type": "code",
   "execution_count": 150,
   "id": "cfef4685-4ea1-4fd5-a58c-8e1d6fb4a6b9",
   "metadata": {},
   "outputs": [
    {
     "data": {
      "text/html": [
       "<div>\n",
       "<style scoped>\n",
       "    .dataframe tbody tr th:only-of-type {\n",
       "        vertical-align: middle;\n",
       "    }\n",
       "\n",
       "    .dataframe tbody tr th {\n",
       "        vertical-align: top;\n",
       "    }\n",
       "\n",
       "    .dataframe thead th {\n",
       "        text-align: right;\n",
       "    }\n",
       "</style>\n",
       "<table border=\"1\" class=\"dataframe\">\n",
       "  <thead>\n",
       "    <tr style=\"text-align: right;\">\n",
       "      <th></th>\n",
       "      <th>deciduous shrub</th>\n",
       "      <th>deciduous tree</th>\n",
       "      <th>evergreen shrub</th>\n",
       "      <th>evergreen tree</th>\n",
       "      <th>forb</th>\n",
       "      <th>graminoid</th>\n",
       "      <th>non-vascular</th>\n",
       "      <th>bryophyte</th>\n",
       "      <th>lichen</th>\n",
       "      <th>litter</th>\n",
       "      <th>...</th>\n",
       "      <th>georefAccuracy</th>\n",
       "      <th>coordEPSG</th>\n",
       "      <th>plotName</th>\n",
       "      <th>dataSubsource</th>\n",
       "      <th>dataSource</th>\n",
       "      <th>dataSourceHtml</th>\n",
       "      <th>dataSubsourceCitation</th>\n",
       "      <th>surveyMethod</th>\n",
       "      <th>fcoverScale</th>\n",
       "      <th>surveyPurpose</th>\n",
       "    </tr>\n",
       "    <tr>\n",
       "      <th>plotVisit</th>\n",
       "      <th></th>\n",
       "      <th></th>\n",
       "      <th></th>\n",
       "      <th></th>\n",
       "      <th></th>\n",
       "      <th></th>\n",
       "      <th></th>\n",
       "      <th></th>\n",
       "      <th></th>\n",
       "      <th></th>\n",
       "      <th></th>\n",
       "      <th></th>\n",
       "      <th></th>\n",
       "      <th></th>\n",
       "      <th></th>\n",
       "      <th></th>\n",
       "      <th></th>\n",
       "      <th></th>\n",
       "      <th></th>\n",
       "      <th></th>\n",
       "      <th></th>\n",
       "    </tr>\n",
       "  </thead>\n",
       "  <tbody>\n",
       "    <tr>\n",
       "      <th>BARR_001.basePlot.div.31_1_1.BARR.1.2021</th>\n",
       "      <td>NaN</td>\n",
       "      <td>NaN</td>\n",
       "      <td>NaN</td>\n",
       "      <td>NaN</td>\n",
       "      <td>6.5</td>\n",
       "      <td>8.0</td>\n",
       "      <td>97.5</td>\n",
       "      <td>97.0</td>\n",
       "      <td>0.5</td>\n",
       "      <td>6.0</td>\n",
       "      <td>...</td>\n",
       "      <td>0.25</td>\n",
       "      <td>EPSG:4326</td>\n",
       "      <td>BARR_001.basePlot.div.31_1_1</td>\n",
       "      <td>Utqiagvik-Barrow NEON (pub 2021)</td>\n",
       "      <td>NEON</td>\n",
       "      <td>https://data.neonscience.org/data-products/DP1...</td>\n",
       "      <td>NEON (National Ecological Observatory Network)...</td>\n",
       "      <td>simple plot</td>\n",
       "      <td>percent</td>\n",
       "      <td>Quantify the impacts of climate change, land u...</td>\n",
       "    </tr>\n",
       "    <tr>\n",
       "      <th>BARR_001.basePlot.div.32_1_2.BARR.1.2021</th>\n",
       "      <td>9.0</td>\n",
       "      <td>NaN</td>\n",
       "      <td>NaN</td>\n",
       "      <td>NaN</td>\n",
       "      <td>1.5</td>\n",
       "      <td>9.0</td>\n",
       "      <td>97.0</td>\n",
       "      <td>96.0</td>\n",
       "      <td>1.0</td>\n",
       "      <td>8.0</td>\n",
       "      <td>...</td>\n",
       "      <td>0.25</td>\n",
       "      <td>EPSG:4326</td>\n",
       "      <td>BARR_001.basePlot.div.32_1_2</td>\n",
       "      <td>Utqiagvik-Barrow NEON (pub 2021)</td>\n",
       "      <td>NEON</td>\n",
       "      <td>https://data.neonscience.org/data-products/DP1...</td>\n",
       "      <td>NEON (National Ecological Observatory Network)...</td>\n",
       "      <td>simple plot</td>\n",
       "      <td>percent</td>\n",
       "      <td>Quantify the impacts of climate change, land u...</td>\n",
       "    </tr>\n",
       "    <tr>\n",
       "      <th>BARR_001.basePlot.div.32_1_4.BARR.1.2021</th>\n",
       "      <td>NaN</td>\n",
       "      <td>NaN</td>\n",
       "      <td>NaN</td>\n",
       "      <td>NaN</td>\n",
       "      <td>NaN</td>\n",
       "      <td>13.5</td>\n",
       "      <td>15.0</td>\n",
       "      <td>15.0</td>\n",
       "      <td>NaN</td>\n",
       "      <td>78.0</td>\n",
       "      <td>...</td>\n",
       "      <td>0.25</td>\n",
       "      <td>EPSG:4326</td>\n",
       "      <td>BARR_001.basePlot.div.32_1_4</td>\n",
       "      <td>Utqiagvik-Barrow NEON (pub 2021)</td>\n",
       "      <td>NEON</td>\n",
       "      <td>https://data.neonscience.org/data-products/DP1...</td>\n",
       "      <td>NEON (National Ecological Observatory Network)...</td>\n",
       "      <td>simple plot</td>\n",
       "      <td>percent</td>\n",
       "      <td>Quantify the impacts of climate change, land u...</td>\n",
       "    </tr>\n",
       "  </tbody>\n",
       "</table>\n",
       "<p>3 rows × 31 columns</p>\n",
       "</div>"
      ],
      "text/plain": [
       "                                          deciduous shrub  deciduous tree  \\\n",
       "plotVisit                                                                   \n",
       "BARR_001.basePlot.div.31_1_1.BARR.1.2021              NaN             NaN   \n",
       "BARR_001.basePlot.div.32_1_2.BARR.1.2021              9.0             NaN   \n",
       "BARR_001.basePlot.div.32_1_4.BARR.1.2021              NaN             NaN   \n",
       "\n",
       "                                          evergreen shrub  evergreen tree  \\\n",
       "plotVisit                                                                   \n",
       "BARR_001.basePlot.div.31_1_1.BARR.1.2021              NaN             NaN   \n",
       "BARR_001.basePlot.div.32_1_2.BARR.1.2021              NaN             NaN   \n",
       "BARR_001.basePlot.div.32_1_4.BARR.1.2021              NaN             NaN   \n",
       "\n",
       "                                          forb  graminoid  non-vascular  \\\n",
       "plotVisit                                                                 \n",
       "BARR_001.basePlot.div.31_1_1.BARR.1.2021   6.5        8.0          97.5   \n",
       "BARR_001.basePlot.div.32_1_2.BARR.1.2021   1.5        9.0          97.0   \n",
       "BARR_001.basePlot.div.32_1_4.BARR.1.2021   NaN       13.5          15.0   \n",
       "\n",
       "                                          bryophyte  lichen  litter  ...  \\\n",
       "plotVisit                                                            ...   \n",
       "BARR_001.basePlot.div.31_1_1.BARR.1.2021       97.0     0.5     6.0  ...   \n",
       "BARR_001.basePlot.div.32_1_2.BARR.1.2021       96.0     1.0     8.0  ...   \n",
       "BARR_001.basePlot.div.32_1_4.BARR.1.2021       15.0     NaN    78.0  ...   \n",
       "\n",
       "                                          georefAccuracy  coordEPSG  \\\n",
       "plotVisit                                                             \n",
       "BARR_001.basePlot.div.31_1_1.BARR.1.2021            0.25  EPSG:4326   \n",
       "BARR_001.basePlot.div.32_1_2.BARR.1.2021            0.25  EPSG:4326   \n",
       "BARR_001.basePlot.div.32_1_4.BARR.1.2021            0.25  EPSG:4326   \n",
       "\n",
       "                                                              plotName  \\\n",
       "plotVisit                                                                \n",
       "BARR_001.basePlot.div.31_1_1.BARR.1.2021  BARR_001.basePlot.div.31_1_1   \n",
       "BARR_001.basePlot.div.32_1_2.BARR.1.2021  BARR_001.basePlot.div.32_1_2   \n",
       "BARR_001.basePlot.div.32_1_4.BARR.1.2021  BARR_001.basePlot.div.32_1_4   \n",
       "\n",
       "                                                             dataSubsource  \\\n",
       "plotVisit                                                                    \n",
       "BARR_001.basePlot.div.31_1_1.BARR.1.2021  Utqiagvik-Barrow NEON (pub 2021)   \n",
       "BARR_001.basePlot.div.32_1_2.BARR.1.2021  Utqiagvik-Barrow NEON (pub 2021)   \n",
       "BARR_001.basePlot.div.32_1_4.BARR.1.2021  Utqiagvik-Barrow NEON (pub 2021)   \n",
       "\n",
       "                                          dataSource  \\\n",
       "plotVisit                                              \n",
       "BARR_001.basePlot.div.31_1_1.BARR.1.2021        NEON   \n",
       "BARR_001.basePlot.div.32_1_2.BARR.1.2021        NEON   \n",
       "BARR_001.basePlot.div.32_1_4.BARR.1.2021        NEON   \n",
       "\n",
       "                                                                             dataSourceHtml  \\\n",
       "plotVisit                                                                                     \n",
       "BARR_001.basePlot.div.31_1_1.BARR.1.2021  https://data.neonscience.org/data-products/DP1...   \n",
       "BARR_001.basePlot.div.32_1_2.BARR.1.2021  https://data.neonscience.org/data-products/DP1...   \n",
       "BARR_001.basePlot.div.32_1_4.BARR.1.2021  https://data.neonscience.org/data-products/DP1...   \n",
       "\n",
       "                                                                      dataSubsourceCitation  \\\n",
       "plotVisit                                                                                     \n",
       "BARR_001.basePlot.div.31_1_1.BARR.1.2021  NEON (National Ecological Observatory Network)...   \n",
       "BARR_001.basePlot.div.32_1_2.BARR.1.2021  NEON (National Ecological Observatory Network)...   \n",
       "BARR_001.basePlot.div.32_1_4.BARR.1.2021  NEON (National Ecological Observatory Network)...   \n",
       "\n",
       "                                         surveyMethod  fcoverScale  \\\n",
       "plotVisit                                                            \n",
       "BARR_001.basePlot.div.31_1_1.BARR.1.2021  simple plot      percent   \n",
       "BARR_001.basePlot.div.32_1_2.BARR.1.2021  simple plot      percent   \n",
       "BARR_001.basePlot.div.32_1_4.BARR.1.2021  simple plot      percent   \n",
       "\n",
       "                                                                              surveyPurpose  \n",
       "plotVisit                                                                                    \n",
       "BARR_001.basePlot.div.31_1_1.BARR.1.2021  Quantify the impacts of climate change, land u...  \n",
       "BARR_001.basePlot.div.32_1_2.BARR.1.2021  Quantify the impacts of climate change, land u...  \n",
       "BARR_001.basePlot.div.32_1_4.BARR.1.2021  Quantify the impacts of climate change, land u...  \n",
       "\n",
       "[3 rows x 31 columns]"
      ]
     },
     "execution_count": 150,
     "metadata": {},
     "output_type": "execute_result"
    }
   ],
   "source": [
    "# create geospatial information\n",
    "fcover_and_aux = pft_fcover.merge(new_aux, how='left', left_index=True, right_index=True)\n",
    "fcover_and_aux.index.name = 'plotVisit'\n",
    "fcover_and_aux.head(3)"
   ]
  },
  {
   "cell_type": "code",
   "execution_count": 151,
   "id": "d33e1937",
   "metadata": {},
   "outputs": [
    {
     "data": {
      "text/plain": [
       "Index(['deciduous shrub', 'deciduous tree', 'evergreen shrub',\n",
       "       'evergreen tree', 'forb', 'graminoid', 'non-vascular', 'bryophyte',\n",
       "       'lichen', 'litter', 'bare ground', 'water', 'other', 'surveyYear',\n",
       "       'surveyMonth', 'surveyDay', 'plotArea', 'plotShape', 'latitudeY',\n",
       "       'longitudeX', 'georefSource', 'georefAccuracy', 'coordEPSG', 'plotName',\n",
       "       'dataSubsource', 'dataSource', 'dataSourceHtml',\n",
       "       'dataSubsourceCitation', 'surveyMethod', 'fcoverScale',\n",
       "       'surveyPurpose'],\n",
       "      dtype='object')"
      ]
     },
     "execution_count": 151,
     "metadata": {},
     "output_type": "execute_result"
    }
   ],
   "source": [
    "fcover_and_aux.columns"
   ]
  },
  {
   "cell_type": "code",
   "execution_count": 152,
   "id": "7187636a",
   "metadata": {},
   "outputs": [
    {
     "name": "stdout",
     "output_type": "stream",
     "text": [
      "Finding spatial intersection for '['name1', 'name0', 'geometry']' in native CRS: EPSG:4326\n"
     ]
    },
    {
     "name": "stderr",
     "output_type": "stream",
     "text": [
      "/mnt/poseidon/remotesensing/arctic/alaska_pft_fcover_harmonization/standardize_pft_funcs.py:751: FutureWarning: DataFrame.applymap has been deprecated. Use DataFrame.map instead.\n",
      "  merged = merged.drop(columns=[col for col in merged.columns if 'geometry' in col])\n"
     ]
    },
    {
     "name": "stdout",
     "output_type": "stream",
     "text": [
      "Finding spatial intersection for '['FIRE_YEAR', 'geometry']' in native CRS: EPSG:4326\n"
     ]
    },
    {
     "name": "stderr",
     "output_type": "stream",
     "text": [
      "/mnt/poseidon/remotesensing/arctic/alaska_pft_fcover_harmonization/standardize_pft_funcs.py:751: FutureWarning: DataFrame.applymap has been deprecated. Use DataFrame.map instead.\n",
      "  merged = merged.drop(columns=[col for col in merged.columns if 'geometry' in col])\n"
     ]
    },
    {
     "name": "stdout",
     "output_type": "stream",
     "text": [
      "Finding spatial intersection for '['zone', 'geometry']' in native CRS: EPSG:4326\n"
     ]
    },
    {
     "name": "stderr",
     "output_type": "stream",
     "text": [
      "/mnt/poseidon/remotesensing/arctic/alaska_pft_fcover_harmonization/standardize_pft_funcs.py:751: FutureWarning: DataFrame.applymap has been deprecated. Use DataFrame.map instead.\n",
      "  merged = merged.drop(columns=[col for col in merged.columns if 'geometry' in col])\n",
      "/mnt/poseidon/remotesensing/arctic/alaska_pft_fcover_harmonization/standardize_pft_funcs.py:772: FutureWarning: DataFrame.applymap has been deprecated. Use DataFrame.map instead.\n",
      "  # information; e.g., duplicate coords or dates\n"
     ]
    }
   ],
   "source": [
    "# convert to GeoDataFrame\n",
    "fcover_and_aux = gpd.GeoDataFrame(\n",
    "    fcover_and_aux,\n",
    "    geometry=gpd.points_from_xy(fcover_and_aux['longitudeX'], fcover_and_aux['latitudeY']),\n",
    "    crs='EPSG:4326'\n",
    ").to_crs('EPSG:5936')\n",
    "\n",
    "# add geospatial layers\n",
    "fcover_and_aux = spf.add_geospatial_aux(\n",
    "    fcover_and_aux,\n",
    "    paths=geo_paths,\n",
    "    orig_names=geo_cols\n",
    ")"
   ]
  },
  {
   "cell_type": "code",
   "execution_count": 153,
   "id": "d3faef68",
   "metadata": {},
   "outputs": [
    {
     "name": "stdout",
     "output_type": "stream",
     "text": [
      "Number of plot visits in fcover_and_aux: 280\n",
      "Number of unique plot visits in fcover_and_aux: 280\n"
     ]
    }
   ],
   "source": [
    "faa_li = len(fcover_and_aux.index)\n",
    "faa_ui = len(fcover_and_aux.index.unique())\n",
    "print(f'Number of plot visits in fcover_and_aux: {faa_li}')\n",
    "print(f'Number of unique plot visits in fcover_and_aux: {faa_ui}')"
   ]
  },
  {
   "cell_type": "code",
   "execution_count": 154,
   "id": "688c77b4-6af5-4bfb-b560-1f55d21d0a40",
   "metadata": {},
   "outputs": [],
   "source": [
    "# rename new columns\n",
    "fcover_and_aux.rename(columns={'name1':'adminUnit',\n",
    "                               'name0':'adminCountry',\n",
    "                               'FIRE_YEAR':'fireYears',\n",
    "                               'zone':'bioclimSubzone'}, inplace=True)"
   ]
  },
  {
   "cell_type": "markdown",
   "id": "a538118c-28ec-4a26-af70-11d1cdf5a48b",
   "metadata": {},
   "source": [
    "### 2.4.3. Duplicate coordinates <a name=\"dupes\"></a>\n",
    "This indicates that plots may have been revisited, they were very close and GPS accuracy was too low, or there is human error"
   ]
  },
  {
   "cell_type": "code",
   "execution_count": 155,
   "id": "5401ddc4-7cd5-4610-858d-a19d1d70fac6",
   "metadata": {},
   "outputs": [
    {
     "name": "stderr",
     "output_type": "stream",
     "text": [
      "/mnt/poseidon/remotesensing/arctic/alaska_pft_fcover_harmonization/standardize_pft_funcs.py:802: FutureWarning: DataFrameGroupBy.grouper is deprecated and will be removed in a future version of pandas.\n",
      "  for idx, group_id in zip(df.index, group_ids):\n",
      "/mnt/poseidon/remotesensing/arctic/alaska_pft_fcover_harmonization/standardize_pft_funcs.py:802: FutureWarning: DataFrameGroupBy.grouper is deprecated and will be removed in a future version of pandas.\n",
      "  for idx, group_id in zip(df.index, group_ids):\n"
     ]
    }
   ],
   "source": [
    "fcover_and_aux = spf.find_duplicates(fcover_and_aux, ['longitudeX', 'latitudeY'], 'duplicatedCoords')\n",
    "fcover_and_aux = spf.find_duplicates(fcover_and_aux, ['surveyYear', 'surveyMonth', 'surveyDay'], 'duplicatedDate')"
   ]
  },
  {
   "cell_type": "markdown",
   "id": "5e7fa2d0-2b13-48f7-91d1-c49013d07b61",
   "metadata": {},
   "source": [
    "---\n",
    "# 3. Export <a name=\"export\"></a>"
   ]
  },
  {
   "cell_type": "code",
   "execution_count": 156,
   "id": "1ccdcfc5-16b2-4ff6-875b-14308687bab7",
   "metadata": {},
   "outputs": [],
   "source": [
    "# clean up\n",
    "pfts = {'deciduous shrub':'deciduousShrubCover',\n",
    "        'evergreen shrub':'evergreenShrubCover',\n",
    "        'deciduous tree':'deciduousTreeCover',\n",
    "        'evergreen tree':'evergreenTreeCover',\n",
    "        'forb':'forbCover',\n",
    "        'graminoid':'graminoidCover',\n",
    "        'non-vascular':'nonvascularSumCover',\n",
    "        'bryophyte':'bryophyteCover',\n",
    "        'lichen':'lichenCover',\n",
    "        'litter':'litterCover',\n",
    "        'bare ground':'baregroundCover',\n",
    "        'water':'waterCover',\n",
    "        'other':'otherCover'}\n",
    "\n",
    "# rename columns\n",
    "fcover_and_aux.rename(columns=pfts, inplace=True)\n",
    "fcover_cols = list(pfts.values())\n",
    "\n",
    "# reproject and set cover data type\n",
    "fcover_and_aux[fcover_cols] = fcover_and_aux[fcover_cols].astype(np.float32)\n",
    "fcover_and_aux.index.name = 'plotVisit'"
   ]
  },
  {
   "cell_type": "code",
   "execution_count": 157,
   "id": "5c118237-5023-4dc2-8e07-fb57196f3c20",
   "metadata": {},
   "outputs": [
    {
     "data": {
      "text/plain": [
       "Index(['deciduousShrubCover', 'deciduousTreeCover', 'evergreenShrubCover',\n",
       "       'evergreenTreeCover', 'forbCover', 'graminoidCover',\n",
       "       'nonvascularSumCover', 'bryophyteCover', 'lichenCover', 'litterCover',\n",
       "       'baregroundCover', 'waterCover', 'otherCover', 'surveyYear',\n",
       "       'surveyMonth', 'surveyDay', 'plotArea', 'plotShape', 'latitudeY',\n",
       "       'longitudeX', 'georefSource', 'georefAccuracy', 'coordEPSG', 'plotName',\n",
       "       'dataSubsource', 'dataSource', 'dataSourceHtml',\n",
       "       'dataSubsourceCitation', 'surveyMethod', 'fcoverScale', 'surveyPurpose',\n",
       "       'adminUnit', 'adminCountry', 'fireYears', 'bioclimSubzone',\n",
       "       'duplicatedCoords', 'duplicatedDate'],\n",
       "      dtype='object')"
      ]
     },
     "execution_count": 157,
     "metadata": {},
     "output_type": "execute_result"
    }
   ],
   "source": [
    "fcover_and_aux.columns"
   ]
  },
  {
   "cell_type": "code",
   "execution_count": 158,
   "id": "a3f05d06",
   "metadata": {},
   "outputs": [
    {
     "data": {
      "text/plain": [
       "Index(['deciduousShrubCover', 'deciduousTreeCover', 'evergreenShrubCover',\n",
       "       'evergreenTreeCover', 'forbCover', 'graminoidCover',\n",
       "       'nonvascularSumCover', 'bryophyteCover', 'lichenCover', 'litterCover',\n",
       "       'baregroundCover', 'waterCover', 'otherCover', 'surveyYear',\n",
       "       'surveyMonth', 'surveyDay', 'plotArea', 'plotShape', 'latitudeY',\n",
       "       'longitudeX', 'georefSource', 'georefAccuracy', 'coordEPSG', 'plotName',\n",
       "       'dataSubsource', 'dataSource', 'dataSourceHtml',\n",
       "       'dataSubsourceCitation', 'surveyMethod', 'fcoverScale', 'surveyPurpose',\n",
       "       'adminUnit', 'adminCountry', 'fireYears', 'bioclimSubzone',\n",
       "       'duplicatedCoords', 'duplicatedDate', 'geometry'],\n",
       "      dtype='object')"
      ]
     },
     "execution_count": 158,
     "metadata": {},
     "output_type": "execute_result"
    }
   ],
   "source": [
    "# create UID mapping to plotVisit\n",
    "uid_table = pd.DataFrame({'plotVisit': pft_fcover.index})\n",
    "uid_table = spf.assign_uid_column(uid_table, id_col='plotVisit', uid_col='UID')\n",
    "\n",
    "# get UIDs from Arctic AK only\n",
    "path = '../etc/tundra_alaska_latlon/tundra_alaska_wgs84.shp'\n",
    "ak_tundra = gpd.read_file(path)\n",
    "\n",
    "# clip and select Arctic AK indices\n",
    "fcover_and_aux = gpd.GeoDataFrame(fcover_and_aux,\n",
    "                                  geometry=gpd.points_from_xy(fcover_and_aux['longitudeX'],\n",
    "                                                              fcover_and_aux['latitudeY']),\n",
    "                                                              crs='epsg:4326')\n",
    "fcover_and_aux = fcover_and_aux.to_crs(ak_tundra.crs)\n",
    "fcover_and_aux = fcover_and_aux.clip(ak_tundra)\n",
    "valid_uids = fcover_and_aux.index\n",
    "fcover_and_aux.columns"
   ]
  },
  {
   "cell_type": "code",
   "execution_count": 159,
   "id": "1f3d88f0",
   "metadata": {},
   "outputs": [
    {
     "data": {
      "text/plain": [
       "<Axes: >"
      ]
     },
     "execution_count": 159,
     "metadata": {},
     "output_type": "execute_result"
    },
    {
     "data": {
      "image/png": "[encoded data removed]",
      "text/plain": [
       "<Figure size 640x480 with 1 Axes>"
      ]
     },
     "metadata": {},
     "output_type": "display_data"
    }
   ],
   "source": [
    "# plot the post-2010 alaskan tundra points\n",
    "ax = ak_tundra.plot(edgecolor='black', facecolor='none')\n",
    "fcover_and_aux.plot(ax=ax, color='red', markersize=3)"
   ]
  },
  {
   "cell_type": "code",
   "execution_count": 160,
   "id": "9d6cd205",
   "metadata": {},
   "outputs": [
    {
     "name": "stderr",
     "output_type": "stream",
     "text": [
      "/tmp/ipykernel_2400700/2164478736.py:2: UserWarning: Geometry column does not contain geometry.\n",
      "  fcover_and_aux['geometry'] = fcover_and_aux['geometry'].apply(lambda g: g.wkt if g is not None else None)\n"
     ]
    }
   ],
   "source": [
    "# remove geometry\n",
    "fcover_and_aux['geometry'] = fcover_and_aux['geometry'].apply(lambda g: g.wkt if g is not None else None)"
   ]
  },
  {
   "cell_type": "code",
   "execution_count": 161,
   "id": "a4e62a1c",
   "metadata": {},
   "outputs": [
    {
     "name": "stdout",
     "output_type": "stream",
     "text": [
      "Number of plot visits in fcover_and_aux: 280\n",
      "Number of unique plot visits in fcover_and_aux: 280\n"
     ]
    }
   ],
   "source": [
    "faa_li = len(fcover_and_aux.index)\n",
    "faa_ui = len(fcover_and_aux.index.unique())\n",
    "print(f'Number of plot visits in fcover_and_aux: {faa_li}')\n",
    "print(f'Number of unique plot visits in fcover_and_aux: {faa_ui}')"
   ]
  },
  {
   "cell_type": "code",
   "execution_count": 162,
   "id": "ae43723a",
   "metadata": {},
   "outputs": [],
   "source": [
    "# export species fcover\n",
    "species_fcover_out = species_fcover.copy()\n",
    "species_fcover_out = species_fcover_out[species_fcover_out['plotVisit'].isin(valid_uids)]\n",
    "species_fcover_out = spf.replace_column_with_uid(species_fcover_out, uid_table, id_col='plotVisit', uid_col='UID', set_index=False, schema_key='species_fcover')\n",
    "species_fcover_out = spf.format_column_dtypes(species_fcover_out, schema_key='species_fcover')\n",
    "spf.export_dataframe(species_fcover_out, f'output_data/{source}_nonstandard_species_fcover.csv', schema_key='species_fcover', index=False)"
   ]
  },
  {
   "cell_type": "code",
   "execution_count": 163,
   "id": "201a7fdb",
   "metadata": {},
   "outputs": [],
   "source": [
    "# export pft fcover\n",
    "covercols = [col for col in fcover_and_aux.columns if 'Cover' in col]\n",
    "pft_fcover_out = fcover_and_aux[covercols]\n",
    "pft_fcover_out = spf.replace_column_with_uid(pft_fcover_out.reset_index(), uid_table, id_col='plotVisit', uid_col='UID', set_index=True, schema_key='pft_fcover')\n",
    "pft_fcover_out = spf.format_column_dtypes(pft_fcover_out, schema_key='pft_fcover')\n",
    "spf.export_dataframe(pft_fcover_out, f'output_data/{source}_standard_pft_fcover.csv', schema_key='pft_fcover', index=True)"
   ]
  },
  {
   "cell_type": "code",
   "execution_count": 164,
   "id": "7c9b7e03",
   "metadata": {},
   "outputs": [],
   "source": [
    "# export pft aux\n",
    "auxcols = [col for col in fcover_and_aux.columns if 'Cover' not in col]\n",
    "pft_aux = fcover_and_aux[auxcols]\n",
    "pft_aux = spf.replace_column_with_uid(pft_aux.reset_index(), uid_table, id_col='plotVisit', uid_col='UID', set_index=True, schema_key='pft_aux')\n",
    "pft_aux = spf.format_column_dtypes(pft_aux, schema_key='pft_aux')\n",
    "spf.export_dataframe(pft_aux, f'output_data/{source}_plot_info.csv', schema_key='pft_aux', index=True)"
   ]
  }
 ],
 "metadata": {
  "kernelspec": {
   "display_name": "oldgee",
   "language": "python",
   "name": "python3"
  },
  "language_info": {
   "codemirror_mode": {
    "name": "ipython",
    "version": 3
   },
   "file_extension": ".py",
   "mimetype": "text/x-python",
   "name": "python",
   "nbconvert_exporter": "python",
   "pygments_lexer": "ipython3",
   "version": "3.10.16"
  }
 },
 "nbformat": 4,
 "nbformat_minor": 5
}
