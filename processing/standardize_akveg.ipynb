{
 "cells": [
  {
   "cell_type": "markdown",
   "metadata": {},
   "source": [
    "# AKVEG Standardization Notebook\n",
    "---\n",
    "---"
   ]
  },
  {
   "cell_type": "markdown",
   "metadata": {},
   "source": [
    "# Table of contents\n",
    "1. [PRE-PROCESSING](#preprocess)\n",
    "    1. [Load fcover data](#loadfcover)\n",
    "    2. [Join fcover to species checklist table](#joinchecklist)\n",
    "    3. [Join fcover to leaf retention table](#joinleafretention)\n",
    "    4. [Export species-PFT tables](#exporthabits)\n",
    "    5. [Clean exported species-PFT tables](#cleanhabits)\n",
    "2. [STANDARDIZATION](#standardization)\n",
    "    1. [Standardize PFT names](#pftnames)\n",
    "    2. [Sum species fcover to PFT-level](#sumfcover)\n",
    "    3. [Standardize table layout](#tablelayout)\n",
    "    4. [Standardize auxiliary columns](#aux)\n",
    "        1. [Basic plot information](#basics)\n",
    "        2. [Geographical intersections](#geo)\n",
    "        3. [Duplicate coordinates](#dupes)\n",
    "3. [EXPORT](#export)"
   ]
  },
  {
   "cell_type": "markdown",
   "metadata": {},
   "source": [
    "# Load required packages"
   ]
  },
  {
   "cell_type": "code",
   "execution_count": 2,
   "metadata": {},
   "outputs": [],
   "source": [
    "import geopandas as gpd\n",
    "import pandas as pd\n",
    "import numpy as np\n",
    "from pyogrio import read_dataframe\n",
    "import geopandas as gpd\n",
    "import sys\n",
    "import os\n",
    "from urllib.request import urlretrieve\n",
    "import regex as re\n",
    "from shapely.validation import make_valid\n",
    "import importlib\n",
    "from pathlib import Path"
   ]
  },
  {
   "cell_type": "code",
   "execution_count": 3,
   "metadata": {},
   "outputs": [
    {
     "data": {
      "text/plain": [
       "<module 'pavc_funcs.standardize_pft_funcs' from '/mnt/poseidon/remotesensing/arctic/alaska_pft_fcover_harmonization/pavc_funcs/standardize_pft_funcs.py'>"
      ]
     },
     "execution_count": 3,
     "metadata": {},
     "output_type": "execute_result"
    }
   ],
   "source": [
    "# find helper scripts\n",
    "project_root = Path.cwd().parent\n",
    "\n",
    "# 2) Add that root to sys.path\n",
    "if str(project_root) not in sys.path:\n",
    "    sys.path.insert(0, str(project_root))\n",
    "import pavc_funcs.standardize_pft_funcs as spf\n",
    "importlib.reload(spf)"
   ]
  },
  {
   "cell_type": "markdown",
   "metadata": {},
   "source": [
    "---\n",
    "---\n",
    "# 1. Pre-processing <a name=\"preprocess\"></a>\n",
    "After visually inspecting each species-level fcover table for obvious errors, we saved the \"cleaned\" tables to a folder that we then standardized here."
   ]
  },
  {
   "cell_type": "markdown",
   "metadata": {},
   "source": [
    "---\n",
    "## 1.1. Load fcover data <a name=\"loadfcover\"></a>"
   ]
  },
  {
   "cell_type": "code",
   "execution_count": 4,
   "metadata": {},
   "outputs": [],
   "source": [
    "# throughout the script this will help keep my indices matching\n",
    "def normalize_to_int_str(val):\n",
    "    try:\n",
    "        f = float(val)\n",
    "        i = int(f)\n",
    "        if f == i:\n",
    "            return str(i)\n",
    "    except (ValueError, TypeError):\n",
    "        pass\n",
    "    return str(val)"
   ]
  },
  {
   "cell_type": "code",
   "execution_count": 5,
   "metadata": {},
   "outputs": [],
   "source": [
    "source = 'akveg'"
   ]
  },
  {
   "cell_type": "code",
   "execution_count": 6,
   "metadata": {},
   "outputs": [
    {
     "data": {
      "text/html": [
       "<div>\n",
       "<style scoped>\n",
       "    .dataframe tbody tr th:only-of-type {\n",
       "        vertical-align: middle;\n",
       "    }\n",
       "\n",
       "    .dataframe tbody tr th {\n",
       "        vertical-align: top;\n",
       "    }\n",
       "\n",
       "    .dataframe thead th {\n",
       "        text-align: right;\n",
       "    }\n",
       "</style>\n",
       "<table border=\"1\" class=\"dataframe\">\n",
       "  <thead>\n",
       "    <tr style=\"text-align: right;\">\n",
       "      <th></th>\n",
       "      <th>Project</th>\n",
       "      <th>Site Code</th>\n",
       "      <th>Date</th>\n",
       "      <th>Observer</th>\n",
       "      <th>Recorder</th>\n",
       "      <th>Cover Type</th>\n",
       "      <th>Accepted Name</th>\n",
       "      <th>Cover</th>\n",
       "    </tr>\n",
       "    <tr>\n",
       "      <th>ID</th>\n",
       "      <th></th>\n",
       "      <th></th>\n",
       "      <th></th>\n",
       "      <th></th>\n",
       "      <th></th>\n",
       "      <th></th>\n",
       "      <th></th>\n",
       "      <th></th>\n",
       "    </tr>\n",
       "  </thead>\n",
       "  <tbody>\n",
       "    <tr>\n",
       "      <th>1</th>\n",
       "      <td>AIM NPR-A</td>\n",
       "      <td>AB-1B</td>\n",
       "      <td>2012-08-01</td>\n",
       "      <td>Tina Boucher</td>\n",
       "      <td>NaN</td>\n",
       "      <td>total cover</td>\n",
       "      <td>Arnica lessingii</td>\n",
       "      <td>0.0</td>\n",
       "    </tr>\n",
       "    <tr>\n",
       "      <th>2</th>\n",
       "      <td>AIM NPR-A</td>\n",
       "      <td>AB-1B</td>\n",
       "      <td>2012-08-01</td>\n",
       "      <td>Tina Boucher</td>\n",
       "      <td>NaN</td>\n",
       "      <td>total cover</td>\n",
       "      <td>Artemisia arctica</td>\n",
       "      <td>0.0</td>\n",
       "    </tr>\n",
       "    <tr>\n",
       "      <th>3</th>\n",
       "      <td>AIM NPR-A</td>\n",
       "      <td>AB-1B</td>\n",
       "      <td>2012-08-01</td>\n",
       "      <td>Tina Boucher</td>\n",
       "      <td>NaN</td>\n",
       "      <td>total cover</td>\n",
       "      <td>Cardamine bellidifolia</td>\n",
       "      <td>0.0</td>\n",
       "    </tr>\n",
       "  </tbody>\n",
       "</table>\n",
       "</div>"
      ],
      "text/plain": [
       "      Project Site Code        Date      Observer Recorder   Cover Type  \\\n",
       "ID                                                                        \n",
       "1   AIM NPR-A     AB-1B  2012-08-01  Tina Boucher      NaN  total cover   \n",
       "2   AIM NPR-A     AB-1B  2012-08-01  Tina Boucher      NaN  total cover   \n",
       "3   AIM NPR-A     AB-1B  2012-08-01  Tina Boucher      NaN  total cover   \n",
       "\n",
       "             Accepted Name  Cover  \n",
       "ID                                 \n",
       "1         Arnica lessingii    0.0  \n",
       "2        Artemisia arctica    0.0  \n",
       "3   Cardamine bellidifolia    0.0  "
      ]
     },
     "execution_count": 6,
     "metadata": {},
     "output_type": "execute_result"
    }
   ],
   "source": [
    "# read akveg npr-a data, checklist, and ancillary data\n",
    "fcover_path = f'../data/plot_data/{source}/input_data/{source}_foliar_cover.csv'\n",
    "fcover = pd.read_csv(fcover_path, index_col=0)\n",
    "fcover.head(3)"
   ]
  },
  {
   "cell_type": "code",
   "execution_count": 7,
   "metadata": {},
   "outputs": [
    {
     "name": "stderr",
     "output_type": "stream",
     "text": [
      "/tmp/ipykernel_852564/1695658011.py:2: FutureWarning: A value is trying to be set on a copy of a DataFrame or Series through chained assignment using an inplace method.\n",
      "The behavior will change in pandas 3.0. This inplace method will never work because the intermediate object on which we are setting values always behaves as a copy.\n",
      "\n",
      "For example, when doing 'df[col].method(value, inplace=True)', try using 'df.method({col: value}, inplace=True)' or df[col] = df[col].method(value) instead, to perform the operation inplace on the original object.\n",
      "\n",
      "\n",
      "  fcover['Cover'].replace(0, 0.05, inplace=True)\n"
     ]
    }
   ],
   "source": [
    "# 0 means a trace amount was found; convert to 0.05 like \"r\" in BB\n",
    "fcover['Cover'].replace(0, 0.05, inplace=True)\n",
    "fcover['plotVisit'] = fcover['Project'].str.replace(' ', '-') + '_' + fcover['Site Code'].str.replace(' ', '-') + '_' + fcover['Date'].str.replace(' ', '-')\n",
    "fcover['plotVisit'] = fcover['plotVisit'].apply(normalize_to_int_str)\n",
    "fcover = fcover[['plotVisit', 'Accepted Name', 'Cover']]"
   ]
  },
  {
   "cell_type": "code",
   "execution_count": 8,
   "metadata": {},
   "outputs": [
    {
     "data": {
      "text/plain": [
       "185"
      ]
     },
     "execution_count": 8,
     "metadata": {},
     "output_type": "execute_result"
    }
   ],
   "source": [
    "len(fcover['plotVisit'].unique())"
   ]
  },
  {
   "cell_type": "code",
   "execution_count": 9,
   "metadata": {},
   "outputs": [
    {
     "name": "stdout",
     "output_type": "stream",
     "text": [
      "535\n"
     ]
    }
   ],
   "source": [
    "# get unique species names from narrowed down list\n",
    "u_species_names = fcover['Accepted Name'].unique()\n",
    "print(len(u_species_names))\n",
    "species_names_df = pd.DataFrame(u_species_names, columns=['datasetSpeciesName'])"
   ]
  },
  {
   "cell_type": "markdown",
   "metadata": {},
   "source": [
    "---\n",
    "## 1.2. Join fcover to species checklist table <a name=\"joinchecklist\"></a>"
   ]
  },
  {
   "cell_type": "code",
   "execution_count": 10,
   "metadata": {},
   "outputs": [
    {
     "data": {
      "text/html": [
       "<div>\n",
       "<style scoped>\n",
       "    .dataframe tbody tr th:only-of-type {\n",
       "        vertical-align: middle;\n",
       "    }\n",
       "\n",
       "    .dataframe tbody tr th {\n",
       "        vertical-align: top;\n",
       "    }\n",
       "\n",
       "    .dataframe thead th {\n",
       "        text-align: right;\n",
       "    }\n",
       "</style>\n",
       "<table border=\"1\" class=\"dataframe\">\n",
       "  <thead>\n",
       "    <tr style=\"text-align: right;\">\n",
       "      <th></th>\n",
       "      <th>nameCode</th>\n",
       "      <th>checklistSpeciesName</th>\n",
       "      <th>nameStatus</th>\n",
       "      <th>nameAccepted</th>\n",
       "      <th>nameFamily</th>\n",
       "      <th>acceptedNameSource</th>\n",
       "      <th>nameLevel</th>\n",
       "      <th>speciesForm</th>\n",
       "      <th>speciesHabit</th>\n",
       "    </tr>\n",
       "  </thead>\n",
       "  <tbody>\n",
       "    <tr>\n",
       "      <th>0</th>\n",
       "      <td>abroth</td>\n",
       "      <td>Abrothallus De Not.</td>\n",
       "      <td>accepted</td>\n",
       "      <td>Abrothallus De Not.</td>\n",
       "      <td>Abrothallaceae</td>\n",
       "      <td>CNALH</td>\n",
       "      <td>genus</td>\n",
       "      <td>lichen</td>\n",
       "      <td>lichen</td>\n",
       "    </tr>\n",
       "    <tr>\n",
       "      <th>1</th>\n",
       "      <td>abrpar</td>\n",
       "      <td>Abrothallus parmeliarum (Sommerf.) Arnold</td>\n",
       "      <td>accepted</td>\n",
       "      <td>Abrothallus parmeliarum (Sommerf.) Arnold</td>\n",
       "      <td>Abrothallaceae</td>\n",
       "      <td>CNALH</td>\n",
       "      <td>species</td>\n",
       "      <td>lichen</td>\n",
       "      <td>lichen</td>\n",
       "    </tr>\n",
       "    <tr>\n",
       "      <th>2</th>\n",
       "      <td>abrpey</td>\n",
       "      <td>Abrothallus peyritschii (Stein) Kotte</td>\n",
       "      <td>accepted</td>\n",
       "      <td>Abrothallus peyritschii (Stein) Kotte</td>\n",
       "      <td>Abrothallaceae</td>\n",
       "      <td>Dillman et al. 2012</td>\n",
       "      <td>species</td>\n",
       "      <td>lichen</td>\n",
       "      <td>lichen</td>\n",
       "    </tr>\n",
       "  </tbody>\n",
       "</table>\n",
       "</div>"
      ],
      "text/plain": [
       "  nameCode                       checklistSpeciesName nameStatus  \\\n",
       "0   abroth                        Abrothallus De Not.   accepted   \n",
       "1   abrpar  Abrothallus parmeliarum (Sommerf.) Arnold   accepted   \n",
       "2   abrpey      Abrothallus peyritschii (Stein) Kotte   accepted   \n",
       "\n",
       "                                nameAccepted      nameFamily  \\\n",
       "0                        Abrothallus De Not.  Abrothallaceae   \n",
       "1  Abrothallus parmeliarum (Sommerf.) Arnold  Abrothallaceae   \n",
       "2      Abrothallus peyritschii (Stein) Kotte  Abrothallaceae   \n",
       "\n",
       "    acceptedNameSource nameLevel speciesForm speciesHabit  \n",
       "0                CNALH     genus      lichen       lichen  \n",
       "1                CNALH   species      lichen       lichen  \n",
       "2  Dillman et al. 2012   species      lichen       lichen  "
      ]
     },
     "execution_count": 10,
     "metadata": {},
     "output_type": "execute_result"
    }
   ],
   "source": [
    "# load species checklist and prep for joining\n",
    "checklist_path = f'../data/supporting_data/akveg_species_checklist.csv'\n",
    "checklist_df = spf.checklist_df(checklist_path)\n",
    "checklist_df.head(3)"
   ]
  },
  {
   "cell_type": "code",
   "execution_count": 11,
   "metadata": {},
   "outputs": [
    {
     "data": {
      "text/html": [
       "<div>\n",
       "<style scoped>\n",
       "    .dataframe tbody tr th:only-of-type {\n",
       "        vertical-align: middle;\n",
       "    }\n",
       "\n",
       "    .dataframe tbody tr th {\n",
       "        vertical-align: top;\n",
       "    }\n",
       "\n",
       "    .dataframe thead th {\n",
       "        text-align: right;\n",
       "    }\n",
       "</style>\n",
       "<table border=\"1\" class=\"dataframe\">\n",
       "  <thead>\n",
       "    <tr style=\"text-align: right;\">\n",
       "      <th></th>\n",
       "      <th>datasetSpeciesName</th>\n",
       "    </tr>\n",
       "  </thead>\n",
       "  <tbody>\n",
       "    <tr>\n",
       "      <th>0</th>\n",
       "      <td>Arnica lessingii</td>\n",
       "    </tr>\n",
       "    <tr>\n",
       "      <th>1</th>\n",
       "      <td>Artemisia arctica</td>\n",
       "    </tr>\n",
       "    <tr>\n",
       "      <th>2</th>\n",
       "      <td>Cardamine bellidifolia</td>\n",
       "    </tr>\n",
       "  </tbody>\n",
       "</table>\n",
       "</div>"
      ],
      "text/plain": [
       "       datasetSpeciesName\n",
       "0        Arnica lessingii\n",
       "1       Artemisia arctica\n",
       "2  Cardamine bellidifolia"
      ]
     },
     "execution_count": 11,
     "metadata": {},
     "output_type": "execute_result"
    }
   ],
   "source": [
    "species_names_df.head(3)"
   ]
  },
  {
   "cell_type": "code",
   "execution_count": 12,
   "metadata": {},
   "outputs": [
    {
     "name": "stdout",
     "output_type": "stream",
     "text": [
      "67 species are missing habits.\n",
      "62 species still missing habits.\n",
      "7 species still missing habits.\n",
      "7 species still missing habits.\n"
     ]
    }
   ],
   "source": [
    "# get first 2 words (genus-species) from checklist accepted name and data species name\n",
    "checklist_df['joinKey'] = checklist_df['checklistSpeciesName'].apply(spf.get_substrings)\n",
    "species_names_df['joinKey'] = species_names_df['datasetSpeciesName'].apply(spf.get_substrings)\n",
    "habits = spf.join_to_checklist(unique_species=species_names_df, \n",
    "                               checklist=checklist_df, \n",
    "                               u_name='datasetSpeciesName', \n",
    "                               c_unofficial_name='checklistSpeciesName', \n",
    "                               c_official_name='nameAccepted', \n",
    "                               mapping_name='joinKey',\n",
    "                               habit='speciesHabit')"
   ]
  },
  {
   "cell_type": "code",
   "execution_count": 13,
   "metadata": {},
   "outputs": [
    {
     "data": {
      "text/html": [
       "<div>\n",
       "<style scoped>\n",
       "    .dataframe tbody tr th:only-of-type {\n",
       "        vertical-align: middle;\n",
       "    }\n",
       "\n",
       "    .dataframe tbody tr th {\n",
       "        vertical-align: top;\n",
       "    }\n",
       "\n",
       "    .dataframe thead th {\n",
       "        text-align: right;\n",
       "    }\n",
       "</style>\n",
       "<table border=\"1\" class=\"dataframe\">\n",
       "  <thead>\n",
       "    <tr style=\"text-align: right;\">\n",
       "      <th></th>\n",
       "      <th>datasetSpeciesName</th>\n",
       "      <th>joinKey</th>\n",
       "      <th>speciesHabit</th>\n",
       "    </tr>\n",
       "    <tr>\n",
       "      <th>index</th>\n",
       "      <th></th>\n",
       "      <th></th>\n",
       "      <th></th>\n",
       "    </tr>\n",
       "  </thead>\n",
       "  <tbody>\n",
       "    <tr>\n",
       "      <th>0</th>\n",
       "      <td>Arnica lessingii</td>\n",
       "      <td>Arnica lessingii</td>\n",
       "      <td>forb</td>\n",
       "    </tr>\n",
       "    <tr>\n",
       "      <th>1</th>\n",
       "      <td>Artemisia arctica</td>\n",
       "      <td>Artemisia arctica</td>\n",
       "      <td>forb</td>\n",
       "    </tr>\n",
       "    <tr>\n",
       "      <th>2</th>\n",
       "      <td>Cardamine bellidifolia</td>\n",
       "      <td>Cardamine bellidifolia</td>\n",
       "      <td>forb</td>\n",
       "    </tr>\n",
       "  </tbody>\n",
       "</table>\n",
       "</div>"
      ],
      "text/plain": [
       "           datasetSpeciesName                 joinKey speciesHabit\n",
       "index                                                             \n",
       "0            Arnica lessingii        Arnica lessingii         forb\n",
       "1           Artemisia arctica       Artemisia arctica         forb\n",
       "2      Cardamine bellidifolia  Cardamine bellidifolia         forb"
      ]
     },
     "execution_count": 13,
     "metadata": {},
     "output_type": "execute_result"
    }
   ],
   "source": [
    "habits.head(3)"
   ]
  },
  {
   "cell_type": "code",
   "execution_count": 14,
   "metadata": {},
   "outputs": [
    {
     "data": {
      "text/html": [
       "<div>\n",
       "<style scoped>\n",
       "    .dataframe tbody tr th:only-of-type {\n",
       "        vertical-align: middle;\n",
       "    }\n",
       "\n",
       "    .dataframe tbody tr th {\n",
       "        vertical-align: top;\n",
       "    }\n",
       "\n",
       "    .dataframe thead th {\n",
       "        text-align: right;\n",
       "    }\n",
       "</style>\n",
       "<table border=\"1\" class=\"dataframe\">\n",
       "  <thead>\n",
       "    <tr style=\"text-align: right;\">\n",
       "      <th></th>\n",
       "      <th>datasetSpeciesName</th>\n",
       "      <th>joinKey</th>\n",
       "    </tr>\n",
       "  </thead>\n",
       "  <tbody>\n",
       "    <tr>\n",
       "      <th>0</th>\n",
       "      <td>Arnica lessingii</td>\n",
       "      <td>Arnica lessingii</td>\n",
       "    </tr>\n",
       "    <tr>\n",
       "      <th>1</th>\n",
       "      <td>Artemisia arctica</td>\n",
       "      <td>Artemisia arctica</td>\n",
       "    </tr>\n",
       "    <tr>\n",
       "      <th>2</th>\n",
       "      <td>Cardamine bellidifolia</td>\n",
       "      <td>Cardamine bellidifolia</td>\n",
       "    </tr>\n",
       "  </tbody>\n",
       "</table>\n",
       "</div>"
      ],
      "text/plain": [
       "       datasetSpeciesName                 joinKey\n",
       "0        Arnica lessingii        Arnica lessingii\n",
       "1       Artemisia arctica       Artemisia arctica\n",
       "2  Cardamine bellidifolia  Cardamine bellidifolia"
      ]
     },
     "execution_count": 14,
     "metadata": {},
     "output_type": "execute_result"
    }
   ],
   "source": [
    "species_names_df.head(3)"
   ]
  },
  {
   "cell_type": "code",
   "execution_count": 15,
   "metadata": {},
   "outputs": [],
   "source": [
    "habits = species_names_df.merge(habits, how='left', left_on='datasetSpeciesName', right_on='datasetSpeciesName', suffixes=(None, '_1'))\n",
    "habits = habits[['joinKey', 'datasetSpeciesName', 'speciesHabit']]"
   ]
  },
  {
   "cell_type": "markdown",
   "metadata": {},
   "source": [
    "---\n",
    "## 1.3. Join fcover to leaf retention table <a name=\"joinleafretention\"></a>"
   ]
  },
  {
   "cell_type": "code",
   "execution_count": 16,
   "metadata": {},
   "outputs": [
    {
     "data": {
      "text/html": [
       "<div>\n",
       "<style scoped>\n",
       "    .dataframe tbody tr th:only-of-type {\n",
       "        vertical-align: middle;\n",
       "    }\n",
       "\n",
       "    .dataframe tbody tr th {\n",
       "        vertical-align: top;\n",
       "    }\n",
       "\n",
       "    .dataframe thead th {\n",
       "        text-align: right;\n",
       "    }\n",
       "</style>\n",
       "<table border=\"1\" class=\"dataframe\">\n",
       "  <thead>\n",
       "    <tr style=\"text-align: right;\">\n",
       "      <th></th>\n",
       "      <th>leafRetention</th>\n",
       "      <th>retentionSpeciesName</th>\n",
       "    </tr>\n",
       "  </thead>\n",
       "  <tbody>\n",
       "    <tr>\n",
       "      <th>0</th>\n",
       "      <td>deciduous</td>\n",
       "      <td>Salix</td>\n",
       "    </tr>\n",
       "    <tr>\n",
       "      <th>1</th>\n",
       "      <td>deciduous</td>\n",
       "      <td>Betula nana</td>\n",
       "    </tr>\n",
       "    <tr>\n",
       "      <th>2</th>\n",
       "      <td>deciduous</td>\n",
       "      <td>Vaccinium uliginosum</td>\n",
       "    </tr>\n",
       "  </tbody>\n",
       "</table>\n",
       "</div>"
      ],
      "text/plain": [
       "  leafRetention  retentionSpeciesName\n",
       "0     deciduous                 Salix\n",
       "1     deciduous           Betula nana\n",
       "2     deciduous  Vaccinium uliginosum"
      ]
     },
     "execution_count": 16,
     "metadata": {},
     "output_type": "execute_result"
    }
   ],
   "source": [
    "leaf_df = spf.leaf_retention_df('../data/supporting_data/macander_leaf_retention.csv')\n",
    "leaf_df.head(3)"
   ]
  },
  {
   "cell_type": "code",
   "execution_count": 17,
   "metadata": {},
   "outputs": [
    {
     "data": {
      "text/html": [
       "<div>\n",
       "<style scoped>\n",
       "    .dataframe tbody tr th:only-of-type {\n",
       "        vertical-align: middle;\n",
       "    }\n",
       "\n",
       "    .dataframe tbody tr th {\n",
       "        vertical-align: top;\n",
       "    }\n",
       "\n",
       "    .dataframe thead th {\n",
       "        text-align: right;\n",
       "    }\n",
       "</style>\n",
       "<table border=\"1\" class=\"dataframe\">\n",
       "  <thead>\n",
       "    <tr style=\"text-align: right;\">\n",
       "      <th></th>\n",
       "      <th>datasetSpeciesName</th>\n",
       "      <th>joinKey</th>\n",
       "      <th>speciesHabit</th>\n",
       "      <th>leafRetention</th>\n",
       "    </tr>\n",
       "  </thead>\n",
       "  <tbody>\n",
       "    <tr>\n",
       "      <th>0</th>\n",
       "      <td>Arnica lessingii</td>\n",
       "      <td>Arnica lessingii</td>\n",
       "      <td>forb</td>\n",
       "      <td></td>\n",
       "    </tr>\n",
       "    <tr>\n",
       "      <th>1</th>\n",
       "      <td>Artemisia arctica</td>\n",
       "      <td>Artemisia arctica</td>\n",
       "      <td>forb</td>\n",
       "      <td></td>\n",
       "    </tr>\n",
       "    <tr>\n",
       "      <th>2</th>\n",
       "      <td>Cardamine bellidifolia</td>\n",
       "      <td>Cardamine bellidifolia</td>\n",
       "      <td>forb</td>\n",
       "      <td></td>\n",
       "    </tr>\n",
       "  </tbody>\n",
       "</table>\n",
       "</div>"
      ],
      "text/plain": [
       "       datasetSpeciesName                 joinKey speciesHabit leafRetention\n",
       "0        Arnica lessingii        Arnica lessingii         forb              \n",
       "1       Artemisia arctica       Artemisia arctica         forb              \n",
       "2  Cardamine bellidifolia  Cardamine bellidifolia         forb              "
      ]
     },
     "execution_count": 17,
     "metadata": {},
     "output_type": "execute_result"
    }
   ],
   "source": [
    "# add leaf retention column\n",
    "habits_wleaf = spf.add_leaf_retention(habits, leaf_df, 'leafRetention')\n",
    "habits_wleaf = habits_wleaf[['datasetSpeciesName', 'joinKey', 'speciesHabit', 'leafRetention']]\n",
    "habits_wleaf.head(3)"
   ]
  },
  {
   "cell_type": "code",
   "execution_count": 18,
   "metadata": {},
   "outputs": [
    {
     "data": {
      "text/plain": [
       "['forb',\n",
       " 'graminoid',\n",
       " 'shrub',\n",
       " 'spore-bearing',\n",
       " 'lichen',\n",
       " 'moss',\n",
       " 'liverwort',\n",
       " nan]"
      ]
     },
     "execution_count": 18,
     "metadata": {},
     "output_type": "execute_result"
    }
   ],
   "source": [
    "# apply function to remove any extra words with shrub\n",
    "habits_wleaf['speciesHabit'] = habits_wleaf['speciesHabit'].apply(spf.clean_shrub_habits)\n",
    "list(habits_wleaf['speciesHabit'].unique())"
   ]
  },
  {
   "cell_type": "markdown",
   "metadata": {},
   "source": [
    "---\n",
    "## 1.4. Export species-PFT tables <a name=\"exporthabits\"></a>"
   ]
  },
  {
   "cell_type": "code",
   "execution_count": 19,
   "metadata": {},
   "outputs": [],
   "source": [
    "# generate 3 files and dataframe of habit types\n",
    "shrubs, nonshrubs, null = spf.export_habit_files(habits_wleaf,\n",
    "                                                 f'../data/plot_data/{source}/temp_data', \n",
    "                                                 source, \n",
    "                                                 'speciesHabit')"
   ]
  },
  {
   "cell_type": "code",
   "execution_count": 20,
   "metadata": {},
   "outputs": [
    {
     "data": {
      "text/plain": [
       "True"
      ]
     },
     "execution_count": 20,
     "metadata": {},
     "output_type": "execute_result"
    }
   ],
   "source": [
    "# check to make sure the files make sense\n",
    "len(habits_wleaf) == (len(null) + len(nonshrubs) + len(shrubs))"
   ]
  },
  {
   "cell_type": "markdown",
   "metadata": {},
   "source": [
    "---\n",
    "## 1.5. Clean exported species-PFT tables <a name=\"cleanhabits\"></a>\n",
    "Here, we manually assessed each file. The nonshrubs were usually correct and did not have to be adjusted. Some shrubs were missing leaf retention information, so we consulted with arctic ecologists to determine it. For unknown (null) habits, we consulted arctic ecology expert, Amy Breen, to determine the issue and correct habit. After the tables were complete, all species names had a single associated habit.\n",
    "- null habits\n",
    "    - assign missing habits and consult ecologist when needed\n",
    "- non-shrubs\n",
    "    - assign leaf habit to all trees (ctrl-f to find all trees in excel)\n",
    "        - coniferous tree = evergreen\n",
    "        - deciduous tree  = deciduous\n",
    "    - remove leaf habit if misapplied\n",
    "- shrubs\n",
    "    - check current leaf habits and correct if necessary\n",
    "    - fill empty leaf habits\n",
    "    - choose leaf habit if both evergreen & deciduous listed\n",
    "    - add Stature column (dwarf shrub or not)"
   ]
  },
  {
   "cell_type": "markdown",
   "metadata": {},
   "source": [
    "---\n",
    "---\n",
    "# 2. Standardization <a name=\"standardization\"></a>"
   ]
  },
  {
   "cell_type": "markdown",
   "metadata": {},
   "source": [
    "---\n",
    "## 2.1. Standardize PFT names <a name=\"pftnames\"></a>\n",
    "deciduous shrub, evergreen shrub, graminoid, forb, litter, non-vascular (lichen, brophyte)"
   ]
  },
  {
   "cell_type": "code",
   "execution_count": 21,
   "metadata": {},
   "outputs": [],
   "source": [
    "# paths to visually assessed and cleaned habit files\n",
    "all_habit_types = [f'../data/plot_data/{source}/temp_data/{source}_nonshrubs_01.csv',\n",
    "                   f'../data/plot_data/{source}/temp_data/{source}_shrubs_01.csv',\n",
    "                   f'../data/plot_data/{source}/temp_data/{source}_nullhabit_01.csv']\n",
    "\n",
    "# create list of habit dataframes\n",
    "habit_dfs = []\n",
    "for path in all_habit_types:\n",
    "    habit_df = pd.read_csv(path, index_col=0)\n",
    "    habit_dfs.append(habit_df)\n",
    "all_habits = pd.concat(habit_dfs)"
   ]
  },
  {
   "cell_type": "code",
   "execution_count": 22,
   "metadata": {},
   "outputs": [
    {
     "data": {
      "text/plain": [
       "['forb',\n",
       " 'graminoid',\n",
       " 'spore-bearing',\n",
       " 'lichen',\n",
       " 'moss',\n",
       " 'liverwort',\n",
       " 'shrub',\n",
       " 'algae',\n",
       " 'fungus']"
      ]
     },
     "execution_count": 22,
     "metadata": {},
     "output_type": "execute_result"
    }
   ],
   "source": [
    "# show unique habit names we're working with\n",
    "all_habits['speciesHabit'].unique().tolist()"
   ]
  },
  {
   "cell_type": "code",
   "execution_count": 23,
   "metadata": {},
   "outputs": [],
   "source": [
    "# akveg-specific habit name standardization function\n",
    "def standardize_habit(habitrow, leafrow):\n",
    "    \n",
    "    habitrow = habitrow.to_numpy()\n",
    "    leafrow = leafrow.to_numpy()\n",
    "    new_row = []\n",
    "    \n",
    "    for habit, leaf in zip(habitrow, leafrow):\n",
    "        \n",
    "        habit = habit.lower()\n",
    "        # non-shrubs\n",
    "        if 'algae' in habit or 'fungus' in habit:\n",
    "            new_habit = 'other'\n",
    "        elif 'moss' in habit or 'liverwort' in habit:\n",
    "            new_habit = 'bryophyte'\n",
    "        elif 'spore-bearing' in habit:\n",
    "            new_habit = 'forb'\n",
    "            \n",
    "        # shrubs and trees\n",
    "        elif 'shrub' in habit:\n",
    "            new_habit = f'{leaf} shrub'\n",
    "            \n",
    "        else:\n",
    "            new_habit = f'{habit}'\n",
    "        new_row.append(new_habit)\n",
    "    \n",
    "    return new_row"
   ]
  },
  {
   "cell_type": "code",
   "execution_count": 24,
   "metadata": {},
   "outputs": [
    {
     "name": "stdout",
     "output_type": "stream",
     "text": [
      "535\n"
     ]
    },
    {
     "data": {
      "text/html": [
       "<div>\n",
       "<style scoped>\n",
       "    .dataframe tbody tr th:only-of-type {\n",
       "        vertical-align: middle;\n",
       "    }\n",
       "\n",
       "    .dataframe tbody tr th {\n",
       "        vertical-align: top;\n",
       "    }\n",
       "\n",
       "    .dataframe thead th {\n",
       "        text-align: right;\n",
       "    }\n",
       "</style>\n",
       "<table border=\"1\" class=\"dataframe\">\n",
       "  <thead>\n",
       "    <tr style=\"text-align: right;\">\n",
       "      <th></th>\n",
       "      <th>datasetSpeciesName</th>\n",
       "      <th>joinKey</th>\n",
       "      <th>nonstandardHabit</th>\n",
       "      <th>leafRetention</th>\n",
       "      <th>speciesStature</th>\n",
       "      <th>standardHabit</th>\n",
       "    </tr>\n",
       "  </thead>\n",
       "  <tbody>\n",
       "    <tr>\n",
       "      <th>0</th>\n",
       "      <td>Arnica lessingii</td>\n",
       "      <td>Arnica lessingii</td>\n",
       "      <td>forb</td>\n",
       "      <td>NaN</td>\n",
       "      <td>NaN</td>\n",
       "      <td>forb</td>\n",
       "    </tr>\n",
       "    <tr>\n",
       "      <th>1</th>\n",
       "      <td>Artemisia arctica</td>\n",
       "      <td>Artemisia arctica</td>\n",
       "      <td>forb</td>\n",
       "      <td>NaN</td>\n",
       "      <td>NaN</td>\n",
       "      <td>forb</td>\n",
       "    </tr>\n",
       "    <tr>\n",
       "      <th>2</th>\n",
       "      <td>Cardamine bellidifolia</td>\n",
       "      <td>Cardamine bellidifolia</td>\n",
       "      <td>forb</td>\n",
       "      <td>NaN</td>\n",
       "      <td>NaN</td>\n",
       "      <td>forb</td>\n",
       "    </tr>\n",
       "  </tbody>\n",
       "</table>\n",
       "</div>"
      ],
      "text/plain": [
       "       datasetSpeciesName                 joinKey nonstandardHabit  \\\n",
       "0        Arnica lessingii        Arnica lessingii             forb   \n",
       "1       Artemisia arctica       Artemisia arctica             forb   \n",
       "2  Cardamine bellidifolia  Cardamine bellidifolia             forb   \n",
       "\n",
       "  leafRetention speciesStature standardHabit  \n",
       "0           NaN            NaN          forb  \n",
       "1           NaN            NaN          forb  \n",
       "2           NaN            NaN          forb  "
      ]
     },
     "execution_count": 24,
     "metadata": {},
     "output_type": "execute_result"
    }
   ],
   "source": [
    "# standardized PFT\n",
    "standard_habit_col = standardize_habit(all_habits['speciesHabit'], \n",
    "                                       all_habits['leafRetention'])\n",
    "all_habits['standardHabit'] = standard_habit_col\n",
    "all_habits.rename(columns={'speciesHabit':'nonstandardHabit'}, inplace=True)\n",
    "print(len(all_habits))\n",
    "all_habits.head(3)"
   ]
  },
  {
   "cell_type": "markdown",
   "metadata": {},
   "source": [
    "---\n",
    "## 2.2. Sum species fcover to PFT-level <a name=\"sumfcover\"></a>"
   ]
  },
  {
   "cell_type": "code",
   "execution_count": 25,
   "metadata": {},
   "outputs": [
    {
     "data": {
      "text/html": [
       "<div>\n",
       "<style scoped>\n",
       "    .dataframe tbody tr th:only-of-type {\n",
       "        vertical-align: middle;\n",
       "    }\n",
       "\n",
       "    .dataframe tbody tr th {\n",
       "        vertical-align: top;\n",
       "    }\n",
       "\n",
       "    .dataframe thead th {\n",
       "        text-align: right;\n",
       "    }\n",
       "</style>\n",
       "<table border=\"1\" class=\"dataframe\">\n",
       "  <thead>\n",
       "    <tr style=\"text-align: right;\">\n",
       "      <th></th>\n",
       "      <th>plotVisit</th>\n",
       "      <th>percentCover</th>\n",
       "      <th>datasetSpeciesName</th>\n",
       "      <th>standardHabit</th>\n",
       "      <th>nonstandardHabit</th>\n",
       "    </tr>\n",
       "  </thead>\n",
       "  <tbody>\n",
       "    <tr>\n",
       "      <th>0</th>\n",
       "      <td>AIM-NPR-A_AB-1B_2012-08-01</td>\n",
       "      <td>0.05</td>\n",
       "      <td>Arnica lessingii</td>\n",
       "      <td>forb</td>\n",
       "      <td>forb</td>\n",
       "    </tr>\n",
       "    <tr>\n",
       "      <th>1</th>\n",
       "      <td>AIM-NPR-A_AB-1B_2012-08-01</td>\n",
       "      <td>0.05</td>\n",
       "      <td>Artemisia arctica</td>\n",
       "      <td>forb</td>\n",
       "      <td>forb</td>\n",
       "    </tr>\n",
       "    <tr>\n",
       "      <th>2</th>\n",
       "      <td>AIM-NPR-A_AB-1B_2012-08-01</td>\n",
       "      <td>0.05</td>\n",
       "      <td>Cardamine bellidifolia</td>\n",
       "      <td>forb</td>\n",
       "      <td>forb</td>\n",
       "    </tr>\n",
       "  </tbody>\n",
       "</table>\n",
       "</div>"
      ],
      "text/plain": [
       "                    plotVisit  percentCover      datasetSpeciesName  \\\n",
       "0  AIM-NPR-A_AB-1B_2012-08-01          0.05        Arnica lessingii   \n",
       "1  AIM-NPR-A_AB-1B_2012-08-01          0.05       Artemisia arctica   \n",
       "2  AIM-NPR-A_AB-1B_2012-08-01          0.05  Cardamine bellidifolia   \n",
       "\n",
       "  standardHabit nonstandardHabit  \n",
       "0          forb             forb  \n",
       "1          forb             forb  \n",
       "2          forb             forb  "
      ]
     },
     "execution_count": 25,
     "metadata": {},
     "output_type": "execute_result"
    }
   ],
   "source": [
    "# loop through each plot and sum fcover per pft\n",
    "all_habits = all_habits[['datasetSpeciesName', 'standardHabit', 'nonstandardHabit']]\n",
    "species_fcover = fcover.merge(all_habits, \n",
    "                               left_on='Accepted Name', \n",
    "                               right_on='datasetSpeciesName')\n",
    "species_fcover = species_fcover.rename(columns={'Cover':'percentCover'})\n",
    "species_fcover = species_fcover.drop(columns=['Accepted Name'])\n",
    "species_fcover.head(3)"
   ]
  },
  {
   "cell_type": "code",
   "execution_count": 26,
   "metadata": {},
   "outputs": [
    {
     "data": {
      "text/plain": [
       "185"
      ]
     },
     "execution_count": 26,
     "metadata": {},
     "output_type": "execute_result"
    }
   ],
   "source": [
    "len(species_fcover['plotVisit'].unique())"
   ]
  },
  {
   "cell_type": "code",
   "execution_count": 27,
   "metadata": {},
   "outputs": [
    {
     "data": {
      "text/html": [
       "<div>\n",
       "<style scoped>\n",
       "    .dataframe tbody tr th:only-of-type {\n",
       "        vertical-align: middle;\n",
       "    }\n",
       "\n",
       "    .dataframe tbody tr th {\n",
       "        vertical-align: top;\n",
       "    }\n",
       "\n",
       "    .dataframe thead th {\n",
       "        text-align: right;\n",
       "    }\n",
       "</style>\n",
       "<table border=\"1\" class=\"dataframe\">\n",
       "  <thead>\n",
       "    <tr style=\"text-align: right;\">\n",
       "      <th></th>\n",
       "      <th>plotVisit</th>\n",
       "      <th>datasetSpeciesName</th>\n",
       "      <th>standardHabit</th>\n",
       "      <th>nonstandardHabit</th>\n",
       "      <th>percentCover</th>\n",
       "    </tr>\n",
       "  </thead>\n",
       "  <tbody>\n",
       "    <tr>\n",
       "      <th>0</th>\n",
       "      <td>AIM-NPR-A_AB-1B_2012-08-01</td>\n",
       "      <td>Arnica lessingii</td>\n",
       "      <td>forb</td>\n",
       "      <td>forb</td>\n",
       "      <td>0.05</td>\n",
       "    </tr>\n",
       "    <tr>\n",
       "      <th>1</th>\n",
       "      <td>AIM-NPR-A_AB-1B_2012-08-01</td>\n",
       "      <td>Artemisia arctica</td>\n",
       "      <td>forb</td>\n",
       "      <td>forb</td>\n",
       "      <td>0.05</td>\n",
       "    </tr>\n",
       "    <tr>\n",
       "      <th>2</th>\n",
       "      <td>AIM-NPR-A_AB-1B_2012-08-01</td>\n",
       "      <td>Cardamine bellidifolia</td>\n",
       "      <td>forb</td>\n",
       "      <td>forb</td>\n",
       "      <td>0.05</td>\n",
       "    </tr>\n",
       "  </tbody>\n",
       "</table>\n",
       "</div>"
      ],
      "text/plain": [
       "                    plotVisit      datasetSpeciesName standardHabit  \\\n",
       "0  AIM-NPR-A_AB-1B_2012-08-01        Arnica lessingii          forb   \n",
       "1  AIM-NPR-A_AB-1B_2012-08-01       Artemisia arctica          forb   \n",
       "2  AIM-NPR-A_AB-1B_2012-08-01  Cardamine bellidifolia          forb   \n",
       "\n",
       "  nonstandardHabit  percentCover  \n",
       "0             forb          0.05  \n",
       "1             forb          0.05  \n",
       "2             forb          0.05  "
      ]
     },
     "execution_count": 27,
     "metadata": {},
     "output_type": "execute_result"
    }
   ],
   "source": [
    "species_fcover = species_fcover[['plotVisit', 'datasetSpeciesName', 'standardHabit', \n",
    "                                 'nonstandardHabit', 'percentCover']]\n",
    "species_fcover.head(3)"
   ]
  },
  {
   "cell_type": "code",
   "execution_count": 28,
   "metadata": {},
   "outputs": [],
   "source": [
    "# group by 'Site Code' and 'standardHabit', then sum the 'Cover'\n",
    "temp = species_fcover.groupby(['plotVisit', 'standardHabit'])['percentCover'].sum().reset_index()\n",
    "pft_fcover = temp.pivot(index='plotVisit', columns='standardHabit', values='percentCover')"
   ]
  },
  {
   "cell_type": "code",
   "execution_count": 29,
   "metadata": {},
   "outputs": [
    {
     "data": {
      "text/html": [
       "<div>\n",
       "<style scoped>\n",
       "    .dataframe tbody tr th:only-of-type {\n",
       "        vertical-align: middle;\n",
       "    }\n",
       "\n",
       "    .dataframe tbody tr th {\n",
       "        vertical-align: top;\n",
       "    }\n",
       "\n",
       "    .dataframe thead th {\n",
       "        text-align: right;\n",
       "    }\n",
       "</style>\n",
       "<table border=\"1\" class=\"dataframe\">\n",
       "  <thead>\n",
       "    <tr style=\"text-align: right;\">\n",
       "      <th></th>\n",
       "      <th>bryophyte</th>\n",
       "      <th>deciduous shrub</th>\n",
       "      <th>evergreen shrub</th>\n",
       "      <th>forb</th>\n",
       "      <th>graminoid</th>\n",
       "      <th>lichen</th>\n",
       "      <th>other</th>\n",
       "    </tr>\n",
       "    <tr>\n",
       "      <th>plotVisit</th>\n",
       "      <th></th>\n",
       "      <th></th>\n",
       "      <th></th>\n",
       "      <th></th>\n",
       "      <th></th>\n",
       "      <th></th>\n",
       "      <th></th>\n",
       "    </tr>\n",
       "  </thead>\n",
       "  <tbody>\n",
       "    <tr>\n",
       "      <th>AIM-NPR-A_AB-1B_2012-08-01</th>\n",
       "      <td>NaN</td>\n",
       "      <td>0.05</td>\n",
       "      <td>NaN</td>\n",
       "      <td>2.05</td>\n",
       "      <td>1.10</td>\n",
       "      <td>12.7</td>\n",
       "      <td>NaN</td>\n",
       "    </tr>\n",
       "    <tr>\n",
       "      <th>AIM-NPR-A_AB-5B_2012-08-01</th>\n",
       "      <td>2.7</td>\n",
       "      <td>14.75</td>\n",
       "      <td>22.0</td>\n",
       "      <td>3.40</td>\n",
       "      <td>7.05</td>\n",
       "      <td>14.1</td>\n",
       "      <td>NaN</td>\n",
       "    </tr>\n",
       "    <tr>\n",
       "      <th>AIM-NPR-A_ADST-21_2013-07-30</th>\n",
       "      <td>26.5</td>\n",
       "      <td>19.50</td>\n",
       "      <td>52.6</td>\n",
       "      <td>6.55</td>\n",
       "      <td>6.25</td>\n",
       "      <td>41.3</td>\n",
       "      <td>NaN</td>\n",
       "    </tr>\n",
       "  </tbody>\n",
       "</table>\n",
       "</div>"
      ],
      "text/plain": [
       "                              bryophyte  deciduous shrub  evergreen shrub  \\\n",
       "plotVisit                                                                   \n",
       "AIM-NPR-A_AB-1B_2012-08-01          NaN             0.05              NaN   \n",
       "AIM-NPR-A_AB-5B_2012-08-01          2.7            14.75             22.0   \n",
       "AIM-NPR-A_ADST-21_2013-07-30       26.5            19.50             52.6   \n",
       "\n",
       "                              forb  graminoid  lichen  other  \n",
       "plotVisit                                                     \n",
       "AIM-NPR-A_AB-1B_2012-08-01    2.05       1.10    12.7    NaN  \n",
       "AIM-NPR-A_AB-5B_2012-08-01    3.40       7.05    14.1    NaN  \n",
       "AIM-NPR-A_ADST-21_2013-07-30  6.55       6.25    41.3    NaN  "
      ]
     },
     "execution_count": 29,
     "metadata": {},
     "output_type": "execute_result"
    }
   ],
   "source": [
    "# clean up\n",
    "pft_fcover.columns.name = None\n",
    "pft_fcover.index.name = 'plotVisit'\n",
    "pft_fcover.index = pft_fcover.index.map(normalize_to_int_str)\n",
    "pft_fcover.head(3)"
   ]
  },
  {
   "cell_type": "code",
   "execution_count": 30,
   "metadata": {},
   "outputs": [
    {
     "data": {
      "text/plain": [
       "185"
      ]
     },
     "execution_count": 30,
     "metadata": {},
     "output_type": "execute_result"
    }
   ],
   "source": [
    "len(pft_fcover.index)"
   ]
  },
  {
   "cell_type": "markdown",
   "metadata": {},
   "source": [
    "---\n",
    "## 2.3. Standardize table layout <a name=\"tablelayout\"></a>"
   ]
  },
  {
   "cell_type": "code",
   "execution_count": 31,
   "metadata": {},
   "outputs": [],
   "source": [
    "# list of necessary PFTs\n",
    "pfts = ['deciduous shrub', 'deciduous tree',\n",
    "        'evergreen shrub', 'evergreen tree',\n",
    "        'forb', 'graminoid', 'non-vascular',\n",
    "        'bryophyte', 'lichen', 'litter',\n",
    "        'bare ground', 'water', 'other']"
   ]
  },
  {
   "cell_type": "code",
   "execution_count": 32,
   "metadata": {},
   "outputs": [],
   "source": [
    "# load non-vegetation data and format plotVisit\n",
    "nonveg = pd.read_csv(f'../data/plot_data/{source}/input_data/akveg_nonfoliar_cover.csv')\n",
    "\n",
    "# 1. Update 'ProjectName' if it contains 'NPR-A'\n",
    "nonveg['ProjectName'] = nonveg['ProjectName'].apply(\n",
    "    lambda x: 'AIM-NPR-A' if 'NPR-A' in str(x) else x\n",
    ")\n",
    "\n",
    "# 2. Convert 'DateVisited' to YYYY-MM-DD\n",
    "nonveg['DateVisited'] = pd.to_datetime(nonveg['DateVisited']).dt.strftime('%Y-%m-%d')\n",
    "\n",
    "# If 'ProjectName' is NaN, set it to 'AIM-NPR-A'\n",
    "nonveg['ProjectName'] = nonveg['ProjectName'].fillna('AIM-NPR-A')\n",
    "\n",
    "# Now create 'plotVisit' while ignoring other NaNs\n",
    "nonveg['plotVisit'] = nonveg[['ProjectName', 'PlotID', 'DateVisited']].apply(\n",
    "    lambda x: '_'.join(x.dropna().astype(str)), axis=1\n",
    ")\n",
    "\n",
    "nonveg['plotVisit'] = nonveg['plotVisit'].apply(normalize_to_int_str)"
   ]
  },
  {
   "cell_type": "code",
   "execution_count": 33,
   "metadata": {},
   "outputs": [
    {
     "data": {
      "text/plain": [
       "268"
      ]
     },
     "execution_count": 33,
     "metadata": {},
     "output_type": "execute_result"
    }
   ],
   "source": [
    "# The non-veg data is from BLM so there are more non-veg plots than fcover plots\n",
    "len(nonveg['plotVisit'].unique())"
   ]
  },
  {
   "cell_type": "code",
   "execution_count": 34,
   "metadata": {},
   "outputs": [
    {
     "data": {
      "text/html": [
       "<div>\n",
       "<style scoped>\n",
       "    .dataframe tbody tr th:only-of-type {\n",
       "        vertical-align: middle;\n",
       "    }\n",
       "\n",
       "    .dataframe tbody tr th {\n",
       "        vertical-align: top;\n",
       "    }\n",
       "\n",
       "    .dataframe thead th {\n",
       "        text-align: right;\n",
       "    }\n",
       "</style>\n",
       "<table border=\"1\" class=\"dataframe\">\n",
       "  <thead>\n",
       "    <tr style=\"text-align: right;\">\n",
       "      <th></th>\n",
       "      <th>AH_TotalLitterCover</th>\n",
       "      <th>FH_RockCover</th>\n",
       "      <th>FH_WaterCover</th>\n",
       "      <th>BareSoilCover</th>\n",
       "      <th>plotVisit</th>\n",
       "    </tr>\n",
       "  </thead>\n",
       "  <tbody>\n",
       "    <tr>\n",
       "      <th>0</th>\n",
       "      <td>40.816327</td>\n",
       "      <td>0.000000</td>\n",
       "      <td>0.00</td>\n",
       "      <td>0.00</td>\n",
       "      <td>AIM-NPR-A_FMTT-5B_2012-08-03</td>\n",
       "    </tr>\n",
       "    <tr>\n",
       "      <th>1</th>\n",
       "      <td>48.000000</td>\n",
       "      <td>0.000000</td>\n",
       "      <td>4.00</td>\n",
       "      <td>0.00</td>\n",
       "      <td>AIM-NPR-A_FWMM-5B_2012-07-31</td>\n",
       "    </tr>\n",
       "    <tr>\n",
       "      <th>2</th>\n",
       "      <td>65.333333</td>\n",
       "      <td>0.000000</td>\n",
       "      <td>2.00</td>\n",
       "      <td>0.00</td>\n",
       "      <td>AIM-NPR-A_FWMM-1_2012-07-31</td>\n",
       "    </tr>\n",
       "    <tr>\n",
       "      <th>3</th>\n",
       "      <td>22.000000</td>\n",
       "      <td>0.000000</td>\n",
       "      <td>0.00</td>\n",
       "      <td>0.00</td>\n",
       "      <td>AIM-NPR-A_ADST-4_2012-08-01</td>\n",
       "    </tr>\n",
       "    <tr>\n",
       "      <th>4</th>\n",
       "      <td>28.000000</td>\n",
       "      <td>2.666667</td>\n",
       "      <td>0.00</td>\n",
       "      <td>0.00</td>\n",
       "      <td>AIM-NPR-A_ADST-1_2012-08-01</td>\n",
       "    </tr>\n",
       "    <tr>\n",
       "      <th>...</th>\n",
       "      <td>...</td>\n",
       "      <td>...</td>\n",
       "      <td>...</td>\n",
       "      <td>...</td>\n",
       "      <td>...</td>\n",
       "    </tr>\n",
       "    <tr>\n",
       "      <th>263</th>\n",
       "      <td>29.630000</td>\n",
       "      <td>0.000000</td>\n",
       "      <td>10.37</td>\n",
       "      <td>0.00</td>\n",
       "      <td>AIM-NPR-A_CPHCP-78_2017-07-21</td>\n",
       "    </tr>\n",
       "    <tr>\n",
       "      <th>264</th>\n",
       "      <td>16.670000</td>\n",
       "      <td>28.670000</td>\n",
       "      <td>0.00</td>\n",
       "      <td>4.67</td>\n",
       "      <td>AIM-NPR-A_ADST-75_2017-07-22</td>\n",
       "    </tr>\n",
       "    <tr>\n",
       "      <th>265</th>\n",
       "      <td>37.330000</td>\n",
       "      <td>0.000000</td>\n",
       "      <td>0.00</td>\n",
       "      <td>0.00</td>\n",
       "      <td>AIM-NPR-A_ADST-76_2017-07-22</td>\n",
       "    </tr>\n",
       "    <tr>\n",
       "      <th>266</th>\n",
       "      <td>16.000000</td>\n",
       "      <td>28.000000</td>\n",
       "      <td>0.00</td>\n",
       "      <td>0.00</td>\n",
       "      <td>AIM-NPR-A_ADST-79_2017-07-22</td>\n",
       "    </tr>\n",
       "    <tr>\n",
       "      <th>267</th>\n",
       "      <td>60.670000</td>\n",
       "      <td>0.000000</td>\n",
       "      <td>0.00</td>\n",
       "      <td>0.00</td>\n",
       "      <td>AIM-NPR-A_FLST-75_2017-07-22</td>\n",
       "    </tr>\n",
       "  </tbody>\n",
       "</table>\n",
       "<p>268 rows × 5 columns</p>\n",
       "</div>"
      ],
      "text/plain": [
       "     AH_TotalLitterCover  FH_RockCover  FH_WaterCover  BareSoilCover  \\\n",
       "0              40.816327      0.000000           0.00           0.00   \n",
       "1              48.000000      0.000000           4.00           0.00   \n",
       "2              65.333333      0.000000           2.00           0.00   \n",
       "3              22.000000      0.000000           0.00           0.00   \n",
       "4              28.000000      2.666667           0.00           0.00   \n",
       "..                   ...           ...            ...            ...   \n",
       "263            29.630000      0.000000          10.37           0.00   \n",
       "264            16.670000     28.670000           0.00           4.67   \n",
       "265            37.330000      0.000000           0.00           0.00   \n",
       "266            16.000000     28.000000           0.00           0.00   \n",
       "267            60.670000      0.000000           0.00           0.00   \n",
       "\n",
       "                         plotVisit  \n",
       "0     AIM-NPR-A_FMTT-5B_2012-08-03  \n",
       "1     AIM-NPR-A_FWMM-5B_2012-07-31  \n",
       "2      AIM-NPR-A_FWMM-1_2012-07-31  \n",
       "3      AIM-NPR-A_ADST-4_2012-08-01  \n",
       "4      AIM-NPR-A_ADST-1_2012-08-01  \n",
       "..                             ...  \n",
       "263  AIM-NPR-A_CPHCP-78_2017-07-21  \n",
       "264   AIM-NPR-A_ADST-75_2017-07-22  \n",
       "265   AIM-NPR-A_ADST-76_2017-07-22  \n",
       "266   AIM-NPR-A_ADST-79_2017-07-22  \n",
       "267   AIM-NPR-A_FLST-75_2017-07-22  \n",
       "\n",
       "[268 rows x 5 columns]"
      ]
     },
     "execution_count": 34,
     "metadata": {},
     "output_type": "execute_result"
    }
   ],
   "source": [
    "nonveg = nonveg[['AH_TotalLitterCover', 'FH_RockCover', \n",
    "                 'FH_WaterCover', 'BareSoilCover', 'plotVisit']]\n",
    "nonveg"
   ]
  },
  {
   "cell_type": "code",
   "execution_count": 35,
   "metadata": {},
   "outputs": [
    {
     "name": "stderr",
     "output_type": "stream",
     "text": [
      "/tmp/ipykernel_852564/220112077.py:5: FutureWarning: DataFrame.groupby with axis=1 is deprecated. Do `frame.T.groupby(...)` without axis instead.\n",
      "  nonveg = nonveg.groupby(nonveg.columns, axis=1).sum()\n"
     ]
    },
    {
     "data": {
      "text/html": [
       "<div>\n",
       "<style scoped>\n",
       "    .dataframe tbody tr th:only-of-type {\n",
       "        vertical-align: middle;\n",
       "    }\n",
       "\n",
       "    .dataframe tbody tr th {\n",
       "        vertical-align: top;\n",
       "    }\n",
       "\n",
       "    .dataframe thead th {\n",
       "        text-align: right;\n",
       "    }\n",
       "</style>\n",
       "<table border=\"1\" class=\"dataframe\">\n",
       "  <thead>\n",
       "    <tr style=\"text-align: right;\">\n",
       "      <th></th>\n",
       "      <th>bare ground</th>\n",
       "      <th>litter</th>\n",
       "      <th>water</th>\n",
       "    </tr>\n",
       "    <tr>\n",
       "      <th>plotVisit</th>\n",
       "      <th></th>\n",
       "      <th></th>\n",
       "      <th></th>\n",
       "    </tr>\n",
       "  </thead>\n",
       "  <tbody>\n",
       "    <tr>\n",
       "      <th>AIM-NPR-A_FMTT-5B_2012-08-03</th>\n",
       "      <td>0.0</td>\n",
       "      <td>40.816327</td>\n",
       "      <td>0.0</td>\n",
       "    </tr>\n",
       "    <tr>\n",
       "      <th>AIM-NPR-A_FWMM-5B_2012-07-31</th>\n",
       "      <td>0.0</td>\n",
       "      <td>48.000000</td>\n",
       "      <td>4.0</td>\n",
       "    </tr>\n",
       "    <tr>\n",
       "      <th>AIM-NPR-A_FWMM-1_2012-07-31</th>\n",
       "      <td>0.0</td>\n",
       "      <td>65.333333</td>\n",
       "      <td>2.0</td>\n",
       "    </tr>\n",
       "  </tbody>\n",
       "</table>\n",
       "</div>"
      ],
      "text/plain": [
       "                              bare ground     litter  water\n",
       "plotVisit                                                  \n",
       "AIM-NPR-A_FMTT-5B_2012-08-03          0.0  40.816327    0.0\n",
       "AIM-NPR-A_FWMM-5B_2012-07-31          0.0  48.000000    4.0\n",
       "AIM-NPR-A_FWMM-1_2012-07-31           0.0  65.333333    2.0"
      ]
     },
     "execution_count": 35,
     "metadata": {},
     "output_type": "execute_result"
    }
   ],
   "source": [
    "nonveg = nonveg.rename(columns=dict(AH_TotalLitterCover='litter',\n",
    "                                    FH_RockCover='bare ground',\n",
    "                                    FH_WaterCover='water',\n",
    "                                    BareSoilCover='bare ground'))\n",
    "nonveg = nonveg.groupby(nonveg.columns, axis=1).sum()\n",
    "nonveg = nonveg.set_index('plotVisit')\n",
    "nonveg.head(3)"
   ]
  },
  {
   "cell_type": "code",
   "execution_count": 36,
   "metadata": {},
   "outputs": [],
   "source": [
    "# add non-vegetation information\n",
    "pft_fcover = pft_fcover.merge(nonveg,\n",
    "                              how='left',\n",
    "                              left_index=True,\n",
    "                              right_index=True)"
   ]
  },
  {
   "cell_type": "code",
   "execution_count": 37,
   "metadata": {},
   "outputs": [
    {
     "data": {
      "text/html": [
       "<div>\n",
       "<style scoped>\n",
       "    .dataframe tbody tr th:only-of-type {\n",
       "        vertical-align: middle;\n",
       "    }\n",
       "\n",
       "    .dataframe tbody tr th {\n",
       "        vertical-align: top;\n",
       "    }\n",
       "\n",
       "    .dataframe thead th {\n",
       "        text-align: right;\n",
       "    }\n",
       "</style>\n",
       "<table border=\"1\" class=\"dataframe\">\n",
       "  <thead>\n",
       "    <tr style=\"text-align: right;\">\n",
       "      <th></th>\n",
       "      <th>bryophyte</th>\n",
       "      <th>deciduous shrub</th>\n",
       "      <th>evergreen shrub</th>\n",
       "      <th>forb</th>\n",
       "      <th>graminoid</th>\n",
       "      <th>lichen</th>\n",
       "      <th>other</th>\n",
       "      <th>bare ground</th>\n",
       "      <th>litter</th>\n",
       "      <th>water</th>\n",
       "    </tr>\n",
       "    <tr>\n",
       "      <th>plotVisit</th>\n",
       "      <th></th>\n",
       "      <th></th>\n",
       "      <th></th>\n",
       "      <th></th>\n",
       "      <th></th>\n",
       "      <th></th>\n",
       "      <th></th>\n",
       "      <th></th>\n",
       "      <th></th>\n",
       "      <th></th>\n",
       "    </tr>\n",
       "  </thead>\n",
       "  <tbody>\n",
       "    <tr>\n",
       "      <th>AIM-NPR-A_AB-1B_2012-08-01</th>\n",
       "      <td>NaN</td>\n",
       "      <td>0.05</td>\n",
       "      <td>NaN</td>\n",
       "      <td>2.05</td>\n",
       "      <td>1.10</td>\n",
       "      <td>12.7</td>\n",
       "      <td>NaN</td>\n",
       "      <td>20.666667</td>\n",
       "      <td>0.000000</td>\n",
       "      <td>0.000000</td>\n",
       "    </tr>\n",
       "    <tr>\n",
       "      <th>AIM-NPR-A_AB-5B_2012-08-01</th>\n",
       "      <td>2.7</td>\n",
       "      <td>14.75</td>\n",
       "      <td>22.00</td>\n",
       "      <td>3.40</td>\n",
       "      <td>7.05</td>\n",
       "      <td>14.1</td>\n",
       "      <td>NaN</td>\n",
       "      <td>14.000000</td>\n",
       "      <td>16.000000</td>\n",
       "      <td>0.000000</td>\n",
       "    </tr>\n",
       "    <tr>\n",
       "      <th>AIM-NPR-A_ADST-21_2013-07-30</th>\n",
       "      <td>26.5</td>\n",
       "      <td>19.50</td>\n",
       "      <td>52.60</td>\n",
       "      <td>6.55</td>\n",
       "      <td>6.25</td>\n",
       "      <td>41.3</td>\n",
       "      <td>NaN</td>\n",
       "      <td>14.666667</td>\n",
       "      <td>44.666667</td>\n",
       "      <td>0.000000</td>\n",
       "    </tr>\n",
       "    <tr>\n",
       "      <th>AIM-NPR-A_ADST-2_2012-08-02</th>\n",
       "      <td>2.6</td>\n",
       "      <td>10.05</td>\n",
       "      <td>18.70</td>\n",
       "      <td>5.05</td>\n",
       "      <td>3.60</td>\n",
       "      <td>7.5</td>\n",
       "      <td>NaN</td>\n",
       "      <td>14.000000</td>\n",
       "      <td>10.000000</td>\n",
       "      <td>0.000000</td>\n",
       "    </tr>\n",
       "    <tr>\n",
       "      <th>AIM-NPR-A_ADST-33_2013-08-01</th>\n",
       "      <td>8.1</td>\n",
       "      <td>14.70</td>\n",
       "      <td>30.05</td>\n",
       "      <td>28.70</td>\n",
       "      <td>7.70</td>\n",
       "      <td>7.5</td>\n",
       "      <td>NaN</td>\n",
       "      <td>27.333333</td>\n",
       "      <td>21.333333</td>\n",
       "      <td>0.000000</td>\n",
       "    </tr>\n",
       "    <tr>\n",
       "      <th>...</th>\n",
       "      <td>...</td>\n",
       "      <td>...</td>\n",
       "      <td>...</td>\n",
       "      <td>...</td>\n",
       "      <td>...</td>\n",
       "      <td>...</td>\n",
       "      <td>...</td>\n",
       "      <td>...</td>\n",
       "      <td>...</td>\n",
       "      <td>...</td>\n",
       "    </tr>\n",
       "    <tr>\n",
       "      <th>AIM-NPR-A_TMCW-67_2015-07-30</th>\n",
       "      <td>NaN</td>\n",
       "      <td>NaN</td>\n",
       "      <td>NaN</td>\n",
       "      <td>6.80</td>\n",
       "      <td>58.75</td>\n",
       "      <td>NaN</td>\n",
       "      <td>NaN</td>\n",
       "      <td>46.000000</td>\n",
       "      <td>14.666667</td>\n",
       "      <td>0.000000</td>\n",
       "    </tr>\n",
       "    <tr>\n",
       "      <th>AIM-NPR-A_TMCW-68_2015-07-30</th>\n",
       "      <td>21.3</td>\n",
       "      <td>18.05</td>\n",
       "      <td>NaN</td>\n",
       "      <td>2.35</td>\n",
       "      <td>76.05</td>\n",
       "      <td>3.4</td>\n",
       "      <td>NaN</td>\n",
       "      <td>0.666667</td>\n",
       "      <td>64.000000</td>\n",
       "      <td>0.666667</td>\n",
       "    </tr>\n",
       "    <tr>\n",
       "      <th>AIM-NPR-A_TMCW-71_2017-07-30</th>\n",
       "      <td>0.7</td>\n",
       "      <td>0.70</td>\n",
       "      <td>NaN</td>\n",
       "      <td>1.40</td>\n",
       "      <td>44.75</td>\n",
       "      <td>NaN</td>\n",
       "      <td>NaN</td>\n",
       "      <td>29.330000</td>\n",
       "      <td>17.330000</td>\n",
       "      <td>23.330000</td>\n",
       "    </tr>\n",
       "    <tr>\n",
       "      <th>AIM-NPR-A_TMCW-72_2017-07-30</th>\n",
       "      <td>1.3</td>\n",
       "      <td>NaN</td>\n",
       "      <td>NaN</td>\n",
       "      <td>17.45</td>\n",
       "      <td>85.30</td>\n",
       "      <td>NaN</td>\n",
       "      <td>64.0</td>\n",
       "      <td>0.000000</td>\n",
       "      <td>14.000000</td>\n",
       "      <td>0.670000</td>\n",
       "    </tr>\n",
       "    <tr>\n",
       "      <th>AIM-NPR-A_TMCW-73_2017-07-30</th>\n",
       "      <td>17.4</td>\n",
       "      <td>5.30</td>\n",
       "      <td>NaN</td>\n",
       "      <td>2.75</td>\n",
       "      <td>86.00</td>\n",
       "      <td>NaN</td>\n",
       "      <td>NaN</td>\n",
       "      <td>1.330000</td>\n",
       "      <td>52.000000</td>\n",
       "      <td>10.670000</td>\n",
       "    </tr>\n",
       "  </tbody>\n",
       "</table>\n",
       "<p>185 rows × 10 columns</p>\n",
       "</div>"
      ],
      "text/plain": [
       "                              bryophyte  deciduous shrub  evergreen shrub  \\\n",
       "plotVisit                                                                   \n",
       "AIM-NPR-A_AB-1B_2012-08-01          NaN             0.05              NaN   \n",
       "AIM-NPR-A_AB-5B_2012-08-01          2.7            14.75            22.00   \n",
       "AIM-NPR-A_ADST-21_2013-07-30       26.5            19.50            52.60   \n",
       "AIM-NPR-A_ADST-2_2012-08-02         2.6            10.05            18.70   \n",
       "AIM-NPR-A_ADST-33_2013-08-01        8.1            14.70            30.05   \n",
       "...                                 ...              ...              ...   \n",
       "AIM-NPR-A_TMCW-67_2015-07-30        NaN              NaN              NaN   \n",
       "AIM-NPR-A_TMCW-68_2015-07-30       21.3            18.05              NaN   \n",
       "AIM-NPR-A_TMCW-71_2017-07-30        0.7             0.70              NaN   \n",
       "AIM-NPR-A_TMCW-72_2017-07-30        1.3              NaN              NaN   \n",
       "AIM-NPR-A_TMCW-73_2017-07-30       17.4             5.30              NaN   \n",
       "\n",
       "                               forb  graminoid  lichen  other  bare ground  \\\n",
       "plotVisit                                                                    \n",
       "AIM-NPR-A_AB-1B_2012-08-01     2.05       1.10    12.7    NaN    20.666667   \n",
       "AIM-NPR-A_AB-5B_2012-08-01     3.40       7.05    14.1    NaN    14.000000   \n",
       "AIM-NPR-A_ADST-21_2013-07-30   6.55       6.25    41.3    NaN    14.666667   \n",
       "AIM-NPR-A_ADST-2_2012-08-02    5.05       3.60     7.5    NaN    14.000000   \n",
       "AIM-NPR-A_ADST-33_2013-08-01  28.70       7.70     7.5    NaN    27.333333   \n",
       "...                             ...        ...     ...    ...          ...   \n",
       "AIM-NPR-A_TMCW-67_2015-07-30   6.80      58.75     NaN    NaN    46.000000   \n",
       "AIM-NPR-A_TMCW-68_2015-07-30   2.35      76.05     3.4    NaN     0.666667   \n",
       "AIM-NPR-A_TMCW-71_2017-07-30   1.40      44.75     NaN    NaN    29.330000   \n",
       "AIM-NPR-A_TMCW-72_2017-07-30  17.45      85.30     NaN   64.0     0.000000   \n",
       "AIM-NPR-A_TMCW-73_2017-07-30   2.75      86.00     NaN    NaN     1.330000   \n",
       "\n",
       "                                 litter      water  \n",
       "plotVisit                                           \n",
       "AIM-NPR-A_AB-1B_2012-08-01     0.000000   0.000000  \n",
       "AIM-NPR-A_AB-5B_2012-08-01    16.000000   0.000000  \n",
       "AIM-NPR-A_ADST-21_2013-07-30  44.666667   0.000000  \n",
       "AIM-NPR-A_ADST-2_2012-08-02   10.000000   0.000000  \n",
       "AIM-NPR-A_ADST-33_2013-08-01  21.333333   0.000000  \n",
       "...                                 ...        ...  \n",
       "AIM-NPR-A_TMCW-67_2015-07-30  14.666667   0.000000  \n",
       "AIM-NPR-A_TMCW-68_2015-07-30  64.000000   0.666667  \n",
       "AIM-NPR-A_TMCW-71_2017-07-30  17.330000  23.330000  \n",
       "AIM-NPR-A_TMCW-72_2017-07-30  14.000000   0.670000  \n",
       "AIM-NPR-A_TMCW-73_2017-07-30  52.000000  10.670000  \n",
       "\n",
       "[185 rows x 10 columns]"
      ]
     },
     "execution_count": 37,
     "metadata": {},
     "output_type": "execute_result"
    }
   ],
   "source": [
    "pft_fcover"
   ]
  },
  {
   "cell_type": "code",
   "execution_count": 38,
   "metadata": {},
   "outputs": [],
   "source": [
    "# create non-vascular\n",
    "pft_fcover['non-vascular'] = pft_fcover[['bryophyte', 'lichen']].sum(axis=1, skipna=True)"
   ]
  },
  {
   "cell_type": "code",
   "execution_count": 39,
   "metadata": {},
   "outputs": [
    {
     "data": {
      "text/html": [
       "<div>\n",
       "<style scoped>\n",
       "    .dataframe tbody tr th:only-of-type {\n",
       "        vertical-align: middle;\n",
       "    }\n",
       "\n",
       "    .dataframe tbody tr th {\n",
       "        vertical-align: top;\n",
       "    }\n",
       "\n",
       "    .dataframe thead th {\n",
       "        text-align: right;\n",
       "    }\n",
       "</style>\n",
       "<table border=\"1\" class=\"dataframe\">\n",
       "  <thead>\n",
       "    <tr style=\"text-align: right;\">\n",
       "      <th></th>\n",
       "      <th>deciduous shrub</th>\n",
       "      <th>deciduous tree</th>\n",
       "      <th>evergreen shrub</th>\n",
       "      <th>evergreen tree</th>\n",
       "      <th>forb</th>\n",
       "      <th>graminoid</th>\n",
       "      <th>non-vascular</th>\n",
       "      <th>bryophyte</th>\n",
       "      <th>lichen</th>\n",
       "      <th>litter</th>\n",
       "      <th>bare ground</th>\n",
       "      <th>water</th>\n",
       "      <th>other</th>\n",
       "    </tr>\n",
       "    <tr>\n",
       "      <th>plotVisit</th>\n",
       "      <th></th>\n",
       "      <th></th>\n",
       "      <th></th>\n",
       "      <th></th>\n",
       "      <th></th>\n",
       "      <th></th>\n",
       "      <th></th>\n",
       "      <th></th>\n",
       "      <th></th>\n",
       "      <th></th>\n",
       "      <th></th>\n",
       "      <th></th>\n",
       "      <th></th>\n",
       "    </tr>\n",
       "  </thead>\n",
       "  <tbody>\n",
       "    <tr>\n",
       "      <th>AIM-NPR-A_AB-1B_2012-08-01</th>\n",
       "      <td>0.05</td>\n",
       "      <td>NaN</td>\n",
       "      <td>NaN</td>\n",
       "      <td>NaN</td>\n",
       "      <td>2.05</td>\n",
       "      <td>1.10</td>\n",
       "      <td>12.7</td>\n",
       "      <td>NaN</td>\n",
       "      <td>12.7</td>\n",
       "      <td>0.000000</td>\n",
       "      <td>20.666667</td>\n",
       "      <td>0.0</td>\n",
       "      <td>NaN</td>\n",
       "    </tr>\n",
       "    <tr>\n",
       "      <th>AIM-NPR-A_AB-5B_2012-08-01</th>\n",
       "      <td>14.75</td>\n",
       "      <td>NaN</td>\n",
       "      <td>22.0</td>\n",
       "      <td>NaN</td>\n",
       "      <td>3.40</td>\n",
       "      <td>7.05</td>\n",
       "      <td>16.8</td>\n",
       "      <td>2.7</td>\n",
       "      <td>14.1</td>\n",
       "      <td>16.000000</td>\n",
       "      <td>14.000000</td>\n",
       "      <td>0.0</td>\n",
       "      <td>NaN</td>\n",
       "    </tr>\n",
       "    <tr>\n",
       "      <th>AIM-NPR-A_ADST-21_2013-07-30</th>\n",
       "      <td>19.50</td>\n",
       "      <td>NaN</td>\n",
       "      <td>52.6</td>\n",
       "      <td>NaN</td>\n",
       "      <td>6.55</td>\n",
       "      <td>6.25</td>\n",
       "      <td>67.8</td>\n",
       "      <td>26.5</td>\n",
       "      <td>41.3</td>\n",
       "      <td>44.666667</td>\n",
       "      <td>14.666667</td>\n",
       "      <td>0.0</td>\n",
       "      <td>NaN</td>\n",
       "    </tr>\n",
       "  </tbody>\n",
       "</table>\n",
       "</div>"
      ],
      "text/plain": [
       "                              deciduous shrub  deciduous tree  \\\n",
       "plotVisit                                                       \n",
       "AIM-NPR-A_AB-1B_2012-08-01               0.05             NaN   \n",
       "AIM-NPR-A_AB-5B_2012-08-01              14.75             NaN   \n",
       "AIM-NPR-A_ADST-21_2013-07-30            19.50             NaN   \n",
       "\n",
       "                              evergreen shrub  evergreen tree  forb  \\\n",
       "plotVisit                                                             \n",
       "AIM-NPR-A_AB-1B_2012-08-01                NaN             NaN  2.05   \n",
       "AIM-NPR-A_AB-5B_2012-08-01               22.0             NaN  3.40   \n",
       "AIM-NPR-A_ADST-21_2013-07-30             52.6             NaN  6.55   \n",
       "\n",
       "                              graminoid  non-vascular  bryophyte  lichen  \\\n",
       "plotVisit                                                                  \n",
       "AIM-NPR-A_AB-1B_2012-08-01         1.10          12.7        NaN    12.7   \n",
       "AIM-NPR-A_AB-5B_2012-08-01         7.05          16.8        2.7    14.1   \n",
       "AIM-NPR-A_ADST-21_2013-07-30       6.25          67.8       26.5    41.3   \n",
       "\n",
       "                                 litter  bare ground  water  other  \n",
       "plotVisit                                                           \n",
       "AIM-NPR-A_AB-1B_2012-08-01     0.000000    20.666667    0.0    NaN  \n",
       "AIM-NPR-A_AB-5B_2012-08-01    16.000000    14.000000    0.0    NaN  \n",
       "AIM-NPR-A_ADST-21_2013-07-30  44.666667    14.666667    0.0    NaN  "
      ]
     },
     "execution_count": 39,
     "metadata": {},
     "output_type": "execute_result"
    }
   ],
   "source": [
    "# create standard columns\n",
    "pft_fcover = spf.add_standard_cols(pft_fcover, pfts)\n",
    "pft_fcover = pft_fcover[pfts]\n",
    "pft_fcover.head(3)"
   ]
  },
  {
   "cell_type": "code",
   "execution_count": 40,
   "metadata": {},
   "outputs": [
    {
     "data": {
      "text/plain": [
       "185"
      ]
     },
     "execution_count": 40,
     "metadata": {},
     "output_type": "execute_result"
    }
   ],
   "source": [
    "len(pft_fcover.index.unique())"
   ]
  },
  {
   "cell_type": "markdown",
   "metadata": {},
   "source": [
    "---\n",
    "## 2.4. Standardize auxiliary columns <a name=\"aux\"></a>"
   ]
  },
  {
   "cell_type": "markdown",
   "metadata": {},
   "source": [
    "Plot information:\n",
    "- [ ] UID\n",
    "- [x] plotName\n",
    "- [x] dataSource\n",
    "- [x] dataSubsource\n",
    "- [x] fcoverScale\n",
    "- [x] surveyMethod\n",
    "- [x] surveyPurpose\n",
    "- [x] duplicatedCoords\n",
    "- [x] duplicatedDate\n",
    "- [x] surveyYear\n",
    "- [x] surveyMonth\n",
    "- [x] surveyDay\n",
    "\n",
    "Geographical information:\n",
    "- [x] bioclimateSubzone\n",
    "- [x] adminCountry\n",
    "- [x] adminUnit\n",
    "- [x] fireYears\n",
    "- [x] coordEpsg\n",
    "- [x] georefSource\n",
    "- [x] georefAccuracy\n",
    "- [x] plotRadius\n",
    "- [x] longitueX\n",
    "- [x] latitudeY"
   ]
  },
  {
   "cell_type": "code",
   "execution_count": 41,
   "metadata": {},
   "outputs": [],
   "source": [
    "# load auxiliary data from fcover tables\n",
    "fcover_aux = pd.read_csv(f'../data/plot_data/{source}/input_data/akveg_foliar_cover.csv', index_col=0)\n",
    "fcover_aux['plotVisit'] = fcover_aux['Project'].str.replace(' ', '-') + '_' + fcover_aux['Site Code'].str.replace(' ', '-') + '_' + fcover_aux['Date'].str.replace(' ', '-')\n",
    "fcover_aux['plotVisit'] = fcover_aux['plotVisit'].apply(normalize_to_int_str)\n",
    "fcover_aux['joinKey'] = fcover_aux['Project'].str.replace(' ', '-') + '_' + fcover_aux['Site Code'].str.replace(' ', '-')\n",
    "fcover_aux = fcover_aux.groupby('plotVisit').first()\n",
    "fcover_aux.reset_index(inplace=True)"
   ]
  },
  {
   "cell_type": "code",
   "execution_count": 42,
   "metadata": {},
   "outputs": [
    {
     "data": {
      "text/plain": [
       "185"
      ]
     },
     "execution_count": 42,
     "metadata": {},
     "output_type": "execute_result"
    }
   ],
   "source": [
    "len(fcover_aux['plotVisit'].unique())"
   ]
  },
  {
   "cell_type": "code",
   "execution_count": 44,
   "metadata": {},
   "outputs": [],
   "source": [
    "# load auxiliary data provided by akveg (only has Site Code and Initial Project)\n",
    "aux = pd.read_csv(f'../data/plot_data/{source}/input_data/akveg_ancillary.csv', index_col=0)\n",
    "aux['joinKey'] = aux['Initial Project'].str.replace(' ', '-') + '_' + aux['Site Code'].str.replace(' ', '-')\n",
    "\n",
    "# load sampling methods, coverscale, data source\n",
    "methods = pd.read_csv('../data/supporting_data/sampling_methods.csv')"
   ]
  },
  {
   "cell_type": "code",
   "execution_count": 45,
   "metadata": {},
   "outputs": [],
   "source": [
    "# merge aux tables into one\n",
    "aux = fcover_aux.merge(aux, how='left', \n",
    "                       left_on='joinKey', \n",
    "                       right_on='joinKey')"
   ]
  },
  {
   "cell_type": "code",
   "execution_count": 46,
   "metadata": {},
   "outputs": [
    {
     "data": {
      "text/plain": [
       "Index(['plotVisit', 'Project', 'Site Code_x', 'Date', 'Observer', 'Recorder',\n",
       "       'Cover Type', 'Accepted Name', 'Cover', 'joinKey', 'Site Code_y',\n",
       "       'Initial Project', 'Perspective', 'Cover Method', 'Scope Vascular',\n",
       "       'Scope Bryophyte', 'Scope Lichen', 'Plot Dimensions', 'Datum',\n",
       "       'Latitude', 'Longitude', 'Uncertainty'],\n",
       "      dtype='object')"
      ]
     },
     "execution_count": 46,
     "metadata": {},
     "output_type": "execute_result"
    }
   ],
   "source": [
    "aux.columns"
   ]
  },
  {
   "cell_type": "markdown",
   "metadata": {},
   "source": [
    "### 2.4.1. Basic plot information <a name=\"basics\"></a>"
   ]
  },
  {
   "cell_type": "code",
   "execution_count": 47,
   "metadata": {},
   "outputs": [],
   "source": [
    "new_aux = pd.DataFrame()\n",
    "\n",
    "# date columns\n",
    "aux['Date'] = (aux['Date'].fillna(-1)).astype(str)\n",
    "aux['surveyDate'] = pd.to_datetime(aux['Date'], format='mixed', errors='coerce') # convert -1 to NaT\n",
    "new_aux['surveyYear'] = aux['surveyDate'].dt.year.astype(int)\n",
    "new_aux['surveyMonth'] = aux['surveyDate'].dt.month.astype(int)\n",
    "new_aux['surveyDay'] = aux['surveyDate'].dt.day.astype(int)\n",
    "\n",
    "# plot size\n",
    "new_aux['plotArea'] = aux['Plot Dimensions']\n",
    "\n",
    "# Extract plot shape and calculate plot size\n",
    "def process_plot_dimensions(dimension):\n",
    "    if 'radius' in dimension:\n",
    "        # Extract radius and calculate area of the circle\n",
    "        try:\n",
    "            radius = float(dimension.split(' radius')[0].strip())\n",
    "            area = np.pi * (radius**2)\n",
    "            return {'plotShape': 'circle', 'plotArea': area}\n",
    "        except ValueError:\n",
    "            return {'plotShape': 'unknown', 'plotArea': np.NaN}\n",
    "    elif 'x' in dimension:\n",
    "        # Extract dimensions and calculate rectangular or square area\n",
    "        try:\n",
    "            dimensions = dimension.split('x')\n",
    "            length = float(dimensions[0].strip())\n",
    "            width = float(dimensions[1].strip())\n",
    "            area = length * width\n",
    "            shape = 'square' if length == width else 'rectangle'\n",
    "            return {'plotShape': shape, 'plotArea': area}\n",
    "        except (ValueError, IndexError):\n",
    "            return {'plotShape': np.NaN, 'plotArea': np.NaN}\n",
    "    else:\n",
    "        # Unknown dimension format\n",
    "        return {'plotShape': 'unknown', 'plotArea': dimension}\n",
    "\n",
    "# Apply function and update new_aux\n",
    "processed_dimensions = aux['Plot Dimensions'].apply(process_plot_dimensions)\n",
    "new_aux['plotShape'] = processed_dimensions.apply(lambda x: x['plotShape'])\n",
    "new_aux['plotArea'] = processed_dimensions.apply(lambda x: x['plotArea'])\n",
    "\n",
    "# geographical information\n",
    "new_aux['latitudeY'] = aux['Latitude'].astype('Float32')\n",
    "new_aux['longitudeX'] = aux['Longitude'].astype('Float32')\n",
    "new_aux['georefSource'] = 'GPS'\n",
    "new_aux['georefAccuracy'] = aux['Uncertainty'].astype('Float32')\n",
    "new_aux['coordEPSG'] = 'EPSG:4326' # will need to convert from EPSG:4269\n",
    "\n",
    "# main\n",
    "new_aux['plotVisit'] = aux['plotVisit']\n",
    "new_aux['plotName'] = aux['Site Code_x']\n",
    "# new_aux['dataSource'] = 'AKVEG'\n",
    "new_aux['dataSubsource'] = 'AIM NPR-A Nawrocki (pub 2020)'\n",
    "new_aux = new_aux.merge(methods, how='left', left_on='dataSubsource', right_on='dataSubsource')\n",
    "new_aux = new_aux.set_index(new_aux['plotVisit'])"
   ]
  },
  {
   "cell_type": "markdown",
   "metadata": {},
   "source": [
    "### 2.4.2. Geographical intersections <a name=\"geo\"></a>"
   ]
  },
  {
   "cell_type": "code",
   "execution_count": 52,
   "metadata": {},
   "outputs": [],
   "source": [
    "# set geo info\n",
    "geo_paths = ['../data/supporting_data/fire/InterAgencyFirePerimeterHistory_All_Years_View.shp']\n",
    "geo_names = ['fire']\n",
    "geo_cols = [['FIRE_YEAR', 'geometry']]"
   ]
  },
  {
   "cell_type": "code",
   "execution_count": 53,
   "metadata": {},
   "outputs": [
    {
     "data": {
      "text/html": [
       "<div>\n",
       "<style scoped>\n",
       "    .dataframe tbody tr th:only-of-type {\n",
       "        vertical-align: middle;\n",
       "    }\n",
       "\n",
       "    .dataframe tbody tr th {\n",
       "        vertical-align: top;\n",
       "    }\n",
       "\n",
       "    .dataframe thead th {\n",
       "        text-align: right;\n",
       "    }\n",
       "</style>\n",
       "<table border=\"1\" class=\"dataframe\">\n",
       "  <thead>\n",
       "    <tr style=\"text-align: right;\">\n",
       "      <th></th>\n",
       "      <th>deciduous shrub</th>\n",
       "      <th>deciduous tree</th>\n",
       "      <th>evergreen shrub</th>\n",
       "      <th>evergreen tree</th>\n",
       "      <th>forb</th>\n",
       "      <th>graminoid</th>\n",
       "      <th>non-vascular</th>\n",
       "      <th>bryophyte</th>\n",
       "      <th>lichen</th>\n",
       "      <th>litter</th>\n",
       "      <th>...</th>\n",
       "      <th>coordEPSG</th>\n",
       "      <th>plotVisit</th>\n",
       "      <th>plotName</th>\n",
       "      <th>dataSubsource</th>\n",
       "      <th>dataSource</th>\n",
       "      <th>dataSourceHtml</th>\n",
       "      <th>dataSubsourceCitation</th>\n",
       "      <th>surveyMethod</th>\n",
       "      <th>fcoverScale</th>\n",
       "      <th>surveyPurpose</th>\n",
       "    </tr>\n",
       "    <tr>\n",
       "      <th>plotVisit</th>\n",
       "      <th></th>\n",
       "      <th></th>\n",
       "      <th></th>\n",
       "      <th></th>\n",
       "      <th></th>\n",
       "      <th></th>\n",
       "      <th></th>\n",
       "      <th></th>\n",
       "      <th></th>\n",
       "      <th></th>\n",
       "      <th></th>\n",
       "      <th></th>\n",
       "      <th></th>\n",
       "      <th></th>\n",
       "      <th></th>\n",
       "      <th></th>\n",
       "      <th></th>\n",
       "      <th></th>\n",
       "      <th></th>\n",
       "      <th></th>\n",
       "      <th></th>\n",
       "    </tr>\n",
       "  </thead>\n",
       "  <tbody>\n",
       "    <tr>\n",
       "      <th>AIM-NPR-A_AB-1B_2012-08-01</th>\n",
       "      <td>0.05</td>\n",
       "      <td>NaN</td>\n",
       "      <td>NaN</td>\n",
       "      <td>NaN</td>\n",
       "      <td>2.05</td>\n",
       "      <td>1.10</td>\n",
       "      <td>12.7</td>\n",
       "      <td>NaN</td>\n",
       "      <td>12.7</td>\n",
       "      <td>0.000000</td>\n",
       "      <td>...</td>\n",
       "      <td>EPSG:4326</td>\n",
       "      <td>AIM-NPR-A_AB-1B_2012-08-01</td>\n",
       "      <td>AB-1B</td>\n",
       "      <td>AIM NPR-A Nawrocki (pub 2020)</td>\n",
       "      <td>AKVEG</td>\n",
       "      <td>https://akveg.uaa.alaska.edu/query-veg-cover/ ...</td>\n",
       "      <td>Nawrocki, T.W., Carlson, M.L., Osnas, J.L.D., ...</td>\n",
       "      <td>center-staked point-intercept along transect</td>\n",
       "      <td>percent</td>\n",
       "      <td>Quantify spatial patterns and detect changes i...</td>\n",
       "    </tr>\n",
       "    <tr>\n",
       "      <th>AIM-NPR-A_AB-5B_2012-08-01</th>\n",
       "      <td>14.75</td>\n",
       "      <td>NaN</td>\n",
       "      <td>22.0</td>\n",
       "      <td>NaN</td>\n",
       "      <td>3.40</td>\n",
       "      <td>7.05</td>\n",
       "      <td>16.8</td>\n",
       "      <td>2.7</td>\n",
       "      <td>14.1</td>\n",
       "      <td>16.000000</td>\n",
       "      <td>...</td>\n",
       "      <td>EPSG:4326</td>\n",
       "      <td>AIM-NPR-A_AB-5B_2012-08-01</td>\n",
       "      <td>AB-5B</td>\n",
       "      <td>AIM NPR-A Nawrocki (pub 2020)</td>\n",
       "      <td>AKVEG</td>\n",
       "      <td>https://akveg.uaa.alaska.edu/query-veg-cover/ ...</td>\n",
       "      <td>Nawrocki, T.W., Carlson, M.L., Osnas, J.L.D., ...</td>\n",
       "      <td>center-staked point-intercept along transect</td>\n",
       "      <td>percent</td>\n",
       "      <td>Quantify spatial patterns and detect changes i...</td>\n",
       "    </tr>\n",
       "    <tr>\n",
       "      <th>AIM-NPR-A_ADST-21_2013-07-30</th>\n",
       "      <td>19.50</td>\n",
       "      <td>NaN</td>\n",
       "      <td>52.6</td>\n",
       "      <td>NaN</td>\n",
       "      <td>6.55</td>\n",
       "      <td>6.25</td>\n",
       "      <td>67.8</td>\n",
       "      <td>26.5</td>\n",
       "      <td>41.3</td>\n",
       "      <td>44.666667</td>\n",
       "      <td>...</td>\n",
       "      <td>EPSG:4326</td>\n",
       "      <td>AIM-NPR-A_ADST-21_2013-07-30</td>\n",
       "      <td>ADST-21</td>\n",
       "      <td>AIM NPR-A Nawrocki (pub 2020)</td>\n",
       "      <td>AKVEG</td>\n",
       "      <td>https://akveg.uaa.alaska.edu/query-veg-cover/ ...</td>\n",
       "      <td>Nawrocki, T.W., Carlson, M.L., Osnas, J.L.D., ...</td>\n",
       "      <td>center-staked point-intercept along transect</td>\n",
       "      <td>percent</td>\n",
       "      <td>Quantify spatial patterns and detect changes i...</td>\n",
       "    </tr>\n",
       "  </tbody>\n",
       "</table>\n",
       "<p>3 rows × 32 columns</p>\n",
       "</div>"
      ],
      "text/plain": [
       "                              deciduous shrub  deciduous tree  \\\n",
       "plotVisit                                                       \n",
       "AIM-NPR-A_AB-1B_2012-08-01               0.05             NaN   \n",
       "AIM-NPR-A_AB-5B_2012-08-01              14.75             NaN   \n",
       "AIM-NPR-A_ADST-21_2013-07-30            19.50             NaN   \n",
       "\n",
       "                              evergreen shrub  evergreen tree  forb  \\\n",
       "plotVisit                                                             \n",
       "AIM-NPR-A_AB-1B_2012-08-01                NaN             NaN  2.05   \n",
       "AIM-NPR-A_AB-5B_2012-08-01               22.0             NaN  3.40   \n",
       "AIM-NPR-A_ADST-21_2013-07-30             52.6             NaN  6.55   \n",
       "\n",
       "                              graminoid  non-vascular  bryophyte  lichen  \\\n",
       "plotVisit                                                                  \n",
       "AIM-NPR-A_AB-1B_2012-08-01         1.10          12.7        NaN    12.7   \n",
       "AIM-NPR-A_AB-5B_2012-08-01         7.05          16.8        2.7    14.1   \n",
       "AIM-NPR-A_ADST-21_2013-07-30       6.25          67.8       26.5    41.3   \n",
       "\n",
       "                                 litter  ...  coordEPSG  \\\n",
       "plotVisit                                ...              \n",
       "AIM-NPR-A_AB-1B_2012-08-01     0.000000  ...  EPSG:4326   \n",
       "AIM-NPR-A_AB-5B_2012-08-01    16.000000  ...  EPSG:4326   \n",
       "AIM-NPR-A_ADST-21_2013-07-30  44.666667  ...  EPSG:4326   \n",
       "\n",
       "                                                 plotVisit  plotName  \\\n",
       "plotVisit                                                              \n",
       "AIM-NPR-A_AB-1B_2012-08-01      AIM-NPR-A_AB-1B_2012-08-01     AB-1B   \n",
       "AIM-NPR-A_AB-5B_2012-08-01      AIM-NPR-A_AB-5B_2012-08-01     AB-5B   \n",
       "AIM-NPR-A_ADST-21_2013-07-30  AIM-NPR-A_ADST-21_2013-07-30   ADST-21   \n",
       "\n",
       "                                              dataSubsource  dataSource  \\\n",
       "plotVisit                                                                 \n",
       "AIM-NPR-A_AB-1B_2012-08-01    AIM NPR-A Nawrocki (pub 2020)       AKVEG   \n",
       "AIM-NPR-A_AB-5B_2012-08-01    AIM NPR-A Nawrocki (pub 2020)       AKVEG   \n",
       "AIM-NPR-A_ADST-21_2013-07-30  AIM NPR-A Nawrocki (pub 2020)       AKVEG   \n",
       "\n",
       "                                                                 dataSourceHtml  \\\n",
       "plotVisit                                                                         \n",
       "AIM-NPR-A_AB-1B_2012-08-01    https://akveg.uaa.alaska.edu/query-veg-cover/ ...   \n",
       "AIM-NPR-A_AB-5B_2012-08-01    https://akveg.uaa.alaska.edu/query-veg-cover/ ...   \n",
       "AIM-NPR-A_ADST-21_2013-07-30  https://akveg.uaa.alaska.edu/query-veg-cover/ ...   \n",
       "\n",
       "                                                          dataSubsourceCitation  \\\n",
       "plotVisit                                                                         \n",
       "AIM-NPR-A_AB-1B_2012-08-01    Nawrocki, T.W., Carlson, M.L., Osnas, J.L.D., ...   \n",
       "AIM-NPR-A_AB-5B_2012-08-01    Nawrocki, T.W., Carlson, M.L., Osnas, J.L.D., ...   \n",
       "AIM-NPR-A_ADST-21_2013-07-30  Nawrocki, T.W., Carlson, M.L., Osnas, J.L.D., ...   \n",
       "\n",
       "                                                              surveyMethod  \\\n",
       "plotVisit                                                                    \n",
       "AIM-NPR-A_AB-1B_2012-08-01    center-staked point-intercept along transect   \n",
       "AIM-NPR-A_AB-5B_2012-08-01    center-staked point-intercept along transect   \n",
       "AIM-NPR-A_ADST-21_2013-07-30  center-staked point-intercept along transect   \n",
       "\n",
       "                              fcoverScale  \\\n",
       "plotVisit                                   \n",
       "AIM-NPR-A_AB-1B_2012-08-01        percent   \n",
       "AIM-NPR-A_AB-5B_2012-08-01        percent   \n",
       "AIM-NPR-A_ADST-21_2013-07-30      percent   \n",
       "\n",
       "                                                                  surveyPurpose  \n",
       "plotVisit                                                                        \n",
       "AIM-NPR-A_AB-1B_2012-08-01    Quantify spatial patterns and detect changes i...  \n",
       "AIM-NPR-A_AB-5B_2012-08-01    Quantify spatial patterns and detect changes i...  \n",
       "AIM-NPR-A_ADST-21_2013-07-30  Quantify spatial patterns and detect changes i...  \n",
       "\n",
       "[3 rows x 32 columns]"
      ]
     },
     "execution_count": 53,
     "metadata": {},
     "output_type": "execute_result"
    }
   ],
   "source": [
    "# create geospatial information\n",
    "fcover_and_aux = pft_fcover.merge(new_aux, how='left', left_index=True, right_index=True)\n",
    "fcover_and_aux.index.name = 'plotVisit'\n",
    "fcover_and_aux.head(3)"
   ]
  },
  {
   "cell_type": "code",
   "execution_count": 54,
   "metadata": {},
   "outputs": [
    {
     "data": {
      "text/plain": [
       "Index(['deciduous shrub', 'deciduous tree', 'evergreen shrub',\n",
       "       'evergreen tree', 'forb', 'graminoid', 'non-vascular', 'bryophyte',\n",
       "       'lichen', 'litter', 'bare ground', 'water', 'other', 'surveyYear',\n",
       "       'surveyMonth', 'surveyDay', 'plotArea', 'plotShape', 'latitudeY',\n",
       "       'longitudeX', 'georefSource', 'georefAccuracy', 'coordEPSG',\n",
       "       'plotVisit', 'plotName', 'dataSubsource', 'dataSource',\n",
       "       'dataSourceHtml', 'dataSubsourceCitation', 'surveyMethod',\n",
       "       'fcoverScale', 'surveyPurpose'],\n",
       "      dtype='object')"
      ]
     },
     "execution_count": 54,
     "metadata": {},
     "output_type": "execute_result"
    }
   ],
   "source": [
    "fcover_and_aux.columns"
   ]
  },
  {
   "cell_type": "code",
   "execution_count": 55,
   "metadata": {},
   "outputs": [
    {
     "name": "stdout",
     "output_type": "stream",
     "text": [
      "Finding spatial intersection for '['FIRE_YEAR', 'geometry']' in native CRS: EPSG:4326\n"
     ]
    },
    {
     "name": "stderr",
     "output_type": "stream",
     "text": [
      "/mnt/poseidon/remotesensing/arctic/alaska_pft_fcover_harmonization/pavc_funcs/standardize_pft_funcs.py:1000: FutureWarning: DataFrame.applymap has been deprecated. Use DataFrame.map instead.\n",
      "  grouped = grouped.applymap(normalize_cell)\n",
      "/mnt/poseidon/remotesensing/arctic/alaska_pft_fcover_harmonization/pavc_funcs/standardize_pft_funcs.py:1021: FutureWarning: DataFrame.applymap has been deprecated. Use DataFrame.map instead.\n",
      "  merged = merged.applymap(clean_set_cell)\n"
     ]
    }
   ],
   "source": [
    "# convert to GeoDataFrame\n",
    "fcover_and_aux = gpd.GeoDataFrame(\n",
    "    fcover_and_aux,\n",
    "    geometry=gpd.points_from_xy(fcover_and_aux['longitudeX'], fcover_and_aux['latitudeY']),\n",
    "    crs='EPSG:4326'\n",
    ").to_crs('EPSG:5936')\n",
    "\n",
    "# add geospatial layers\n",
    "fcover_and_aux = spf.add_geospatial_aux(\n",
    "    fcover_and_aux,\n",
    "    paths=geo_paths,\n",
    "    orig_names=geo_cols\n",
    ")"
   ]
  },
  {
   "cell_type": "code",
   "execution_count": 56,
   "metadata": {},
   "outputs": [
    {
     "name": "stdout",
     "output_type": "stream",
     "text": [
      "Number of plot visits in fcover_and_aux: 185\n",
      "Number of unique plot visits in fcover_and_aux: 185\n"
     ]
    }
   ],
   "source": [
    "faa_li = len(fcover_and_aux.index)\n",
    "faa_ui = len(fcover_and_aux.index.unique())\n",
    "print(f'Number of plot visits in fcover_and_aux: {faa_li}')\n",
    "print(f'Number of unique plot visits in fcover_and_aux: {faa_ui}')"
   ]
  },
  {
   "cell_type": "code",
   "execution_count": 57,
   "metadata": {},
   "outputs": [],
   "source": [
    "# rename new columns\n",
    "fcover_and_aux.rename(columns={'FIRE_YEAR':'fireYears'}, inplace=True)"
   ]
  },
  {
   "cell_type": "markdown",
   "metadata": {},
   "source": [
    "### 2.4.3. Duplicate coordinates <a name=\"dupes\"></a>\n",
    "This indicates that plots may have been revisited, they were very close and GPS accuracy was too low, or there is human error"
   ]
  },
  {
   "cell_type": "code",
   "execution_count": 58,
   "metadata": {},
   "outputs": [
    {
     "name": "stderr",
     "output_type": "stream",
     "text": [
      "/mnt/poseidon/remotesensing/arctic/alaska_pft_fcover_harmonization/pavc_funcs/standardize_pft_funcs.py:1051: FutureWarning: DataFrameGroupBy.grouper is deprecated and will be removed in a future version of pandas.\n",
      "  group_ids = df.groupby(subset, sort=False).grouper.group_info[0]\n",
      "/mnt/poseidon/remotesensing/arctic/alaska_pft_fcover_harmonization/pavc_funcs/standardize_pft_funcs.py:1051: FutureWarning: DataFrameGroupBy.grouper is deprecated and will be removed in a future version of pandas.\n",
      "  group_ids = df.groupby(subset, sort=False).grouper.group_info[0]\n"
     ]
    }
   ],
   "source": [
    "# find duplicates\n",
    "fcover_and_aux = spf.find_duplicates(fcover_and_aux, ['longitudeX', 'latitudeY'], 'duplicatedCoords')\n",
    "fcover_and_aux = spf.find_duplicates(fcover_and_aux, ['surveyYear', 'surveyMonth', 'surveyDay'], 'duplicatedDate')"
   ]
  },
  {
   "cell_type": "markdown",
   "metadata": {},
   "source": [
    "---\n",
    "# 3. Export <a name=\"export\"></a>"
   ]
  },
  {
   "cell_type": "code",
   "execution_count": 59,
   "metadata": {},
   "outputs": [],
   "source": [
    "# clean up\n",
    "pfts = {'deciduous shrub':'deciduousShrubCover',\n",
    "        'evergreen shrub':'evergreenShrubCover',\n",
    "        'deciduous tree':'deciduousTreeCover',\n",
    "        'evergreen tree':'evergreenTreeCover',\n",
    "        'forb':'forbCover',\n",
    "        'graminoid':'graminoidCover',\n",
    "        'non-vascular':'nonvascularSumCover',\n",
    "        'bryophyte':'bryophyteCover',\n",
    "        'lichen':'lichenCover',\n",
    "        'litter':'litterCover',\n",
    "        'bare ground':'baregroundCover',\n",
    "        'water':'waterCover',\n",
    "        'other':'otherCover'}\n",
    "\n",
    "# rename columns\n",
    "fcover_and_aux.rename(columns=pfts, inplace=True)\n",
    "fcover_cols = list(pfts.values())\n",
    "\n",
    "# reproject and set cover data type\n",
    "fcover_and_aux[fcover_cols] = fcover_and_aux[fcover_cols].astype(np.float32)\n",
    "fcover_and_aux.index.name = 'plotVisit'"
   ]
  },
  {
   "cell_type": "code",
   "execution_count": 60,
   "metadata": {},
   "outputs": [
    {
     "data": {
      "text/plain": [
       "Index(['deciduousShrubCover', 'deciduousTreeCover', 'evergreenShrubCover',\n",
       "       'evergreenTreeCover', 'forbCover', 'graminoidCover',\n",
       "       'nonvascularSumCover', 'bryophyteCover', 'lichenCover', 'litterCover',\n",
       "       'baregroundCover', 'waterCover', 'otherCover', 'surveyYear',\n",
       "       'surveyMonth', 'surveyDay', 'plotArea', 'plotShape', 'latitudeY',\n",
       "       'longitudeX', 'georefSource', 'georefAccuracy', 'coordEPSG',\n",
       "       'plotVisit', 'plotName', 'dataSubsource', 'dataSource',\n",
       "       'dataSourceHtml', 'dataSubsourceCitation', 'surveyMethod',\n",
       "       'fcoverScale', 'surveyPurpose', 'fireYears', 'duplicatedCoords',\n",
       "       'duplicatedDate'],\n",
       "      dtype='object')"
      ]
     },
     "execution_count": 60,
     "metadata": {},
     "output_type": "execute_result"
    }
   ],
   "source": [
    "fcover_and_aux.columns"
   ]
  },
  {
   "cell_type": "code",
   "execution_count": 61,
   "metadata": {},
   "outputs": [
    {
     "data": {
      "text/plain": [
       "Index(['deciduousShrubCover', 'deciduousTreeCover', 'evergreenShrubCover',\n",
       "       'evergreenTreeCover', 'forbCover', 'graminoidCover',\n",
       "       'nonvascularSumCover', 'bryophyteCover', 'lichenCover', 'litterCover',\n",
       "       'baregroundCover', 'waterCover', 'otherCover', 'surveyYear',\n",
       "       'surveyMonth', 'surveyDay', 'plotArea', 'plotShape', 'latitudeY',\n",
       "       'longitudeX', 'georefSource', 'georefAccuracy', 'coordEPSG',\n",
       "       'plotVisit', 'plotName', 'dataSubsource', 'dataSource',\n",
       "       'dataSourceHtml', 'dataSubsourceCitation', 'surveyMethod',\n",
       "       'fcoverScale', 'surveyPurpose', 'fireYears', 'duplicatedCoords',\n",
       "       'duplicatedDate', 'geometry'],\n",
       "      dtype='object')"
      ]
     },
     "execution_count": 61,
     "metadata": {},
     "output_type": "execute_result"
    }
   ],
   "source": [
    "# create UID mapping to plotVisit\n",
    "uid_table = pd.DataFrame({'plotVisit': pft_fcover.index})\n",
    "uid_table = spf.assign_uid_column(uid_table, id_col='plotVisit', uid_col='UID')\n",
    "\n",
    "# get UIDs from Arctic AK only\n",
    "path = '../data/supporting_data/tundra_alaska_latlon/tundra_alaska_wgs84.shp'\n",
    "ak_tundra = gpd.read_file(path)\n",
    "\n",
    "# clip and select Arctic AK indices\n",
    "fcover_and_aux = gpd.GeoDataFrame(fcover_and_aux,\n",
    "                                  geometry=gpd.points_from_xy(fcover_and_aux['longitudeX'],\n",
    "                                                              fcover_and_aux['latitudeY']),\n",
    "                                                              crs='epsg:4326')\n",
    "fcover_and_aux = fcover_and_aux.to_crs(ak_tundra.crs)\n",
    "fcover_and_aux = fcover_and_aux.clip(ak_tundra)\n",
    "valid_uids = fcover_and_aux.index\n",
    "fcover_and_aux.columns"
   ]
  },
  {
   "cell_type": "code",
   "execution_count": 62,
   "metadata": {},
   "outputs": [
    {
     "data": {
      "text/plain": [
       "<Axes: >"
      ]
     },
     "execution_count": 62,
     "metadata": {},
     "output_type": "execute_result"
    },
    {
     "data": {
      "image/png": "[encoded data removed]",
      "text/plain": [
       "<Figure size 640x480 with 1 Axes>"
      ]
     },
     "metadata": {},
     "output_type": "display_data"
    }
   ],
   "source": [
    "# plot the post-2010 alaskan tundra points\n",
    "ax = ak_tundra.plot(edgecolor='black', facecolor='none')\n",
    "fcover_and_aux.plot(ax=ax, color='red', markersize=3)"
   ]
  },
  {
   "cell_type": "code",
   "execution_count": 63,
   "metadata": {},
   "outputs": [
    {
     "name": "stderr",
     "output_type": "stream",
     "text": [
      "/tmp/ipykernel_852564/2164478736.py:2: UserWarning: Geometry column does not contain geometry.\n",
      "  fcover_and_aux['geometry'] = fcover_and_aux['geometry'].apply(lambda g: g.wkt if g is not None else None)\n"
     ]
    }
   ],
   "source": [
    "# remove geometry\n",
    "fcover_and_aux['geometry'] = fcover_and_aux['geometry'].apply(lambda g: g.wkt if g is not None else None)"
   ]
  },
  {
   "cell_type": "code",
   "execution_count": 64,
   "metadata": {},
   "outputs": [
    {
     "name": "stdout",
     "output_type": "stream",
     "text": [
      "Number of plot visits in fcover_and_aux: 184\n",
      "Number of unique plot visits in fcover_and_aux: 184\n"
     ]
    }
   ],
   "source": [
    "faa_li = len(fcover_and_aux.index)\n",
    "faa_ui = len(fcover_and_aux.index.unique())\n",
    "print(f'Number of plot visits in fcover_and_aux: {faa_li}')\n",
    "print(f'Number of unique plot visits in fcover_and_aux: {faa_ui}')"
   ]
  },
  {
   "cell_type": "code",
   "execution_count": 65,
   "metadata": {},
   "outputs": [],
   "source": [
    "# export species fcover\n",
    "species_fcover_out = species_fcover.copy()\n",
    "species_fcover_out = species_fcover_out[species_fcover_out['plotVisit'].isin(valid_uids)]\n",
    "species_fcover_out = spf.replace_column_with_uid(species_fcover_out, uid_table, id_col='plotVisit', uid_col='UID', set_index=False, schema_key='species_fcover')\n",
    "species_fcover_out = spf.format_column_dtypes(species_fcover_out, schema_key='species_fcover')\n",
    "spf.export_dataframe(species_fcover_out, f'../data/plot_data/{source}/output_data/{source}_nonstandard_species_fcover.csv', schema_key='species_fcover', index=False)"
   ]
  },
  {
   "cell_type": "code",
   "execution_count": 66,
   "metadata": {},
   "outputs": [],
   "source": [
    "# export pft fcover\n",
    "covercols = [col for col in fcover_and_aux.columns if 'Cover' in col]\n",
    "pft_fcover_out = fcover_and_aux[covercols]\n",
    "pft_fcover_out = spf.replace_column_with_uid(pft_fcover_out.reset_index(), uid_table, id_col='plotVisit', uid_col='UID', set_index=True, schema_key='pft_fcover')\n",
    "pft_fcover_out = spf.format_column_dtypes(pft_fcover_out, schema_key='pft_fcover')\n",
    "spf.export_dataframe(pft_fcover_out, f'../data/plot_data/{source}/output_data/{source}_standard_pft_fcover.csv', schema_key='pft_fcover', index=True)"
   ]
  },
  {
   "cell_type": "code",
   "execution_count": 67,
   "metadata": {},
   "outputs": [
    {
     "name": "stderr",
     "output_type": "stream",
     "text": [
      "/tmp/ipykernel_852564/4146134562.py:4: SettingWithCopyWarning: \n",
      "A value is trying to be set on a copy of a slice from a DataFrame\n",
      "\n",
      "See the caveats in the documentation: https://pandas.pydata.org/pandas-docs/stable/user_guide/indexing.html#returning-a-view-versus-a-copy\n",
      "  pft_aux.drop(columns=['plotVisit'], inplace=True)\n"
     ]
    }
   ],
   "source": [
    "# export pft aux\n",
    "auxcols = [col for col in fcover_and_aux.columns if 'Cover' not in col]\n",
    "pft_aux = fcover_and_aux[auxcols]\n",
    "pft_aux.drop(columns=['plotVisit'], inplace=True)\n",
    "pft_aux = spf.replace_column_with_uid(pft_aux.reset_index(), uid_table, id_col='plotVisit', uid_col='UID', set_index=True, schema_key='pft_aux')\n",
    "pft_aux = spf.format_column_dtypes(pft_aux, schema_key='pft_aux')\n",
    "spf.export_dataframe(pft_aux, f'../data/plot_data/{source}/output_data/{source}_plot_info.csv', schema_key='pft_aux', index=True)"
   ]
  },
  {
   "cell_type": "code",
   "execution_count": null,
   "metadata": {},
   "outputs": [],
   "source": []
  }
 ],
 "metadata": {
  "kernelspec": {
   "display_name": "oldgee",
   "language": "python",
   "name": "python3"
  },
  "language_info": {
   "codemirror_mode": {
    "name": "ipython",
    "version": 3
   },
   "file_extension": ".py",
   "mimetype": "text/x-python",
   "name": "python",
   "nbconvert_exporter": "python",
   "pygments_lexer": "ipython3",
   "version": "3.10.16"
  }
 },
 "nbformat": 4,
 "nbformat_minor": 4
}
