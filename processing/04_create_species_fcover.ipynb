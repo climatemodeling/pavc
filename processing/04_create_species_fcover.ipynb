{
 "cells": [
  {
   "cell_type": "code",
   "execution_count": 15,
   "id": "1fd2bf12",
   "metadata": {},
   "outputs": [
    {
     "data": {
      "text/plain": [
       "<module 'pavc_funcs.standardize_pft_funcs' from '/mnt/poseidon/remotesensing/arctic/alaska_pft_fcover_harmonization/pavc_funcs/standardize_pft_funcs.py'>"
      ]
     },
     "execution_count": 15,
     "metadata": {},
     "output_type": "execute_result"
    }
   ],
   "source": [
    "import pandas as pd\n",
    "from rapidfuzz import process, fuzz\n",
    "import re\n",
    "import sys\n",
    "import importlib\n",
    "import os\n",
    "import csv\n",
    "from pathlib import Path\n",
    "\n",
    "# find helper scripts\n",
    "project_root = Path.cwd().parent\n",
    "\n",
    "# 2) Add that root to sys.path\n",
    "if str(project_root) not in sys.path:\n",
    "    sys.path.insert(0, str(project_root))\n",
    "import pavc_funcs.standardize_pft_funcs as spf\n",
    "importlib.reload(spf)"
   ]
  },
  {
   "cell_type": "code",
   "execution_count": 16,
   "id": "1692fb5c",
   "metadata": {},
   "outputs": [],
   "source": [
    "sources = ['abr', 'akveg', 'ava', 'neon', 'nga']"
   ]
  },
  {
   "cell_type": "code",
   "execution_count": 17,
   "id": "8c263626",
   "metadata": {},
   "outputs": [
    {
     "data": {
      "text/html": [
       "<div>\n",
       "<style scoped>\n",
       "    .dataframe tbody tr th:only-of-type {\n",
       "        vertical-align: middle;\n",
       "    }\n",
       "\n",
       "    .dataframe tbody tr th {\n",
       "        vertical-align: top;\n",
       "    }\n",
       "\n",
       "    .dataframe thead th {\n",
       "        text-align: right;\n",
       "    }\n",
       "</style>\n",
       "<table border=\"1\" class=\"dataframe\">\n",
       "  <thead>\n",
       "    <tr style=\"text-align: right;\">\n",
       "      <th></th>\n",
       "      <th>plotVisit</th>\n",
       "      <th>datasetSpeciesName</th>\n",
       "      <th>standardHabit</th>\n",
       "      <th>nonstandardHabit</th>\n",
       "      <th>percentCover</th>\n",
       "    </tr>\n",
       "  </thead>\n",
       "  <tbody>\n",
       "    <tr>\n",
       "      <th>0</th>\n",
       "      <td>u165edeef6</td>\n",
       "      <td>Litter</td>\n",
       "      <td>litter</td>\n",
       "      <td>litter</td>\n",
       "      <td>18.54</td>\n",
       "    </tr>\n",
       "    <tr>\n",
       "      <th>1</th>\n",
       "      <td>u165edeef6</td>\n",
       "      <td>Hylocomium splendens</td>\n",
       "      <td>bryophyte</td>\n",
       "      <td>moss</td>\n",
       "      <td>15.89</td>\n",
       "    </tr>\n",
       "    <tr>\n",
       "      <th>2</th>\n",
       "      <td>u165edeef6</td>\n",
       "      <td>Carex bigelowii</td>\n",
       "      <td>graminoid</td>\n",
       "      <td>graminoid</td>\n",
       "      <td>11.26</td>\n",
       "    </tr>\n",
       "  </tbody>\n",
       "</table>\n",
       "</div>"
      ],
      "text/plain": [
       "    plotVisit    datasetSpeciesName standardHabit nonstandardHabit  \\\n",
       "0  u165edeef6                Litter        litter           litter   \n",
       "1  u165edeef6  Hylocomium splendens     bryophyte             moss   \n",
       "2  u165edeef6       Carex bigelowii     graminoid        graminoid   \n",
       "\n",
       "   percentCover  \n",
       "0         18.54  \n",
       "1         15.89  \n",
       "2         11.26  "
      ]
     },
     "execution_count": 17,
     "metadata": {},
     "output_type": "execute_result"
    }
   ],
   "source": [
    "# load and prep the nonstandard fcover data\n",
    "dfs = []\n",
    "for source in sources:\n",
    "    path = f'../data/plot_data/{source}/output_data/{source}_nonstandard_species_fcover.csv'\n",
    "    df = pd.read_csv(path)\n",
    "    dfs.append(df)\n",
    "fcover_data = pd.concat(dfs)\n",
    "fcover_data.head(3)"
   ]
  },
  {
   "cell_type": "code",
   "execution_count": 18,
   "id": "7fa216a8",
   "metadata": {},
   "outputs": [
    {
     "data": {
      "text/plain": [
       "976"
      ]
     },
     "execution_count": 18,
     "metadata": {},
     "output_type": "execute_result"
    }
   ],
   "source": [
    "# load aux table to drop extraneous plot visits\n",
    "aux = pd.read_csv('../pavc/survey_unit_information.csv')\n",
    "fcover_data_subsel = fcover_data[fcover_data['plotVisit'].isin(aux['visit_id'])]\n",
    "len(fcover_data_subsel['plotVisit'].unique())"
   ]
  },
  {
   "cell_type": "code",
   "execution_count": 19,
   "id": "bdc693e3",
   "metadata": {},
   "outputs": [
    {
     "data": {
      "text/html": [
       "<div>\n",
       "<style scoped>\n",
       "    .dataframe tbody tr th:only-of-type {\n",
       "        vertical-align: middle;\n",
       "    }\n",
       "\n",
       "    .dataframe tbody tr th {\n",
       "        vertical-align: top;\n",
       "    }\n",
       "\n",
       "    .dataframe thead th {\n",
       "        text-align: right;\n",
       "    }\n",
       "</style>\n",
       "<table border=\"1\" class=\"dataframe\">\n",
       "  <thead>\n",
       "    <tr style=\"text-align: right;\">\n",
       "      <th></th>\n",
       "      <th>plotVisit</th>\n",
       "      <th>datasetSpeciesName</th>\n",
       "      <th>standardHabit</th>\n",
       "      <th>nonstandardHabit</th>\n",
       "      <th>percentCover</th>\n",
       "    </tr>\n",
       "  </thead>\n",
       "  <tbody>\n",
       "    <tr>\n",
       "      <th>0</th>\n",
       "      <td>u165edeef6</td>\n",
       "      <td>Litter</td>\n",
       "      <td>litter</td>\n",
       "      <td>litter</td>\n",
       "      <td>18.54</td>\n",
       "    </tr>\n",
       "    <tr>\n",
       "      <th>1</th>\n",
       "      <td>u165edeef6</td>\n",
       "      <td>Hylocomium splendens</td>\n",
       "      <td>bryophyte</td>\n",
       "      <td>moss</td>\n",
       "      <td>15.89</td>\n",
       "    </tr>\n",
       "    <tr>\n",
       "      <th>2</th>\n",
       "      <td>u165edeef6</td>\n",
       "      <td>Carex bigelowii</td>\n",
       "      <td>graminoid</td>\n",
       "      <td>graminoid</td>\n",
       "      <td>11.26</td>\n",
       "    </tr>\n",
       "  </tbody>\n",
       "</table>\n",
       "</div>"
      ],
      "text/plain": [
       "    plotVisit    datasetSpeciesName standardHabit nonstandardHabit  \\\n",
       "0  u165edeef6                Litter        litter           litter   \n",
       "1  u165edeef6  Hylocomium splendens     bryophyte             moss   \n",
       "2  u165edeef6       Carex bigelowii     graminoid        graminoid   \n",
       "\n",
       "   percentCover  \n",
       "0         18.54  \n",
       "1         15.89  \n",
       "2         11.26  "
      ]
     },
     "execution_count": 19,
     "metadata": {},
     "output_type": "execute_result"
    }
   ],
   "source": [
    "fcover_data_subsel.head(3)"
   ]
  },
  {
   "cell_type": "code",
   "execution_count": 20,
   "id": "6d4e34bd",
   "metadata": {},
   "outputs": [
    {
     "data": {
      "text/plain": [
       "Index(['dataset_species_name', 'accepted_species_name',\n",
       "       'accepted_species_name_author', 'visit_id', 'data_source',\n",
       "       'data_subsource', 'taxon_rank', 'naming_authority', 'category', 'habit',\n",
       "       'pft', 'nonstandard_pft'],\n",
       "      dtype='object')"
      ]
     },
     "execution_count": 20,
     "metadata": {},
     "output_type": "execute_result"
    }
   ],
   "source": [
    "# load the species to pft checklist to assign accepted species names to dataset species names\n",
    "checklist = pd.read_csv('../pavc/species_pft_checklist.csv')\n",
    "checklist.columns"
   ]
  },
  {
   "cell_type": "code",
   "execution_count": 21,
   "id": "0e165426",
   "metadata": {},
   "outputs": [],
   "source": [
    "checklist = checklist[['dataset_species_name', 'accepted_species_name']]\n",
    "species_fcover = fcover_data_subsel.merge(checklist, how='left', left_on='datasetSpeciesName', right_on='dataset_species_name')\n",
    "species_fcover = species_fcover.rename(columns={'plotVisit':'visit_id', 'percentCover':'fcover'})\n",
    "species_fcover = species_fcover[['visit_id', 'accepted_species_name', 'fcover']]"
   ]
  },
  {
   "cell_type": "code",
   "execution_count": 22,
   "id": "adef04e2",
   "metadata": {},
   "outputs": [
    {
     "data": {
      "text/plain": [
       "976"
      ]
     },
     "execution_count": 22,
     "metadata": {},
     "output_type": "execute_result"
    }
   ],
   "source": [
    "len(species_fcover['visit_id'].unique())"
   ]
  },
  {
   "cell_type": "code",
   "execution_count": 23,
   "id": "e635724a",
   "metadata": {},
   "outputs": [],
   "source": [
    "# import json\n",
    "# UNITS_AND_DEFS = { col: {\"unit\": \"\", \"definition\": \"\"} for col in species_fcover.columns }\n",
    "# print(json.dumps(UNITS_AND_DEFS, indent=4))"
   ]
  },
  {
   "cell_type": "code",
   "execution_count": 24,
   "id": "f7e1c15c",
   "metadata": {},
   "outputs": [],
   "source": [
    "dd_info = {\n",
    "    \"visit_id\": {\n",
    "        \"unit\": 1,\n",
    "        \"definition\": \"A unique identifier representing the survey unit visitation at a particular survey unit; some survey units are visited more than once\"\n",
    "    },\n",
    "    \"accepted_species_name\": {\n",
    "        \"unit\": 1,\n",
    "        \"definition\": \"From Nawrocki et al. (2020) Checklist of Vascular Plants, Bryophytes, Lichens, and Lichenicolous Fungi of Alaska, an accepted name of a species determined by a naming authority\"\n",
    "    },\n",
    "    \"fcover\": {\n",
    "        \"unit\": \"percent\",\n",
    "        \"definition\": \"Percent total cover of a vegetation type or species, or percent top cover of non-vegetation\"\n",
    "    }\n",
    "}"
   ]
  },
  {
   "cell_type": "code",
   "execution_count": 25,
   "id": "2c13a4b6",
   "metadata": {},
   "outputs": [],
   "source": [
    "import pandas as pd\n",
    "import typing\n",
    "from typing import get_origin, get_args\n",
    "\n",
    "from pavc_funcs.schemas import SCHEMAS\n",
    "SynthesizedAux = SCHEMAS[\"synthesized_species_fcover\"]\n",
    "\n",
    "dtype_map = {}\n",
    "for name, field in SynthesizedAux.model_fields.items():\n",
    "    t      = field.annotation\n",
    "    origin = get_origin(t)\n",
    "    args   = get_args(t)\n",
    "\n",
    "    # 1) Explicit primitives\n",
    "    if t is str:\n",
    "        pd_type = \"string\"\n",
    "    elif t is float:\n",
    "        pd_type = \"float64\"\n",
    "    elif t is int:\n",
    "        pd_type = \"Int64\"            # nullable int\n",
    "\n",
    "    # 2) Optionals\n",
    "    elif origin is typing.Union and set(args) == {int, type(None)}:\n",
    "        pd_type = \"Int64\"\n",
    "    elif origin is typing.Union and set(args) == {str, type(None)}:\n",
    "        pd_type = \"string\"\n",
    "    elif origin is typing.Union and set(args) == {float, type(None)}:\n",
    "        pd_type = \"float64\"\n",
    "\n",
    "    # 3) Lists stay object\n",
    "    elif origin in (list, typing.List):\n",
    "        pd_type = \"object\"\n",
    "\n",
    "    # 4) Everything else → string\n",
    "    else:\n",
    "        pd_type = \"string\"\n",
    "\n",
    "    dtype_map[name] = pd_type\n",
    "\n",
    "# cast in one go\n",
    "species_fcover = species_fcover.astype(dtype_map)\n",
    "\n",
    "# build your DD exactly as before\n",
    "rows = []\n",
    "for col in species_fcover.columns:\n",
    "    meta = dd_info.get(col, {\"unit\": \"\", \"definition\": \"\"})\n",
    "    rows.append({\n",
    "        \"column_name\":      col,\n",
    "        \"unit\":             meta[\"unit\"],\n",
    "        \"definition\":       meta[\"definition\"],\n",
    "        \"column_long_name\": col,\n",
    "        \"data_type\":        species_fcover[col].dtype.name\n",
    "    })\n",
    "\n",
    "dd_df = pd.DataFrame(rows, columns=[\n",
    "    \"column_name\",\"unit\",\"definition\",\"column_long_name\",\"data_type\"\n",
    "])"
   ]
  },
  {
   "cell_type": "code",
   "execution_count": 29,
   "id": "3aeb1801",
   "metadata": {},
   "outputs": [
    {
     "data": {
      "text/html": [
       "<div>\n",
       "<style scoped>\n",
       "    .dataframe tbody tr th:only-of-type {\n",
       "        vertical-align: middle;\n",
       "    }\n",
       "\n",
       "    .dataframe tbody tr th {\n",
       "        vertical-align: top;\n",
       "    }\n",
       "\n",
       "    .dataframe thead th {\n",
       "        text-align: right;\n",
       "    }\n",
       "</style>\n",
       "<table border=\"1\" class=\"dataframe\">\n",
       "  <thead>\n",
       "    <tr style=\"text-align: right;\">\n",
       "      <th></th>\n",
       "      <th>column_name</th>\n",
       "      <th>unit</th>\n",
       "      <th>definition</th>\n",
       "      <th>column_long_name</th>\n",
       "      <th>data_type</th>\n",
       "    </tr>\n",
       "  </thead>\n",
       "  <tbody>\n",
       "    <tr>\n",
       "      <th>0</th>\n",
       "      <td>visit_id</td>\n",
       "      <td>1</td>\n",
       "      <td>A unique identifier representing the survey un...</td>\n",
       "      <td>visit_id</td>\n",
       "      <td>string</td>\n",
       "    </tr>\n",
       "    <tr>\n",
       "      <th>1</th>\n",
       "      <td>accepted_species_name</td>\n",
       "      <td>1</td>\n",
       "      <td>From Nawrocki et al. (2020) Checklist of Vascu...</td>\n",
       "      <td>accepted_species_name</td>\n",
       "      <td>string</td>\n",
       "    </tr>\n",
       "    <tr>\n",
       "      <th>2</th>\n",
       "      <td>fcover</td>\n",
       "      <td>percent</td>\n",
       "      <td>Percent total cover of a vegetation type or sp...</td>\n",
       "      <td>fcover</td>\n",
       "      <td>float64</td>\n",
       "    </tr>\n",
       "  </tbody>\n",
       "</table>\n",
       "</div>"
      ],
      "text/plain": [
       "             column_name     unit  \\\n",
       "0               visit_id        1   \n",
       "1  accepted_species_name        1   \n",
       "2                 fcover  percent   \n",
       "\n",
       "                                          definition       column_long_name  \\\n",
       "0  A unique identifier representing the survey un...               visit_id   \n",
       "1  From Nawrocki et al. (2020) Checklist of Vascu...  accepted_species_name   \n",
       "2  Percent total cover of a vegetation type or sp...                 fcover   \n",
       "\n",
       "  data_type  \n",
       "0    string  \n",
       "1    string  \n",
       "2   float64  "
      ]
     },
     "execution_count": 29,
     "metadata": {},
     "output_type": "execute_result"
    }
   ],
   "source": [
    "dd_df.head(3)"
   ]
  },
  {
   "cell_type": "code",
   "execution_count": 26,
   "id": "c4706a49",
   "metadata": {},
   "outputs": [],
   "source": [
    "species_fcover = spf.validate_synthesized_species_fcover(species_fcover)"
   ]
  },
  {
   "cell_type": "code",
   "execution_count": 27,
   "id": "d4b0a744",
   "metadata": {},
   "outputs": [
    {
     "data": {
      "text/html": [
       "<div>\n",
       "<style scoped>\n",
       "    .dataframe tbody tr th:only-of-type {\n",
       "        vertical-align: middle;\n",
       "    }\n",
       "\n",
       "    .dataframe tbody tr th {\n",
       "        vertical-align: top;\n",
       "    }\n",
       "\n",
       "    .dataframe thead th {\n",
       "        text-align: right;\n",
       "    }\n",
       "</style>\n",
       "<table border=\"1\" class=\"dataframe\">\n",
       "  <thead>\n",
       "    <tr style=\"text-align: right;\">\n",
       "      <th></th>\n",
       "      <th>accepted_species_name</th>\n",
       "      <th>fcover</th>\n",
       "    </tr>\n",
       "    <tr>\n",
       "      <th>visit_id</th>\n",
       "      <th></th>\n",
       "      <th></th>\n",
       "    </tr>\n",
       "  </thead>\n",
       "  <tbody>\n",
       "    <tr>\n",
       "      <th>u165edeef6</th>\n",
       "      <td>litter</td>\n",
       "      <td>18.54</td>\n",
       "    </tr>\n",
       "    <tr>\n",
       "      <th>u165edeef6</th>\n",
       "      <td>Hylocomium splendens</td>\n",
       "      <td>15.89</td>\n",
       "    </tr>\n",
       "    <tr>\n",
       "      <th>u165edeef6</th>\n",
       "      <td>Carex bigelowii</td>\n",
       "      <td>11.26</td>\n",
       "    </tr>\n",
       "  </tbody>\n",
       "</table>\n",
       "</div>"
      ],
      "text/plain": [
       "           accepted_species_name  fcover\n",
       "visit_id                                \n",
       "u165edeef6                litter   18.54\n",
       "u165edeef6  Hylocomium splendens   15.89\n",
       "u165edeef6       Carex bigelowii   11.26"
      ]
     },
     "execution_count": 27,
     "metadata": {},
     "output_type": "execute_result"
    }
   ],
   "source": [
    "species_fcover.set_index('visit_id', inplace=True)\n",
    "species_fcover.head(3)"
   ]
  },
  {
   "cell_type": "code",
   "execution_count": 28,
   "id": "91f5934d",
   "metadata": {},
   "outputs": [],
   "source": [
    "species_fcover.to_csv('../pavc/synthesized_species_fcover.csv', encoding='utf-8-sig', quoting=csv.QUOTE_ALL)"
   ]
  },
  {
   "cell_type": "code",
   "execution_count": 30,
   "id": "3e45cbec",
   "metadata": {},
   "outputs": [],
   "source": [
    "dd_df.to_csv('../pavc/synthesized_species_fcover_dd.csv', encoding='utf-8-sig', quoting=csv.QUOTE_ALL, index=False)"
   ]
  },
  {
   "cell_type": "code",
   "execution_count": null,
   "id": "dd7da08b",
   "metadata": {},
   "outputs": [],
   "source": []
  }
 ],
 "metadata": {
  "kernelspec": {
   "display_name": "oldgee",
   "language": "python",
   "name": "python3"
  },
  "language_info": {
   "codemirror_mode": {
    "name": "ipython",
    "version": 3
   },
   "file_extension": ".py",
   "mimetype": "text/x-python",
   "name": "python",
   "nbconvert_exporter": "python",
   "pygments_lexer": "ipython3",
   "version": "3.10.16"
  }
 },
 "nbformat": 4,
 "nbformat_minor": 5
}
