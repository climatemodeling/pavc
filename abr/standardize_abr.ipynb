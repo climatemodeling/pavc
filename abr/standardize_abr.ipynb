{
 "cells": [
  {
   "cell_type": "markdown",
   "id": "08acbccc-dfcd-41e3-9d36-cb0e978188d4",
   "metadata": {},
   "source": [
    "# ABR Standardization Notebook\n",
    "---\n",
    "---\n",
    "*ABR remote sensing data, not land survey data*"
   ]
  },
  {
   "cell_type": "markdown",
   "id": "7284d0d8-9f2b-465d-9af8-f9911e862156",
   "metadata": {},
   "source": [
    "# Table of contents\n",
    "1. [PRE-PROCESSING](#preprocess)\n",
    "    1. [Load fcover data](#loadfcover)\n",
    "    2. [Join fcover to species checklist table](#joinchecklist)\n",
    "    3. [Join fcover to leaf retention table](#joinleafretention)\n",
    "    4. [Export species-PFT tables](#exporthabits)\n",
    "    5. [Clean exported species-PFT tables](#cleanhabits)\n",
    "2. [STANDARDIZATION](#standardization)\n",
    "    1. [Standardize PFT names](#pftnames)\n",
    "    2. [Sum species fcover to PFT-level](#sumfcover)\n",
    "    3. [Standardize table layout](#tablelayout)\n",
    "    4. [Standardize auxiliary columns](#aux)\n",
    "        1. [Basic plot information](#basics)\n",
    "        2. [Geographical intersections](#geo)\n",
    "        3. [Duplicate coordinates](#dupes)\n",
    "3. [EXPORT](#export)"
   ]
  },
  {
   "cell_type": "markdown",
   "id": "e1d32c39-b20b-4460-9627-604ba7b9881e",
   "metadata": {},
   "source": [
    "# Load required packages"
   ]
  },
  {
   "cell_type": "code",
   "execution_count": 60,
   "id": "6a653972-658e-4613-aa24-fd5d6303244a",
   "metadata": {},
   "outputs": [],
   "source": [
    "import geopandas as gpd\n",
    "import pandas as pd\n",
    "import numpy as np\n",
    "from pyogrio import read_dataframe\n",
    "import geopandas as gpd\n",
    "import sys\n",
    "import os\n",
    "from urllib.request import urlretrieve\n",
    "from shapely.validation import make_valid\n",
    "import importlib"
   ]
  },
  {
   "cell_type": "code",
   "execution_count": 61,
   "id": "c202f396-f35e-44ad-8174-075617eeb6a2",
   "metadata": {},
   "outputs": [
    {
     "data": {
      "text/plain": [
       "<module 'standardize_pft_funcs' from '/mnt/poseidon/remotesensing/arctic/alaska_pft_fcover_harmonization/standardize_pft_funcs.py'>"
      ]
     },
     "execution_count": 61,
     "metadata": {},
     "output_type": "execute_result"
    }
   ],
   "source": [
    "# import local functions\n",
    "current_dir = os.path.abspath('..')\n",
    "if current_dir not in sys.path:\n",
    "    sys.path.append(current_dir)\n",
    "import standardize_pft_funcs as spf\n",
    "importlib.reload(spf)"
   ]
  },
  {
   "cell_type": "markdown",
   "id": "b9a33f68-6856-45c3-8cbc-2ae7c96236fa",
   "metadata": {},
   "source": [
    "---\n",
    "---\n",
    "# 1. Pre-processing <a name=\"preprocess\"></a>\n",
    "After visually inspecting each species-level fcover table for obvious errors, we saved the \"cleaned\" tables to a folder that we then standardized here."
   ]
  },
  {
   "cell_type": "markdown",
   "id": "738bc49d-ce3e-4498-8249-edd85633da69",
   "metadata": {},
   "source": [
    "---\n",
    "## 1.1. Load fcover data <a name=\"loadfcover\"></a>"
   ]
  },
  {
   "cell_type": "code",
   "execution_count": 62,
   "id": "4d91f630",
   "metadata": {},
   "outputs": [],
   "source": [
    "# throughout the script this will help keep my indices matching\n",
    "def normalize_to_int_str(val):\n",
    "    try:\n",
    "        f = float(val)\n",
    "        i = int(f)\n",
    "        if f == i:\n",
    "            return str(i)\n",
    "    except (ValueError, TypeError):\n",
    "        pass\n",
    "    return str(val)"
   ]
  },
  {
   "cell_type": "code",
   "execution_count": 63,
   "id": "998917f1-800a-4dfb-a563-f936641a0d02",
   "metadata": {},
   "outputs": [],
   "source": [
    "source = 'abr'"
   ]
  },
  {
   "cell_type": "code",
   "execution_count": 64,
   "id": "fc0c373f-d848-49bc-b2ae-db7f979730ba",
   "metadata": {},
   "outputs": [],
   "source": [
    "# read vegetation fcover as dataframe\n",
    "fcover_path = f'input_data/abr_foliar_cover.csv'\n",
    "fcover = pd.read_csv(fcover_path)\n",
    "fcover = fcover[['plot_id', 'veg_taxonomy', 'species_cover']]"
   ]
  },
  {
   "cell_type": "code",
   "execution_count": 65,
   "id": "a0a9a9e2-1201-4317-b939-eb858bba0ffc",
   "metadata": {},
   "outputs": [
    {
     "data": {
      "text/html": [
       "<div>\n",
       "<style scoped>\n",
       "    .dataframe tbody tr th:only-of-type {\n",
       "        vertical-align: middle;\n",
       "    }\n",
       "\n",
       "    .dataframe tbody tr th {\n",
       "        vertical-align: top;\n",
       "    }\n",
       "\n",
       "    .dataframe thead th {\n",
       "        text-align: right;\n",
       "    }\n",
       "</style>\n",
       "<table border=\"1\" class=\"dataframe\">\n",
       "  <thead>\n",
       "    <tr style=\"text-align: right;\">\n",
       "      <th></th>\n",
       "      <th>plot_id</th>\n",
       "      <th>veg_taxonomy</th>\n",
       "      <th>species_cover</th>\n",
       "      <th>plot_sw_digit</th>\n",
       "    </tr>\n",
       "  </thead>\n",
       "  <tbody>\n",
       "    <tr>\n",
       "      <th>0</th>\n",
       "      <td>120712b1</td>\n",
       "      <td>Litter</td>\n",
       "      <td>18.54</td>\n",
       "      <td>True</td>\n",
       "    </tr>\n",
       "    <tr>\n",
       "      <th>1</th>\n",
       "      <td>120712b1</td>\n",
       "      <td>Hylocomium splendens</td>\n",
       "      <td>15.89</td>\n",
       "      <td>True</td>\n",
       "    </tr>\n",
       "    <tr>\n",
       "      <th>2</th>\n",
       "      <td>120712b1</td>\n",
       "      <td>Carex bigelowii</td>\n",
       "      <td>11.26</td>\n",
       "      <td>True</td>\n",
       "    </tr>\n",
       "  </tbody>\n",
       "</table>\n",
       "</div>"
      ],
      "text/plain": [
       "    plot_id          veg_taxonomy  species_cover  plot_sw_digit\n",
       "0  120712b1                Litter          18.54           True\n",
       "1  120712b1  Hylocomium splendens          15.89           True\n",
       "2  120712b1       Carex bigelowii          11.26           True"
      ]
     },
     "execution_count": 65,
     "metadata": {},
     "output_type": "execute_result"
    }
   ],
   "source": [
    "# drop plots that start with a letter because they are ELS plots\n",
    "startswith_digit = [x.isdigit() for x in fcover['plot_id'].str[0]]\n",
    "fcover['plot_sw_digit'] = startswith_digit\n",
    "fcover = fcover[fcover['plot_sw_digit'] == True]\n",
    "fcover.head(3)"
   ]
  },
  {
   "cell_type": "code",
   "execution_count": 66,
   "id": "a48f617f",
   "metadata": {},
   "outputs": [
    {
     "data": {
      "text/plain": [
       "107"
      ]
     },
     "execution_count": 66,
     "metadata": {},
     "output_type": "execute_result"
    }
   ],
   "source": [
    "len(fcover['plot_id'].unique())"
   ]
  },
  {
   "cell_type": "code",
   "execution_count": 67,
   "id": "3c043b57-60be-42bd-b7f3-e9081ff5fbda",
   "metadata": {},
   "outputs": [
    {
     "name": "stdout",
     "output_type": "stream",
     "text": [
      "385\n"
     ]
    }
   ],
   "source": [
    "# get unique species names from narrowed down list\n",
    "u_species_names = fcover['veg_taxonomy'].unique()\n",
    "print(len(u_species_names))\n",
    "species_names_df = pd.DataFrame(u_species_names, columns=['datasetSpeciesName'])"
   ]
  },
  {
   "cell_type": "markdown",
   "id": "40831ad5-dff3-4b64-b698-fed6145f9952",
   "metadata": {},
   "source": [
    "---\n",
    "## 1.2. Join fcover to species checklist table <a name=\"joinchecklist\"></a>"
   ]
  },
  {
   "cell_type": "code",
   "execution_count": 68,
   "id": "c07983a4-0d26-4cae-ae06-37051192cbdb",
   "metadata": {},
   "outputs": [
    {
     "data": {
      "text/html": [
       "<div>\n",
       "<style scoped>\n",
       "    .dataframe tbody tr th:only-of-type {\n",
       "        vertical-align: middle;\n",
       "    }\n",
       "\n",
       "    .dataframe tbody tr th {\n",
       "        vertical-align: top;\n",
       "    }\n",
       "\n",
       "    .dataframe thead th {\n",
       "        text-align: right;\n",
       "    }\n",
       "</style>\n",
       "<table border=\"1\" class=\"dataframe\">\n",
       "  <thead>\n",
       "    <tr style=\"text-align: right;\">\n",
       "      <th></th>\n",
       "      <th>nameCode</th>\n",
       "      <th>checklistSpeciesName</th>\n",
       "      <th>nameStatus</th>\n",
       "      <th>nameAccepted</th>\n",
       "      <th>nameFamily</th>\n",
       "      <th>acceptedNameSource</th>\n",
       "      <th>nameLevel</th>\n",
       "      <th>speciesForm</th>\n",
       "      <th>speciesHabit</th>\n",
       "    </tr>\n",
       "  </thead>\n",
       "  <tbody>\n",
       "    <tr>\n",
       "      <th>0</th>\n",
       "      <td>abroth</td>\n",
       "      <td>Abrothallus De Not.</td>\n",
       "      <td>accepted</td>\n",
       "      <td>Abrothallus De Not.</td>\n",
       "      <td>Abrothallaceae</td>\n",
       "      <td>CNALH</td>\n",
       "      <td>genus</td>\n",
       "      <td>lichen</td>\n",
       "      <td>lichen</td>\n",
       "    </tr>\n",
       "    <tr>\n",
       "      <th>1</th>\n",
       "      <td>abrpar</td>\n",
       "      <td>Abrothallus parmeliarum (Sommerf.) Arnold</td>\n",
       "      <td>accepted</td>\n",
       "      <td>Abrothallus parmeliarum (Sommerf.) Arnold</td>\n",
       "      <td>Abrothallaceae</td>\n",
       "      <td>CNALH</td>\n",
       "      <td>species</td>\n",
       "      <td>lichen</td>\n",
       "      <td>lichen</td>\n",
       "    </tr>\n",
       "    <tr>\n",
       "      <th>2</th>\n",
       "      <td>abrpey</td>\n",
       "      <td>Abrothallus peyritschii (Stein) Kotte</td>\n",
       "      <td>accepted</td>\n",
       "      <td>Abrothallus peyritschii (Stein) Kotte</td>\n",
       "      <td>Abrothallaceae</td>\n",
       "      <td>Dillman et al. 2012</td>\n",
       "      <td>species</td>\n",
       "      <td>lichen</td>\n",
       "      <td>lichen</td>\n",
       "    </tr>\n",
       "  </tbody>\n",
       "</table>\n",
       "</div>"
      ],
      "text/plain": [
       "  nameCode                       checklistSpeciesName nameStatus  \\\n",
       "0   abroth                        Abrothallus De Not.   accepted   \n",
       "1   abrpar  Abrothallus parmeliarum (Sommerf.) Arnold   accepted   \n",
       "2   abrpey      Abrothallus peyritschii (Stein) Kotte   accepted   \n",
       "\n",
       "                                nameAccepted      nameFamily  \\\n",
       "0                        Abrothallus De Not.  Abrothallaceae   \n",
       "1  Abrothallus parmeliarum (Sommerf.) Arnold  Abrothallaceae   \n",
       "2      Abrothallus peyritschii (Stein) Kotte  Abrothallaceae   \n",
       "\n",
       "    acceptedNameSource nameLevel speciesForm speciesHabit  \n",
       "0                CNALH     genus      lichen       lichen  \n",
       "1                CNALH   species      lichen       lichen  \n",
       "2  Dillman et al. 2012   species      lichen       lichen  "
      ]
     },
     "execution_count": 68,
     "metadata": {},
     "output_type": "execute_result"
    }
   ],
   "source": [
    "# load species checklist and prep for joining\n",
    "checklist_path = f'../etc/akveg_species_checklist.csv'\n",
    "checklist_df = spf.checklist_df(checklist_path)\n",
    "checklist_df.head(3)"
   ]
  },
  {
   "cell_type": "code",
   "execution_count": 69,
   "id": "1138af7a-9288-4826-9e47-320ffe99af16",
   "metadata": {},
   "outputs": [
    {
     "data": {
      "text/html": [
       "<div>\n",
       "<style scoped>\n",
       "    .dataframe tbody tr th:only-of-type {\n",
       "        vertical-align: middle;\n",
       "    }\n",
       "\n",
       "    .dataframe tbody tr th {\n",
       "        vertical-align: top;\n",
       "    }\n",
       "\n",
       "    .dataframe thead th {\n",
       "        text-align: right;\n",
       "    }\n",
       "</style>\n",
       "<table border=\"1\" class=\"dataframe\">\n",
       "  <thead>\n",
       "    <tr style=\"text-align: right;\">\n",
       "      <th></th>\n",
       "      <th>datasetSpeciesName</th>\n",
       "    </tr>\n",
       "  </thead>\n",
       "  <tbody>\n",
       "    <tr>\n",
       "      <th>0</th>\n",
       "      <td>Litter</td>\n",
       "    </tr>\n",
       "    <tr>\n",
       "      <th>1</th>\n",
       "      <td>Hylocomium splendens</td>\n",
       "    </tr>\n",
       "    <tr>\n",
       "      <th>2</th>\n",
       "      <td>Carex bigelowii</td>\n",
       "    </tr>\n",
       "  </tbody>\n",
       "</table>\n",
       "</div>"
      ],
      "text/plain": [
       "     datasetSpeciesName\n",
       "0                Litter\n",
       "1  Hylocomium splendens\n",
       "2       Carex bigelowii"
      ]
     },
     "execution_count": 69,
     "metadata": {},
     "output_type": "execute_result"
    }
   ],
   "source": [
    "species_names_df.head(3)"
   ]
  },
  {
   "cell_type": "code",
   "execution_count": 70,
   "id": "ec194035-e431-424a-a80e-abc2fa5fc2e9",
   "metadata": {},
   "outputs": [
    {
     "name": "stdout",
     "output_type": "stream",
     "text": [
      "161 species are missing habits.\n",
      "93 species still missing habits.\n",
      "27 species still missing habits.\n",
      "25 species still missing habits.\n"
     ]
    },
    {
     "data": {
      "text/html": [
       "<div>\n",
       "<style scoped>\n",
       "    .dataframe tbody tr th:only-of-type {\n",
       "        vertical-align: middle;\n",
       "    }\n",
       "\n",
       "    .dataframe tbody tr th {\n",
       "        vertical-align: top;\n",
       "    }\n",
       "\n",
       "    .dataframe thead th {\n",
       "        text-align: right;\n",
       "    }\n",
       "</style>\n",
       "<table border=\"1\" class=\"dataframe\">\n",
       "  <thead>\n",
       "    <tr style=\"text-align: right;\">\n",
       "      <th></th>\n",
       "      <th>datasetSpeciesName</th>\n",
       "      <th>joinKey</th>\n",
       "      <th>speciesHabit</th>\n",
       "    </tr>\n",
       "    <tr>\n",
       "      <th>index</th>\n",
       "      <th></th>\n",
       "      <th></th>\n",
       "      <th></th>\n",
       "    </tr>\n",
       "  </thead>\n",
       "  <tbody>\n",
       "    <tr>\n",
       "      <th>0</th>\n",
       "      <td>Litter</td>\n",
       "      <td>Litter</td>\n",
       "      <td>NaN</td>\n",
       "    </tr>\n",
       "    <tr>\n",
       "      <th>1</th>\n",
       "      <td>Hylocomium splendens</td>\n",
       "      <td>Hylocomium splendens</td>\n",
       "      <td>moss</td>\n",
       "    </tr>\n",
       "    <tr>\n",
       "      <th>2</th>\n",
       "      <td>Carex bigelowii</td>\n",
       "      <td>Carex bigelowii</td>\n",
       "      <td>graminoid</td>\n",
       "    </tr>\n",
       "  </tbody>\n",
       "</table>\n",
       "</div>"
      ],
      "text/plain": [
       "         datasetSpeciesName               joinKey speciesHabit\n",
       "index                                                         \n",
       "0                    Litter                Litter          NaN\n",
       "1      Hylocomium splendens  Hylocomium splendens         moss\n",
       "2           Carex bigelowii       Carex bigelowii    graminoid"
      ]
     },
     "execution_count": 70,
     "metadata": {},
     "output_type": "execute_result"
    }
   ],
   "source": [
    "# get first 2 words (genus-species) from checklist accepted name and data species name\n",
    "checklist_df['joinKey'] = checklist_df['checklistSpeciesName'].apply(spf.get_substrings)\n",
    "species_names_df['joinKey'] = species_names_df['datasetSpeciesName'].apply(spf.get_substrings)\n",
    "habits = spf.join_to_checklist(unique_species=species_names_df, \n",
    "                               checklist=checklist_df, \n",
    "                               u_name='datasetSpeciesName', \n",
    "                               c_unofficial_name='checklistSpeciesName', \n",
    "                               c_official_name='nameAccepted', \n",
    "                               mapping_name='joinKey',\n",
    "                               habit='speciesHabit')\n",
    "habits.head(3)"
   ]
  },
  {
   "cell_type": "code",
   "execution_count": 71,
   "id": "6be75ab6-3f83-4a10-a753-dd7c2d79fc08",
   "metadata": {},
   "outputs": [
    {
     "data": {
      "text/html": [
       "<div>\n",
       "<style scoped>\n",
       "    .dataframe tbody tr th:only-of-type {\n",
       "        vertical-align: middle;\n",
       "    }\n",
       "\n",
       "    .dataframe tbody tr th {\n",
       "        vertical-align: top;\n",
       "    }\n",
       "\n",
       "    .dataframe thead th {\n",
       "        text-align: right;\n",
       "    }\n",
       "</style>\n",
       "<table border=\"1\" class=\"dataframe\">\n",
       "  <thead>\n",
       "    <tr style=\"text-align: right;\">\n",
       "      <th></th>\n",
       "      <th>datasetSpeciesName</th>\n",
       "      <th>joinKey</th>\n",
       "    </tr>\n",
       "  </thead>\n",
       "  <tbody>\n",
       "    <tr>\n",
       "      <th>0</th>\n",
       "      <td>Litter</td>\n",
       "      <td>Litter</td>\n",
       "    </tr>\n",
       "    <tr>\n",
       "      <th>1</th>\n",
       "      <td>Hylocomium splendens</td>\n",
       "      <td>Hylocomium splendens</td>\n",
       "    </tr>\n",
       "    <tr>\n",
       "      <th>2</th>\n",
       "      <td>Carex bigelowii</td>\n",
       "      <td>Carex bigelowii</td>\n",
       "    </tr>\n",
       "  </tbody>\n",
       "</table>\n",
       "</div>"
      ],
      "text/plain": [
       "     datasetSpeciesName               joinKey\n",
       "0                Litter                Litter\n",
       "1  Hylocomium splendens  Hylocomium splendens\n",
       "2       Carex bigelowii       Carex bigelowii"
      ]
     },
     "execution_count": 71,
     "metadata": {},
     "output_type": "execute_result"
    }
   ],
   "source": [
    "species_names_df.head(3)"
   ]
  },
  {
   "cell_type": "code",
   "execution_count": 72,
   "id": "e63eab71-0999-4c19-af9d-36a00aa49c00",
   "metadata": {},
   "outputs": [],
   "source": [
    "habits = species_names_df.merge(habits, how='left', left_on='datasetSpeciesName', right_on='datasetSpeciesName', suffixes=(None, '_1'))\n",
    "habits = habits[['joinKey', 'datasetSpeciesName', 'speciesHabit']]"
   ]
  },
  {
   "cell_type": "markdown",
   "id": "dcf9bb38-6e99-4b18-8976-4bf99961623e",
   "metadata": {},
   "source": [
    "---\n",
    "## 1.3. Join fcover to leaf retention table <a name=\"joinleafretention\"></a>"
   ]
  },
  {
   "cell_type": "code",
   "execution_count": 73,
   "id": "19164aaf-4110-4d24-b559-7b3b2363e9ae",
   "metadata": {},
   "outputs": [
    {
     "data": {
      "text/html": [
       "<div>\n",
       "<style scoped>\n",
       "    .dataframe tbody tr th:only-of-type {\n",
       "        vertical-align: middle;\n",
       "    }\n",
       "\n",
       "    .dataframe tbody tr th {\n",
       "        vertical-align: top;\n",
       "    }\n",
       "\n",
       "    .dataframe thead th {\n",
       "        text-align: right;\n",
       "    }\n",
       "</style>\n",
       "<table border=\"1\" class=\"dataframe\">\n",
       "  <thead>\n",
       "    <tr style=\"text-align: right;\">\n",
       "      <th></th>\n",
       "      <th>leafRetention</th>\n",
       "      <th>retentionSpeciesName</th>\n",
       "    </tr>\n",
       "  </thead>\n",
       "  <tbody>\n",
       "    <tr>\n",
       "      <th>0</th>\n",
       "      <td>deciduous</td>\n",
       "      <td>Salix</td>\n",
       "    </tr>\n",
       "    <tr>\n",
       "      <th>1</th>\n",
       "      <td>deciduous</td>\n",
       "      <td>Betula nana</td>\n",
       "    </tr>\n",
       "    <tr>\n",
       "      <th>2</th>\n",
       "      <td>deciduous</td>\n",
       "      <td>Vaccinium uliginosum</td>\n",
       "    </tr>\n",
       "  </tbody>\n",
       "</table>\n",
       "</div>"
      ],
      "text/plain": [
       "  leafRetention  retentionSpeciesName\n",
       "0     deciduous                 Salix\n",
       "1     deciduous           Betula nana\n",
       "2     deciduous  Vaccinium uliginosum"
      ]
     },
     "execution_count": 73,
     "metadata": {},
     "output_type": "execute_result"
    }
   ],
   "source": [
    "leaf_df = spf.leaf_retention_df('../etc/macander_leaf_retention.csv')\n",
    "leaf_df.head(3)"
   ]
  },
  {
   "cell_type": "code",
   "execution_count": 74,
   "id": "71e3e7f3-5c1c-46f9-9c3e-1da1bfaa277c",
   "metadata": {},
   "outputs": [
    {
     "data": {
      "text/html": [
       "<div>\n",
       "<style scoped>\n",
       "    .dataframe tbody tr th:only-of-type {\n",
       "        vertical-align: middle;\n",
       "    }\n",
       "\n",
       "    .dataframe tbody tr th {\n",
       "        vertical-align: top;\n",
       "    }\n",
       "\n",
       "    .dataframe thead th {\n",
       "        text-align: right;\n",
       "    }\n",
       "</style>\n",
       "<table border=\"1\" class=\"dataframe\">\n",
       "  <thead>\n",
       "    <tr style=\"text-align: right;\">\n",
       "      <th></th>\n",
       "      <th>datasetSpeciesName</th>\n",
       "      <th>joinKey</th>\n",
       "      <th>speciesHabit</th>\n",
       "      <th>leafRetention</th>\n",
       "    </tr>\n",
       "  </thead>\n",
       "  <tbody>\n",
       "    <tr>\n",
       "      <th>0</th>\n",
       "      <td>Litter</td>\n",
       "      <td>Litter</td>\n",
       "      <td>NaN</td>\n",
       "      <td></td>\n",
       "    </tr>\n",
       "    <tr>\n",
       "      <th>1</th>\n",
       "      <td>Hylocomium splendens</td>\n",
       "      <td>Hylocomium splendens</td>\n",
       "      <td>moss</td>\n",
       "      <td></td>\n",
       "    </tr>\n",
       "    <tr>\n",
       "      <th>2</th>\n",
       "      <td>Carex bigelowii</td>\n",
       "      <td>Carex bigelowii</td>\n",
       "      <td>graminoid</td>\n",
       "      <td></td>\n",
       "    </tr>\n",
       "  </tbody>\n",
       "</table>\n",
       "</div>"
      ],
      "text/plain": [
       "     datasetSpeciesName               joinKey speciesHabit leafRetention\n",
       "0                Litter                Litter          NaN              \n",
       "1  Hylocomium splendens  Hylocomium splendens         moss              \n",
       "2       Carex bigelowii       Carex bigelowii    graminoid              "
      ]
     },
     "execution_count": 74,
     "metadata": {},
     "output_type": "execute_result"
    }
   ],
   "source": [
    "# add leaf retention column\n",
    "habits_wleaf = spf.add_leaf_retention(habits, leaf_df, 'leafRetention')\n",
    "habits_wleaf = habits_wleaf[['datasetSpeciesName', 'joinKey', 'speciesHabit', 'leafRetention']]\n",
    "habits_wleaf.head(3)"
   ]
  },
  {
   "cell_type": "code",
   "execution_count": 75,
   "id": "8f598c7b-3040-4760-a726-dc9d87f813a2",
   "metadata": {},
   "outputs": [
    {
     "data": {
      "text/plain": [
       "[nan,\n",
       " 'moss',\n",
       " 'graminoid',\n",
       " 'shrub',\n",
       " 'forb',\n",
       " 'lichen',\n",
       " 'spore-bearing',\n",
       " 'liverwort']"
      ]
     },
     "execution_count": 75,
     "metadata": {},
     "output_type": "execute_result"
    }
   ],
   "source": [
    "# apply function\n",
    "habits_wleaf['speciesHabit'] = habits_wleaf['speciesHabit'].apply(spf.clean_shrub_habits)\n",
    "list(habits_wleaf['speciesHabit'].unique())"
   ]
  },
  {
   "cell_type": "markdown",
   "id": "61e535fa-d541-4d5d-b1c4-69ae4e1c300c",
   "metadata": {},
   "source": [
    "---\n",
    "## 1.4. Export species-PFT tables <a name=\"exporthabits\"></a>"
   ]
  },
  {
   "cell_type": "code",
   "execution_count": 76,
   "id": "f663fbf8-dadc-4b87-bb1a-c0fc0ddc2799",
   "metadata": {},
   "outputs": [],
   "source": [
    "# generate 3 files and dataframe of habit types\n",
    "shrubs, nonshrubs, null = spf.export_habit_files(habits_wleaf,\n",
    "                                                 'temp_data', \n",
    "                                                 source, \n",
    "                                                 'speciesHabit')"
   ]
  },
  {
   "cell_type": "code",
   "execution_count": 77,
   "id": "30d731f1-5410-4a6c-a872-2b157d5da9d8",
   "metadata": {},
   "outputs": [
    {
     "data": {
      "text/plain": [
       "True"
      ]
     },
     "execution_count": 77,
     "metadata": {},
     "output_type": "execute_result"
    }
   ],
   "source": [
    "# check to make sure the files make sense\n",
    "len(habits_wleaf) == (len(null) + len(nonshrubs) + len(shrubs))"
   ]
  },
  {
   "cell_type": "markdown",
   "id": "22b239b5-33fd-4e1c-94fc-23d74659b0e4",
   "metadata": {},
   "source": [
    "---\n",
    "## 1.5. Clean exported species-PFT tables <a name=\"cleanhabits\"></a>\n",
    "Here, we manually assessed each file. The nonshrubs were usually correct and did not have to be adjusted. Some shrubs were missing leaf retention information, so we consulted with arctic ecologists to determine it. For unknown (null) habits, we consulted arctic ecology expert, Amy Breen, to determine the issue and correct habit. After the tables were complete, all species names had a single associated habit.\n",
    "- null habits\n",
    "    - assign missing habits and consult ecologist when needed\n",
    "- non-shrubs\n",
    "    - assign leaf habit to all trees (ctrl-f to find all trees in excel)\n",
    "        - coniferous tree = evergreen\n",
    "        - deciduous tree  = deciduous\n",
    "    - remove leaf habit if misapplied\n",
    "- shrubs\n",
    "    - check current leaf habits and correct if necessary\n",
    "    - fill empty leaf habits\n",
    "    - choose leaf habit if both evergreen & deciduous listed\n",
    "    - add Stature column (dwarf shrub or not)"
   ]
  },
  {
   "cell_type": "markdown",
   "id": "05c6f54c-8d61-46af-892e-c04b41c3fd2d",
   "metadata": {},
   "source": [
    "---\n",
    "---\n",
    "# 2. Standardization <a name=\"standardization\"></a>"
   ]
  },
  {
   "cell_type": "markdown",
   "id": "b8c14852-1d35-40d7-843c-43eaaa944070",
   "metadata": {},
   "source": [
    "---\n",
    "## 2.1. Standardize PFT names <a name=\"pftnames\"></a>\n",
    "deciduous shrub, evergreen shrub, graminoid, forb, litter, non-vascular (lichen, brophyte)"
   ]
  },
  {
   "cell_type": "code",
   "execution_count": 78,
   "id": "eddb6a25-ab52-422b-a88e-a21110670c4a",
   "metadata": {},
   "outputs": [],
   "source": [
    "# paths to visually assessed and cleaned habit files\n",
    "all_habit_types = [f'temp_data/{source}_nonshrubs_01.csv',\n",
    "                   f'temp_data/{source}_shrubs_01.csv',\n",
    "                   f'temp_data/{source}_nullhabit_01.csv']\n",
    "\n",
    "# create list of habit dataframes\n",
    "habit_dfs = []\n",
    "for path in all_habit_types:\n",
    "    habit_df = pd.read_csv(path, index_col=0)\n",
    "    habit_dfs.append(habit_df)\n",
    "all_habits = pd.concat(habit_dfs)"
   ]
  },
  {
   "cell_type": "code",
   "execution_count": 79,
   "id": "bf32d88e-1d5c-437d-bdca-0b23da15af88",
   "metadata": {},
   "outputs": [
    {
     "data": {
      "text/plain": [
       "['forb',\n",
       " 'graminoid',\n",
       " 'lichen',\n",
       " 'liverwort',\n",
       " 'moss',\n",
       " 'spore-bearing',\n",
       " 'shrub',\n",
       " 'bare ground',\n",
       " 'bare mineral',\n",
       " 'crust',\n",
       " 'litter',\n",
       " 'scat',\n",
       " 'algae',\n",
       " 'fungus',\n",
       " 'water']"
      ]
     },
     "execution_count": 79,
     "metadata": {},
     "output_type": "execute_result"
    }
   ],
   "source": [
    "# show unique habit names we're working with\n",
    "all_habits['speciesHabit'].unique().tolist()"
   ]
  },
  {
   "cell_type": "code",
   "execution_count": 80,
   "id": "1e6e26a2-33dc-42f6-ab58-76b1ad4844fc",
   "metadata": {},
   "outputs": [],
   "source": [
    "# akveg-specific habit name standardization function\n",
    "def standardize_habit(habitrow, leafrow):\n",
    "    \n",
    "    habitrow = habitrow.to_numpy()\n",
    "    leafrow = leafrow.to_numpy()\n",
    "    new_row = []\n",
    "    \n",
    "    for habit, leaf in zip(habitrow, leafrow):\n",
    "        \n",
    "        habit = habit.lower()\n",
    "        # non-shrubs\n",
    "        if 'algae' in habit or 'crust' in habit or 'fungus' in habit:\n",
    "            new_habit = 'other'\n",
    "        elif 'moss' in habit or 'liverwort' in habit:\n",
    "            new_habit = 'bryophyte'\n",
    "        elif 'spore-bearing' in habit:\n",
    "            new_habit = 'forb'\n",
    "        elif 'litter' in habit or 'scat' in habit:\n",
    "            new_habit = 'litter'\n",
    "        elif 'bare ground' in habit or 'mineral' in habit:\n",
    "            new_habit = 'bare ground'\n",
    "            \n",
    "        # shrubs and trees\n",
    "        elif 'shrub' in habit:\n",
    "            new_habit = f'{leaf} shrub'\n",
    "            \n",
    "        else:\n",
    "            new_habit = f'{habit}'\n",
    "        new_row.append(new_habit)\n",
    "    \n",
    "    return new_row"
   ]
  },
  {
   "cell_type": "code",
   "execution_count": 81,
   "id": "6a3fd17d-ebf9-4855-8c69-ba2ebd85418a",
   "metadata": {},
   "outputs": [
    {
     "name": "stdout",
     "output_type": "stream",
     "text": [
      "385\n"
     ]
    },
    {
     "data": {
      "text/html": [
       "<div>\n",
       "<style scoped>\n",
       "    .dataframe tbody tr th:only-of-type {\n",
       "        vertical-align: middle;\n",
       "    }\n",
       "\n",
       "    .dataframe tbody tr th {\n",
       "        vertical-align: top;\n",
       "    }\n",
       "\n",
       "    .dataframe thead th {\n",
       "        text-align: right;\n",
       "    }\n",
       "</style>\n",
       "<table border=\"1\" class=\"dataframe\">\n",
       "  <thead>\n",
       "    <tr style=\"text-align: right;\">\n",
       "      <th></th>\n",
       "      <th>datasetSpeciesName</th>\n",
       "      <th>joinKey</th>\n",
       "      <th>nonstandardHabit</th>\n",
       "      <th>leafRetention</th>\n",
       "      <th>speciesStature</th>\n",
       "      <th>standardHabit</th>\n",
       "    </tr>\n",
       "  </thead>\n",
       "  <tbody>\n",
       "    <tr>\n",
       "      <th>301</th>\n",
       "      <td>Achillea millefolium</td>\n",
       "      <td>Achillea millefolium</td>\n",
       "      <td>forb</td>\n",
       "      <td>NaN</td>\n",
       "      <td>NaN</td>\n",
       "      <td>forb</td>\n",
       "    </tr>\n",
       "    <tr>\n",
       "      <th>298</th>\n",
       "      <td>Agropyron sp.</td>\n",
       "      <td>Agropyron sp.</td>\n",
       "      <td>graminoid</td>\n",
       "      <td>NaN</td>\n",
       "      <td>NaN</td>\n",
       "      <td>graminoid</td>\n",
       "    </tr>\n",
       "    <tr>\n",
       "      <th>168</th>\n",
       "      <td>Alectoria nigricans</td>\n",
       "      <td>Alectoria nigricans</td>\n",
       "      <td>lichen</td>\n",
       "      <td>NaN</td>\n",
       "      <td>NaN</td>\n",
       "      <td>lichen</td>\n",
       "    </tr>\n",
       "  </tbody>\n",
       "</table>\n",
       "</div>"
      ],
      "text/plain": [
       "       datasetSpeciesName               joinKey nonstandardHabit  \\\n",
       "301  Achillea millefolium  Achillea millefolium             forb   \n",
       "298         Agropyron sp.         Agropyron sp.        graminoid   \n",
       "168   Alectoria nigricans   Alectoria nigricans           lichen   \n",
       "\n",
       "    leafRetention speciesStature standardHabit  \n",
       "301           NaN            NaN          forb  \n",
       "298           NaN            NaN     graminoid  \n",
       "168           NaN            NaN        lichen  "
      ]
     },
     "execution_count": 81,
     "metadata": {},
     "output_type": "execute_result"
    }
   ],
   "source": [
    "# standardized PFT\n",
    "standard_habit_col = standardize_habit(all_habits['speciesHabit'], \n",
    "                                       all_habits['leafRetention'])\n",
    "all_habits['standardHabit'] = standard_habit_col\n",
    "all_habits.rename(columns={'speciesHabit':'nonstandardHabit'}, inplace=True)\n",
    "print(len(all_habits))\n",
    "all_habits.head(3)"
   ]
  },
  {
   "cell_type": "code",
   "execution_count": 82,
   "id": "32d6da1e",
   "metadata": {},
   "outputs": [
    {
     "data": {
      "text/plain": [
       "array(['forb', 'graminoid', 'lichen', 'bryophyte', 'deciduous shrub',\n",
       "       'evergreen shrub', 'bare ground', 'other', 'litter', 'water'],\n",
       "      dtype=object)"
      ]
     },
     "execution_count": 82,
     "metadata": {},
     "output_type": "execute_result"
    }
   ],
   "source": [
    "all_habits['standardHabit'].unique()"
   ]
  },
  {
   "cell_type": "markdown",
   "id": "99ccbc8e-88bb-4ddb-816a-9f3b79eded62",
   "metadata": {},
   "source": [
    "---\n",
    "## 2.2. Sum species fcover to PFT-level <a name=\"sumfcover\"></a>"
   ]
  },
  {
   "cell_type": "code",
   "execution_count": 83,
   "id": "8602e05c-244d-4f5a-90f0-129181482de6",
   "metadata": {},
   "outputs": [
    {
     "data": {
      "text/html": [
       "<div>\n",
       "<style scoped>\n",
       "    .dataframe tbody tr th:only-of-type {\n",
       "        vertical-align: middle;\n",
       "    }\n",
       "\n",
       "    .dataframe tbody tr th {\n",
       "        vertical-align: top;\n",
       "    }\n",
       "\n",
       "    .dataframe thead th {\n",
       "        text-align: right;\n",
       "    }\n",
       "</style>\n",
       "<table border=\"1\" class=\"dataframe\">\n",
       "  <thead>\n",
       "    <tr style=\"text-align: right;\">\n",
       "      <th></th>\n",
       "      <th>plotVisit</th>\n",
       "      <th>percentCover</th>\n",
       "      <th>datasetSpeciesName</th>\n",
       "      <th>standardHabit</th>\n",
       "      <th>nonstandardHabit</th>\n",
       "    </tr>\n",
       "  </thead>\n",
       "  <tbody>\n",
       "    <tr>\n",
       "      <th>0</th>\n",
       "      <td>120712b1</td>\n",
       "      <td>18.54</td>\n",
       "      <td>Litter</td>\n",
       "      <td>litter</td>\n",
       "      <td>litter</td>\n",
       "    </tr>\n",
       "    <tr>\n",
       "      <th>1</th>\n",
       "      <td>120712b1</td>\n",
       "      <td>15.89</td>\n",
       "      <td>Hylocomium splendens</td>\n",
       "      <td>bryophyte</td>\n",
       "      <td>moss</td>\n",
       "    </tr>\n",
       "    <tr>\n",
       "      <th>2</th>\n",
       "      <td>120712b1</td>\n",
       "      <td>11.26</td>\n",
       "      <td>Carex bigelowii</td>\n",
       "      <td>graminoid</td>\n",
       "      <td>graminoid</td>\n",
       "    </tr>\n",
       "  </tbody>\n",
       "</table>\n",
       "</div>"
      ],
      "text/plain": [
       "  plotVisit  percentCover    datasetSpeciesName standardHabit nonstandardHabit\n",
       "0  120712b1         18.54                Litter        litter           litter\n",
       "1  120712b1         15.89  Hylocomium splendens     bryophyte             moss\n",
       "2  120712b1         11.26       Carex bigelowii     graminoid        graminoid"
      ]
     },
     "execution_count": 83,
     "metadata": {},
     "output_type": "execute_result"
    }
   ],
   "source": [
    "# loop through each plot and sum fcover per pft\n",
    "all_habits = all_habits[['datasetSpeciesName', 'standardHabit', 'nonstandardHabit']]\n",
    "species_fcover = fcover.merge(all_habits,\n",
    "                              left_on='veg_taxonomy',\n",
    "                              right_on='datasetSpeciesName')\n",
    "species_fcover = species_fcover.rename(columns={'species_cover':'percentCover', 'plot_id':'plotVisit'})\n",
    "species_fcover = species_fcover.drop(columns=['veg_taxonomy','plot_sw_digit'])\n",
    "species_fcover.head(3)"
   ]
  },
  {
   "cell_type": "code",
   "execution_count": 84,
   "id": "1db0776d-7904-4a69-b5d5-ff8c0298115c",
   "metadata": {},
   "outputs": [
    {
     "data": {
      "text/html": [
       "<div>\n",
       "<style scoped>\n",
       "    .dataframe tbody tr th:only-of-type {\n",
       "        vertical-align: middle;\n",
       "    }\n",
       "\n",
       "    .dataframe tbody tr th {\n",
       "        vertical-align: top;\n",
       "    }\n",
       "\n",
       "    .dataframe thead th {\n",
       "        text-align: right;\n",
       "    }\n",
       "</style>\n",
       "<table border=\"1\" class=\"dataframe\">\n",
       "  <thead>\n",
       "    <tr style=\"text-align: right;\">\n",
       "      <th></th>\n",
       "      <th>plotVisit</th>\n",
       "      <th>datasetSpeciesName</th>\n",
       "      <th>standardHabit</th>\n",
       "      <th>nonstandardHabit</th>\n",
       "      <th>percentCover</th>\n",
       "    </tr>\n",
       "  </thead>\n",
       "  <tbody>\n",
       "    <tr>\n",
       "      <th>0</th>\n",
       "      <td>120712b1</td>\n",
       "      <td>Litter</td>\n",
       "      <td>litter</td>\n",
       "      <td>litter</td>\n",
       "      <td>18.54</td>\n",
       "    </tr>\n",
       "    <tr>\n",
       "      <th>1</th>\n",
       "      <td>120712b1</td>\n",
       "      <td>Hylocomium splendens</td>\n",
       "      <td>bryophyte</td>\n",
       "      <td>moss</td>\n",
       "      <td>15.89</td>\n",
       "    </tr>\n",
       "    <tr>\n",
       "      <th>2</th>\n",
       "      <td>120712b1</td>\n",
       "      <td>Carex bigelowii</td>\n",
       "      <td>graminoid</td>\n",
       "      <td>graminoid</td>\n",
       "      <td>11.26</td>\n",
       "    </tr>\n",
       "  </tbody>\n",
       "</table>\n",
       "</div>"
      ],
      "text/plain": [
       "  plotVisit    datasetSpeciesName standardHabit nonstandardHabit  percentCover\n",
       "0  120712b1                Litter        litter           litter         18.54\n",
       "1  120712b1  Hylocomium splendens     bryophyte             moss         15.89\n",
       "2  120712b1       Carex bigelowii     graminoid        graminoid         11.26"
      ]
     },
     "execution_count": 84,
     "metadata": {},
     "output_type": "execute_result"
    }
   ],
   "source": [
    "species_fcover = species_fcover[['plotVisit', 'datasetSpeciesName', 'standardHabit', \n",
    "                                 'nonstandardHabit', 'percentCover']]\n",
    "species_fcover.head(3)"
   ]
  },
  {
   "cell_type": "code",
   "execution_count": 85,
   "id": "95ff179f",
   "metadata": {},
   "outputs": [
    {
     "data": {
      "text/plain": [
       "107"
      ]
     },
     "execution_count": 85,
     "metadata": {},
     "output_type": "execute_result"
    }
   ],
   "source": [
    "len(species_fcover['plotVisit'].unique())"
   ]
  },
  {
   "cell_type": "code",
   "execution_count": 86,
   "id": "a861771b-de62-4d13-85bb-364530ecc0e4",
   "metadata": {},
   "outputs": [],
   "source": [
    "# group by 'Site Code' and 'standardHabit', then sum the 'Cover'\n",
    "temp = species_fcover.groupby(['plotVisit', 'standardHabit'])['percentCover'].sum().reset_index()\n",
    "pft_fcover = temp.pivot(index='plotVisit', columns='standardHabit', values='percentCover')"
   ]
  },
  {
   "cell_type": "code",
   "execution_count": 87,
   "id": "9e3550cf-b881-46cb-b260-b36c2451b8f4",
   "metadata": {},
   "outputs": [
    {
     "data": {
      "text/html": [
       "<div>\n",
       "<style scoped>\n",
       "    .dataframe tbody tr th:only-of-type {\n",
       "        vertical-align: middle;\n",
       "    }\n",
       "\n",
       "    .dataframe tbody tr th {\n",
       "        vertical-align: top;\n",
       "    }\n",
       "\n",
       "    .dataframe thead th {\n",
       "        text-align: right;\n",
       "    }\n",
       "</style>\n",
       "<table border=\"1\" class=\"dataframe\">\n",
       "  <thead>\n",
       "    <tr style=\"text-align: right;\">\n",
       "      <th></th>\n",
       "      <th>bare ground</th>\n",
       "      <th>bryophyte</th>\n",
       "      <th>deciduous shrub</th>\n",
       "      <th>evergreen shrub</th>\n",
       "      <th>forb</th>\n",
       "      <th>graminoid</th>\n",
       "      <th>lichen</th>\n",
       "      <th>litter</th>\n",
       "      <th>other</th>\n",
       "      <th>water</th>\n",
       "    </tr>\n",
       "    <tr>\n",
       "      <th>plotVisit</th>\n",
       "      <th></th>\n",
       "      <th></th>\n",
       "      <th></th>\n",
       "      <th></th>\n",
       "      <th></th>\n",
       "      <th></th>\n",
       "      <th></th>\n",
       "      <th></th>\n",
       "      <th></th>\n",
       "      <th></th>\n",
       "    </tr>\n",
       "  </thead>\n",
       "  <tbody>\n",
       "    <tr>\n",
       "      <th>120712b1</th>\n",
       "      <td>NaN</td>\n",
       "      <td>31.77</td>\n",
       "      <td>32.45</td>\n",
       "      <td>20.52</td>\n",
       "      <td>2.64</td>\n",
       "      <td>19.20</td>\n",
       "      <td>1.32</td>\n",
       "      <td>18.54</td>\n",
       "      <td>NaN</td>\n",
       "      <td>NaN</td>\n",
       "    </tr>\n",
       "    <tr>\n",
       "      <th>120713a1</th>\n",
       "      <td>28.76</td>\n",
       "      <td>36.60</td>\n",
       "      <td>NaN</td>\n",
       "      <td>NaN</td>\n",
       "      <td>1.96</td>\n",
       "      <td>28.75</td>\n",
       "      <td>0.65</td>\n",
       "      <td>77.78</td>\n",
       "      <td>NaN</td>\n",
       "      <td>NaN</td>\n",
       "    </tr>\n",
       "    <tr>\n",
       "      <th>120713b1</th>\n",
       "      <td>NaN</td>\n",
       "      <td>17.34</td>\n",
       "      <td>11.34</td>\n",
       "      <td>38.01</td>\n",
       "      <td>NaN</td>\n",
       "      <td>14.66</td>\n",
       "      <td>8.66</td>\n",
       "      <td>32.67</td>\n",
       "      <td>NaN</td>\n",
       "      <td>NaN</td>\n",
       "    </tr>\n",
       "  </tbody>\n",
       "</table>\n",
       "</div>"
      ],
      "text/plain": [
       "           bare ground  bryophyte  deciduous shrub  evergreen shrub  forb  \\\n",
       "plotVisit                                                                   \n",
       "120712b1           NaN      31.77            32.45            20.52  2.64   \n",
       "120713a1         28.76      36.60              NaN              NaN  1.96   \n",
       "120713b1           NaN      17.34            11.34            38.01   NaN   \n",
       "\n",
       "           graminoid  lichen  litter  other  water  \n",
       "plotVisit                                           \n",
       "120712b1       19.20    1.32   18.54    NaN    NaN  \n",
       "120713a1       28.75    0.65   77.78    NaN    NaN  \n",
       "120713b1       14.66    8.66   32.67    NaN    NaN  "
      ]
     },
     "execution_count": 87,
     "metadata": {},
     "output_type": "execute_result"
    }
   ],
   "source": [
    "# clean up\n",
    "pft_fcover.columns.name = None\n",
    "pft_fcover.index.name = 'plotVisit'\n",
    "pft_fcover.index = pft_fcover.index.map(normalize_to_int_str)\n",
    "pft_fcover.head(3)"
   ]
  },
  {
   "cell_type": "code",
   "execution_count": 88,
   "id": "e73c007a-5d25-49e6-8b30-39ca42435e53",
   "metadata": {},
   "outputs": [],
   "source": [
    "# drop water and bare ground total cover\n",
    "# we want top cover, which is in the nonveg df; these are currently total cover\n",
    "pft_fcover = pft_fcover.drop(columns=['bare ground', 'water'])"
   ]
  },
  {
   "cell_type": "markdown",
   "id": "53e47d50-4f18-456b-9db1-d49f5ca62af6",
   "metadata": {},
   "source": [
    "---\n",
    "## 2.3. Standardize table layout <a name=\"tablelayout\"></a>"
   ]
  },
  {
   "cell_type": "code",
   "execution_count": 89,
   "id": "6d8b748d-9388-431f-bd10-ccdc1f525476",
   "metadata": {},
   "outputs": [],
   "source": [
    "# list of necessary PFTs\n",
    "pfts = ['deciduous shrub', 'deciduous tree',\n",
    "        'evergreen shrub', 'evergreen tree',\n",
    "        'forb', 'graminoid', 'non-vascular',\n",
    "        'bryophyte', 'lichen', 'litter',\n",
    "        'bare ground', 'water', 'other']"
   ]
  },
  {
   "cell_type": "code",
   "execution_count": 90,
   "id": "d6d99f14-ca53-4808-a5d0-53f8ad3258f3",
   "metadata": {},
   "outputs": [
    {
     "data": {
      "text/html": [
       "<div>\n",
       "<style scoped>\n",
       "    .dataframe tbody tr th:only-of-type {\n",
       "        vertical-align: middle;\n",
       "    }\n",
       "\n",
       "    .dataframe tbody tr th {\n",
       "        vertical-align: top;\n",
       "    }\n",
       "\n",
       "    .dataframe thead th {\n",
       "        text-align: right;\n",
       "    }\n",
       "</style>\n",
       "<table border=\"1\" class=\"dataframe\">\n",
       "  <thead>\n",
       "    <tr style=\"text-align: right;\">\n",
       "      <th></th>\n",
       "      <th>water</th>\n",
       "      <th>bare ground</th>\n",
       "    </tr>\n",
       "    <tr>\n",
       "      <th>plotVisit</th>\n",
       "      <th></th>\n",
       "      <th></th>\n",
       "    </tr>\n",
       "  </thead>\n",
       "  <tbody>\n",
       "    <tr>\n",
       "      <th>120716b2</th>\n",
       "      <td>0.0</td>\n",
       "      <td>0.0</td>\n",
       "    </tr>\n",
       "    <tr>\n",
       "      <th>120717a1</th>\n",
       "      <td>14.0</td>\n",
       "      <td>0.0</td>\n",
       "    </tr>\n",
       "    <tr>\n",
       "      <th>120718a1</th>\n",
       "      <td>0.0</td>\n",
       "      <td>0.0</td>\n",
       "    </tr>\n",
       "  </tbody>\n",
       "</table>\n",
       "</div>"
      ],
      "text/plain": [
       "           water  bare ground\n",
       "plotVisit                    \n",
       "120716b2     0.0          0.0\n",
       "120717a1    14.0          0.0\n",
       "120718a1     0.0          0.0"
      ]
     },
     "execution_count": 90,
     "metadata": {},
     "output_type": "execute_result"
    }
   ],
   "source": [
    "# load non-vegetation data and select\n",
    "nonveg_path = f'input_data/abr_nonfoliar_cover.csv'\n",
    "nonveg = pd.read_csv(nonveg_path)\n",
    "nonveg = nonveg[['plot_id', 'water_topcov', 'bareground_topcov']]\n",
    "nonveg = nonveg.rename(columns=dict(plot_id='plotVisit',\n",
    "                                    water_topcov='water',\n",
    "                                    bareground_topcov='bare ground'))\n",
    "nonveg['plotVisit'] = nonveg['plotVisit'].apply(normalize_to_int_str)\n",
    "nonveg = nonveg.set_index('plotVisit')\n",
    "nonveg.head(3)"
   ]
  },
  {
   "cell_type": "code",
   "execution_count": 91,
   "id": "f2ea2ffd-9b16-4cb5-9de4-5f657caf003b",
   "metadata": {},
   "outputs": [],
   "source": [
    "# add non-vegetation information\n",
    "pft_fcover = pft_fcover.merge(nonveg,\n",
    "                              how='left',\n",
    "                              left_index=True,\n",
    "                              right_index=True)"
   ]
  },
  {
   "cell_type": "code",
   "execution_count": 92,
   "id": "b873e7f3-a51e-48b3-9f9a-24daeb6cd272",
   "metadata": {},
   "outputs": [],
   "source": [
    "# create non-vascular\n",
    "pft_fcover['non-vascular'] = pft_fcover[['bryophyte', 'lichen']].sum(axis=1, skipna=True)"
   ]
  },
  {
   "cell_type": "code",
   "execution_count": 93,
   "id": "5bd352e9-5a95-4afe-8b46-a44237a6ba2d",
   "metadata": {},
   "outputs": [
    {
     "data": {
      "text/html": [
       "<div>\n",
       "<style scoped>\n",
       "    .dataframe tbody tr th:only-of-type {\n",
       "        vertical-align: middle;\n",
       "    }\n",
       "\n",
       "    .dataframe tbody tr th {\n",
       "        vertical-align: top;\n",
       "    }\n",
       "\n",
       "    .dataframe thead th {\n",
       "        text-align: right;\n",
       "    }\n",
       "</style>\n",
       "<table border=\"1\" class=\"dataframe\">\n",
       "  <thead>\n",
       "    <tr style=\"text-align: right;\">\n",
       "      <th></th>\n",
       "      <th>deciduous shrub</th>\n",
       "      <th>deciduous tree</th>\n",
       "      <th>evergreen shrub</th>\n",
       "      <th>evergreen tree</th>\n",
       "      <th>forb</th>\n",
       "      <th>graminoid</th>\n",
       "      <th>non-vascular</th>\n",
       "      <th>bryophyte</th>\n",
       "      <th>lichen</th>\n",
       "      <th>litter</th>\n",
       "      <th>bare ground</th>\n",
       "      <th>water</th>\n",
       "      <th>other</th>\n",
       "    </tr>\n",
       "    <tr>\n",
       "      <th>plotVisit</th>\n",
       "      <th></th>\n",
       "      <th></th>\n",
       "      <th></th>\n",
       "      <th></th>\n",
       "      <th></th>\n",
       "      <th></th>\n",
       "      <th></th>\n",
       "      <th></th>\n",
       "      <th></th>\n",
       "      <th></th>\n",
       "      <th></th>\n",
       "      <th></th>\n",
       "      <th></th>\n",
       "    </tr>\n",
       "  </thead>\n",
       "  <tbody>\n",
       "    <tr>\n",
       "      <th>120712b1</th>\n",
       "      <td>32.45</td>\n",
       "      <td>NaN</td>\n",
       "      <td>20.52</td>\n",
       "      <td>NaN</td>\n",
       "      <td>2.64</td>\n",
       "      <td>19.20</td>\n",
       "      <td>33.09</td>\n",
       "      <td>31.77</td>\n",
       "      <td>1.32</td>\n",
       "      <td>18.54</td>\n",
       "      <td>0.00</td>\n",
       "      <td>0.0</td>\n",
       "      <td>NaN</td>\n",
       "    </tr>\n",
       "    <tr>\n",
       "      <th>120713a1</th>\n",
       "      <td>NaN</td>\n",
       "      <td>NaN</td>\n",
       "      <td>NaN</td>\n",
       "      <td>NaN</td>\n",
       "      <td>1.96</td>\n",
       "      <td>28.75</td>\n",
       "      <td>37.25</td>\n",
       "      <td>36.60</td>\n",
       "      <td>0.65</td>\n",
       "      <td>77.78</td>\n",
       "      <td>11.11</td>\n",
       "      <td>0.0</td>\n",
       "      <td>NaN</td>\n",
       "    </tr>\n",
       "    <tr>\n",
       "      <th>120713b1</th>\n",
       "      <td>11.34</td>\n",
       "      <td>NaN</td>\n",
       "      <td>38.01</td>\n",
       "      <td>NaN</td>\n",
       "      <td>NaN</td>\n",
       "      <td>14.66</td>\n",
       "      <td>26.00</td>\n",
       "      <td>17.34</td>\n",
       "      <td>8.66</td>\n",
       "      <td>32.67</td>\n",
       "      <td>0.00</td>\n",
       "      <td>0.0</td>\n",
       "      <td>NaN</td>\n",
       "    </tr>\n",
       "  </tbody>\n",
       "</table>\n",
       "</div>"
      ],
      "text/plain": [
       "           deciduous shrub  deciduous tree  evergreen shrub  evergreen tree  \\\n",
       "plotVisit                                                                     \n",
       "120712b1             32.45             NaN            20.52             NaN   \n",
       "120713a1               NaN             NaN              NaN             NaN   \n",
       "120713b1             11.34             NaN            38.01             NaN   \n",
       "\n",
       "           forb  graminoid  non-vascular  bryophyte  lichen  litter  \\\n",
       "plotVisit                                                             \n",
       "120712b1   2.64      19.20         33.09      31.77    1.32   18.54   \n",
       "120713a1   1.96      28.75         37.25      36.60    0.65   77.78   \n",
       "120713b1    NaN      14.66         26.00      17.34    8.66   32.67   \n",
       "\n",
       "           bare ground  water  other  \n",
       "plotVisit                             \n",
       "120712b1          0.00    0.0    NaN  \n",
       "120713a1         11.11    0.0    NaN  \n",
       "120713b1          0.00    0.0    NaN  "
      ]
     },
     "execution_count": 93,
     "metadata": {},
     "output_type": "execute_result"
    }
   ],
   "source": [
    "# create standard columns\n",
    "pft_fcover = spf.add_standard_cols(pft_fcover, pfts)\n",
    "pft_fcover = pft_fcover[pfts]\n",
    "pft_fcover.head(3)"
   ]
  },
  {
   "cell_type": "markdown",
   "id": "bc6a0975-6ee7-470f-9154-6202dc85ef3c",
   "metadata": {},
   "source": [
    "---\n",
    "## 2.4. Standardize auxiliary columns <a name=\"aux\"></a>"
   ]
  },
  {
   "cell_type": "markdown",
   "id": "026b80ca-8e2a-49e9-8f94-905f70211dc2",
   "metadata": {},
   "source": [
    "Plot information:\n",
    "- [ ] UID\n",
    "- [x] plotName\n",
    "- [x] dataSource\n",
    "- [x] dataSubsource\n",
    "- [x] fcoverScale\n",
    "- [x] surveyMethod\n",
    "- [x] surveyPurpose\n",
    "- [x] duplicatedCoords\n",
    "- [x] duplicatedDate\n",
    "- [x] surveyYear\n",
    "- [x] surveyMonth\n",
    "- [x] surveyDay\n",
    "\n",
    "Geographical information:\n",
    "- [x] bioclimateSubzone\n",
    "- [x] adminCountry\n",
    "- [x] adminUnit\n",
    "- [x] fireYears\n",
    "- [x] coordEpsg\n",
    "- [x] georefSource\n",
    "- [x] georefAccuracy\n",
    "- [x] plotRadius\n",
    "- [x] longitueX\n",
    "- [x] latitudeY"
   ]
  },
  {
   "cell_type": "code",
   "execution_count": 94,
   "id": "dc8850b0-9b38-4626-a0d0-3e4dbaafc208",
   "metadata": {},
   "outputs": [],
   "source": [
    "# load auxiliary data\n",
    "file = f'input_data/abr_ancillary.csv'\n",
    "aux = pd.read_csv(file)\n",
    "\n",
    "# sampling methods, coverscale, data source\n",
    "methods = pd.read_csv('../etc/sampling_methods.csv')"
   ]
  },
  {
   "cell_type": "markdown",
   "id": "2f0f05ed-eadf-40b4-a6f3-276a14e02564",
   "metadata": {},
   "source": [
    "### 2.4.1. Basic plot information <a name=\"basics\"></a>"
   ]
  },
  {
   "cell_type": "code",
   "execution_count": 95,
   "id": "5ffd8ab1-448e-46ba-a040-37731053f54b",
   "metadata": {},
   "outputs": [],
   "source": [
    "new_aux = pd.DataFrame()\n",
    "\n",
    "# date columns\n",
    "aux['surveyDate'] = pd.to_datetime(aux['field_start_ts'], format='mixed')\n",
    "new_aux['surveyYear'] = aux['surveyDate'].dt.year\n",
    "new_aux['surveyMonth'] = aux['surveyDate'].dt.month\n",
    "new_aux['surveyDay'] = aux['surveyDate'].dt.day\n",
    "\n",
    "# plot size\n",
    "radius = 55\n",
    "area = np.pi * radius**2\n",
    "new_aux['plotArea'] = area\n",
    "new_aux['plotShape'] = 'circle'\n",
    "\n",
    "# geographical information\n",
    "new_aux['latitudeY'] = aux['latitude'].astype('Float32')\n",
    "new_aux['longitudeX'] = aux['longitude'].astype('Float32')\n",
    "new_aux['georefSource'] = 'GPS'\n",
    "new_aux['georefAccuracy'] = 3.0\n",
    "new_aux['coordEPSG'] = 'EPSG:4326' # will need to convert from EPSG:4269\n",
    "\n",
    "# main\n",
    "new_aux['plotVisit'] = aux['plot_id']\n",
    "new_aux['plotVisit'] = new_aux['plotVisit'].apply(normalize_to_int_str)\n",
    "new_aux['plotName'] = aux['plot_id']\n",
    "new_aux['dataSubsource'] = 'Shell Onshore Macander (pub 2017)'\n",
    "new_aux = new_aux.merge(methods, how='left', left_on='dataSubsource', right_on='dataSubsource')\n",
    "new_aux = new_aux.set_index(new_aux['plotVisit'])"
   ]
  },
  {
   "cell_type": "markdown",
   "id": "3774308e-20d4-451e-8300-2dad6fb6379f",
   "metadata": {},
   "source": [
    "### 2.4.2. Geographical intersections <a name=\"geo\"></a>"
   ]
  },
  {
   "cell_type": "code",
   "execution_count": 96,
   "id": "2d332108-1d86-4bf0-9788-ebd6f827522c",
   "metadata": {},
   "outputs": [],
   "source": [
    "# set geo info\n",
    "geo_paths = ['../etc/gaul1/gaul1_asap.shp',\n",
    "             '../etc/fire/InterAgencyFirePerimeterHistory_All_Years_View.shp',\n",
    "             '../etc/bioclim/bioclimate_la_latlon.shp']\n",
    "geo_names = ['gaul1',\n",
    "             'fire',\n",
    "             'bioclim']\n",
    "geo_cols = [['name1', 'name0', 'geometry'],\n",
    "            ['FIRE_YEAR', 'geometry'],\n",
    "            ['zone', 'geometry']]"
   ]
  },
  {
   "cell_type": "code",
   "execution_count": 97,
   "id": "6e5471ca-379d-4792-aee0-4304e58dff89",
   "metadata": {},
   "outputs": [
    {
     "data": {
      "text/html": [
       "<div>\n",
       "<style scoped>\n",
       "    .dataframe tbody tr th:only-of-type {\n",
       "        vertical-align: middle;\n",
       "    }\n",
       "\n",
       "    .dataframe tbody tr th {\n",
       "        vertical-align: top;\n",
       "    }\n",
       "\n",
       "    .dataframe thead th {\n",
       "        text-align: right;\n",
       "    }\n",
       "</style>\n",
       "<table border=\"1\" class=\"dataframe\">\n",
       "  <thead>\n",
       "    <tr style=\"text-align: right;\">\n",
       "      <th></th>\n",
       "      <th>deciduous shrub</th>\n",
       "      <th>deciduous tree</th>\n",
       "      <th>evergreen shrub</th>\n",
       "      <th>evergreen tree</th>\n",
       "      <th>forb</th>\n",
       "      <th>graminoid</th>\n",
       "      <th>non-vascular</th>\n",
       "      <th>bryophyte</th>\n",
       "      <th>lichen</th>\n",
       "      <th>litter</th>\n",
       "      <th>...</th>\n",
       "      <th>coordEPSG</th>\n",
       "      <th>plotVisit</th>\n",
       "      <th>plotName</th>\n",
       "      <th>dataSubsource</th>\n",
       "      <th>dataSource</th>\n",
       "      <th>dataSourceHtml</th>\n",
       "      <th>dataSubsourceCitation</th>\n",
       "      <th>surveyMethod</th>\n",
       "      <th>fcoverScale</th>\n",
       "      <th>surveyPurpose</th>\n",
       "    </tr>\n",
       "    <tr>\n",
       "      <th>plotVisit</th>\n",
       "      <th></th>\n",
       "      <th></th>\n",
       "      <th></th>\n",
       "      <th></th>\n",
       "      <th></th>\n",
       "      <th></th>\n",
       "      <th></th>\n",
       "      <th></th>\n",
       "      <th></th>\n",
       "      <th></th>\n",
       "      <th></th>\n",
       "      <th></th>\n",
       "      <th></th>\n",
       "      <th></th>\n",
       "      <th></th>\n",
       "      <th></th>\n",
       "      <th></th>\n",
       "      <th></th>\n",
       "      <th></th>\n",
       "      <th></th>\n",
       "      <th></th>\n",
       "    </tr>\n",
       "  </thead>\n",
       "  <tbody>\n",
       "    <tr>\n",
       "      <th>120712b1</th>\n",
       "      <td>32.45</td>\n",
       "      <td>NaN</td>\n",
       "      <td>20.52</td>\n",
       "      <td>NaN</td>\n",
       "      <td>2.64</td>\n",
       "      <td>19.20</td>\n",
       "      <td>33.09</td>\n",
       "      <td>31.77</td>\n",
       "      <td>1.32</td>\n",
       "      <td>18.54</td>\n",
       "      <td>...</td>\n",
       "      <td>EPSG:4326</td>\n",
       "      <td>120712b1</td>\n",
       "      <td>120712b1</td>\n",
       "      <td>Shell Onshore Macander (pub 2017)</td>\n",
       "      <td>ABR</td>\n",
       "      <td>https://catalog.northslopescience.org/dataset/...</td>\n",
       "      <td>Macander, M.J., Frost, G.V., Nelson, P.R., &amp; S...</td>\n",
       "      <td>center-staked point-intercept along transect</td>\n",
       "      <td>percent</td>\n",
       "      <td>Conduct vegetation assessments and paired remo...</td>\n",
       "    </tr>\n",
       "    <tr>\n",
       "      <th>120713a1</th>\n",
       "      <td>NaN</td>\n",
       "      <td>NaN</td>\n",
       "      <td>NaN</td>\n",
       "      <td>NaN</td>\n",
       "      <td>1.96</td>\n",
       "      <td>28.75</td>\n",
       "      <td>37.25</td>\n",
       "      <td>36.60</td>\n",
       "      <td>0.65</td>\n",
       "      <td>77.78</td>\n",
       "      <td>...</td>\n",
       "      <td>EPSG:4326</td>\n",
       "      <td>120713a1</td>\n",
       "      <td>120713a1</td>\n",
       "      <td>Shell Onshore Macander (pub 2017)</td>\n",
       "      <td>ABR</td>\n",
       "      <td>https://catalog.northslopescience.org/dataset/...</td>\n",
       "      <td>Macander, M.J., Frost, G.V., Nelson, P.R., &amp; S...</td>\n",
       "      <td>center-staked point-intercept along transect</td>\n",
       "      <td>percent</td>\n",
       "      <td>Conduct vegetation assessments and paired remo...</td>\n",
       "    </tr>\n",
       "    <tr>\n",
       "      <th>120713b1</th>\n",
       "      <td>11.34</td>\n",
       "      <td>NaN</td>\n",
       "      <td>38.01</td>\n",
       "      <td>NaN</td>\n",
       "      <td>NaN</td>\n",
       "      <td>14.66</td>\n",
       "      <td>26.00</td>\n",
       "      <td>17.34</td>\n",
       "      <td>8.66</td>\n",
       "      <td>32.67</td>\n",
       "      <td>...</td>\n",
       "      <td>EPSG:4326</td>\n",
       "      <td>120713b1</td>\n",
       "      <td>120713b1</td>\n",
       "      <td>Shell Onshore Macander (pub 2017)</td>\n",
       "      <td>ABR</td>\n",
       "      <td>https://catalog.northslopescience.org/dataset/...</td>\n",
       "      <td>Macander, M.J., Frost, G.V., Nelson, P.R., &amp; S...</td>\n",
       "      <td>center-staked point-intercept along transect</td>\n",
       "      <td>percent</td>\n",
       "      <td>Conduct vegetation assessments and paired remo...</td>\n",
       "    </tr>\n",
       "  </tbody>\n",
       "</table>\n",
       "<p>3 rows × 32 columns</p>\n",
       "</div>"
      ],
      "text/plain": [
       "           deciduous shrub  deciduous tree  evergreen shrub  evergreen tree  \\\n",
       "plotVisit                                                                     \n",
       "120712b1             32.45             NaN            20.52             NaN   \n",
       "120713a1               NaN             NaN              NaN             NaN   \n",
       "120713b1             11.34             NaN            38.01             NaN   \n",
       "\n",
       "           forb  graminoid  non-vascular  bryophyte  lichen  litter  ...  \\\n",
       "plotVisit                                                            ...   \n",
       "120712b1   2.64      19.20         33.09      31.77    1.32   18.54  ...   \n",
       "120713a1   1.96      28.75         37.25      36.60    0.65   77.78  ...   \n",
       "120713b1    NaN      14.66         26.00      17.34    8.66   32.67  ...   \n",
       "\n",
       "           coordEPSG  plotVisit  plotName                      dataSubsource  \\\n",
       "plotVisit                                                                      \n",
       "120712b1   EPSG:4326   120712b1  120712b1  Shell Onshore Macander (pub 2017)   \n",
       "120713a1   EPSG:4326   120713a1  120713a1  Shell Onshore Macander (pub 2017)   \n",
       "120713b1   EPSG:4326   120713b1  120713b1  Shell Onshore Macander (pub 2017)   \n",
       "\n",
       "           dataSource                                     dataSourceHtml  \\\n",
       "plotVisit                                                                  \n",
       "120712b1          ABR  https://catalog.northslopescience.org/dataset/...   \n",
       "120713a1          ABR  https://catalog.northslopescience.org/dataset/...   \n",
       "120713b1          ABR  https://catalog.northslopescience.org/dataset/...   \n",
       "\n",
       "                                       dataSubsourceCitation  \\\n",
       "plotVisit                                                      \n",
       "120712b1   Macander, M.J., Frost, G.V., Nelson, P.R., & S...   \n",
       "120713a1   Macander, M.J., Frost, G.V., Nelson, P.R., & S...   \n",
       "120713b1   Macander, M.J., Frost, G.V., Nelson, P.R., & S...   \n",
       "\n",
       "                                           surveyMethod  fcoverScale  \\\n",
       "plotVisit                                                              \n",
       "120712b1   center-staked point-intercept along transect      percent   \n",
       "120713a1   center-staked point-intercept along transect      percent   \n",
       "120713b1   center-staked point-intercept along transect      percent   \n",
       "\n",
       "                                               surveyPurpose  \n",
       "plotVisit                                                     \n",
       "120712b1   Conduct vegetation assessments and paired remo...  \n",
       "120713a1   Conduct vegetation assessments and paired remo...  \n",
       "120713b1   Conduct vegetation assessments and paired remo...  \n",
       "\n",
       "[3 rows x 32 columns]"
      ]
     },
     "execution_count": 97,
     "metadata": {},
     "output_type": "execute_result"
    }
   ],
   "source": [
    "# create geospatial information\n",
    "fcover_and_aux = pft_fcover.merge(new_aux, how='left', left_index=True, right_index=True)\n",
    "fcover_and_aux.index.name = 'plotVisit'\n",
    "fcover_and_aux.head(3)"
   ]
  },
  {
   "cell_type": "code",
   "execution_count": 98,
   "id": "6fb7ea91",
   "metadata": {},
   "outputs": [
    {
     "data": {
      "text/plain": [
       "Index(['deciduous shrub', 'deciduous tree', 'evergreen shrub',\n",
       "       'evergreen tree', 'forb', 'graminoid', 'non-vascular', 'bryophyte',\n",
       "       'lichen', 'litter', 'bare ground', 'water', 'other', 'surveyYear',\n",
       "       'surveyMonth', 'surveyDay', 'plotArea', 'plotShape', 'latitudeY',\n",
       "       'longitudeX', 'georefSource', 'georefAccuracy', 'coordEPSG',\n",
       "       'plotVisit', 'plotName', 'dataSubsource', 'dataSource',\n",
       "       'dataSourceHtml', 'dataSubsourceCitation', 'surveyMethod',\n",
       "       'fcoverScale', 'surveyPurpose'],\n",
       "      dtype='object')"
      ]
     },
     "execution_count": 98,
     "metadata": {},
     "output_type": "execute_result"
    }
   ],
   "source": [
    "fcover_and_aux.columns"
   ]
  },
  {
   "cell_type": "code",
   "execution_count": 99,
   "id": "22b80c4f",
   "metadata": {},
   "outputs": [
    {
     "name": "stdout",
     "output_type": "stream",
     "text": [
      "Finding spatial intersection for '['name1', 'name0', 'geometry']' in native CRS: EPSG:4326\n"
     ]
    },
    {
     "name": "stderr",
     "output_type": "stream",
     "text": [
      "/mnt/poseidon/remotesensing/arctic/alaska_pft_fcover_harmonization/standardize_pft_funcs.py:751: FutureWarning: DataFrame.applymap has been deprecated. Use DataFrame.map instead.\n",
      "  merged = merged.drop(columns=[col for col in merged.columns if 'geometry' in col])\n"
     ]
    },
    {
     "name": "stdout",
     "output_type": "stream",
     "text": [
      "Finding spatial intersection for '['FIRE_YEAR', 'geometry']' in native CRS: EPSG:4326\n"
     ]
    },
    {
     "name": "stderr",
     "output_type": "stream",
     "text": [
      "/mnt/poseidon/remotesensing/arctic/alaska_pft_fcover_harmonization/standardize_pft_funcs.py:751: FutureWarning: DataFrame.applymap has been deprecated. Use DataFrame.map instead.\n",
      "  merged = merged.drop(columns=[col for col in merged.columns if 'geometry' in col])\n"
     ]
    },
    {
     "name": "stdout",
     "output_type": "stream",
     "text": [
      "Finding spatial intersection for '['zone', 'geometry']' in native CRS: EPSG:4326\n"
     ]
    },
    {
     "name": "stderr",
     "output_type": "stream",
     "text": [
      "/mnt/poseidon/remotesensing/arctic/alaska_pft_fcover_harmonization/standardize_pft_funcs.py:751: FutureWarning: DataFrame.applymap has been deprecated. Use DataFrame.map instead.\n",
      "  merged = merged.drop(columns=[col for col in merged.columns if 'geometry' in col])\n",
      "/mnt/poseidon/remotesensing/arctic/alaska_pft_fcover_harmonization/standardize_pft_funcs.py:772: FutureWarning: DataFrame.applymap has been deprecated. Use DataFrame.map instead.\n",
      "  # information; e.g., duplicate coords or dates\n"
     ]
    }
   ],
   "source": [
    "# convert to GeoDataFrame\n",
    "fcover_and_aux = gpd.GeoDataFrame(\n",
    "    fcover_and_aux,\n",
    "    geometry=gpd.points_from_xy(fcover_and_aux['longitudeX'], fcover_and_aux['latitudeY']),\n",
    "    crs='EPSG:4326'\n",
    ").to_crs('EPSG:5936')\n",
    "\n",
    "# add geospatial layers\n",
    "fcover_and_aux = spf.add_geospatial_aux(\n",
    "    fcover_and_aux,\n",
    "    paths=geo_paths,\n",
    "    orig_names=geo_cols\n",
    ")"
   ]
  },
  {
   "cell_type": "code",
   "execution_count": 100,
   "id": "8ab298c5",
   "metadata": {},
   "outputs": [
    {
     "name": "stdout",
     "output_type": "stream",
     "text": [
      "Number of plot visits in fcover_and_aux: 107\n",
      "Number of unique plot visits in fcover_and_aux: 107\n"
     ]
    }
   ],
   "source": [
    "faa_li = len(fcover_and_aux.index)\n",
    "faa_ui = len(fcover_and_aux.index.unique())\n",
    "print(f'Number of plot visits in fcover_and_aux: {faa_li}')\n",
    "print(f'Number of unique plot visits in fcover_and_aux: {faa_ui}')"
   ]
  },
  {
   "cell_type": "code",
   "execution_count": 101,
   "id": "a2bb00f9-ace1-49e5-8e38-9a56581ea1db",
   "metadata": {},
   "outputs": [],
   "source": [
    "# rename new columns\n",
    "fcover_and_aux.rename(columns={'name1':'adminUnit',\n",
    "                               'name0':'adminCountry',\n",
    "                               'FIRE_YEAR':'fireYears',\n",
    "                               'zone':'bioclimSubzone'}, inplace=True)"
   ]
  },
  {
   "cell_type": "markdown",
   "id": "558a5c6f-d0ae-40ae-8afc-7d5e4a63d09a",
   "metadata": {},
   "source": [
    "### 2.4.3. Duplicate coordinates <a name=\"dupes\"></a>\n",
    "This indicates that plots may have been revisited, they were very close and GPS accuracy was too low, or there is human error"
   ]
  },
  {
   "cell_type": "code",
   "execution_count": 102,
   "id": "e4e953f2-c0b0-464c-8daa-695fac09cfa9",
   "metadata": {},
   "outputs": [
    {
     "name": "stderr",
     "output_type": "stream",
     "text": [
      "/mnt/poseidon/remotesensing/arctic/alaska_pft_fcover_harmonization/standardize_pft_funcs.py:802: FutureWarning: DataFrameGroupBy.grouper is deprecated and will be removed in a future version of pandas.\n",
      "  for idx, group_id in zip(df.index, group_ids):\n",
      "/mnt/poseidon/remotesensing/arctic/alaska_pft_fcover_harmonization/standardize_pft_funcs.py:802: FutureWarning: DataFrameGroupBy.grouper is deprecated and will be removed in a future version of pandas.\n",
      "  for idx, group_id in zip(df.index, group_ids):\n"
     ]
    }
   ],
   "source": [
    "fcover_and_aux = spf.find_duplicates(fcover_and_aux, ['longitudeX', 'latitudeY'], 'duplicatedCoords')\n",
    "fcover_and_aux = spf.find_duplicates(fcover_and_aux, ['surveyYear', 'surveyMonth', 'surveyDay'], 'duplicatedDate')"
   ]
  },
  {
   "cell_type": "markdown",
   "id": "144f361b-c8fb-4cb1-844e-7c5485917a48",
   "metadata": {},
   "source": [
    "---\n",
    "# 3. Export <a name=\"export\"></a>"
   ]
  },
  {
   "cell_type": "code",
   "execution_count": 103,
   "id": "39b5d95c-1498-4918-be5a-50b72ca158c5",
   "metadata": {},
   "outputs": [],
   "source": [
    "# clean up\n",
    "pfts = {'deciduous shrub':'deciduousShrubCover',\n",
    "        'evergreen shrub':'evergreenShrubCover',\n",
    "        'deciduous tree':'deciduousTreeCover',\n",
    "        'evergreen tree':'evergreenTreeCover',\n",
    "        'forb':'forbCover',\n",
    "        'graminoid':'graminoidCover',\n",
    "        'non-vascular':'nonvascularSumCover',\n",
    "        'bryophyte':'bryophyteCover',\n",
    "        'lichen':'lichenCover',\n",
    "        'litter':'litterCover',\n",
    "        'bare ground':'baregroundCover',\n",
    "        'water':'waterCover',\n",
    "        'other':'otherCover'}\n",
    "\n",
    "# rename columns\n",
    "fcover_and_aux.rename(columns=pfts, inplace=True)\n",
    "fcover_cols = list(pfts.values())\n",
    "\n",
    "# reproject and set cover data type\n",
    "fcover_and_aux[fcover_cols] = fcover_and_aux[fcover_cols].astype(np.float32)\n",
    "fcover_and_aux.index.name = 'plotVisit'"
   ]
  },
  {
   "cell_type": "code",
   "execution_count": 104,
   "id": "37273cc5-f43b-4149-89df-f234621ad610",
   "metadata": {},
   "outputs": [
    {
     "data": {
      "text/plain": [
       "Index(['deciduousShrubCover', 'deciduousTreeCover', 'evergreenShrubCover',\n",
       "       'evergreenTreeCover', 'forbCover', 'graminoidCover',\n",
       "       'nonvascularSumCover', 'bryophyteCover', 'lichenCover', 'litterCover',\n",
       "       'baregroundCover', 'waterCover', 'otherCover', 'surveyYear',\n",
       "       'surveyMonth', 'surveyDay', 'plotArea', 'plotShape', 'latitudeY',\n",
       "       'longitudeX', 'georefSource', 'georefAccuracy', 'coordEPSG',\n",
       "       'plotVisit', 'plotName', 'dataSubsource', 'dataSource',\n",
       "       'dataSourceHtml', 'dataSubsourceCitation', 'surveyMethod',\n",
       "       'fcoverScale', 'surveyPurpose', 'adminUnit', 'adminCountry',\n",
       "       'fireYears', 'bioclimSubzone', 'duplicatedCoords', 'duplicatedDate'],\n",
       "      dtype='object')"
      ]
     },
     "execution_count": 104,
     "metadata": {},
     "output_type": "execute_result"
    }
   ],
   "source": [
    "fcover_and_aux.columns"
   ]
  },
  {
   "cell_type": "code",
   "execution_count": 105,
   "id": "e0d651ef",
   "metadata": {},
   "outputs": [
    {
     "data": {
      "text/plain": [
       "Index(['deciduousShrubCover', 'deciduousTreeCover', 'evergreenShrubCover',\n",
       "       'evergreenTreeCover', 'forbCover', 'graminoidCover',\n",
       "       'nonvascularSumCover', 'bryophyteCover', 'lichenCover', 'litterCover',\n",
       "       'baregroundCover', 'waterCover', 'otherCover', 'surveyYear',\n",
       "       'surveyMonth', 'surveyDay', 'plotArea', 'plotShape', 'latitudeY',\n",
       "       'longitudeX', 'georefSource', 'georefAccuracy', 'coordEPSG',\n",
       "       'plotVisit', 'plotName', 'dataSubsource', 'dataSource',\n",
       "       'dataSourceHtml', 'dataSubsourceCitation', 'surveyMethod',\n",
       "       'fcoverScale', 'surveyPurpose', 'adminUnit', 'adminCountry',\n",
       "       'fireYears', 'bioclimSubzone', 'duplicatedCoords', 'duplicatedDate',\n",
       "       'geometry'],\n",
       "      dtype='object')"
      ]
     },
     "execution_count": 105,
     "metadata": {},
     "output_type": "execute_result"
    }
   ],
   "source": [
    "# create UID mapping to plotVisit\n",
    "uid_table = pd.DataFrame({'plotVisit': pft_fcover.index})\n",
    "uid_table = spf.assign_uid_column(uid_table, id_col='plotVisit', uid_col='UID')\n",
    "\n",
    "# get UIDs from Arctic AK only\n",
    "path = '../etc/tundra_alaska_latlon/tundra_alaska_wgs84.shp'\n",
    "ak_tundra = gpd.read_file(path)\n",
    "\n",
    "# clip and select Arctic AK indices\n",
    "fcover_and_aux = gpd.GeoDataFrame(fcover_and_aux,\n",
    "                                  geometry=gpd.points_from_xy(fcover_and_aux['longitudeX'],\n",
    "                                                              fcover_and_aux['latitudeY']),\n",
    "                                                              crs='epsg:4326')\n",
    "fcover_and_aux = fcover_and_aux.to_crs(ak_tundra.crs)\n",
    "fcover_and_aux = fcover_and_aux.clip(ak_tundra)\n",
    "valid_uids = fcover_and_aux.index\n",
    "fcover_and_aux.columns"
   ]
  },
  {
   "cell_type": "code",
   "execution_count": 106,
   "id": "d76b9129",
   "metadata": {},
   "outputs": [
    {
     "data": {
      "text/plain": [
       "<Axes: >"
      ]
     },
     "execution_count": 106,
     "metadata": {},
     "output_type": "execute_result"
    },
    {
     "data": {
      "image/png": "[encoded data removed]",
      "text/plain": [
       "<Figure size 640x480 with 1 Axes>"
      ]
     },
     "metadata": {},
     "output_type": "display_data"
    }
   ],
   "source": [
    "# plot the post-2010 alaskan tundra points\n",
    "ax = ak_tundra.plot(edgecolor='black', facecolor='none')\n",
    "fcover_and_aux.plot(ax=ax, color='red', markersize=3)"
   ]
  },
  {
   "cell_type": "code",
   "execution_count": 107,
   "id": "bc2f65e6",
   "metadata": {},
   "outputs": [
    {
     "name": "stderr",
     "output_type": "stream",
     "text": [
      "/tmp/ipykernel_2414226/2164478736.py:2: UserWarning: Geometry column does not contain geometry.\n",
      "  fcover_and_aux['geometry'] = fcover_and_aux['geometry'].apply(lambda g: g.wkt if g is not None else None)\n"
     ]
    }
   ],
   "source": [
    "# remove geometry\n",
    "fcover_and_aux['geometry'] = fcover_and_aux['geometry'].apply(lambda g: g.wkt if g is not None else None)"
   ]
  },
  {
   "cell_type": "code",
   "execution_count": 108,
   "id": "79bf9ea6",
   "metadata": {},
   "outputs": [
    {
     "name": "stdout",
     "output_type": "stream",
     "text": [
      "Number of plot visits in fcover_and_aux: 107\n",
      "Number of unique plot visits in fcover_and_aux: 107\n"
     ]
    }
   ],
   "source": [
    "faa_li = len(fcover_and_aux.index)\n",
    "faa_ui = len(fcover_and_aux.index.unique())\n",
    "print(f'Number of plot visits in fcover_and_aux: {faa_li}')\n",
    "print(f'Number of unique plot visits in fcover_and_aux: {faa_ui}')"
   ]
  },
  {
   "cell_type": "code",
   "execution_count": 109,
   "id": "126dcfe6",
   "metadata": {},
   "outputs": [],
   "source": [
    "# export species fcover\n",
    "species_fcover_out = species_fcover.copy()\n",
    "species_fcover_out = species_fcover_out[species_fcover_out['plotVisit'].isin(valid_uids)]\n",
    "species_fcover_out = spf.replace_column_with_uid(species_fcover_out, uid_table, id_col='plotVisit', uid_col='UID', set_index=False, schema_key='species_fcover')\n",
    "species_fcover_out = spf.format_column_dtypes(species_fcover_out, schema_key='species_fcover')\n",
    "spf.export_dataframe(species_fcover_out, f'output_data/{source}_nonstandard_species_fcover.csv', schema_key='species_fcover', index=False)"
   ]
  },
  {
   "cell_type": "code",
   "execution_count": 110,
   "id": "d09aefce",
   "metadata": {},
   "outputs": [],
   "source": [
    "# export pft fcover\n",
    "covercols = [col for col in fcover_and_aux.columns if 'Cover' in col]\n",
    "pft_fcover_out = fcover_and_aux[covercols]\n",
    "pft_fcover_out = spf.replace_column_with_uid(pft_fcover_out.reset_index(), uid_table, id_col='plotVisit', uid_col='UID', set_index=True, schema_key='pft_fcover')\n",
    "pft_fcover_out = spf.format_column_dtypes(pft_fcover_out, schema_key='pft_fcover')\n",
    "spf.export_dataframe(pft_fcover_out, f'output_data/{source}_standard_pft_fcover.csv', schema_key='pft_fcover', index=True)"
   ]
  },
  {
   "cell_type": "code",
   "execution_count": 111,
   "id": "404b8444",
   "metadata": {},
   "outputs": [
    {
     "name": "stderr",
     "output_type": "stream",
     "text": [
      "/tmp/ipykernel_2414226/417965194.py:4: SettingWithCopyWarning: \n",
      "A value is trying to be set on a copy of a slice from a DataFrame\n",
      "\n",
      "See the caveats in the documentation: https://pandas.pydata.org/pandas-docs/stable/user_guide/indexing.html#returning-a-view-versus-a-copy\n",
      "  pft_aux.drop(columns=['plotVisit'], inplace=True)\n"
     ]
    }
   ],
   "source": [
    "# export pft aux\n",
    "auxcols = [col for col in fcover_and_aux.columns if 'Cover' not in col]\n",
    "pft_aux = fcover_and_aux[auxcols]\n",
    "pft_aux.drop(columns=['plotVisit'], inplace=True)\n",
    "pft_aux = spf.replace_column_with_uid(pft_aux.reset_index(), uid_table, id_col='plotVisit', uid_col='UID', set_index=True, schema_key='pft_aux')\n",
    "pft_aux = spf.format_column_dtypes(pft_aux, schema_key='pft_aux')\n",
    "spf.export_dataframe(pft_aux, f'output_data/{source}_plot_info.csv', schema_key='pft_aux', index=True)"
   ]
  },
  {
   "cell_type": "code",
   "execution_count": null,
   "id": "5ef09717",
   "metadata": {},
   "outputs": [],
   "source": []
  }
 ],
 "metadata": {
  "kernelspec": {
   "display_name": "oldgee",
   "language": "python",
   "name": "python3"
  },
  "language_info": {
   "codemirror_mode": {
    "name": "ipython",
    "version": 3
   },
   "file_extension": ".py",
   "mimetype": "text/x-python",
   "name": "python",
   "nbconvert_exporter": "python",
   "pygments_lexer": "ipython3",
   "version": "3.10.16"
  }
 },
 "nbformat": 4,
 "nbformat_minor": 5
}
